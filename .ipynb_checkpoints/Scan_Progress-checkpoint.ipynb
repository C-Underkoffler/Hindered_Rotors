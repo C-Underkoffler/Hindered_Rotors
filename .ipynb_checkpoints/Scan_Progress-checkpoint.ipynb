{
 "cells": [
  {
   "cell_type": "code",
   "execution_count": 1,
   "metadata": {},
   "outputs": [
    {
     "data": {
      "text/html": [
       "<style>.container { width:100% !important; }</style>"
      ],
      "text/plain": [
       "<IPython.core.display.HTML object>"
      ]
     },
     "metadata": {},
     "output_type": "display_data"
    },
    {
     "name": "stderr",
     "output_type": "stream",
     "text": [
      "Using Theano backend.\n",
      "/home/underkoffler.c/Code/RMG-Py/rmgpy/tools/plot.py:34: UserWarning: \n",
      "This call to matplotlib.use() has no effect because the backend has already\n",
      "been chosen; matplotlib.use() must be called *before* pylab, matplotlib.pyplot,\n",
      "or matplotlib.backends is imported for the first time.\n",
      "\n",
      "The backend was *originally* set to 'module://ipykernel.pylab.backend_inline' by the following code:\n",
      "  File \"/home/underkoffler.c/anaconda2/envs/rmg_env/lib/python2.7/runpy.py\", line 174, in _run_module_as_main\n",
      "    \"__main__\", fname, loader, pkg_name)\n",
      "  File \"/home/underkoffler.c/anaconda2/envs/rmg_env/lib/python2.7/runpy.py\", line 72, in _run_code\n",
      "    exec code in run_globals\n",
      "  File \"/home/underkoffler.c/anaconda2/envs/rmg_env/lib/python2.7/site-packages/ipykernel_launcher.py\", line 16, in <module>\n",
      "    app.launch_new_instance()\n",
      "  File \"/home/underkoffler.c/anaconda2/envs/rmg_env/lib/python2.7/site-packages/traitlets/config/application.py\", line 658, in launch_instance\n",
      "    app.start()\n",
      "  File \"/home/underkoffler.c/anaconda2/envs/rmg_env/lib/python2.7/site-packages/ipykernel/kernelapp.py\", line 499, in start\n",
      "    self.io_loop.start()\n",
      "  File \"/home/underkoffler.c/anaconda2/envs/rmg_env/lib/python2.7/site-packages/tornado/ioloop.py\", line 1073, in start\n",
      "    handler_func(fd_obj, events)\n",
      "  File \"/home/underkoffler.c/anaconda2/envs/rmg_env/lib/python2.7/site-packages/tornado/stack_context.py\", line 300, in null_wrapper\n",
      "    return fn(*args, **kwargs)\n",
      "  File \"/home/underkoffler.c/anaconda2/envs/rmg_env/lib/python2.7/site-packages/zmq/eventloop/zmqstream.py\", line 450, in _handle_events\n",
      "    self._handle_recv()\n",
      "  File \"/home/underkoffler.c/anaconda2/envs/rmg_env/lib/python2.7/site-packages/zmq/eventloop/zmqstream.py\", line 480, in _handle_recv\n",
      "    self._run_callback(callback, msg)\n",
      "  File \"/home/underkoffler.c/anaconda2/envs/rmg_env/lib/python2.7/site-packages/zmq/eventloop/zmqstream.py\", line 432, in _run_callback\n",
      "    callback(*args, **kwargs)\n",
      "  File \"/home/underkoffler.c/anaconda2/envs/rmg_env/lib/python2.7/site-packages/tornado/stack_context.py\", line 300, in null_wrapper\n",
      "    return fn(*args, **kwargs)\n",
      "  File \"/home/underkoffler.c/anaconda2/envs/rmg_env/lib/python2.7/site-packages/ipykernel/kernelbase.py\", line 283, in dispatcher\n",
      "    return self.dispatch_shell(stream, msg)\n",
      "  File \"/home/underkoffler.c/anaconda2/envs/rmg_env/lib/python2.7/site-packages/ipykernel/kernelbase.py\", line 233, in dispatch_shell\n",
      "    handler(stream, idents, msg)\n",
      "  File \"/home/underkoffler.c/anaconda2/envs/rmg_env/lib/python2.7/site-packages/ipykernel/kernelbase.py\", line 399, in execute_request\n",
      "    user_expressions, allow_stdin)\n",
      "  File \"/home/underkoffler.c/anaconda2/envs/rmg_env/lib/python2.7/site-packages/ipykernel/ipkernel.py\", line 208, in do_execute\n",
      "    res = shell.run_cell(code, store_history=store_history, silent=silent)\n",
      "  File \"/home/underkoffler.c/anaconda2/envs/rmg_env/lib/python2.7/site-packages/ipykernel/zmqshell.py\", line 537, in run_cell\n",
      "    return super(ZMQInteractiveShell, self).run_cell(*args, **kwargs)\n",
      "  File \"/home/underkoffler.c/anaconda2/envs/rmg_env/lib/python2.7/site-packages/IPython/core/interactiveshell.py\", line 2714, in run_cell\n",
      "    interactivity=interactivity, compiler=compiler, result=result)\n",
      "  File \"/home/underkoffler.c/anaconda2/envs/rmg_env/lib/python2.7/site-packages/IPython/core/interactiveshell.py\", line 2818, in run_ast_nodes\n",
      "    if self.run_code(code, result):\n",
      "  File \"/home/underkoffler.c/anaconda2/envs/rmg_env/lib/python2.7/site-packages/IPython/core/interactiveshell.py\", line 2878, in run_code\n",
      "    exec(code_obj, self.user_global_ns, self.user_ns)\n",
      "  File \"<ipython-input-1-bfbeb67998d4>\", line 10, in <module>\n",
      "    get_ipython().magic(u'matplotlib inline')\n",
      "  File \"/home/underkoffler.c/anaconda2/envs/rmg_env/lib/python2.7/site-packages/IPython/core/interactiveshell.py\", line 2160, in magic\n",
      "    return self.run_line_magic(magic_name, magic_arg_s)\n",
      "  File \"/home/underkoffler.c/anaconda2/envs/rmg_env/lib/python2.7/site-packages/IPython/core/interactiveshell.py\", line 2081, in run_line_magic\n",
      "    result = fn(*args,**kwargs)\n",
      "  File \"<decorator-gen-105>\", line 2, in matplotlib\n",
      "  File \"/home/underkoffler.c/anaconda2/envs/rmg_env/lib/python2.7/site-packages/IPython/core/magic.py\", line 188, in <lambda>\n",
      "    call = lambda f, *a, **k: f(*a, **k)\n",
      "  File \"/home/underkoffler.c/anaconda2/envs/rmg_env/lib/python2.7/site-packages/IPython/core/magics/pylab.py\", line 100, in matplotlib\n",
      "    gui, backend = self.shell.enable_matplotlib(args.gui)\n",
      "  File \"/home/underkoffler.c/anaconda2/envs/rmg_env/lib/python2.7/site-packages/IPython/core/interactiveshell.py\", line 2966, in enable_matplotlib\n",
      "    pt.activate_matplotlib(backend)\n",
      "  File \"/home/underkoffler.c/anaconda2/envs/rmg_env/lib/python2.7/site-packages/IPython/core/pylabtools.py\", line 315, in activate_matplotlib\n",
      "    matplotlib.pyplot.switch_backend(backend)\n",
      "  File \"/home/underkoffler.c/anaconda2/envs/rmg_env/lib/python2.7/site-packages/matplotlib/pyplot.py\", line 231, in switch_backend\n",
      "    matplotlib.use(newbackend, warn=False, force=True)\n",
      "  File \"/home/underkoffler.c/anaconda2/envs/rmg_env/lib/python2.7/site-packages/matplotlib/__init__.py\", line 1422, in use\n",
      "    reload(sys.modules['matplotlib.backends'])\n",
      "  File \"/home/underkoffler.c/anaconda2/envs/rmg_env/lib/python2.7/site-packages/matplotlib/backends/__init__.py\", line 16, in <module>\n",
      "    line for line in traceback.format_stack()\n",
      "\n",
      "\n",
      "  mpl.use('Agg')\n"
     ]
    }
   ],
   "source": [
    "from IPython.core.display import display, HTML\n",
    "display(HTML(\"<style>.container { width:100% !important; }</style>\"))\n",
    "\n",
    "\n",
    "\n",
    "import os\n",
    "import cclib\n",
    "\n",
    "import matplotlib.pyplot as plt\n",
    "%matplotlib inline\n",
    "\n",
    "import subprocess\n",
    "import shlex\n",
    "\n",
    "from autotst.job import Job as AutoTST_Job\n",
    "from autotst.species import Conformer, Species\n",
    "from autotst.calculators.gaussian import Gaussian as AutoTST_Gaussian\n",
    "from autotst.reaction import Reaction\n",
    "\n",
    "from rmgpy.molecule import Molecule as RMG_Molecule\n"
   ]
  },
  {
   "cell_type": "code",
   "execution_count": null,
   "metadata": {},
   "outputs": [],
   "source": []
  },
  {
   "cell_type": "code",
   "execution_count": null,
   "metadata": {},
   "outputs": [],
   "source": []
  },
  {
   "cell_type": "code",
   "execution_count": 2,
   "metadata": {},
   "outputs": [],
   "source": [
    "def get_opt_energies(scan_log):\n",
    "    \"\"\"\n",
    "    Sets data attributes using cclib and Arkane\n",
    "\n",
    "    scan_log :: name of scan log\n",
    "    path     :: path to scan log\n",
    "    \"\"\"\n",
    "    parser = cclib.io.ccread(scan_log)\n",
    "\n",
    "    opt_indices = [i for i, status in enumerate(parser.optstatus) if status==2]\n",
    "    opt_SCFEnergies = [parser.scfenergies[index] for index in opt_indices]\n",
    "\n",
    "    return [opt_SCFEnergies, parser]\n",
    "\n",
    "\n",
    "def exists_and_complete(path):\n",
    "    exists_and_complete = False\n",
    "    auto_g = AutoTST_Gaussian()\n",
    "    \n",
    "    if os.path.isfile(path):\n",
    "        if False not in auto_g.verify_output_file(path):\n",
    "            exists_and_complete = True\n",
    "    \n",
    "    return exists_and_complete\n",
    "\n",
    "\n",
    "def scan_progress(steps, step_size, Conf_list, SMILES_list=None, Rxn_list=None):\n",
    "    auto_job = AutoTST_Job()\n",
    "\n",
    "    \n",
    "    assert (SMILES_list is not None) or (Rxn_list is not None) or (len(Conf_list)!=0)\n",
    "\n",
    "    if (Rxn_list is not None):\n",
    "        for rxn in Rxn_list:\n",
    "            for species in rxn.reactants:\n",
    "                for reac_list in species.conformers.values():\n",
    "                    Conf_list += reac_list\n",
    "\n",
    "            for species in rxn.products:\n",
    "                for prod_list in species.conformers.values():\n",
    "                    Conf_list += prod_list\n",
    "\n",
    "\n",
    "    Conf_list += [Conformer(SMILES) for SMILES in SMILES_list]\n",
    "\n",
    "    for conf in Conf_list:\n",
    "        SMILES = conf.smiles\n",
    "        conf.view()\n",
    "        path = '/home/underkoffler.c/Code/Hindered_Rotors/{}/From_Workflow'.format(SMILES)\n",
    "        os.chdir(path)\n",
    "        print os.getcwd()\n",
    "        \n",
    "        for torsion in conf.torsions:\n",
    "            print\n",
    "            attempt = 1\n",
    "            while attempt < 5:\n",
    "                c_attempt = attempt\n",
    "                attempt += 1\n",
    "\n",
    "                [i, j, k, l] = torsion.atom_indices \n",
    "\n",
    "\n",
    "                output_log = conf.rmg_molecule.toAugmentedInChIKey() + '_{0}by{1}_tor{2}{3}_a{4}.log'.format(steps, step_size, j, k, c_attempt)\n",
    "\n",
    "                if not exists_and_complete(output_log):\n",
    "                    print SMILES, output_log\n",
    "                    continue\n",
    "                else:\n",
    "                    print '\\n', SMILES, output_log\n",
    "\n",
    "                print torsion\n",
    "                print 'Steps:     ', steps\n",
    "                print 'Step Size: ', step_size\n",
    "                print 'Attempt:   ', c_attempt\n",
    "                print\n",
    "\n",
    "\n",
    "                try:\n",
    "                    opt_SCFenergies, parser = get_opt_energies(output_log)\n",
    "                    thetas = [i*step_size for i in range(steps+1)]\n",
    "\n",
    "                    assert len(thetas) == len(opt_SCFenergies)\n",
    "                    plt.scatter(thetas, opt_SCFenergies)\n",
    "                    plt.show()\n",
    "\n",
    "                    print 'Continuous:  ', auto_job.check_rotor_continuous(steps, step_size, parser=parser)\n",
    "                    print '\\nGood Slope:  ', auto_job.check_rotor_slope(steps, step_size, parser=parser)\n",
    "                    print '\\nLowest Conf: ', auto_job.check_rotor_lowest_conf(parser=parser)[0]\n",
    "                    print '=========================================================\\n\\n'\n",
    "                except:\n",
    "                    print 'CANNOT Load Scan\\n'\n",
    "\n",
    "                    print '=========================================================\\n\\n'\n",
    "        \n",
    "        print '===================================================================\\n\\n'\n",
    "\n",
    "    return\n",
    "\n",
    "\n",
    "def updated_conf_from_scan(conf, steps, step_size, attempt):\n",
    "    \n",
    "    augInChIKey = Chem.rdinchi.InchiToInchiKey(Chem.MolToInchi(\n",
    "            Chem.MolFromSmiles(conf.smiles)))\n",
    "        \n",
    "    multiplicity = conf.rmg_molecule.multiplicity\n",
    "    \n",
    "    min_atomnos = None\n",
    "    min_atomcoords = None\n",
    "    min_energy = None\n",
    "    all_verified = True\n",
    "\n",
    "    for torsion in conf.torsions:\n",
    "        (i, j, k, l) = torsion.atom_indices\n",
    "\n",
    "        output_log = '{0}_{1}by{2}_tor{3}{4}_a{5}.log'.format(augInChIKey, steps, step_size, j, k, attempt)\n",
    "        assert exists_and_complete(output_log), 'Run currently in progress or DNF. Maybe rerun to completion or delete'\n",
    "\n",
    "        scan_info = auto_job.check_rotor_lowest_conf(steps, step_size, file_name=output_log)\n",
    "        [verified, energy, atomnos, atomcoords] = scan_info\n",
    "        if not verified:\n",
    "            all_verified = False\n",
    "            if min_energy is None:\n",
    "                min_energy = energy\n",
    "                min_atomnos = atomnos\n",
    "                min_atomcoords = atomcoords\n",
    "            elif energy<min_energy:\n",
    "                min_energy = energy\n",
    "                min_atomnos = atomnos\n",
    "                min_atomcoords = atomcoords\n",
    "    \n",
    "    #assert not all_verified, 'No sense in making changes since if all rotors are verified'\n",
    "    \n",
    "    assert min_atomnos is not None\n",
    "    assert min_atomcoords is not None\n",
    "    \n",
    "    for atom, atomno, atomcoord in zip(conf.rmg_molecule.atoms, min_atomnos, min_atomcoords):\n",
    "        assert atom.number == atomno\n",
    "        atom.coords = atomcoord\n",
    "    \n",
    "    return all_verified, conf\n",
    "\n",
    "\n",
    "def rote_Rotor_Input(conformer, \n",
    "                     torsion, \n",
    "                     file_name, \n",
    "                     path=None, \n",
    "                     method='m062x', \n",
    "                     basis='6-311+g(2df,2p)', \n",
    "                     job='Opt=(CalcFC,ModRedun)', \n",
    "                     steps=72, \n",
    "                     stepsize_deg=10.0):\n",
    "    \"\"\"\n",
    "    Write Gaussian input file for torsion scan\n",
    "\n",
    "    conformer :: Conformer Object\n",
    "    torsion   :: Torsion Object\n",
    "    file_name :: desired file name to be written to\n",
    "    \n",
    "    path     :: path of file to write\n",
    "    method   :: Gaussian method\n",
    "    basis    :: Gaussian basis\n",
    "    job      :: Gaussian job key word\n",
    "\n",
    "    steps        :: Number of steps in scan\n",
    "    stepsize_deg :: change in DEGREES between steps\n",
    "    \"\"\"\n",
    "    \n",
    "    if path is None:\n",
    "        path = os.getcwd()\n",
    "\n",
    "    assert isinstance(stepsize_deg, float)\n",
    "\n",
    "    (i, j, k, l) = torsion.atom_indices\n",
    "    mol = conformer.rmg_molecule\n",
    "    mol.updateMultiplicity()\n",
    "\n",
    "    output = '%nprocshared=20\\n'\n",
    "    output += '%mem=5GB\\n'\n",
    "    output += '#p {0}/{1} {2}\\n'.format(method, basis, job)\n",
    "    output += '\\nGaussian Input Prepared from Scan Object\\n'\n",
    "    output += '\\n0 {}\\n'.format(mol.multiplicity)\n",
    "\n",
    "    for i, atom in enumerate(mol.atoms):\n",
    "        output += \"{}     {}     {}     {}\\n\".format(atom.element, atom.coords[0], atom.coords[1], atom.coords[2])\n",
    "\n",
    "    output += '\\n'\n",
    "\n",
    "    # For atom IDs, need to be careful to adjust mol's IDs by +1 so that they start at 1 instead of zero\n",
    "    for bond in mol.getAllEdges():\n",
    "        output += 'B {0} {1}\\n'.format(bond.atom1.sortingLabel+1, bond.atom2.sortingLabel+1)\n",
    "\n",
    "    output = output + 'D {0} {1} {2} {3} S {4} {5}'.format(i+1,\n",
    "                                                           j+1,\n",
    "                                                           k+1,\n",
    "                                                           l+1,\n",
    "                                                           steps,\n",
    "                                                           stepsize_deg)\n",
    "    output += '\\n\\n\\n'\n",
    "\n",
    "    with open(os.path.join(path, file_name), 'w') as F:\n",
    "        F.write(output)\n",
    "        F.close\n",
    "\n",
    "    return\n",
    "\n",
    "\n",
    "\n",
    "\n",
    "\n",
    "def improve_scans(steps, step_size, Conf_list, SMILES_list=None, Rxn_List=None):\n",
    "    assert (SMILES_list is not None) or (Rxn_list is not None) or (len(Conf_list)!=0)\n",
    "\n",
    "    if (Rxn_list is not None):\n",
    "        for rxn in Rxn_list:\n",
    "            for species in rxn.reactants:\n",
    "                for reac_list in species.conformers.values():\n",
    "                    Conf_list += reac_list\n",
    "\n",
    "            for species in rxn.products:\n",
    "                for prod_list in species.conformers.values():\n",
    "                    Conf_list += prod_list\n",
    "\n",
    "\n",
    "    Conf_list += [Conformer(SMILES) for SMILES in SMILES_list]\n",
    "\n",
    "    \n",
    "    for conf in Conf_list:\n",
    "        SMILES = conf.smiles\n",
    "        path = '/home/underkoffler.c/Code/Hindered_Rotors/{}/From_Workflow'.format(SMILES)\n",
    "\n",
    "        os.chdir(path)\n",
    "\n",
    "        augInChI = conf.rmg_molecule.toAugmentedInChIKey()\n",
    "\n",
    "        (i, j, k, l) = conf.torsions[0].atom_indices\n",
    "\n",
    "\n",
    "        tor_base = '{0}_{1}by{2}_tor{3}{4}'.format(augInChI, steps, step_size, j, k)\n",
    "\n",
    "        prev_attempt = 10\n",
    "        file_name = tor_base + '_a{}.log'.format(prev_attempt)\n",
    "\n",
    "        while not os.path.isfile(file_name):\n",
    "            prev_attempt -= 1\n",
    "            assert prev_attempt != 0\n",
    "            file_name = tor_base + '_a{}.log'.format(prev_attempt)\n",
    "\n",
    "        print SMILES\n",
    "        print '  Previous Attempt: ', prev_attempt\n",
    "\n",
    "        current_attempt = prev_attempt + 1\n",
    "\n",
    "        all_verified, conf = updated_conf_from_scan(conf, steps, step_size, prev_attempt)\n",
    "\n",
    "        if all_verified:\n",
    "            print '  New Lowest Conformer Not Found'\n",
    "        else:\n",
    "            print '  Updated Conformer Found'\n",
    "\n",
    "            augInChIKey = Chem.rdinchi.InchiToInchiKey(Chem.MolToInchi(\n",
    "                Chem.MolFromSmiles(conf.smiles)))\n",
    "\n",
    "\n",
    "            for torsion in conf.get_torsions():\n",
    "\n",
    "                s = Scan(conf, torsion)\n",
    "                (i, j, k, l) = torsion.atom_indices\n",
    "\n",
    "                assert exists_and_complete('{}_{}by{}_tor{}{}_a{}.log'.format(augInChIKey, steps, step_size, j, k, current_attempt-1)), '{}_{}by{}_tor{}{}_a{}.log'.format(augInChI, steps, step_size, j, k, current_attempt-1)\n",
    "                assert not os.path.isfile('{}_{}by{}_tor{}{}_a{}.log'.format(augInChIKey, steps, step_size, j, k, current_attempt)), '{}_{}by{}_tor{}{}_a{}.log'.format(augInChI, steps, step_size, j, k, current_attempt)\n",
    "                s.input_com = '{}_{}by{}_tor{}{}_a{}.com'.format(augInChIKey, steps, step_size, j, k, current_attempt)\n",
    "\n",
    "                s.steps = steps\n",
    "                s.stepsize_deg = step_size\n",
    "                s.path = os.getcwd()\n",
    "\n",
    "                s.write_TorInput()\n",
    "                new_tor_base = s.input_com.strip('.com')\n",
    "                print new_tor_base\n",
    "                subprocess.call(shlex.split('sbatch rotors_run_template.sh {0}'.format(new_tor_base)))\n",
    "\n",
    "    return"
   ]
  },
  {
   "cell_type": "code",
   "execution_count": 3,
   "metadata": {},
   "outputs": [
    {
     "name": "stdout",
     "output_type": "stream",
     "text": [
      "/home/underkoffler.c/Code/Hindered_Rotors/ONCC(=O)O/From_Workflow\n",
      "NPWGWQRXHVJJRD-UHFFFAOYSA-N_72by10.0_tor03_a4.com\n",
      "NPWGWQRXHVJJRD-UHFFFAOYSA-N_72by10.0_tor34_a4.com\n",
      "NPWGWQRXHVJJRD-UHFFFAOYSA-N_72by10.0_tor45_a4.com\n"
     ]
    }
   ],
   "source": [
    "import os\n",
    "import cclib\n",
    "from rdkit import Chem\n",
    "import subprocess\n",
    "import shlex\n",
    "\n",
    "\n",
    "\n",
    "conf = Conformer('ONCC(=O)O')\n",
    "path = '/home/underkoffler.c/Code/Hindered_Rotors/ONCC(=O)O/From_Workflow'\n",
    "attempt = 4\n",
    "steps = 72\n",
    "step_size = 10.0\n",
    "\n",
    "\n",
    "\n",
    "\n",
    "os.chdir(path)\n",
    "print os.getcwd()\n",
    "\n",
    "augInChIKey = Chem.rdinchi.InchiToInchiKey(Chem.MolToInchi(\n",
    "        Chem.MolFromSmiles(conf.smiles)))\n",
    "\n",
    "multiplicity = conf.rmg_molecule.multiplicity\n",
    "\n",
    "\n",
    "output_log = 'NPWGWQRXHVJJRD-UHFFFAOYSA-N_72by10.0_tor34_a3.log'\n",
    "\n",
    "parser = cclib.io.ccread(output_log)\n",
    "\n",
    "opt_indices = [i for i, status in enumerate(parser.optstatus) if status==2]\n",
    "#opt_SCFEnergies = [parser.scfenergies[index] for index in opt_indices]\n",
    "\n",
    "last_idx = opt_indices[-1]\n",
    "\n",
    "atomnos = parser.atomnos\n",
    "atomcoords = parser.atomcoords[last_idx]\n",
    "\n",
    "for atom, atomno, atomcoord in zip(conf.rmg_molecule.atoms, atomnos, atomcoords):\n",
    "    assert atom.number == atomno\n",
    "    atom.coords = atomcoord\n",
    "\n",
    "for torsion in conf.get_torsions():\n",
    "    \n",
    "    (i, j, k, l) = torsion.atom_indices\n",
    "    if j==1 and k==5:\n",
    "        continue\n",
    "    rotor_name = augInChIKey + '_{}by{}_tor{}{}_a{}.com'.format(steps, step_size, j, k, attempt)\n",
    "    print rotor_name\n",
    "    rote_Rotor_Input(conf, torsion, file_name=rotor_name)\n",
    "    base_rotor_name = rotor_name.strip('.com')\n",
    "    #subprocess.call(shlex.split('sbatch rotors_run_template.sh {0}'.format(base_rotor_name)))\n"
   ]
  },
  {
   "cell_type": "code",
   "execution_count": 3,
   "metadata": {},
   "outputs": [],
   "source": [
    "\n",
    "\n",
    "steps = 72\n",
    "step_size = 10.0\n",
    "\n",
    "Conf_list = []\n",
    "\n",
    "Rxn_list = None\n",
    "\n",
    "Master_SMILES_list = [\n",
    "    'CCCCO',\n",
    "    'CCCC[O]',\n",
    "    'CCC[CH]O',\n",
    "    'CC[CH]CO',\n",
    "    'C[CH]CCO',\n",
    "    '[CH2]CCCO',\n",
    "    'CCOC',\n",
    "    'C[CH]OC',\n",
    "    'CCO[CH2]',\n",
    "    '[CH2]COC',\n",
    "    'COC(C)C',\n",
    "    'CO[C](C)C',\n",
    "    '[CH2]OC(C)C',\n",
    "    '[CH2]C(C)OC',\n",
    "    'CCC(=O)OC',\n",
    "    'C[CH]C(=O)OC',\n",
    "    '[CH2]CC(=O)OC',\n",
    "    '[CH2]OC(=O)CC'\n",
    "]\n"
   ]
  },
  {
   "cell_type": "code",
   "execution_count": 8,
   "metadata": {},
   "outputs": [
    {
     "name": "stdout",
     "output_type": "stream",
     "text": [
      "ONCC(=O)O\n",
      "  Previous Attempt:  3\n",
      "\n"
     ]
    }
   ],
   "source": [
    "auto_job = AutoTST_Job()\n",
    "\n",
    "SMILES_list = ['ONCC(=O)O']\n",
    "Conf_list = []\n",
    "\n",
    "\n",
    "assert (SMILES_list is not None) or (Rxn_list is not None) or (len(Conf_list)!=0)\n",
    "\n",
    "if (Rxn_list is not None):\n",
    "    for rxn in Rxn_list:\n",
    "        for species in rxn.reactants:\n",
    "            for reac_list in species.conformers.values():\n",
    "                Conf_list += reac_list\n",
    "\n",
    "        for species in rxn.products:\n",
    "            for prod_list in species.conformers.values():\n",
    "                Conf_list += prod_list\n",
    "\n",
    "\n",
    "Conf_list += [Conformer(SMILES) for SMILES in SMILES_list]\n",
    "\n",
    "\n",
    "for conf in Conf_list:\n",
    "    conf = Conformer(SMILES)\n",
    "    path = '/home/underkoffler.c/Code/Hindered_Rotors/{}/From_Workflow'.format(SMILES)\n",
    "\n",
    "    os.chdir(path)\n",
    "\n",
    "    augInChI = conf.rmg_molecule.toAugmentedInChIKey()\n",
    "\n",
    "    (i, j, k, l) = conf.torsions[0].atom_indices\n",
    "\n",
    "    steps = 72\n",
    "    step_size = 10.0\n",
    "    tor_base = '{0}_{1}by{2}_tor{3}{4}'.format(augInChI, steps, step_size, j, k)\n",
    "\n",
    "    prev_attempt = 10\n",
    "    file_name = tor_base + '_a{}.log'.format(prev_attempt)\n",
    "\n",
    "    while not os.path.isfile(file_name):\n",
    "        prev_attempt -= 1\n",
    "        assert prev_attempt != 0\n",
    "        file_name = tor_base + '_a{}.log'.format(prev_attempt)\n",
    "    print SMILES\n",
    "    print '  Previous Attempt: ', prev_attempt\n",
    "    print"
   ]
  },
  {
   "cell_type": "code",
   "execution_count": 3,
   "metadata": {
    "scrolled": false
   },
   "outputs": [
    {
     "name": "stdout",
     "output_type": "stream",
     "text": [
      "['ONCC(=O)O']\n"
     ]
    },
    {
     "data": {
      "application/3dmoljs_load.v0": "<div id=\"3dmolviewer_155214060989\"  style=\"position: relative; width: 600px; height: 600px\">\n        <p id=\"3dmolwarning_155214060989\" style=\"background-color:#ffcccc;color:black\">You appear to be running in JupyterLab.  You need to install the 3dmol extension: <br>\n        <tt>jupyter labextension install jupyterlab_3dmol</tt></p>\n        </div>\n<script>\n\nvar loadScriptAsync = function(uri){\n  return new Promise((resolve, reject) => {\n    var tag = document.createElement('script');\n    tag.src = uri;\n    tag.async = true;\n    tag.onload = () => {\n      resolve();\n    };\n  var firstScriptTag = document.getElementsByTagName('script')[0];\n  firstScriptTag.parentNode.insertBefore(tag, firstScriptTag);\n});\n};\n\nif(typeof $3Dmolpromise === 'undefined') {\n$3Dmolpromise = null;\n  $3Dmolpromise = loadScriptAsync('https://3dmol.csb.pitt.edu/build/3Dmol.js');\n}\n\nvar viewer_155214060989 = null;\nvar warn = document.getElementById(\"3dmolwarning_155214060989\");\nif(warn) {\n    warn.parentNode.removeChild(warn);\n}\n$3Dmolpromise.then(function() {\nviewer_155214060989 = $3Dmol.createViewer($(\"#3dmolviewer_155214060989\"),{backgroundColor:\"white\"});\n\tviewer_155214060989.addModel(\"\\n     RDKit          3D\\n\\n 11 10  0  0  0  0  0  0  0  0999 V2000\\n    1.6236    0.9000    0.4033 O   0  0  0  0  0  0  0  0  0  0  0  0\\n   -1.6293    1.0763   -0.0267 O   0  0  0  0  0  0  0  0  0  0  0  0\\n   -2.1862   -1.0317    0.5089 O   0  0  0  0  0  0  0  0  0  0  0  0\\n    1.0537   -0.2516    0.8518 N   0  0  0  0  0  0  0  0  0  0  0  0\\n    0.0923   -0.7668   -0.1176 C   0  0  0  0  0  0  0  0  0  0  0  0\\n   -1.2563   -0.2329    0.1805 C   0  0  0  0  0  0  0  0  0  0  0  0\\n    0.4303   -0.5695   -1.1438 H   0  0  0  0  0  0  0  0  0  0  0  0\\n    0.0750   -1.8710    0.0142 H   0  0  0  0  0  0  0  0  0  0  0  0\\n    0.5582   -0.0961    1.7609 H   0  0  0  0  0  0  0  0  0  0  0  0\\n    2.5679    0.9885    0.7174 H   0  0  0  0  0  0  0  0  0  0  0  0\\n   -1.3293    1.8548    0.5608 H   0  0  0  0  0  0  0  0  0  0  0  0\\n  1  4  1  0\\n  1 10  1  0\\n  2  6  1  0\\n  2 11  1  0\\n  3  6  2  0\\n  4  5  1  0\\n  4  9  1  0\\n  5  7  1  0\\n  5  8  1  0\\n  5  6  1  0\\nM  END\\n\",\"sdf\");\n\tviewer_155214060989.setStyle({\"stick\": {}});\n\tviewer_155214060989.setBackgroundColor(\"0xeeeeee\");\n\tviewer_155214060989.zoomTo();\nviewer_155214060989.render();\n});\n</script>",
      "text/html": [
       "<div id=\"3dmolviewer_155214060989\"  style=\"position: relative; width: 600px; height: 600px\">\n",
       "        <p id=\"3dmolwarning_155214060989\" style=\"background-color:#ffcccc;color:black\">You appear to be running in JupyterLab.  You need to install the 3dmol extension: <br>\n",
       "        <tt>jupyter labextension install jupyterlab_3dmol</tt></p>\n",
       "        </div>\n",
       "<script>\n",
       "\n",
       "var loadScriptAsync = function(uri){\n",
       "  return new Promise((resolve, reject) => {\n",
       "    var tag = document.createElement('script');\n",
       "    tag.src = uri;\n",
       "    tag.async = true;\n",
       "    tag.onload = () => {\n",
       "      resolve();\n",
       "    };\n",
       "  var firstScriptTag = document.getElementsByTagName('script')[0];\n",
       "  firstScriptTag.parentNode.insertBefore(tag, firstScriptTag);\n",
       "});\n",
       "};\n",
       "\n",
       "if(typeof $3Dmolpromise === 'undefined') {\n",
       "$3Dmolpromise = null;\n",
       "  $3Dmolpromise = loadScriptAsync('https://3dmol.csb.pitt.edu/build/3Dmol.js');\n",
       "}\n",
       "\n",
       "var viewer_155214060989 = null;\n",
       "var warn = document.getElementById(\"3dmolwarning_155214060989\");\n",
       "if(warn) {\n",
       "    warn.parentNode.removeChild(warn);\n",
       "}\n",
       "$3Dmolpromise.then(function() {\n",
       "viewer_155214060989 = $3Dmol.createViewer($(\"#3dmolviewer_155214060989\"),{backgroundColor:\"white\"});\n",
       "\tviewer_155214060989.addModel(\"\\n     RDKit          3D\\n\\n 11 10  0  0  0  0  0  0  0  0999 V2000\\n    1.6236    0.9000    0.4033 O   0  0  0  0  0  0  0  0  0  0  0  0\\n   -1.6293    1.0763   -0.0267 O   0  0  0  0  0  0  0  0  0  0  0  0\\n   -2.1862   -1.0317    0.5089 O   0  0  0  0  0  0  0  0  0  0  0  0\\n    1.0537   -0.2516    0.8518 N   0  0  0  0  0  0  0  0  0  0  0  0\\n    0.0923   -0.7668   -0.1176 C   0  0  0  0  0  0  0  0  0  0  0  0\\n   -1.2563   -0.2329    0.1805 C   0  0  0  0  0  0  0  0  0  0  0  0\\n    0.4303   -0.5695   -1.1438 H   0  0  0  0  0  0  0  0  0  0  0  0\\n    0.0750   -1.8710    0.0142 H   0  0  0  0  0  0  0  0  0  0  0  0\\n    0.5582   -0.0961    1.7609 H   0  0  0  0  0  0  0  0  0  0  0  0\\n    2.5679    0.9885    0.7174 H   0  0  0  0  0  0  0  0  0  0  0  0\\n   -1.3293    1.8548    0.5608 H   0  0  0  0  0  0  0  0  0  0  0  0\\n  1  4  1  0\\n  1 10  1  0\\n  2  6  1  0\\n  2 11  1  0\\n  3  6  2  0\\n  4  5  1  0\\n  4  9  1  0\\n  5  7  1  0\\n  5  8  1  0\\n  5  6  1  0\\nM  END\\n\",\"sdf\");\n",
       "\tviewer_155214060989.setStyle({\"stick\": {}});\n",
       "\tviewer_155214060989.setBackgroundColor(\"0xeeeeee\");\n",
       "\tviewer_155214060989.zoomTo();\n",
       "viewer_155214060989.render();\n",
       "});\n",
       "</script>"
      ]
     },
     "metadata": {},
     "output_type": "display_data"
    },
    {
     "name": "stdout",
     "output_type": "stream",
     "text": [
      "/home/underkoffler.c/Code/Hindered_Rotors/ONCC(=O)O/From_Workflow\n",
      "\n",
      "\n",
      "ONCC(=O)O NPWGWQRXHVJJRD-UHFFFAOYSA-N_72by10.0_tor03_a1.log\n",
      "<Torsion \"(9, 0, 3, 8)\">\n",
      "Steps:      72\n",
      "Step Size:  10.0\n",
      "Attempt:    1\n",
      "\n"
     ]
    },
    {
     "data": {
      "image/png": "[encoded data removed]",
      "text/plain": [
       "<Figure size 432x288 with 1 Axes>"
      ]
     },
     "metadata": {
      "needs_background": "light"
     },
     "output_type": "display_data"
    },
    {
     "name": "stdout",
     "output_type": "stream",
     "text": [
      "Continuous:   True\n",
      "\n",
      "Good Slope:   True\n",
      "\n",
      "Lowest Conf:  False\n",
      "=========================================================\n",
      "\n",
      "\n",
      "\n",
      "ONCC(=O)O NPWGWQRXHVJJRD-UHFFFAOYSA-N_72by10.0_tor03_a2.log\n",
      "<Torsion \"(9, 0, 3, 8)\">\n",
      "Steps:      72\n",
      "Step Size:  10.0\n",
      "Attempt:    2\n",
      "\n"
     ]
    },
    {
     "data": {
      "image/png": "[encoded data removed]",
      "text/plain": [
       "<Figure size 432x288 with 1 Axes>"
      ]
     },
     "metadata": {
      "needs_background": "light"
     },
     "output_type": "display_data"
    },
    {
     "name": "stdout",
     "output_type": "stream",
     "text": [
      "Continuous:   True\n",
      "\n",
      "Good Slope:   True\n",
      "\n",
      "Lowest Conf:  True\n",
      "=========================================================\n",
      "\n",
      "\n",
      "\n",
      "ONCC(=O)O NPWGWQRXHVJJRD-UHFFFAOYSA-N_72by10.0_tor03_a3.log\n",
      "<Torsion \"(9, 0, 3, 8)\">\n",
      "Steps:      72\n",
      "Step Size:  10.0\n",
      "Attempt:    3\n",
      "\n"
     ]
    },
    {
     "data": {
      "image/png": "[encoded data removed]",
      "text/plain": [
       "<Figure size 432x288 with 1 Axes>"
      ]
     },
     "metadata": {
      "needs_background": "light"
     },
     "output_type": "display_data"
    },
    {
     "name": "stdout",
     "output_type": "stream",
     "text": [
      "Continuous:   True\n",
      "\n",
      "Good Slope:   True\n",
      "\n",
      "Lowest Conf:  True\n",
      "=========================================================\n",
      "\n",
      "\n",
      "ONCC(=O)O NPWGWQRXHVJJRD-UHFFFAOYSA-N_72by10.0_tor03_a4.log\n",
      "\n",
      "\n",
      "ONCC(=O)O NPWGWQRXHVJJRD-UHFFFAOYSA-N_72by10.0_tor15_a1.log\n",
      "<Torsion \"(10, 1, 5, 4)\">\n",
      "Steps:      72\n",
      "Step Size:  10.0\n",
      "Attempt:    1\n",
      "\n"
     ]
    },
    {
     "data": {
      "image/png": "[encoded data removed]",
      "text/plain": [
       "<Figure size 432x288 with 1 Axes>"
      ]
     },
     "metadata": {
      "needs_background": "light"
     },
     "output_type": "display_data"
    },
    {
     "name": "stdout",
     "output_type": "stream",
     "text": [
      "Continuous:   False\n",
      "\n",
      "Good Slope:   True\n",
      "\n",
      "Lowest Conf:  False\n",
      "=========================================================\n",
      "\n",
      "\n",
      "\n",
      "ONCC(=O)O NPWGWQRXHVJJRD-UHFFFAOYSA-N_72by10.0_tor15_a2.log\n",
      "<Torsion \"(10, 1, 5, 4)\">\n",
      "Steps:      72\n",
      "Step Size:  10.0\n",
      "Attempt:    2\n",
      "\n"
     ]
    },
    {
     "data": {
      "image/png": "[encoded data removed]",
      "text/plain": [
       "<Figure size 432x288 with 1 Axes>"
      ]
     },
     "metadata": {
      "needs_background": "light"
     },
     "output_type": "display_data"
    },
    {
     "name": "stdout",
     "output_type": "stream",
     "text": [
      "Continuous:   True\n",
      "\n",
      "Good Slope:   True\n",
      "\n",
      "Lowest Conf:  True\n",
      "=========================================================\n",
      "\n",
      "\n",
      "\n",
      "ONCC(=O)O NPWGWQRXHVJJRD-UHFFFAOYSA-N_72by10.0_tor15_a3.log\n",
      "<Torsion \"(10, 1, 5, 4)\">\n",
      "Steps:      72\n",
      "Step Size:  10.0\n",
      "Attempt:    3\n",
      "\n"
     ]
    },
    {
     "data": {
      "image/png": "[encoded data removed]",
      "text/plain": [
       "<Figure size 432x288 with 1 Axes>"
      ]
     },
     "metadata": {
      "needs_background": "light"
     },
     "output_type": "display_data"
    },
    {
     "name": "stdout",
     "output_type": "stream",
     "text": [
      "Continuous:   True\n",
      "\n",
      "Good Slope:   True\n",
      "\n",
      "Lowest Conf:  True\n",
      "=========================================================\n",
      "\n",
      "\n",
      "\n",
      "ONCC(=O)O NPWGWQRXHVJJRD-UHFFFAOYSA-N_72by10.0_tor15_a4.log\n",
      "<Torsion \"(10, 1, 5, 4)\">\n",
      "Steps:      72\n",
      "Step Size:  10.0\n",
      "Attempt:    4\n",
      "\n"
     ]
    },
    {
     "data": {
      "image/png": "[encoded data removed]",
      "text/plain": [
       "<Figure size 432x288 with 1 Axes>"
      ]
     },
     "metadata": {
      "needs_background": "light"
     },
     "output_type": "display_data"
    },
    {
     "name": "stdout",
     "output_type": "stream",
     "text": [
      "Continuous:   True\n",
      "\n",
      "Good Slope:   True\n",
      "\n",
      "Lowest Conf:  True\n",
      "=========================================================\n",
      "\n",
      "\n",
      "\n",
      "\n",
      "ONCC(=O)O NPWGWQRXHVJJRD-UHFFFAOYSA-N_72by10.0_tor34_a1.log\n",
      "<Torsion \"(8, 3, 4, 5)\">\n",
      "Steps:      72\n",
      "Step Size:  10.0\n",
      "Attempt:    1\n",
      "\n"
     ]
    },
    {
     "data": {
      "image/png": "[encoded data removed]",
      "text/plain": [
       "<Figure size 432x288 with 1 Axes>"
      ]
     },
     "metadata": {
      "needs_background": "light"
     },
     "output_type": "display_data"
    },
    {
     "name": "stdout",
     "output_type": "stream",
     "text": [
      "Continuous:   False\n",
      "\n",
      "Good Slope:   True\n",
      "\n",
      "Lowest Conf:  False\n",
      "=========================================================\n",
      "\n",
      "\n",
      "\n",
      "ONCC(=O)O NPWGWQRXHVJJRD-UHFFFAOYSA-N_72by10.0_tor34_a2.log\n",
      "<Torsion \"(8, 3, 4, 5)\">\n",
      "Steps:      72\n",
      "Step Size:  10.0\n",
      "Attempt:    2\n",
      "\n"
     ]
    },
    {
     "data": {
      "image/png": "[encoded data removed]",
      "text/plain": [
       "<Figure size 432x288 with 1 Axes>"
      ]
     },
     "metadata": {
      "needs_background": "light"
     },
     "output_type": "display_data"
    },
    {
     "name": "stdout",
     "output_type": "stream",
     "text": [
      "Continuous:   False\n",
      "\n",
      "Good Slope:   True\n",
      "\n",
      "Lowest Conf:  True\n",
      "=========================================================\n",
      "\n",
      "\n",
      "\n",
      "ONCC(=O)O NPWGWQRXHVJJRD-UHFFFAOYSA-N_72by10.0_tor34_a3.log\n",
      "<Torsion \"(8, 3, 4, 5)\">\n",
      "Steps:      72\n",
      "Step Size:  10.0\n",
      "Attempt:    3\n",
      "\n"
     ]
    },
    {
     "data": {
      "image/png": "[encoded data removed]",
      "text/plain": [
       "<Figure size 432x288 with 1 Axes>"
      ]
     },
     "metadata": {
      "needs_background": "light"
     },
     "output_type": "display_data"
    },
    {
     "name": "stdout",
     "output_type": "stream",
     "text": [
      "Continuous:   False\n",
      "\n",
      "Good Slope:   True\n",
      "\n",
      "Lowest Conf:  True\n",
      "=========================================================\n",
      "\n",
      "\n",
      "ONCC(=O)O NPWGWQRXHVJJRD-UHFFFAOYSA-N_72by10.0_tor34_a4.log\n",
      "\n",
      "\n",
      "ONCC(=O)O NPWGWQRXHVJJRD-UHFFFAOYSA-N_72by10.0_tor45_a1.log\n",
      "<Torsion \"(7, 4, 5, 2)\">\n",
      "Steps:      72\n",
      "Step Size:  10.0\n",
      "Attempt:    1\n",
      "\n"
     ]
    },
    {
     "data": {
      "image/png": "[encoded data removed]",
      "text/plain": [
       "<Figure size 432x288 with 1 Axes>"
      ]
     },
     "metadata": {
      "needs_background": "light"
     },
     "output_type": "display_data"
    },
    {
     "name": "stdout",
     "output_type": "stream",
     "text": [
      "Continuous:   True\n",
      "\n",
      "Good Slope:   True\n",
      "\n",
      "Lowest Conf:  False\n",
      "=========================================================\n",
      "\n",
      "\n",
      "\n",
      "ONCC(=O)O NPWGWQRXHVJJRD-UHFFFAOYSA-N_72by10.0_tor45_a2.log\n",
      "<Torsion \"(7, 4, 5, 2)\">\n",
      "Steps:      72\n",
      "Step Size:  10.0\n",
      "Attempt:    2\n",
      "\n"
     ]
    },
    {
     "data": {
      "image/png": "[encoded data removed]",
      "text/plain": [
       "<Figure size 432x288 with 1 Axes>"
      ]
     },
     "metadata": {
      "needs_background": "light"
     },
     "output_type": "display_data"
    },
    {
     "name": "stdout",
     "output_type": "stream",
     "text": [
      "Continuous:   True\n",
      "\n",
      "Good Slope:   True\n",
      "\n",
      "Lowest Conf:  True\n",
      "=========================================================\n",
      "\n",
      "\n",
      "\n",
      "ONCC(=O)O NPWGWQRXHVJJRD-UHFFFAOYSA-N_72by10.0_tor45_a3.log\n",
      "<Torsion \"(7, 4, 5, 2)\">\n",
      "Steps:      72\n",
      "Step Size:  10.0\n",
      "Attempt:    3\n",
      "\n"
     ]
    },
    {
     "data": {
      "image/png": "[encoded data removed]",
      "text/plain": [
       "<Figure size 432x288 with 1 Axes>"
      ]
     },
     "metadata": {
      "needs_background": "light"
     },
     "output_type": "display_data"
    },
    {
     "name": "stdout",
     "output_type": "stream",
     "text": [
      "Continuous:   True\n",
      "\n",
      "Good Slope:   True\n",
      "\n",
      "Lowest Conf:  True\n",
      "=========================================================\n",
      "\n",
      "\n",
      "ONCC(=O)O NPWGWQRXHVJJRD-UHFFFAOYSA-N_72by10.0_tor45_a4.log\n",
      "===================================================================\n",
      "\n",
      "\n"
     ]
    }
   ],
   "source": [
    "steps = 72\n",
    "step_size = 10.0\n",
    "\n",
    "Conf_list = []\n",
    "\n",
    "Rxn_list = None\n",
    "\n",
    "SMILES_list = ['ONCC(=O)O']\n",
    "print SMILES_list\n",
    "\n",
    "scan_progress(steps, step_size, Conf_list, SMILES_list=SMILES_list, Rxn_list=Rxn_list)"
   ]
  },
  {
   "cell_type": "code",
   "execution_count": 8,
   "metadata": {
    "scrolled": true
   },
   "outputs": [
    {
     "name": "stdout",
     "output_type": "stream",
     "text": [
      "['CCCCO']\n"
     ]
    },
    {
     "data": {
      "application/3dmoljs_load.v0": "<div id=\"3dmolviewer_155209655821\"  style=\"position: relative; width: 600px; height: 600px\">\n        <p id=\"3dmolwarning_155209655821\" style=\"background-color:#ffcccc;color:black\">You appear to be running in JupyterLab.  You need to install the 3dmol extension: <br>\n        <tt>jupyter labextension install jupyterlab_3dmol</tt></p>\n        </div>\n<script>\n\nvar loadScriptAsync = function(uri){\n  return new Promise((resolve, reject) => {\n    var tag = document.createElement('script');\n    tag.src = uri;\n    tag.async = true;\n    tag.onload = () => {\n      resolve();\n    };\n  var firstScriptTag = document.getElementsByTagName('script')[0];\n  firstScriptTag.parentNode.insertBefore(tag, firstScriptTag);\n});\n};\n\nif(typeof $3Dmolpromise === 'undefined') {\n$3Dmolpromise = null;\n  $3Dmolpromise = loadScriptAsync('https://3dmol.csb.pitt.edu/build/3Dmol.js');\n}\n\nvar viewer_155209655821 = null;\nvar warn = document.getElementById(\"3dmolwarning_155209655821\");\nif(warn) {\n    warn.parentNode.removeChild(warn);\n}\n$3Dmolpromise.then(function() {\nviewer_155209655821 = $3Dmol.createViewer($(\"#3dmolviewer_155209655821\"),{backgroundColor:\"white\"});\n\tviewer_155209655821.addModel(\"\\n     RDKit          3D\\n\\n 15 14  0  0  0  0  0  0  0  0999 V2000\\n    2.5135    0.6129   -0.0919 O   0  0  0  0  0  0  0  0  0  0  0  0\\n    0.4137   -0.3819   -0.7556 C   0  0  0  0  0  0  0  0  0  0  0  0\\n   -0.9665   -0.6614   -0.2311 C   0  0  0  0  0  0  0  0  0  0  0  0\\n    1.3741   -0.0274    0.3544 C   0  0  0  0  0  0  0  0  0  0  0  0\\n   -1.7118    0.5454    0.2354 C   0  0  0  0  0  0  0  0  0  0  0  0\\n   -1.5229   -1.1302   -1.0799 H   0  0  0  0  0  0  0  0  0  0  0  0\\n   -0.8815   -1.4156    0.5870 H   0  0  0  0  0  0  0  0  0  0  0  0\\n    0.4042    0.3647   -1.5756 H   0  0  0  0  0  0  0  0  0  0  0  0\\n    0.7900   -1.3558   -1.1618 H   0  0  0  0  0  0  0  0  0  0  0  0\\n    1.7136   -0.9600    0.8676 H   0  0  0  0  0  0  0  0  0  0  0  0\\n    0.8338    0.5996    1.0996 H   0  0  0  0  0  0  0  0  0  0  0  0\\n   -2.4897    0.2077    0.9667 H   0  0  0  0  0  0  0  0  0  0  0  0\\n   -2.2059    1.0772   -0.5975 H   0  0  0  0  0  0  0  0  0  0  0  0\\n   -1.0694    1.2466    0.7920 H   0  0  0  0  0  0  0  0  0  0  0  0\\n    2.8049    1.2782    0.5907 H   0  0  0  0  0  0  0  0  0  0  0  0\\n  1  4  1  0\\n  1 15  1  0\\n  2  9  1  0\\n  2  3  1  0\\n  2  4  1  0\\n  2  8  1  0\\n  3  5  1  0\\n  3  6  1  0\\n  3  7  1  0\\n  4 10  1  0\\n  4 11  1  0\\n  5 14  1  0\\n  5 13  1  0\\n  5 12  1  0\\nM  END\\n\",\"sdf\");\n\tviewer_155209655821.setStyle({\"stick\": {}});\n\tviewer_155209655821.setBackgroundColor(\"0xeeeeee\");\n\tviewer_155209655821.zoomTo();\nviewer_155209655821.render();\n});\n</script>",
      "text/html": [
       "<div id=\"3dmolviewer_155209655821\"  style=\"position: relative; width: 600px; height: 600px\">\n",
       "        <p id=\"3dmolwarning_155209655821\" style=\"background-color:#ffcccc;color:black\">You appear to be running in JupyterLab.  You need to install the 3dmol extension: <br>\n",
       "        <tt>jupyter labextension install jupyterlab_3dmol</tt></p>\n",
       "        </div>\n",
       "<script>\n",
       "\n",
       "var loadScriptAsync = function(uri){\n",
       "  return new Promise((resolve, reject) => {\n",
       "    var tag = document.createElement('script');\n",
       "    tag.src = uri;\n",
       "    tag.async = true;\n",
       "    tag.onload = () => {\n",
       "      resolve();\n",
       "    };\n",
       "  var firstScriptTag = document.getElementsByTagName('script')[0];\n",
       "  firstScriptTag.parentNode.insertBefore(tag, firstScriptTag);\n",
       "});\n",
       "};\n",
       "\n",
       "if(typeof $3Dmolpromise === 'undefined') {\n",
       "$3Dmolpromise = null;\n",
       "  $3Dmolpromise = loadScriptAsync('https://3dmol.csb.pitt.edu/build/3Dmol.js');\n",
       "}\n",
       "\n",
       "var viewer_155209655821 = null;\n",
       "var warn = document.getElementById(\"3dmolwarning_155209655821\");\n",
       "if(warn) {\n",
       "    warn.parentNode.removeChild(warn);\n",
       "}\n",
       "$3Dmolpromise.then(function() {\n",
       "viewer_155209655821 = $3Dmol.createViewer($(\"#3dmolviewer_155209655821\"),{backgroundColor:\"white\"});\n",
       "\tviewer_155209655821.addModel(\"\\n     RDKit          3D\\n\\n 15 14  0  0  0  0  0  0  0  0999 V2000\\n    2.5135    0.6129   -0.0919 O   0  0  0  0  0  0  0  0  0  0  0  0\\n    0.4137   -0.3819   -0.7556 C   0  0  0  0  0  0  0  0  0  0  0  0\\n   -0.9665   -0.6614   -0.2311 C   0  0  0  0  0  0  0  0  0  0  0  0\\n    1.3741   -0.0274    0.3544 C   0  0  0  0  0  0  0  0  0  0  0  0\\n   -1.7118    0.5454    0.2354 C   0  0  0  0  0  0  0  0  0  0  0  0\\n   -1.5229   -1.1302   -1.0799 H   0  0  0  0  0  0  0  0  0  0  0  0\\n   -0.8815   -1.4156    0.5870 H   0  0  0  0  0  0  0  0  0  0  0  0\\n    0.4042    0.3647   -1.5756 H   0  0  0  0  0  0  0  0  0  0  0  0\\n    0.7900   -1.3558   -1.1618 H   0  0  0  0  0  0  0  0  0  0  0  0\\n    1.7136   -0.9600    0.8676 H   0  0  0  0  0  0  0  0  0  0  0  0\\n    0.8338    0.5996    1.0996 H   0  0  0  0  0  0  0  0  0  0  0  0\\n   -2.4897    0.2077    0.9667 H   0  0  0  0  0  0  0  0  0  0  0  0\\n   -2.2059    1.0772   -0.5975 H   0  0  0  0  0  0  0  0  0  0  0  0\\n   -1.0694    1.2466    0.7920 H   0  0  0  0  0  0  0  0  0  0  0  0\\n    2.8049    1.2782    0.5907 H   0  0  0  0  0  0  0  0  0  0  0  0\\n  1  4  1  0\\n  1 15  1  0\\n  2  9  1  0\\n  2  3  1  0\\n  2  4  1  0\\n  2  8  1  0\\n  3  5  1  0\\n  3  6  1  0\\n  3  7  1  0\\n  4 10  1  0\\n  4 11  1  0\\n  5 14  1  0\\n  5 13  1  0\\n  5 12  1  0\\nM  END\\n\",\"sdf\");\n",
       "\tviewer_155209655821.setStyle({\"stick\": {}});\n",
       "\tviewer_155209655821.setBackgroundColor(\"0xeeeeee\");\n",
       "\tviewer_155209655821.zoomTo();\n",
       "viewer_155209655821.render();\n",
       "});\n",
       "</script>"
      ]
     },
     "metadata": {},
     "output_type": "display_data"
    },
    {
     "name": "stdout",
     "output_type": "stream",
     "text": [
      "/home/underkoffler.c/Code/Hindered_Rotors/CCCCO/From_Workflow\n",
      "\n",
      "\n",
      "CCCCO LRHPLDYGYMQRHN-UHFFFAOYSA-N_72by10.0_tor03_a1.log\n",
      "<Torsion \"(14, 0, 3, 10)\">\n",
      "Steps:      72\n",
      "Step Size:  10.0\n",
      "Attempt:    1\n",
      "\n"
     ]
    },
    {
     "data": {
      "image/png": "[encoded data removed]",
      "text/plain": [
       "<Figure size 432x288 with 1 Axes>"
      ]
     },
     "metadata": {
      "needs_background": "light"
     },
     "output_type": "display_data"
    },
    {
     "name": "stdout",
     "output_type": "stream",
     "text": [
      "Continuous:   True\n",
      "\n",
      "Good Slope:   True\n",
      "\n",
      "Lowest Conf:  False\n",
      "=========================================================\n",
      "\n",
      "\n",
      "CCCCO LRHPLDYGYMQRHN-UHFFFAOYSA-N_72by10.0_tor03_a2.log\n",
      "CCCCO LRHPLDYGYMQRHN-UHFFFAOYSA-N_72by10.0_tor03_a3.log\n",
      "CCCCO LRHPLDYGYMQRHN-UHFFFAOYSA-N_72by10.0_tor03_a4.log\n",
      "\n",
      "\n",
      "CCCCO LRHPLDYGYMQRHN-UHFFFAOYSA-N_72by10.0_tor12_a1.log\n",
      "<Torsion \"(7, 1, 2, 6)\">\n",
      "Steps:      72\n",
      "Step Size:  10.0\n",
      "Attempt:    1\n",
      "\n"
     ]
    },
    {
     "data": {
      "image/png": "[encoded data removed]",
      "text/plain": [
       "<Figure size 432x288 with 1 Axes>"
      ]
     },
     "metadata": {
      "needs_background": "light"
     },
     "output_type": "display_data"
    },
    {
     "name": "stdout",
     "output_type": "stream",
     "text": [
      "Continuous:   True\n",
      "\n",
      "Good Slope:   True\n",
      "\n",
      "Lowest Conf:  True\n",
      "=========================================================\n",
      "\n",
      "\n",
      "CCCCO LRHPLDYGYMQRHN-UHFFFAOYSA-N_72by10.0_tor12_a2.log\n",
      "CCCCO LRHPLDYGYMQRHN-UHFFFAOYSA-N_72by10.0_tor12_a3.log\n",
      "CCCCO LRHPLDYGYMQRHN-UHFFFAOYSA-N_72by10.0_tor12_a4.log\n",
      "\n",
      "\n",
      "CCCCO LRHPLDYGYMQRHN-UHFFFAOYSA-N_72by10.0_tor13_a1.log\n",
      "<Torsion \"(7, 1, 3, 10)\">\n",
      "Steps:      72\n",
      "Step Size:  10.0\n",
      "Attempt:    1\n",
      "\n"
     ]
    },
    {
     "data": {
      "image/png": "[encoded data removed]",
      "text/plain": [
       "<Figure size 432x288 with 1 Axes>"
      ]
     },
     "metadata": {
      "needs_background": "light"
     },
     "output_type": "display_data"
    },
    {
     "name": "stdout",
     "output_type": "stream",
     "text": [
      "Continuous:   True\n",
      "\n",
      "Good Slope:   True\n",
      "\n",
      "Lowest Conf:  True\n",
      "=========================================================\n",
      "\n",
      "\n",
      "CCCCO LRHPLDYGYMQRHN-UHFFFAOYSA-N_72by10.0_tor13_a2.log\n",
      "CCCCO LRHPLDYGYMQRHN-UHFFFAOYSA-N_72by10.0_tor13_a3.log\n",
      "CCCCO LRHPLDYGYMQRHN-UHFFFAOYSA-N_72by10.0_tor13_a4.log\n",
      "\n",
      "\n",
      "CCCCO LRHPLDYGYMQRHN-UHFFFAOYSA-N_72by10.0_tor24_a1.log\n",
      "<Torsion \"(6, 2, 4, 11)\">\n",
      "Steps:      72\n",
      "Step Size:  10.0\n",
      "Attempt:    1\n",
      "\n"
     ]
    },
    {
     "data": {
      "image/png": "[encoded data removed]",
      "text/plain": [
       "<Figure size 432x288 with 1 Axes>"
      ]
     },
     "metadata": {
      "needs_background": "light"
     },
     "output_type": "display_data"
    },
    {
     "name": "stdout",
     "output_type": "stream",
     "text": [
      "Continuous:   True\n",
      "\n",
      "Good Slope:   True\n",
      "\n",
      "Lowest Conf:  True\n",
      "=========================================================\n",
      "\n",
      "\n",
      "CCCCO LRHPLDYGYMQRHN-UHFFFAOYSA-N_72by10.0_tor24_a2.log\n",
      "CCCCO LRHPLDYGYMQRHN-UHFFFAOYSA-N_72by10.0_tor24_a3.log\n",
      "CCCCO LRHPLDYGYMQRHN-UHFFFAOYSA-N_72by10.0_tor24_a4.log\n",
      "===================================================================\n",
      "\n",
      "\n"
     ]
    }
   ],
   "source": [
    "steps = 72\n",
    "step_size = 10.0\n",
    "\n",
    "Conf_list = []\n",
    "\n",
    "Rxn_list = None\n",
    "\n",
    "SMILES_list = [Master_SMILES_list[0]]\n",
    "print SMILES_list\n",
    "\n",
    "scan_progress(steps, step_size, Conf_list, SMILES_list=SMILES_list, Rxn_list=Rxn_list)"
   ]
  },
  {
   "cell_type": "code",
   "execution_count": 9,
   "metadata": {
    "scrolled": false
   },
   "outputs": [
    {
     "name": "stdout",
     "output_type": "stream",
     "text": [
      "['CCCC[O]']\n"
     ]
    },
    {
     "data": {
      "application/3dmoljs_load.v0": "<div id=\"3dmolviewer_155209662533\"  style=\"position: relative; width: 600px; height: 600px\">\n        <p id=\"3dmolwarning_155209662533\" style=\"background-color:#ffcccc;color:black\">You appear to be running in JupyterLab.  You need to install the 3dmol extension: <br>\n        <tt>jupyter labextension install jupyterlab_3dmol</tt></p>\n        </div>\n<script>\n\nvar loadScriptAsync = function(uri){\n  return new Promise((resolve, reject) => {\n    var tag = document.createElement('script');\n    tag.src = uri;\n    tag.async = true;\n    tag.onload = () => {\n      resolve();\n    };\n  var firstScriptTag = document.getElementsByTagName('script')[0];\n  firstScriptTag.parentNode.insertBefore(tag, firstScriptTag);\n});\n};\n\nif(typeof $3Dmolpromise === 'undefined') {\n$3Dmolpromise = null;\n  $3Dmolpromise = loadScriptAsync('https://3dmol.csb.pitt.edu/build/3Dmol.js');\n}\n\nvar viewer_155209662533 = null;\nvar warn = document.getElementById(\"3dmolwarning_155209662533\");\nif(warn) {\n    warn.parentNode.removeChild(warn);\n}\n$3Dmolpromise.then(function() {\nviewer_155209662533 = $3Dmol.createViewer($(\"#3dmolviewer_155209662533\"),{backgroundColor:\"white\"});\n\tviewer_155209662533.addModel(\"\\n     RDKit          3D\\n\\n 14 13  0  0  0  0  0  0  0  0999 V2000\\n    2.1114    0.9376    0.6419 O   0  0  0  0  0  1  0  0  0  0  0  0\\n   -0.4587    0.6987   -0.0470 C   0  0  0  0  0  0  0  0  0  0  0  0\\n    0.4276   -0.5385   -0.1138 C   0  0  0  0  0  0  0  0  0  0  0  0\\n   -1.8668    0.1577    0.0372 C   0  0  0  0  0  0  0  0  0  0  0  0\\n    1.8855   -0.2253   -0.0720 C   0  0  0  0  0  0  0  0  0  0  0  0\\n   -0.2413    1.3291    0.8238 H   0  0  0  0  0  0  0  0  0  0  0  0\\n   -0.2530    1.2624   -0.9682 H   0  0  0  0  0  0  0  0  0  0  0  0\\n    0.1236   -1.2446    0.6924 H   0  0  0  0  0  0  0  0  0  0  0  0\\n    0.1531   -1.0552   -1.0654 H   0  0  0  0  0  0  0  0  0  0  0  0\\n   -2.5979    0.8781    0.4275 H   0  0  0  0  0  0  0  0  0  0  0  0\\n   -2.1710   -0.3168   -0.9200 H   0  0  0  0  0  0  0  0  0  0  0  0\\n   -1.8288   -0.6730    0.7879 H   0  0  0  0  0  0  0  0  0  0  0  0\\n    2.4534   -1.0993    0.3319 H   0  0  0  0  0  0  0  0  0  0  0  0\\n    2.2629   -0.1108   -1.1198 H   0  0  0  0  0  0  0  0  0  0  0  0\\n  1  5  1  0\\n  2  4  1  0\\n  2  6  1  0\\n  2  7  1  0\\n  2  3  1  0\\n  3  9  1  0\\n  3  5  1  0\\n  3  8  1  0\\n  4 11  1  0\\n  4 12  1  0\\n  4 10  1  0\\n  5 13  1  0\\n  5 14  1  0\\nM  RAD  1   1   2\\nM  END\\n\",\"sdf\");\n\tviewer_155209662533.setStyle({\"stick\": {}});\n\tviewer_155209662533.setBackgroundColor(\"0xeeeeee\");\n\tviewer_155209662533.zoomTo();\nviewer_155209662533.render();\n});\n</script>",
      "text/html": [
       "<div id=\"3dmolviewer_155209662533\"  style=\"position: relative; width: 600px; height: 600px\">\n",
       "        <p id=\"3dmolwarning_155209662533\" style=\"background-color:#ffcccc;color:black\">You appear to be running in JupyterLab.  You need to install the 3dmol extension: <br>\n",
       "        <tt>jupyter labextension install jupyterlab_3dmol</tt></p>\n",
       "        </div>\n",
       "<script>\n",
       "\n",
       "var loadScriptAsync = function(uri){\n",
       "  return new Promise((resolve, reject) => {\n",
       "    var tag = document.createElement('script');\n",
       "    tag.src = uri;\n",
       "    tag.async = true;\n",
       "    tag.onload = () => {\n",
       "      resolve();\n",
       "    };\n",
       "  var firstScriptTag = document.getElementsByTagName('script')[0];\n",
       "  firstScriptTag.parentNode.insertBefore(tag, firstScriptTag);\n",
       "});\n",
       "};\n",
       "\n",
       "if(typeof $3Dmolpromise === 'undefined') {\n",
       "$3Dmolpromise = null;\n",
       "  $3Dmolpromise = loadScriptAsync('https://3dmol.csb.pitt.edu/build/3Dmol.js');\n",
       "}\n",
       "\n",
       "var viewer_155209662533 = null;\n",
       "var warn = document.getElementById(\"3dmolwarning_155209662533\");\n",
       "if(warn) {\n",
       "    warn.parentNode.removeChild(warn);\n",
       "}\n",
       "$3Dmolpromise.then(function() {\n",
       "viewer_155209662533 = $3Dmol.createViewer($(\"#3dmolviewer_155209662533\"),{backgroundColor:\"white\"});\n",
       "\tviewer_155209662533.addModel(\"\\n     RDKit          3D\\n\\n 14 13  0  0  0  0  0  0  0  0999 V2000\\n    2.1114    0.9376    0.6419 O   0  0  0  0  0  1  0  0  0  0  0  0\\n   -0.4587    0.6987   -0.0470 C   0  0  0  0  0  0  0  0  0  0  0  0\\n    0.4276   -0.5385   -0.1138 C   0  0  0  0  0  0  0  0  0  0  0  0\\n   -1.8668    0.1577    0.0372 C   0  0  0  0  0  0  0  0  0  0  0  0\\n    1.8855   -0.2253   -0.0720 C   0  0  0  0  0  0  0  0  0  0  0  0\\n   -0.2413    1.3291    0.8238 H   0  0  0  0  0  0  0  0  0  0  0  0\\n   -0.2530    1.2624   -0.9682 H   0  0  0  0  0  0  0  0  0  0  0  0\\n    0.1236   -1.2446    0.6924 H   0  0  0  0  0  0  0  0  0  0  0  0\\n    0.1531   -1.0552   -1.0654 H   0  0  0  0  0  0  0  0  0  0  0  0\\n   -2.5979    0.8781    0.4275 H   0  0  0  0  0  0  0  0  0  0  0  0\\n   -2.1710   -0.3168   -0.9200 H   0  0  0  0  0  0  0  0  0  0  0  0\\n   -1.8288   -0.6730    0.7879 H   0  0  0  0  0  0  0  0  0  0  0  0\\n    2.4534   -1.0993    0.3319 H   0  0  0  0  0  0  0  0  0  0  0  0\\n    2.2629   -0.1108   -1.1198 H   0  0  0  0  0  0  0  0  0  0  0  0\\n  1  5  1  0\\n  2  4  1  0\\n  2  6  1  0\\n  2  7  1  0\\n  2  3  1  0\\n  3  9  1  0\\n  3  5  1  0\\n  3  8  1  0\\n  4 11  1  0\\n  4 12  1  0\\n  4 10  1  0\\n  5 13  1  0\\n  5 14  1  0\\nM  RAD  1   1   2\\nM  END\\n\",\"sdf\");\n",
       "\tviewer_155209662533.setStyle({\"stick\": {}});\n",
       "\tviewer_155209662533.setBackgroundColor(\"0xeeeeee\");\n",
       "\tviewer_155209662533.zoomTo();\n",
       "viewer_155209662533.render();\n",
       "});\n",
       "</script>"
      ]
     },
     "metadata": {},
     "output_type": "display_data"
    },
    {
     "name": "stdout",
     "output_type": "stream",
     "text": [
      "/home/underkoffler.c/Code/Hindered_Rotors/CCCC[O]/From_Workflow\n",
      "\n",
      "CCCC[O] QOOQLKSEGVNYLA-UHFFFAOYSA-N-u5_72by10.0_tor13_a1.log\n",
      "CCCC[O] QOOQLKSEGVNYLA-UHFFFAOYSA-N-u5_72by10.0_tor13_a2.log\n",
      "CCCC[O] QOOQLKSEGVNYLA-UHFFFAOYSA-N-u5_72by10.0_tor13_a3.log\n",
      "CCCC[O] QOOQLKSEGVNYLA-UHFFFAOYSA-N-u5_72by10.0_tor13_a4.log\n",
      "\n",
      "CCCC[O] QOOQLKSEGVNYLA-UHFFFAOYSA-N-u5_72by10.0_tor12_a1.log\n",
      "CCCC[O] QOOQLKSEGVNYLA-UHFFFAOYSA-N-u5_72by10.0_tor12_a2.log\n",
      "CCCC[O] QOOQLKSEGVNYLA-UHFFFAOYSA-N-u5_72by10.0_tor12_a3.log\n",
      "CCCC[O] QOOQLKSEGVNYLA-UHFFFAOYSA-N-u5_72by10.0_tor12_a4.log\n",
      "\n",
      "CCCC[O] QOOQLKSEGVNYLA-UHFFFAOYSA-N-u5_72by10.0_tor24_a1.log\n",
      "CCCC[O] QOOQLKSEGVNYLA-UHFFFAOYSA-N-u5_72by10.0_tor24_a2.log\n",
      "CCCC[O] QOOQLKSEGVNYLA-UHFFFAOYSA-N-u5_72by10.0_tor24_a3.log\n",
      "CCCC[O] QOOQLKSEGVNYLA-UHFFFAOYSA-N-u5_72by10.0_tor24_a4.log\n",
      "===================================================================\n",
      "\n",
      "\n"
     ]
    }
   ],
   "source": [
    "steps = 72\n",
    "step_size = 10.0\n",
    "\n",
    "Conf_list = []\n",
    "\n",
    "Rxn_list = None\n",
    "\n",
    "SMILES_list = [Master_SMILES_list[1]]\n",
    "print SMILES_list\n",
    "\n",
    "scan_progress(steps, step_size, Conf_list, SMILES_list=SMILES_list, Rxn_list=Rxn_list)"
   ]
  },
  {
   "cell_type": "code",
   "execution_count": 7,
   "metadata": {
    "scrolled": false
   },
   "outputs": [
    {
     "name": "stdout",
     "output_type": "stream",
     "text": [
      "['CCC[CH]O']\n"
     ]
    },
    {
     "data": {
      "application/3dmoljs_load.v0": "<div id=\"3dmolviewer_155208800647\"  style=\"position: relative; width: 600px; height: 600px\">\n        <p id=\"3dmolwarning_155208800647\" style=\"background-color:#ffcccc;color:black\">You appear to be running in JupyterLab.  You need to install the 3dmol extension: <br>\n        <tt>jupyter labextension install jupyterlab_3dmol</tt></p>\n        </div>\n<script>\n\nvar loadScriptAsync = function(uri){\n  return new Promise((resolve, reject) => {\n    var tag = document.createElement('script');\n    tag.src = uri;\n    tag.async = true;\n    tag.onload = () => {\n      resolve();\n    };\n  var firstScriptTag = document.getElementsByTagName('script')[0];\n  firstScriptTag.parentNode.insertBefore(tag, firstScriptTag);\n});\n};\n\nif(typeof $3Dmolpromise === 'undefined') {\n$3Dmolpromise = null;\n  $3Dmolpromise = loadScriptAsync('https://3dmol.csb.pitt.edu/build/3Dmol.js');\n}\n\nvar viewer_155208800647 = null;\nvar warn = document.getElementById(\"3dmolwarning_155208800647\");\nif(warn) {\n    warn.parentNode.removeChild(warn);\n}\n$3Dmolpromise.then(function() {\nviewer_155208800647 = $3Dmol.createViewer($(\"#3dmolviewer_155208800647\"),{backgroundColor:\"white\"});\n\tviewer_155208800647.addModel(\"\\n     RDKit          3D\\n\\n 14 13  0  0  0  0  0  0  0  0999 V2000\\n    1.9345   -1.2253    0.2975 O   0  0  0  0  0  0  0  0  0  0  0  0\\n   -0.7836    0.6674   -0.4953 C   0  0  0  0  0  0  0  0  0  0  0  0\\n    0.7109    0.6820   -0.4120 C   0  0  0  0  0  0  0  0  0  0  0  0\\n   -1.4413   -0.4695    0.2116 C   0  0  0  0  0  0  0  0  0  0  0  0\\n    1.2595   -0.0864    0.7623 C   0  0  0  0  0  3  0  0  0  0  0  0\\n   -1.2044    1.6232   -0.1217 H   0  0  0  0  0  0  0  0  0  0  0  0\\n   -1.0613    0.6475   -1.5800 H   0  0  0  0  0  0  0  0  0  0  0  0\\n    1.1611    0.2790   -1.3532 H   0  0  0  0  0  0  0  0  0  0  0  0\\n    1.0391    1.7452   -0.2841 H   0  0  0  0  0  0  0  0  0  0  0  0\\n   -0.8069   -1.0353    0.9007 H   0  0  0  0  0  0  0  0  0  0  0  0\\n   -1.9038   -1.2073   -0.4881 H   0  0  0  0  0  0  0  0  0  0  0  0\\n   -2.3021   -0.0982    0.8241 H   0  0  0  0  0  0  0  0  0  0  0  0\\n    2.0463    0.5036    1.2979 H   0  0  0  0  0  0  0  0  0  0  0  0\\n    1.3518   -2.0258    0.4402 H   0  0  0  0  0  0  0  0  0  0  0  0\\n  1 14  1  0\\n  1  5  1  0\\n  2  3  1  0\\n  2  6  1  0\\n  2  7  1  0\\n  2  4  1  0\\n  3  5  1  0\\n  3  8  1  0\\n  3  9  1  0\\n  4 10  1  0\\n  4 11  1  0\\n  4 12  1  0\\n  5 13  1  0\\nM  RAD  1   5   2\\nM  END\\n\",\"sdf\");\n\tviewer_155208800647.setStyle({\"stick\": {}});\n\tviewer_155208800647.setBackgroundColor(\"0xeeeeee\");\n\tviewer_155208800647.zoomTo();\nviewer_155208800647.render();\n});\n</script>",
      "text/html": [
       "<div id=\"3dmolviewer_155208800647\"  style=\"position: relative; width: 600px; height: 600px\">\n",
       "        <p id=\"3dmolwarning_155208800647\" style=\"background-color:#ffcccc;color:black\">You appear to be running in JupyterLab.  You need to install the 3dmol extension: <br>\n",
       "        <tt>jupyter labextension install jupyterlab_3dmol</tt></p>\n",
       "        </div>\n",
       "<script>\n",
       "\n",
       "var loadScriptAsync = function(uri){\n",
       "  return new Promise((resolve, reject) => {\n",
       "    var tag = document.createElement('script');\n",
       "    tag.src = uri;\n",
       "    tag.async = true;\n",
       "    tag.onload = () => {\n",
       "      resolve();\n",
       "    };\n",
       "  var firstScriptTag = document.getElementsByTagName('script')[0];\n",
       "  firstScriptTag.parentNode.insertBefore(tag, firstScriptTag);\n",
       "});\n",
       "};\n",
       "\n",
       "if(typeof $3Dmolpromise === 'undefined') {\n",
       "$3Dmolpromise = null;\n",
       "  $3Dmolpromise = loadScriptAsync('https://3dmol.csb.pitt.edu/build/3Dmol.js');\n",
       "}\n",
       "\n",
       "var viewer_155208800647 = null;\n",
       "var warn = document.getElementById(\"3dmolwarning_155208800647\");\n",
       "if(warn) {\n",
       "    warn.parentNode.removeChild(warn);\n",
       "}\n",
       "$3Dmolpromise.then(function() {\n",
       "viewer_155208800647 = $3Dmol.createViewer($(\"#3dmolviewer_155208800647\"),{backgroundColor:\"white\"});\n",
       "\tviewer_155208800647.addModel(\"\\n     RDKit          3D\\n\\n 14 13  0  0  0  0  0  0  0  0999 V2000\\n    1.9345   -1.2253    0.2975 O   0  0  0  0  0  0  0  0  0  0  0  0\\n   -0.7836    0.6674   -0.4953 C   0  0  0  0  0  0  0  0  0  0  0  0\\n    0.7109    0.6820   -0.4120 C   0  0  0  0  0  0  0  0  0  0  0  0\\n   -1.4413   -0.4695    0.2116 C   0  0  0  0  0  0  0  0  0  0  0  0\\n    1.2595   -0.0864    0.7623 C   0  0  0  0  0  3  0  0  0  0  0  0\\n   -1.2044    1.6232   -0.1217 H   0  0  0  0  0  0  0  0  0  0  0  0\\n   -1.0613    0.6475   -1.5800 H   0  0  0  0  0  0  0  0  0  0  0  0\\n    1.1611    0.2790   -1.3532 H   0  0  0  0  0  0  0  0  0  0  0  0\\n    1.0391    1.7452   -0.2841 H   0  0  0  0  0  0  0  0  0  0  0  0\\n   -0.8069   -1.0353    0.9007 H   0  0  0  0  0  0  0  0  0  0  0  0\\n   -1.9038   -1.2073   -0.4881 H   0  0  0  0  0  0  0  0  0  0  0  0\\n   -2.3021   -0.0982    0.8241 H   0  0  0  0  0  0  0  0  0  0  0  0\\n    2.0463    0.5036    1.2979 H   0  0  0  0  0  0  0  0  0  0  0  0\\n    1.3518   -2.0258    0.4402 H   0  0  0  0  0  0  0  0  0  0  0  0\\n  1 14  1  0\\n  1  5  1  0\\n  2  3  1  0\\n  2  6  1  0\\n  2  7  1  0\\n  2  4  1  0\\n  3  5  1  0\\n  3  8  1  0\\n  3  9  1  0\\n  4 10  1  0\\n  4 11  1  0\\n  4 12  1  0\\n  5 13  1  0\\nM  RAD  1   5   2\\nM  END\\n\",\"sdf\");\n",
       "\tviewer_155208800647.setStyle({\"stick\": {}});\n",
       "\tviewer_155208800647.setBackgroundColor(\"0xeeeeee\");\n",
       "\tviewer_155208800647.zoomTo();\n",
       "viewer_155208800647.render();\n",
       "});\n",
       "</script>"
      ]
     },
     "metadata": {},
     "output_type": "display_data"
    },
    {
     "name": "stdout",
     "output_type": "stream",
     "text": [
      "/home/underkoffler.c/Code/Hindered_Rotors/CCC[CH]O/From_Workflow\n",
      "\n",
      "\n",
      "CCC[CH]O DHVSQGCGLGSLDF-UHFFFAOYSA-N-u4_72by10.0_tor04_a1.log\n",
      "<Torsion \"(13, 0, 4, 12)\">\n",
      "Steps:      72\n",
      "Step Size:  10.0\n",
      "Attempt:    1\n",
      "\n"
     ]
    },
    {
     "data": {
      "image/png": "[encoded data removed]",
      "text/plain": [
       "<Figure size 432x288 with 1 Axes>"
      ]
     },
     "metadata": {
      "needs_background": "light"
     },
     "output_type": "display_data"
    },
    {
     "name": "stdout",
     "output_type": "stream",
     "text": [
      "Continuous:   False\n",
      "\tGood Slope:   False\n",
      "\n",
      "Lowest Conf:  False\n",
      "=========================================================\n",
      "\n",
      "\n",
      "CCC[CH]O DHVSQGCGLGSLDF-UHFFFAOYSA-N-u4_72by10.0_tor04_a2.log\n",
      "CCC[CH]O DHVSQGCGLGSLDF-UHFFFAOYSA-N-u4_72by10.0_tor04_a3.log\n",
      "CCC[CH]O DHVSQGCGLGSLDF-UHFFFAOYSA-N-u4_72by10.0_tor04_a4.log\n",
      "\n",
      "\n",
      "CCC[CH]O DHVSQGCGLGSLDF-UHFFFAOYSA-N-u4_72by10.0_tor12_a1.log\n",
      "<Torsion \"(3, 1, 2, 8)\">\n",
      "Steps:      72\n",
      "Step Size:  10.0\n",
      "Attempt:    1\n",
      "\n"
     ]
    },
    {
     "data": {
      "image/png": "[encoded data removed]",
      "text/plain": [
       "<Figure size 432x288 with 1 Axes>"
      ]
     },
     "metadata": {
      "needs_background": "light"
     },
     "output_type": "display_data"
    },
    {
     "name": "stdout",
     "output_type": "stream",
     "text": [
      "Continuous:   False\n",
      "\tGood Slope:   False\n",
      "\n",
      "Lowest Conf:  True\n",
      "=========================================================\n",
      "\n",
      "\n",
      "CCC[CH]O DHVSQGCGLGSLDF-UHFFFAOYSA-N-u4_72by10.0_tor12_a2.log\n",
      "CCC[CH]O DHVSQGCGLGSLDF-UHFFFAOYSA-N-u4_72by10.0_tor12_a3.log\n",
      "CCC[CH]O DHVSQGCGLGSLDF-UHFFFAOYSA-N-u4_72by10.0_tor12_a4.log\n",
      "\n",
      "\n",
      "CCC[CH]O DHVSQGCGLGSLDF-UHFFFAOYSA-N-u4_72by10.0_tor13_a1.log\n",
      "<Torsion \"(6, 1, 3, 11)\">\n",
      "Steps:      72\n",
      "Step Size:  10.0\n",
      "Attempt:    1\n",
      "\n"
     ]
    },
    {
     "data": {
      "image/png": "[encoded data removed]",
      "text/plain": [
       "<Figure size 432x288 with 1 Axes>"
      ]
     },
     "metadata": {
      "needs_background": "light"
     },
     "output_type": "display_data"
    },
    {
     "name": "stdout",
     "output_type": "stream",
     "text": [
      "Continuous:   True\n",
      "\tGood Slope:   True\n",
      "\n",
      "Lowest Conf:  True\n",
      "=========================================================\n",
      "\n",
      "\n",
      "CCC[CH]O DHVSQGCGLGSLDF-UHFFFAOYSA-N-u4_72by10.0_tor13_a2.log\n",
      "CCC[CH]O DHVSQGCGLGSLDF-UHFFFAOYSA-N-u4_72by10.0_tor13_a3.log\n",
      "CCC[CH]O DHVSQGCGLGSLDF-UHFFFAOYSA-N-u4_72by10.0_tor13_a4.log\n",
      "\n",
      "\n",
      "CCC[CH]O DHVSQGCGLGSLDF-UHFFFAOYSA-N-u4_72by10.0_tor24_a1.log\n",
      "<Torsion \"(8, 2, 4, 12)\">\n",
      "Steps:      72\n",
      "Step Size:  10.0\n",
      "Attempt:    1\n",
      "\n"
     ]
    },
    {
     "data": {
      "image/png": "[encoded data removed]",
      "text/plain": [
       "<Figure size 432x288 with 1 Axes>"
      ]
     },
     "metadata": {
      "needs_background": "light"
     },
     "output_type": "display_data"
    },
    {
     "name": "stdout",
     "output_type": "stream",
     "text": [
      "Continuous:   True\n",
      "\tGood Slope:   False\n",
      "\n",
      "Lowest Conf:  True\n",
      "=========================================================\n",
      "\n",
      "\n",
      "CCC[CH]O DHVSQGCGLGSLDF-UHFFFAOYSA-N-u4_72by10.0_tor24_a2.log\n",
      "CCC[CH]O DHVSQGCGLGSLDF-UHFFFAOYSA-N-u4_72by10.0_tor24_a3.log\n",
      "CCC[CH]O DHVSQGCGLGSLDF-UHFFFAOYSA-N-u4_72by10.0_tor24_a4.log\n",
      "===================================================================\n",
      "\n",
      "\n"
     ]
    }
   ],
   "source": [
    "steps = 72\n",
    "step_size = 10.0\n",
    "\n",
    "Conf_list = []\n",
    "\n",
    "Rxn_list = None\n",
    "\n",
    "SMILES_list = [Master_SMILES_list[2]]\n",
    "print SMILES_list\n",
    "\n",
    "scan_progress(steps, step_size, Conf_list, SMILES_list=SMILES_list, Rxn_list=Rxn_list)"
   ]
  },
  {
   "cell_type": "code",
   "execution_count": 8,
   "metadata": {
    "scrolled": false
   },
   "outputs": [
    {
     "name": "stdout",
     "output_type": "stream",
     "text": [
      "['CC[CH]CO']\n"
     ]
    },
    {
     "data": {
      "application/3dmoljs_load.v0": "<div id=\"3dmolviewer_155208802985\"  style=\"position: relative; width: 600px; height: 600px\">\n        <p id=\"3dmolwarning_155208802985\" style=\"background-color:#ffcccc;color:black\">You appear to be running in JupyterLab.  You need to install the 3dmol extension: <br>\n        <tt>jupyter labextension install jupyterlab_3dmol</tt></p>\n        </div>\n<script>\n\nvar loadScriptAsync = function(uri){\n  return new Promise((resolve, reject) => {\n    var tag = document.createElement('script');\n    tag.src = uri;\n    tag.async = true;\n    tag.onload = () => {\n      resolve();\n    };\n  var firstScriptTag = document.getElementsByTagName('script')[0];\n  firstScriptTag.parentNode.insertBefore(tag, firstScriptTag);\n});\n};\n\nif(typeof $3Dmolpromise === 'undefined') {\n$3Dmolpromise = null;\n  $3Dmolpromise = loadScriptAsync('https://3dmol.csb.pitt.edu/build/3Dmol.js');\n}\n\nvar viewer_155208802985 = null;\nvar warn = document.getElementById(\"3dmolwarning_155208802985\");\nif(warn) {\n    warn.parentNode.removeChild(warn);\n}\n$3Dmolpromise.then(function() {\nviewer_155208802985 = $3Dmol.createViewer($(\"#3dmolviewer_155208802985\"),{backgroundColor:\"white\"});\n\tviewer_155208802985.addModel(\"\\n     RDKit          3D\\n\\n 14 13  0  0  0  0  0  0  0  0999 V2000\\n   -2.6637    0.5597   -0.1473 O   0  0  0  0  0  0  0  0  0  0  0  0\\n    0.7295   -0.2738   -0.5970 C   0  0  0  0  0  0  0  0  0  0  0  0\\n   -1.7024   -0.4488    0.0166 C   0  0  0  0  0  0  0  0  0  0  0  0\\n    2.0287    0.3452   -0.1235 C   0  0  0  0  0  0  0  0  0  0  0  0\\n   -0.3929    0.2359    0.2527 C   0  0  0  0  0  3  0  0  0  0  0  0\\n    0.8634   -1.3648   -0.5733 H   0  0  0  0  0  0  0  0  0  0  0  0\\n    0.5745    0.0605   -1.6527 H   0  0  0  0  0  0  0  0  0  0  0  0\\n    2.0696    0.2512    0.9790 H   0  0  0  0  0  0  0  0  0  0  0  0\\n    2.0143    1.4057   -0.4678 H   0  0  0  0  0  0  0  0  0  0  0  0\\n    2.9113   -0.1380   -0.6147 H   0  0  0  0  0  0  0  0  0  0  0  0\\n   -1.7110   -1.1211   -0.8572 H   0  0  0  0  0  0  0  0  0  0  0  0\\n   -2.0465   -1.0678    0.8810 H   0  0  0  0  0  0  0  0  0  0  0  0\\n   -0.1372    0.3953    1.3083 H   0  0  0  0  0  0  0  0  0  0  0  0\\n   -2.5376    1.1609    0.6386 H   0  0  0  0  0  0  0  0  0  0  0  0\\n  1  3  1  0\\n  1 14  1  0\\n  2  4  1  0\\n  2  5  1  0\\n  2  6  1  0\\n  2  7  1  0\\n  3 11  1  0\\n  3  5  1  0\\n  3 12  1  0\\n  4  9  1  0\\n  4 10  1  0\\n  4  8  1  0\\n  5 13  1  0\\nM  RAD  1   5   2\\nM  END\\n\",\"sdf\");\n\tviewer_155208802985.setStyle({\"stick\": {}});\n\tviewer_155208802985.setBackgroundColor(\"0xeeeeee\");\n\tviewer_155208802985.zoomTo();\nviewer_155208802985.render();\n});\n</script>",
      "text/html": [
       "<div id=\"3dmolviewer_155208802985\"  style=\"position: relative; width: 600px; height: 600px\">\n",
       "        <p id=\"3dmolwarning_155208802985\" style=\"background-color:#ffcccc;color:black\">You appear to be running in JupyterLab.  You need to install the 3dmol extension: <br>\n",
       "        <tt>jupyter labextension install jupyterlab_3dmol</tt></p>\n",
       "        </div>\n",
       "<script>\n",
       "\n",
       "var loadScriptAsync = function(uri){\n",
       "  return new Promise((resolve, reject) => {\n",
       "    var tag = document.createElement('script');\n",
       "    tag.src = uri;\n",
       "    tag.async = true;\n",
       "    tag.onload = () => {\n",
       "      resolve();\n",
       "    };\n",
       "  var firstScriptTag = document.getElementsByTagName('script')[0];\n",
       "  firstScriptTag.parentNode.insertBefore(tag, firstScriptTag);\n",
       "});\n",
       "};\n",
       "\n",
       "if(typeof $3Dmolpromise === 'undefined') {\n",
       "$3Dmolpromise = null;\n",
       "  $3Dmolpromise = loadScriptAsync('https://3dmol.csb.pitt.edu/build/3Dmol.js');\n",
       "}\n",
       "\n",
       "var viewer_155208802985 = null;\n",
       "var warn = document.getElementById(\"3dmolwarning_155208802985\");\n",
       "if(warn) {\n",
       "    warn.parentNode.removeChild(warn);\n",
       "}\n",
       "$3Dmolpromise.then(function() {\n",
       "viewer_155208802985 = $3Dmol.createViewer($(\"#3dmolviewer_155208802985\"),{backgroundColor:\"white\"});\n",
       "\tviewer_155208802985.addModel(\"\\n     RDKit          3D\\n\\n 14 13  0  0  0  0  0  0  0  0999 V2000\\n   -2.6637    0.5597   -0.1473 O   0  0  0  0  0  0  0  0  0  0  0  0\\n    0.7295   -0.2738   -0.5970 C   0  0  0  0  0  0  0  0  0  0  0  0\\n   -1.7024   -0.4488    0.0166 C   0  0  0  0  0  0  0  0  0  0  0  0\\n    2.0287    0.3452   -0.1235 C   0  0  0  0  0  0  0  0  0  0  0  0\\n   -0.3929    0.2359    0.2527 C   0  0  0  0  0  3  0  0  0  0  0  0\\n    0.8634   -1.3648   -0.5733 H   0  0  0  0  0  0  0  0  0  0  0  0\\n    0.5745    0.0605   -1.6527 H   0  0  0  0  0  0  0  0  0  0  0  0\\n    2.0696    0.2512    0.9790 H   0  0  0  0  0  0  0  0  0  0  0  0\\n    2.0143    1.4057   -0.4678 H   0  0  0  0  0  0  0  0  0  0  0  0\\n    2.9113   -0.1380   -0.6147 H   0  0  0  0  0  0  0  0  0  0  0  0\\n   -1.7110   -1.1211   -0.8572 H   0  0  0  0  0  0  0  0  0  0  0  0\\n   -2.0465   -1.0678    0.8810 H   0  0  0  0  0  0  0  0  0  0  0  0\\n   -0.1372    0.3953    1.3083 H   0  0  0  0  0  0  0  0  0  0  0  0\\n   -2.5376    1.1609    0.6386 H   0  0  0  0  0  0  0  0  0  0  0  0\\n  1  3  1  0\\n  1 14  1  0\\n  2  4  1  0\\n  2  5  1  0\\n  2  6  1  0\\n  2  7  1  0\\n  3 11  1  0\\n  3  5  1  0\\n  3 12  1  0\\n  4  9  1  0\\n  4 10  1  0\\n  4  8  1  0\\n  5 13  1  0\\nM  RAD  1   5   2\\nM  END\\n\",\"sdf\");\n",
       "\tviewer_155208802985.setStyle({\"stick\": {}});\n",
       "\tviewer_155208802985.setBackgroundColor(\"0xeeeeee\");\n",
       "\tviewer_155208802985.zoomTo();\n",
       "viewer_155208802985.render();\n",
       "});\n",
       "</script>"
      ]
     },
     "metadata": {},
     "output_type": "display_data"
    },
    {
     "name": "stdout",
     "output_type": "stream",
     "text": [
      "/home/underkoffler.c/Code/Hindered_Rotors/CC[CH]CO/From_Workflow\n",
      "\n",
      "\n",
      "CC[CH]CO GIXGVIVAHMJKNP-UHFFFAOYSA-N-u3_72by10.0_tor02_a1.log\n",
      "<Torsion \"(13, 0, 2, 11)\">\n",
      "Steps:      72\n",
      "Step Size:  10.0\n",
      "Attempt:    1\n",
      "\n",
      "CANNOT Load Scan\n",
      "\n",
      "=========================================================\n",
      "\n",
      "\n",
      "CC[CH]CO GIXGVIVAHMJKNP-UHFFFAOYSA-N-u3_72by10.0_tor02_a2.log\n",
      "CC[CH]CO GIXGVIVAHMJKNP-UHFFFAOYSA-N-u3_72by10.0_tor02_a3.log\n",
      "CC[CH]CO GIXGVIVAHMJKNP-UHFFFAOYSA-N-u3_72by10.0_tor02_a4.log\n",
      "\n",
      "\n",
      "CC[CH]CO GIXGVIVAHMJKNP-UHFFFAOYSA-N-u3_72by10.0_tor13_a1.log\n",
      "<Torsion \"(6, 1, 3, 7)\">\n",
      "Steps:      72\n",
      "Step Size:  10.0\n",
      "Attempt:    1\n",
      "\n"
     ]
    },
    {
     "data": {
      "image/png": "[encoded data removed]",
      "text/plain": [
       "<Figure size 432x288 with 1 Axes>"
      ]
     },
     "metadata": {
      "needs_background": "light"
     },
     "output_type": "display_data"
    },
    {
     "name": "stdout",
     "output_type": "stream",
     "text": [
      "Continuous:   True\n",
      "\tGood Slope:   True\n",
      "\n",
      "Lowest Conf:  True\n",
      "=========================================================\n",
      "\n",
      "\n",
      "CC[CH]CO GIXGVIVAHMJKNP-UHFFFAOYSA-N-u3_72by10.0_tor13_a2.log\n",
      "CC[CH]CO GIXGVIVAHMJKNP-UHFFFAOYSA-N-u3_72by10.0_tor13_a3.log\n",
      "CC[CH]CO GIXGVIVAHMJKNP-UHFFFAOYSA-N-u3_72by10.0_tor13_a4.log\n",
      "\n",
      "\n",
      "CC[CH]CO GIXGVIVAHMJKNP-UHFFFAOYSA-N-u3_72by10.0_tor14_a1.log\n",
      "<Torsion \"(6, 1, 4, 12)\">\n",
      "Steps:      72\n",
      "Step Size:  10.0\n",
      "Attempt:    1\n",
      "\n"
     ]
    },
    {
     "data": {
      "image/png": "[encoded data removed]",
      "text/plain": [
       "<Figure size 432x288 with 1 Axes>"
      ]
     },
     "metadata": {
      "needs_background": "light"
     },
     "output_type": "display_data"
    },
    {
     "name": "stdout",
     "output_type": "stream",
     "text": [
      "Continuous:   True\n",
      "\tGood Slope:   False\n",
      "\n",
      "Lowest Conf:  False\n",
      "=========================================================\n",
      "\n",
      "\n",
      "CC[CH]CO GIXGVIVAHMJKNP-UHFFFAOYSA-N-u3_72by10.0_tor14_a2.log\n",
      "CC[CH]CO GIXGVIVAHMJKNP-UHFFFAOYSA-N-u3_72by10.0_tor14_a3.log\n",
      "CC[CH]CO GIXGVIVAHMJKNP-UHFFFAOYSA-N-u3_72by10.0_tor14_a4.log\n",
      "\n",
      "\n",
      "CC[CH]CO GIXGVIVAHMJKNP-UHFFFAOYSA-N-u3_72by10.0_tor24_a1.log\n",
      "<Torsion \"(11, 2, 4, 12)\">\n",
      "Steps:      72\n",
      "Step Size:  10.0\n",
      "Attempt:    1\n",
      "\n"
     ]
    },
    {
     "data": {
      "image/png": "[encoded data removed]",
      "text/plain": [
       "<Figure size 432x288 with 1 Axes>"
      ]
     },
     "metadata": {
      "needs_background": "light"
     },
     "output_type": "display_data"
    },
    {
     "name": "stdout",
     "output_type": "stream",
     "text": [
      "Continuous:   False\n",
      "\tGood Slope:   False\n",
      "\n",
      "Lowest Conf:  False\n",
      "=========================================================\n",
      "\n",
      "\n",
      "CC[CH]CO GIXGVIVAHMJKNP-UHFFFAOYSA-N-u3_72by10.0_tor24_a2.log\n",
      "CC[CH]CO GIXGVIVAHMJKNP-UHFFFAOYSA-N-u3_72by10.0_tor24_a3.log\n",
      "CC[CH]CO GIXGVIVAHMJKNP-UHFFFAOYSA-N-u3_72by10.0_tor24_a4.log\n",
      "===================================================================\n",
      "\n",
      "\n"
     ]
    }
   ],
   "source": [
    "steps = 72\n",
    "step_size = 10.0\n",
    "\n",
    "Conf_list = []\n",
    "\n",
    "Rxn_list = None\n",
    "\n",
    "SMILES_list = [Master_SMILES_list[3]]\n",
    "print SMILES_list\n",
    "\n",
    "scan_progress(steps, step_size, Conf_list, SMILES_list=SMILES_list, Rxn_list=Rxn_list)"
   ]
  },
  {
   "cell_type": "code",
   "execution_count": 9,
   "metadata": {
    "scrolled": true
   },
   "outputs": [
    {
     "name": "stdout",
     "output_type": "stream",
     "text": [
      "['C[CH]CCO']\n"
     ]
    },
    {
     "data": {
      "application/3dmoljs_load.v0": "<div id=\"3dmolviewer_155208805754\"  style=\"position: relative; width: 600px; height: 600px\">\n        <p id=\"3dmolwarning_155208805754\" style=\"background-color:#ffcccc;color:black\">You appear to be running in JupyterLab.  You need to install the 3dmol extension: <br>\n        <tt>jupyter labextension install jupyterlab_3dmol</tt></p>\n        </div>\n<script>\n\nvar loadScriptAsync = function(uri){\n  return new Promise((resolve, reject) => {\n    var tag = document.createElement('script');\n    tag.src = uri;\n    tag.async = true;\n    tag.onload = () => {\n      resolve();\n    };\n  var firstScriptTag = document.getElementsByTagName('script')[0];\n  firstScriptTag.parentNode.insertBefore(tag, firstScriptTag);\n});\n};\n\nif(typeof $3Dmolpromise === 'undefined') {\n$3Dmolpromise = null;\n  $3Dmolpromise = loadScriptAsync('https://3dmol.csb.pitt.edu/build/3Dmol.js');\n}\n\nvar viewer_155208805754 = null;\nvar warn = document.getElementById(\"3dmolwarning_155208805754\");\nif(warn) {\n    warn.parentNode.removeChild(warn);\n}\n$3Dmolpromise.then(function() {\nviewer_155208805754 = $3Dmol.createViewer($(\"#3dmolviewer_155208805754\"),{backgroundColor:\"white\"});\n\tviewer_155208805754.addModel(\"\\n     RDKit          3D\\n\\n 14 13  0  0  0  0  0  0  0  0999 V2000\\n    1.7325    0.0563    1.2485 O   0  0  0  0  0  0  0  0  0  0  0  0\\n    0.2432    0.2291   -0.6411 C   0  0  0  0  0  0  0  0  0  0  0  0\\n    1.6248    0.4102   -0.1062 C   0  0  0  0  0  0  0  0  0  0  0  0\\n   -2.1006   -0.2466   -0.2681 C   0  0  0  0  0  0  0  0  0  0  0  0\\n   -0.7177   -0.3804    0.3607 C   0  0  0  0  0  3  0  0  0  0  0  0\\n    0.1857   -0.4192   -1.5490 H   0  0  0  0  0  0  0  0  0  0  0  0\\n   -0.1834    1.2397   -0.8655 H   0  0  0  0  0  0  0  0  0  0  0  0\\n    1.9686    1.4686   -0.2124 H   0  0  0  0  0  0  0  0  0  0  0  0\\n    2.2927   -0.2973   -0.6607 H   0  0  0  0  0  0  0  0  0  0  0  0\\n   -2.9110   -0.3047    0.4675 H   0  0  0  0  0  0  0  0  0  0  0  0\\n   -2.1193    0.7234   -0.7787 H   0  0  0  0  0  0  0  0  0  0  0  0\\n   -2.1950   -1.0760   -1.0076 H   0  0  0  0  0  0  0  0  0  0  0  0\\n   -0.5343   -1.4542    0.5371 H   0  0  0  0  0  0  0  0  0  0  0  0\\n    2.7138    0.0512    1.4391 H   0  0  0  0  0  0  0  0  0  0  0  0\\n  1 14  1  0\\n  1  3  1  0\\n  2  7  1  0\\n  2  5  1  0\\n  2  6  1  0\\n  2  3  1  0\\n  3  9  1  0\\n  3  8  1  0\\n  4 11  1  0\\n  4 10  1  0\\n  4  5  1  0\\n  4 12  1  0\\n  5 13  1  0\\nM  RAD  1   5   2\\nM  END\\n\",\"sdf\");\n\tviewer_155208805754.setStyle({\"stick\": {}});\n\tviewer_155208805754.setBackgroundColor(\"0xeeeeee\");\n\tviewer_155208805754.zoomTo();\nviewer_155208805754.render();\n});\n</script>",
      "text/html": [
       "<div id=\"3dmolviewer_155208805754\"  style=\"position: relative; width: 600px; height: 600px\">\n",
       "        <p id=\"3dmolwarning_155208805754\" style=\"background-color:#ffcccc;color:black\">You appear to be running in JupyterLab.  You need to install the 3dmol extension: <br>\n",
       "        <tt>jupyter labextension install jupyterlab_3dmol</tt></p>\n",
       "        </div>\n",
       "<script>\n",
       "\n",
       "var loadScriptAsync = function(uri){\n",
       "  return new Promise((resolve, reject) => {\n",
       "    var tag = document.createElement('script');\n",
       "    tag.src = uri;\n",
       "    tag.async = true;\n",
       "    tag.onload = () => {\n",
       "      resolve();\n",
       "    };\n",
       "  var firstScriptTag = document.getElementsByTagName('script')[0];\n",
       "  firstScriptTag.parentNode.insertBefore(tag, firstScriptTag);\n",
       "});\n",
       "};\n",
       "\n",
       "if(typeof $3Dmolpromise === 'undefined') {\n",
       "$3Dmolpromise = null;\n",
       "  $3Dmolpromise = loadScriptAsync('https://3dmol.csb.pitt.edu/build/3Dmol.js');\n",
       "}\n",
       "\n",
       "var viewer_155208805754 = null;\n",
       "var warn = document.getElementById(\"3dmolwarning_155208805754\");\n",
       "if(warn) {\n",
       "    warn.parentNode.removeChild(warn);\n",
       "}\n",
       "$3Dmolpromise.then(function() {\n",
       "viewer_155208805754 = $3Dmol.createViewer($(\"#3dmolviewer_155208805754\"),{backgroundColor:\"white\"});\n",
       "\tviewer_155208805754.addModel(\"\\n     RDKit          3D\\n\\n 14 13  0  0  0  0  0  0  0  0999 V2000\\n    1.7325    0.0563    1.2485 O   0  0  0  0  0  0  0  0  0  0  0  0\\n    0.2432    0.2291   -0.6411 C   0  0  0  0  0  0  0  0  0  0  0  0\\n    1.6248    0.4102   -0.1062 C   0  0  0  0  0  0  0  0  0  0  0  0\\n   -2.1006   -0.2466   -0.2681 C   0  0  0  0  0  0  0  0  0  0  0  0\\n   -0.7177   -0.3804    0.3607 C   0  0  0  0  0  3  0  0  0  0  0  0\\n    0.1857   -0.4192   -1.5490 H   0  0  0  0  0  0  0  0  0  0  0  0\\n   -0.1834    1.2397   -0.8655 H   0  0  0  0  0  0  0  0  0  0  0  0\\n    1.9686    1.4686   -0.2124 H   0  0  0  0  0  0  0  0  0  0  0  0\\n    2.2927   -0.2973   -0.6607 H   0  0  0  0  0  0  0  0  0  0  0  0\\n   -2.9110   -0.3047    0.4675 H   0  0  0  0  0  0  0  0  0  0  0  0\\n   -2.1193    0.7234   -0.7787 H   0  0  0  0  0  0  0  0  0  0  0  0\\n   -2.1950   -1.0760   -1.0076 H   0  0  0  0  0  0  0  0  0  0  0  0\\n   -0.5343   -1.4542    0.5371 H   0  0  0  0  0  0  0  0  0  0  0  0\\n    2.7138    0.0512    1.4391 H   0  0  0  0  0  0  0  0  0  0  0  0\\n  1 14  1  0\\n  1  3  1  0\\n  2  7  1  0\\n  2  5  1  0\\n  2  6  1  0\\n  2  3  1  0\\n  3  9  1  0\\n  3  8  1  0\\n  4 11  1  0\\n  4 10  1  0\\n  4  5  1  0\\n  4 12  1  0\\n  5 13  1  0\\nM  RAD  1   5   2\\nM  END\\n\",\"sdf\");\n",
       "\tviewer_155208805754.setStyle({\"stick\": {}});\n",
       "\tviewer_155208805754.setBackgroundColor(\"0xeeeeee\");\n",
       "\tviewer_155208805754.zoomTo();\n",
       "viewer_155208805754.render();\n",
       "});\n",
       "</script>"
      ]
     },
     "metadata": {},
     "output_type": "display_data"
    },
    {
     "name": "stdout",
     "output_type": "stream",
     "text": [
      "/home/underkoffler.c/Code/Hindered_Rotors/C[CH]CCO/From_Workflow\n",
      "\n",
      "\n",
      "C[CH]CCO DBQZVPSKYUCKNT-UHFFFAOYSA-N-u2_72by10.0_tor02_a1.log\n",
      "<Torsion \"(13, 0, 2, 7)\">\n",
      "Steps:      72\n",
      "Step Size:  10.0\n",
      "Attempt:    1\n",
      "\n"
     ]
    },
    {
     "data": {
      "image/png": "[encoded data removed]",
      "text/plain": [
       "<Figure size 432x288 with 1 Axes>"
      ]
     },
     "metadata": {
      "needs_background": "light"
     },
     "output_type": "display_data"
    },
    {
     "name": "stdout",
     "output_type": "stream",
     "text": [
      "Continuous:   True\n",
      "\tGood Slope:   True\n",
      "\n",
      "Lowest Conf:  True\n",
      "=========================================================\n",
      "\n",
      "\n",
      "C[CH]CCO DBQZVPSKYUCKNT-UHFFFAOYSA-N-u2_72by10.0_tor02_a2.log\n",
      "C[CH]CCO DBQZVPSKYUCKNT-UHFFFAOYSA-N-u2_72by10.0_tor02_a3.log\n",
      "C[CH]CCO DBQZVPSKYUCKNT-UHFFFAOYSA-N-u2_72by10.0_tor02_a4.log\n",
      "\n",
      "\n",
      "C[CH]CCO DBQZVPSKYUCKNT-UHFFFAOYSA-N-u2_72by10.0_tor14_a1.log\n",
      "<Torsion \"(2, 1, 4, 12)\">\n",
      "Steps:      72\n",
      "Step Size:  10.0\n",
      "Attempt:    1\n",
      "\n"
     ]
    },
    {
     "data": {
      "image/png": "[encoded data removed]",
      "text/plain": [
       "<Figure size 432x288 with 1 Axes>"
      ]
     },
     "metadata": {
      "needs_background": "light"
     },
     "output_type": "display_data"
    },
    {
     "name": "stdout",
     "output_type": "stream",
     "text": [
      "Continuous:   True\n",
      "\tGood Slope:   False\n",
      "\n",
      "Lowest Conf:  False\n",
      "=========================================================\n",
      "\n",
      "\n",
      "C[CH]CCO DBQZVPSKYUCKNT-UHFFFAOYSA-N-u2_72by10.0_tor14_a2.log\n",
      "C[CH]CCO DBQZVPSKYUCKNT-UHFFFAOYSA-N-u2_72by10.0_tor14_a3.log\n",
      "C[CH]CCO DBQZVPSKYUCKNT-UHFFFAOYSA-N-u2_72by10.0_tor14_a4.log\n",
      "\n",
      "\n",
      "C[CH]CCO DBQZVPSKYUCKNT-UHFFFAOYSA-N-u2_72by10.0_tor12_a1.log\n",
      "<Torsion \"(5, 1, 2, 7)\">\n",
      "Steps:      72\n",
      "Step Size:  10.0\n",
      "Attempt:    1\n",
      "\n"
     ]
    },
    {
     "data": {
      "image/png": "[encoded data removed]",
      "text/plain": [
       "<Figure size 432x288 with 1 Axes>"
      ]
     },
     "metadata": {
      "needs_background": "light"
     },
     "output_type": "display_data"
    },
    {
     "name": "stdout",
     "output_type": "stream",
     "text": [
      "Continuous:   True\n",
      "\tGood Slope:   True\n",
      "\n",
      "Lowest Conf:  True\n",
      "=========================================================\n",
      "\n",
      "\n",
      "C[CH]CCO DBQZVPSKYUCKNT-UHFFFAOYSA-N-u2_72by10.0_tor12_a2.log\n",
      "C[CH]CCO DBQZVPSKYUCKNT-UHFFFAOYSA-N-u2_72by10.0_tor12_a3.log\n",
      "C[CH]CCO DBQZVPSKYUCKNT-UHFFFAOYSA-N-u2_72by10.0_tor12_a4.log\n",
      "\n",
      "\n",
      "C[CH]CCO DBQZVPSKYUCKNT-UHFFFAOYSA-N-u2_72by10.0_tor34_a1.log\n",
      "<Torsion \"(11, 3, 4, 12)\">\n",
      "Steps:      72\n",
      "Step Size:  10.0\n",
      "Attempt:    1\n",
      "\n"
     ]
    },
    {
     "data": {
      "image/png": "[encoded data removed]",
      "text/plain": [
       "<Figure size 432x288 with 1 Axes>"
      ]
     },
     "metadata": {
      "needs_background": "light"
     },
     "output_type": "display_data"
    },
    {
     "name": "stdout",
     "output_type": "stream",
     "text": [
      "Continuous:   True\n",
      "\tGood Slope:   False\n",
      "\n",
      "Lowest Conf:  True\n",
      "=========================================================\n",
      "\n",
      "\n",
      "C[CH]CCO DBQZVPSKYUCKNT-UHFFFAOYSA-N-u2_72by10.0_tor34_a2.log\n",
      "C[CH]CCO DBQZVPSKYUCKNT-UHFFFAOYSA-N-u2_72by10.0_tor34_a3.log\n",
      "C[CH]CCO DBQZVPSKYUCKNT-UHFFFAOYSA-N-u2_72by10.0_tor34_a4.log\n",
      "===================================================================\n",
      "\n",
      "\n"
     ]
    }
   ],
   "source": [
    "steps = 72\n",
    "step_size = 10.0\n",
    "\n",
    "Conf_list = []\n",
    "\n",
    "Rxn_list = None\n",
    "\n",
    "SMILES_list = [Master_SMILES_list[4]]\n",
    "print SMILES_list\n",
    "\n",
    "scan_progress(steps, step_size, Conf_list, SMILES_list=SMILES_list, Rxn_list=Rxn_list)"
   ]
  },
  {
   "cell_type": "code",
   "execution_count": 10,
   "metadata": {},
   "outputs": [
    {
     "name": "stdout",
     "output_type": "stream",
     "text": [
      "['[CH2]CCCO']\n"
     ]
    },
    {
     "data": {
      "application/3dmoljs_load.v0": "<div id=\"3dmolviewer_155208808367\"  style=\"position: relative; width: 600px; height: 600px\">\n        <p id=\"3dmolwarning_155208808367\" style=\"background-color:#ffcccc;color:black\">You appear to be running in JupyterLab.  You need to install the 3dmol extension: <br>\n        <tt>jupyter labextension install jupyterlab_3dmol</tt></p>\n        </div>\n<script>\n\nvar loadScriptAsync = function(uri){\n  return new Promise((resolve, reject) => {\n    var tag = document.createElement('script');\n    tag.src = uri;\n    tag.async = true;\n    tag.onload = () => {\n      resolve();\n    };\n  var firstScriptTag = document.getElementsByTagName('script')[0];\n  firstScriptTag.parentNode.insertBefore(tag, firstScriptTag);\n});\n};\n\nif(typeof $3Dmolpromise === 'undefined') {\n$3Dmolpromise = null;\n  $3Dmolpromise = loadScriptAsync('https://3dmol.csb.pitt.edu/build/3Dmol.js');\n}\n\nvar viewer_155208808367 = null;\nvar warn = document.getElementById(\"3dmolwarning_155208808367\");\nif(warn) {\n    warn.parentNode.removeChild(warn);\n}\n$3Dmolpromise.then(function() {\nviewer_155208808367 = $3Dmol.createViewer($(\"#3dmolviewer_155208808367\"),{backgroundColor:\"white\"});\n\tviewer_155208808367.addModel(\"\\n     RDKit          3D\\n\\n 14 13  0  0  0  0  0  0  0  0999 V2000\\n   -2.0657    0.7960   -0.0875 O   0  0  0  0  0  0  0  0  0  0  0  0\\n   -0.1082   -0.5981    0.1696 C   0  0  0  0  0  0  0  0  0  0  0  0\\n    0.7351    0.5903   -0.2017 C   0  0  0  0  0  0  0  0  0  0  0  0\\n   -1.5461   -0.4746   -0.2363 C   0  0  0  0  0  0  0  0  0  0  0  0\\n    2.1318    0.0798   -0.4201 C   0  0  0  0  0  3  0  0  0  0  0  0\\n    0.2967   -1.5192   -0.3141 H   0  0  0  0  0  0  0  0  0  0  0  0\\n   -0.0142   -0.7739    1.2637 H   0  0  0  0  0  0  0  0  0  0  0  0\\n    0.7932    1.2893    0.6703 H   0  0  0  0  0  0  0  0  0  0  0  0\\n    0.3513    1.1552   -1.0736 H   0  0  0  0  0  0  0  0  0  0  0  0\\n   -1.6894   -0.8721   -1.2515 H   0  0  0  0  0  0  0  0  0  0  0  0\\n   -2.1239   -1.1342    0.4522 H   0  0  0  0  0  0  0  0  0  0  0  0\\n    2.9214    0.7114   -0.0033 H   0  0  0  0  0  0  0  0  0  0  0  0\\n    2.3157   -0.3236   -1.4185 H   0  0  0  0  0  0  0  0  0  0  0  0\\n   -1.9976    1.0738    0.8538 H   0  0  0  0  0  0  0  0  0  0  0  0\\n  1 14  1  0\\n  1  4  1  0\\n  2  3  1  0\\n  2  7  1  0\\n  2  4  1  0\\n  2  6  1  0\\n  3  8  1  0\\n  3  5  1  0\\n  3  9  1  0\\n  4 10  1  0\\n  4 11  1  0\\n  5 13  1  0\\n  5 12  1  0\\nM  RAD  1   5   2\\nM  END\\n\",\"sdf\");\n\tviewer_155208808367.setStyle({\"stick\": {}});\n\tviewer_155208808367.setBackgroundColor(\"0xeeeeee\");\n\tviewer_155208808367.zoomTo();\nviewer_155208808367.render();\n});\n</script>",
      "text/html": [
       "<div id=\"3dmolviewer_155208808367\"  style=\"position: relative; width: 600px; height: 600px\">\n",
       "        <p id=\"3dmolwarning_155208808367\" style=\"background-color:#ffcccc;color:black\">You appear to be running in JupyterLab.  You need to install the 3dmol extension: <br>\n",
       "        <tt>jupyter labextension install jupyterlab_3dmol</tt></p>\n",
       "        </div>\n",
       "<script>\n",
       "\n",
       "var loadScriptAsync = function(uri){\n",
       "  return new Promise((resolve, reject) => {\n",
       "    var tag = document.createElement('script');\n",
       "    tag.src = uri;\n",
       "    tag.async = true;\n",
       "    tag.onload = () => {\n",
       "      resolve();\n",
       "    };\n",
       "  var firstScriptTag = document.getElementsByTagName('script')[0];\n",
       "  firstScriptTag.parentNode.insertBefore(tag, firstScriptTag);\n",
       "});\n",
       "};\n",
       "\n",
       "if(typeof $3Dmolpromise === 'undefined') {\n",
       "$3Dmolpromise = null;\n",
       "  $3Dmolpromise = loadScriptAsync('https://3dmol.csb.pitt.edu/build/3Dmol.js');\n",
       "}\n",
       "\n",
       "var viewer_155208808367 = null;\n",
       "var warn = document.getElementById(\"3dmolwarning_155208808367\");\n",
       "if(warn) {\n",
       "    warn.parentNode.removeChild(warn);\n",
       "}\n",
       "$3Dmolpromise.then(function() {\n",
       "viewer_155208808367 = $3Dmol.createViewer($(\"#3dmolviewer_155208808367\"),{backgroundColor:\"white\"});\n",
       "\tviewer_155208808367.addModel(\"\\n     RDKit          3D\\n\\n 14 13  0  0  0  0  0  0  0  0999 V2000\\n   -2.0657    0.7960   -0.0875 O   0  0  0  0  0  0  0  0  0  0  0  0\\n   -0.1082   -0.5981    0.1696 C   0  0  0  0  0  0  0  0  0  0  0  0\\n    0.7351    0.5903   -0.2017 C   0  0  0  0  0  0  0  0  0  0  0  0\\n   -1.5461   -0.4746   -0.2363 C   0  0  0  0  0  0  0  0  0  0  0  0\\n    2.1318    0.0798   -0.4201 C   0  0  0  0  0  3  0  0  0  0  0  0\\n    0.2967   -1.5192   -0.3141 H   0  0  0  0  0  0  0  0  0  0  0  0\\n   -0.0142   -0.7739    1.2637 H   0  0  0  0  0  0  0  0  0  0  0  0\\n    0.7932    1.2893    0.6703 H   0  0  0  0  0  0  0  0  0  0  0  0\\n    0.3513    1.1552   -1.0736 H   0  0  0  0  0  0  0  0  0  0  0  0\\n   -1.6894   -0.8721   -1.2515 H   0  0  0  0  0  0  0  0  0  0  0  0\\n   -2.1239   -1.1342    0.4522 H   0  0  0  0  0  0  0  0  0  0  0  0\\n    2.9214    0.7114   -0.0033 H   0  0  0  0  0  0  0  0  0  0  0  0\\n    2.3157   -0.3236   -1.4185 H   0  0  0  0  0  0  0  0  0  0  0  0\\n   -1.9976    1.0738    0.8538 H   0  0  0  0  0  0  0  0  0  0  0  0\\n  1 14  1  0\\n  1  4  1  0\\n  2  3  1  0\\n  2  7  1  0\\n  2  4  1  0\\n  2  6  1  0\\n  3  8  1  0\\n  3  5  1  0\\n  3  9  1  0\\n  4 10  1  0\\n  4 11  1  0\\n  5 13  1  0\\n  5 12  1  0\\nM  RAD  1   5   2\\nM  END\\n\",\"sdf\");\n",
       "\tviewer_155208808367.setStyle({\"stick\": {}});\n",
       "\tviewer_155208808367.setBackgroundColor(\"0xeeeeee\");\n",
       "\tviewer_155208808367.zoomTo();\n",
       "viewer_155208808367.render();\n",
       "});\n",
       "</script>"
      ]
     },
     "metadata": {},
     "output_type": "display_data"
    },
    {
     "name": "stdout",
     "output_type": "stream",
     "text": [
      "/home/underkoffler.c/Code/Hindered_Rotors/[CH2]CCCO/From_Workflow\n",
      "\n",
      "\n",
      "[CH2]CCCO SXIFAEWFOJETOA-UHFFFAOYSA-N-u1_72by10.0_tor03_a1.log\n",
      "<Torsion \"(13, 0, 3, 10)\">\n",
      "Steps:      72\n",
      "Step Size:  10.0\n",
      "Attempt:    1\n",
      "\n"
     ]
    },
    {
     "data": {
      "image/png": "[encoded data removed]",
      "text/plain": [
       "<Figure size 432x288 with 1 Axes>"
      ]
     },
     "metadata": {
      "needs_background": "light"
     },
     "output_type": "display_data"
    },
    {
     "name": "stdout",
     "output_type": "stream",
     "text": [
      "Continuous:   True\n",
      "\tGood Slope:   True\n",
      "\n",
      "Lowest Conf:  True\n",
      "=========================================================\n",
      "\n",
      "\n",
      "[CH2]CCCO SXIFAEWFOJETOA-UHFFFAOYSA-N-u1_72by10.0_tor03_a2.log\n",
      "[CH2]CCCO SXIFAEWFOJETOA-UHFFFAOYSA-N-u1_72by10.0_tor03_a3.log\n",
      "[CH2]CCCO SXIFAEWFOJETOA-UHFFFAOYSA-N-u1_72by10.0_tor03_a4.log\n",
      "\n",
      "\n",
      "[CH2]CCCO SXIFAEWFOJETOA-UHFFFAOYSA-N-u1_72by10.0_tor12_a1.log\n",
      "<Torsion \"(5, 1, 2, 8)\">\n",
      "Steps:      72\n",
      "Step Size:  10.0\n",
      "Attempt:    1\n",
      "\n"
     ]
    },
    {
     "data": {
      "image/png": "[encoded data removed]",
      "text/plain": [
       "<Figure size 432x288 with 1 Axes>"
      ]
     },
     "metadata": {
      "needs_background": "light"
     },
     "output_type": "display_data"
    },
    {
     "name": "stdout",
     "output_type": "stream",
     "text": [
      "Continuous:   True\n",
      "\tGood Slope:   True\n",
      "\n",
      "Lowest Conf:  True\n",
      "=========================================================\n",
      "\n",
      "\n",
      "[CH2]CCCO SXIFAEWFOJETOA-UHFFFAOYSA-N-u1_72by10.0_tor12_a2.log\n",
      "[CH2]CCCO SXIFAEWFOJETOA-UHFFFAOYSA-N-u1_72by10.0_tor12_a3.log\n",
      "[CH2]CCCO SXIFAEWFOJETOA-UHFFFAOYSA-N-u1_72by10.0_tor12_a4.log\n",
      "\n",
      "\n",
      "[CH2]CCCO SXIFAEWFOJETOA-UHFFFAOYSA-N-u1_72by10.0_tor13_a1.log\n",
      "<Torsion \"(5, 1, 3, 10)\">\n",
      "Steps:      72\n",
      "Step Size:  10.0\n",
      "Attempt:    1\n",
      "\n"
     ]
    },
    {
     "data": {
      "image/png": "[encoded data removed]",
      "text/plain": [
       "<Figure size 432x288 with 1 Axes>"
      ]
     },
     "metadata": {
      "needs_background": "light"
     },
     "output_type": "display_data"
    },
    {
     "name": "stdout",
     "output_type": "stream",
     "text": [
      "Continuous:   True\n",
      "\tGood Slope:   True\n",
      "\n",
      "Lowest Conf:  True\n",
      "=========================================================\n",
      "\n",
      "\n",
      "[CH2]CCCO SXIFAEWFOJETOA-UHFFFAOYSA-N-u1_72by10.0_tor13_a2.log\n",
      "[CH2]CCCO SXIFAEWFOJETOA-UHFFFAOYSA-N-u1_72by10.0_tor13_a3.log\n",
      "[CH2]CCCO SXIFAEWFOJETOA-UHFFFAOYSA-N-u1_72by10.0_tor13_a4.log\n",
      "\n",
      "\n",
      "[CH2]CCCO SXIFAEWFOJETOA-UHFFFAOYSA-N-u1_72by10.0_tor24_a1.log\n",
      "<Torsion \"(8, 2, 4, 11)\">\n",
      "Steps:      72\n",
      "Step Size:  10.0\n",
      "Attempt:    1\n",
      "\n"
     ]
    },
    {
     "data": {
      "image/png": "[encoded data removed]",
      "text/plain": [
       "<Figure size 432x288 with 1 Axes>"
      ]
     },
     "metadata": {
      "needs_background": "light"
     },
     "output_type": "display_data"
    },
    {
     "name": "stdout",
     "output_type": "stream",
     "text": [
      "Continuous:   True\n",
      "\tGood Slope:   False\n",
      "\n",
      "Lowest Conf:  True\n",
      "=========================================================\n",
      "\n",
      "\n",
      "[CH2]CCCO SXIFAEWFOJETOA-UHFFFAOYSA-N-u1_72by10.0_tor24_a2.log\n",
      "[CH2]CCCO SXIFAEWFOJETOA-UHFFFAOYSA-N-u1_72by10.0_tor24_a3.log\n",
      "[CH2]CCCO SXIFAEWFOJETOA-UHFFFAOYSA-N-u1_72by10.0_tor24_a4.log\n",
      "===================================================================\n",
      "\n",
      "\n"
     ]
    }
   ],
   "source": [
    "steps = 72\n",
    "step_size = 10.0\n",
    "\n",
    "Conf_list = []\n",
    "\n",
    "Rxn_list = None\n",
    "\n",
    "SMILES_list = [Master_SMILES_list[5]]\n",
    "print SMILES_list\n",
    "\n",
    "scan_progress(steps, step_size, Conf_list, SMILES_list=SMILES_list, Rxn_list=Rxn_list)"
   ]
  },
  {
   "cell_type": "code",
   "execution_count": 11,
   "metadata": {
    "scrolled": true
   },
   "outputs": [
    {
     "name": "stdout",
     "output_type": "stream",
     "text": [
      "['CCOC']\n"
     ]
    },
    {
     "data": {
      "application/3dmoljs_load.v0": "<div id=\"3dmolviewer_155208810765\"  style=\"position: relative; width: 600px; height: 600px\">\n        <p id=\"3dmolwarning_155208810765\" style=\"background-color:#ffcccc;color:black\">You appear to be running in JupyterLab.  You need to install the 3dmol extension: <br>\n        <tt>jupyter labextension install jupyterlab_3dmol</tt></p>\n        </div>\n<script>\n\nvar loadScriptAsync = function(uri){\n  return new Promise((resolve, reject) => {\n    var tag = document.createElement('script');\n    tag.src = uri;\n    tag.async = true;\n    tag.onload = () => {\n      resolve();\n    };\n  var firstScriptTag = document.getElementsByTagName('script')[0];\n  firstScriptTag.parentNode.insertBefore(tag, firstScriptTag);\n});\n};\n\nif(typeof $3Dmolpromise === 'undefined') {\n$3Dmolpromise = null;\n  $3Dmolpromise = loadScriptAsync('https://3dmol.csb.pitt.edu/build/3Dmol.js');\n}\n\nvar viewer_155208810765 = null;\nvar warn = document.getElementById(\"3dmolwarning_155208810765\");\nif(warn) {\n    warn.parentNode.removeChild(warn);\n}\n$3Dmolpromise.then(function() {\nviewer_155208810765 = $3Dmol.createViewer($(\"#3dmolviewer_155208810765\"),{backgroundColor:\"white\"});\n\tviewer_155208810765.addModel(\"\\n     RDKit          3D\\n\\n 12 11  0  0  0  0  0  0  0  0999 V2000\\n    0.6225    0.5271   -0.4310 O   0  0  0  0  0  0  0  0  0  0  0  0\\n   -0.4015   -0.2580    0.0719 C   0  0  0  0  0  0  0  0  0  0  0  0\\n   -1.6589    0.5073    0.3675 C   0  0  0  0  0  0  0  0  0  0  0  0\\n    1.8141   -0.0921   -0.0538 C   0  0  0  0  0  0  0  0  0  0  0  0\\n   -0.0518   -0.7975    0.9880 H   0  0  0  0  0  0  0  0  0  0  0  0\\n   -0.6213   -1.0289   -0.7082 H   0  0  0  0  0  0  0  0  0  0  0  0\\n   -1.5235    1.6049    0.2972 H   0  0  0  0  0  0  0  0  0  0  0  0\\n   -2.4434    0.2447   -0.3689 H   0  0  0  0  0  0  0  0  0  0  0  0\\n   -2.0409    0.1869    1.3668 H   0  0  0  0  0  0  0  0  0  0  0  0\\n    1.6816   -1.1971   -0.1414 H   0  0  0  0  0  0  0  0  0  0  0  0\\n    2.6639    0.2112   -0.6742 H   0  0  0  0  0  0  0  0  0  0  0  0\\n    1.9592    0.0916    1.0372 H   0  0  0  0  0  0  0  0  0  0  0  0\\n  1  4  1  0\\n  1  2  1  0\\n  2  3  1  0\\n  2  5  1  0\\n  2  6  1  0\\n  3  7  1  0\\n  3  9  1  0\\n  3  8  1  0\\n  4 10  1  0\\n  4 11  1  0\\n  4 12  1  0\\nM  END\\n\",\"sdf\");\n\tviewer_155208810765.setStyle({\"stick\": {}});\n\tviewer_155208810765.setBackgroundColor(\"0xeeeeee\");\n\tviewer_155208810765.zoomTo();\nviewer_155208810765.render();\n});\n</script>",
      "text/html": [
       "<div id=\"3dmolviewer_155208810765\"  style=\"position: relative; width: 600px; height: 600px\">\n",
       "        <p id=\"3dmolwarning_155208810765\" style=\"background-color:#ffcccc;color:black\">You appear to be running in JupyterLab.  You need to install the 3dmol extension: <br>\n",
       "        <tt>jupyter labextension install jupyterlab_3dmol</tt></p>\n",
       "        </div>\n",
       "<script>\n",
       "\n",
       "var loadScriptAsync = function(uri){\n",
       "  return new Promise((resolve, reject) => {\n",
       "    var tag = document.createElement('script');\n",
       "    tag.src = uri;\n",
       "    tag.async = true;\n",
       "    tag.onload = () => {\n",
       "      resolve();\n",
       "    };\n",
       "  var firstScriptTag = document.getElementsByTagName('script')[0];\n",
       "  firstScriptTag.parentNode.insertBefore(tag, firstScriptTag);\n",
       "});\n",
       "};\n",
       "\n",
       "if(typeof $3Dmolpromise === 'undefined') {\n",
       "$3Dmolpromise = null;\n",
       "  $3Dmolpromise = loadScriptAsync('https://3dmol.csb.pitt.edu/build/3Dmol.js');\n",
       "}\n",
       "\n",
       "var viewer_155208810765 = null;\n",
       "var warn = document.getElementById(\"3dmolwarning_155208810765\");\n",
       "if(warn) {\n",
       "    warn.parentNode.removeChild(warn);\n",
       "}\n",
       "$3Dmolpromise.then(function() {\n",
       "viewer_155208810765 = $3Dmol.createViewer($(\"#3dmolviewer_155208810765\"),{backgroundColor:\"white\"});\n",
       "\tviewer_155208810765.addModel(\"\\n     RDKit          3D\\n\\n 12 11  0  0  0  0  0  0  0  0999 V2000\\n    0.6225    0.5271   -0.4310 O   0  0  0  0  0  0  0  0  0  0  0  0\\n   -0.4015   -0.2580    0.0719 C   0  0  0  0  0  0  0  0  0  0  0  0\\n   -1.6589    0.5073    0.3675 C   0  0  0  0  0  0  0  0  0  0  0  0\\n    1.8141   -0.0921   -0.0538 C   0  0  0  0  0  0  0  0  0  0  0  0\\n   -0.0518   -0.7975    0.9880 H   0  0  0  0  0  0  0  0  0  0  0  0\\n   -0.6213   -1.0289   -0.7082 H   0  0  0  0  0  0  0  0  0  0  0  0\\n   -1.5235    1.6049    0.2972 H   0  0  0  0  0  0  0  0  0  0  0  0\\n   -2.4434    0.2447   -0.3689 H   0  0  0  0  0  0  0  0  0  0  0  0\\n   -2.0409    0.1869    1.3668 H   0  0  0  0  0  0  0  0  0  0  0  0\\n    1.6816   -1.1971   -0.1414 H   0  0  0  0  0  0  0  0  0  0  0  0\\n    2.6639    0.2112   -0.6742 H   0  0  0  0  0  0  0  0  0  0  0  0\\n    1.9592    0.0916    1.0372 H   0  0  0  0  0  0  0  0  0  0  0  0\\n  1  4  1  0\\n  1  2  1  0\\n  2  3  1  0\\n  2  5  1  0\\n  2  6  1  0\\n  3  7  1  0\\n  3  9  1  0\\n  3  8  1  0\\n  4 10  1  0\\n  4 11  1  0\\n  4 12  1  0\\nM  END\\n\",\"sdf\");\n",
       "\tviewer_155208810765.setStyle({\"stick\": {}});\n",
       "\tviewer_155208810765.setBackgroundColor(\"0xeeeeee\");\n",
       "\tviewer_155208810765.zoomTo();\n",
       "viewer_155208810765.render();\n",
       "});\n",
       "</script>"
      ]
     },
     "metadata": {},
     "output_type": "display_data"
    },
    {
     "name": "stdout",
     "output_type": "stream",
     "text": [
      "/home/underkoffler.c/Code/Hindered_Rotors/CCOC/From_Workflow\n",
      "\n",
      "\n",
      "CCOC XOBKSJJDNFUZPF-UHFFFAOYSA-N_72by10.0_tor03_a1.log\n",
      "<Torsion \"(1, 0, 3, 11)\">\n",
      "Steps:      72\n",
      "Step Size:  10.0\n",
      "Attempt:    1\n",
      "\n"
     ]
    },
    {
     "data": {
      "image/png": "[encoded data removed]",
      "text/plain": [
       "<Figure size 432x288 with 1 Axes>"
      ]
     },
     "metadata": {
      "needs_background": "light"
     },
     "output_type": "display_data"
    },
    {
     "name": "stdout",
     "output_type": "stream",
     "text": [
      "Continuous:   True\n",
      "\tGood Slope:   True\n",
      "\n",
      "Lowest Conf:  True\n",
      "=========================================================\n",
      "\n",
      "\n",
      "CCOC XOBKSJJDNFUZPF-UHFFFAOYSA-N_72by10.0_tor03_a2.log\n",
      "CCOC XOBKSJJDNFUZPF-UHFFFAOYSA-N_72by10.0_tor03_a3.log\n",
      "CCOC XOBKSJJDNFUZPF-UHFFFAOYSA-N_72by10.0_tor03_a4.log\n",
      "\n",
      "\n",
      "CCOC XOBKSJJDNFUZPF-UHFFFAOYSA-N_72by10.0_tor01_a1.log\n",
      "<Torsion \"(3, 0, 1, 5)\">\n",
      "Steps:      72\n",
      "Step Size:  10.0\n",
      "Attempt:    1\n",
      "\n"
     ]
    },
    {
     "data": {
      "image/png": "[encoded data removed]",
      "text/plain": [
       "<Figure size 432x288 with 1 Axes>"
      ]
     },
     "metadata": {
      "needs_background": "light"
     },
     "output_type": "display_data"
    },
    {
     "name": "stdout",
     "output_type": "stream",
     "text": [
      "Continuous:   True\n",
      "\tGood Slope:   True\n",
      "\n",
      "Lowest Conf:  True\n",
      "=========================================================\n",
      "\n",
      "\n",
      "CCOC XOBKSJJDNFUZPF-UHFFFAOYSA-N_72by10.0_tor01_a2.log\n",
      "CCOC XOBKSJJDNFUZPF-UHFFFAOYSA-N_72by10.0_tor01_a3.log\n",
      "CCOC XOBKSJJDNFUZPF-UHFFFAOYSA-N_72by10.0_tor01_a4.log\n",
      "\n",
      "\n",
      "CCOC XOBKSJJDNFUZPF-UHFFFAOYSA-N_72by10.0_tor12_a1.log\n",
      "<Torsion \"(5, 1, 2, 7)\">\n",
      "Steps:      72\n",
      "Step Size:  10.0\n",
      "Attempt:    1\n",
      "\n"
     ]
    },
    {
     "data": {
      "image/png": "[encoded data removed]",
      "text/plain": [
       "<Figure size 432x288 with 1 Axes>"
      ]
     },
     "metadata": {
      "needs_background": "light"
     },
     "output_type": "display_data"
    },
    {
     "name": "stdout",
     "output_type": "stream",
     "text": [
      "Continuous:   True\n",
      "\tGood Slope:   True\n",
      "\n",
      "Lowest Conf:  True\n",
      "=========================================================\n",
      "\n",
      "\n",
      "CCOC XOBKSJJDNFUZPF-UHFFFAOYSA-N_72by10.0_tor12_a2.log\n",
      "CCOC XOBKSJJDNFUZPF-UHFFFAOYSA-N_72by10.0_tor12_a3.log\n",
      "CCOC XOBKSJJDNFUZPF-UHFFFAOYSA-N_72by10.0_tor12_a4.log\n",
      "===================================================================\n",
      "\n",
      "\n"
     ]
    }
   ],
   "source": [
    "steps = 72\n",
    "step_size = 10.0\n",
    "\n",
    "Conf_list = []\n",
    "\n",
    "Rxn_list = None\n",
    "\n",
    "SMILES_list = [Master_SMILES_list[6]]\n",
    "print SMILES_list\n",
    "\n",
    "scan_progress(steps, step_size, Conf_list, SMILES_list=SMILES_list, Rxn_list=Rxn_list)"
   ]
  },
  {
   "cell_type": "code",
   "execution_count": 12,
   "metadata": {
    "scrolled": false
   },
   "outputs": [
    {
     "name": "stdout",
     "output_type": "stream",
     "text": [
      "['C[CH]OC']\n"
     ]
    },
    {
     "data": {
      "application/3dmoljs_load.v0": "<div id=\"3dmolviewer_155208811774\"  style=\"position: relative; width: 600px; height: 600px\">\n        <p id=\"3dmolwarning_155208811774\" style=\"background-color:#ffcccc;color:black\">You appear to be running in JupyterLab.  You need to install the 3dmol extension: <br>\n        <tt>jupyter labextension install jupyterlab_3dmol</tt></p>\n        </div>\n<script>\n\nvar loadScriptAsync = function(uri){\n  return new Promise((resolve, reject) => {\n    var tag = document.createElement('script');\n    tag.src = uri;\n    tag.async = true;\n    tag.onload = () => {\n      resolve();\n    };\n  var firstScriptTag = document.getElementsByTagName('script')[0];\n  firstScriptTag.parentNode.insertBefore(tag, firstScriptTag);\n});\n};\n\nif(typeof $3Dmolpromise === 'undefined') {\n$3Dmolpromise = null;\n  $3Dmolpromise = loadScriptAsync('https://3dmol.csb.pitt.edu/build/3Dmol.js');\n}\n\nvar viewer_155208811774 = null;\nvar warn = document.getElementById(\"3dmolwarning_155208811774\");\nif(warn) {\n    warn.parentNode.removeChild(warn);\n}\n$3Dmolpromise.then(function() {\nviewer_155208811774 = $3Dmol.createViewer($(\"#3dmolviewer_155208811774\"),{backgroundColor:\"white\"});\n\tviewer_155208811774.addModel(\"\\n     RDKit          3D\\n\\n 11 10  0  0  0  0  0  0  0  0999 V2000\\n    0.4721   -0.1750   -0.8635 O   0  0  0  0  0  0  0  0  0  0  0  0\\n   -1.8107   -0.1308   -0.1742 C   0  0  0  0  0  0  0  0  0  0  0  0\\n    1.7641    0.1532   -0.5404 C   0  0  0  0  0  0  0  0  0  0  0  0\\n   -0.3781   -0.3919    0.1755 C   0  0  0  0  0  3  0  0  0  0  0  0\\n   -1.8756    0.8259   -0.7514 H   0  0  0  0  0  0  0  0  0  0  0  0\\n   -2.4460   -0.0456    0.7342 H   0  0  0  0  0  0  0  0  0  0  0  0\\n   -2.1506   -0.9968   -0.7974 H   0  0  0  0  0  0  0  0  0  0  0  0\\n    2.4027   -0.6888   -0.2402 H   0  0  0  0  0  0  0  0  0  0  0  0\\n    1.8633    0.9475    0.2263 H   0  0  0  0  0  0  0  0  0  0  0  0\\n    2.2218    0.5758   -1.4712 H   0  0  0  0  0  0  0  0  0  0  0  0\\n   -0.0632   -0.0734    1.1639 H   0  0  0  0  0  0  0  0  0  0  0  0\\n  1  3  1  0\\n  1  4  1  0\\n  2  5  1  0\\n  2  7  1  0\\n  2  4  1  0\\n  2  6  1  0\\n  3  9  1  0\\n  3 10  1  0\\n  3  8  1  0\\n  4 11  1  0\\nM  RAD  1   4   2\\nM  END\\n\",\"sdf\");\n\tviewer_155208811774.setStyle({\"stick\": {}});\n\tviewer_155208811774.setBackgroundColor(\"0xeeeeee\");\n\tviewer_155208811774.zoomTo();\nviewer_155208811774.render();\n});\n</script>",
      "text/html": [
       "<div id=\"3dmolviewer_155208811774\"  style=\"position: relative; width: 600px; height: 600px\">\n",
       "        <p id=\"3dmolwarning_155208811774\" style=\"background-color:#ffcccc;color:black\">You appear to be running in JupyterLab.  You need to install the 3dmol extension: <br>\n",
       "        <tt>jupyter labextension install jupyterlab_3dmol</tt></p>\n",
       "        </div>\n",
       "<script>\n",
       "\n",
       "var loadScriptAsync = function(uri){\n",
       "  return new Promise((resolve, reject) => {\n",
       "    var tag = document.createElement('script');\n",
       "    tag.src = uri;\n",
       "    tag.async = true;\n",
       "    tag.onload = () => {\n",
       "      resolve();\n",
       "    };\n",
       "  var firstScriptTag = document.getElementsByTagName('script')[0];\n",
       "  firstScriptTag.parentNode.insertBefore(tag, firstScriptTag);\n",
       "});\n",
       "};\n",
       "\n",
       "if(typeof $3Dmolpromise === 'undefined') {\n",
       "$3Dmolpromise = null;\n",
       "  $3Dmolpromise = loadScriptAsync('https://3dmol.csb.pitt.edu/build/3Dmol.js');\n",
       "}\n",
       "\n",
       "var viewer_155208811774 = null;\n",
       "var warn = document.getElementById(\"3dmolwarning_155208811774\");\n",
       "if(warn) {\n",
       "    warn.parentNode.removeChild(warn);\n",
       "}\n",
       "$3Dmolpromise.then(function() {\n",
       "viewer_155208811774 = $3Dmol.createViewer($(\"#3dmolviewer_155208811774\"),{backgroundColor:\"white\"});\n",
       "\tviewer_155208811774.addModel(\"\\n     RDKit          3D\\n\\n 11 10  0  0  0  0  0  0  0  0999 V2000\\n    0.4721   -0.1750   -0.8635 O   0  0  0  0  0  0  0  0  0  0  0  0\\n   -1.8107   -0.1308   -0.1742 C   0  0  0  0  0  0  0  0  0  0  0  0\\n    1.7641    0.1532   -0.5404 C   0  0  0  0  0  0  0  0  0  0  0  0\\n   -0.3781   -0.3919    0.1755 C   0  0  0  0  0  3  0  0  0  0  0  0\\n   -1.8756    0.8259   -0.7514 H   0  0  0  0  0  0  0  0  0  0  0  0\\n   -2.4460   -0.0456    0.7342 H   0  0  0  0  0  0  0  0  0  0  0  0\\n   -2.1506   -0.9968   -0.7974 H   0  0  0  0  0  0  0  0  0  0  0  0\\n    2.4027   -0.6888   -0.2402 H   0  0  0  0  0  0  0  0  0  0  0  0\\n    1.8633    0.9475    0.2263 H   0  0  0  0  0  0  0  0  0  0  0  0\\n    2.2218    0.5758   -1.4712 H   0  0  0  0  0  0  0  0  0  0  0  0\\n   -0.0632   -0.0734    1.1639 H   0  0  0  0  0  0  0  0  0  0  0  0\\n  1  3  1  0\\n  1  4  1  0\\n  2  5  1  0\\n  2  7  1  0\\n  2  4  1  0\\n  2  6  1  0\\n  3  9  1  0\\n  3 10  1  0\\n  3  8  1  0\\n  4 11  1  0\\nM  RAD  1   4   2\\nM  END\\n\",\"sdf\");\n",
       "\tviewer_155208811774.setStyle({\"stick\": {}});\n",
       "\tviewer_155208811774.setBackgroundColor(\"0xeeeeee\");\n",
       "\tviewer_155208811774.zoomTo();\n",
       "viewer_155208811774.render();\n",
       "});\n",
       "</script>"
      ]
     },
     "metadata": {},
     "output_type": "display_data"
    },
    {
     "name": "stdout",
     "output_type": "stream",
     "text": [
      "/home/underkoffler.c/Code/Hindered_Rotors/C[CH]OC/From_Workflow\n",
      "\n",
      "\n",
      "C[CH]OC JQCSUVJDBHJKNG-UHFFFAOYSA-N-u3_72by10.0_tor02_a1.log\n",
      "<Torsion \"(3, 0, 2, 7)\">\n",
      "Steps:      72\n",
      "Step Size:  10.0\n",
      "Attempt:    1\n",
      "\n"
     ]
    },
    {
     "data": {
      "image/png": "[encoded data removed]",
      "text/plain": [
       "<Figure size 432x288 with 1 Axes>"
      ]
     },
     "metadata": {
      "needs_background": "light"
     },
     "output_type": "display_data"
    },
    {
     "name": "stdout",
     "output_type": "stream",
     "text": [
      "Continuous:   True\n",
      "\tGood Slope:   True\n",
      "\n",
      "Lowest Conf:  True\n",
      "=========================================================\n",
      "\n",
      "\n",
      "C[CH]OC JQCSUVJDBHJKNG-UHFFFAOYSA-N-u3_72by10.0_tor02_a2.log\n",
      "C[CH]OC JQCSUVJDBHJKNG-UHFFFAOYSA-N-u3_72by10.0_tor02_a3.log\n",
      "C[CH]OC JQCSUVJDBHJKNG-UHFFFAOYSA-N-u3_72by10.0_tor02_a4.log\n",
      "\n",
      "\n",
      "C[CH]OC JQCSUVJDBHJKNG-UHFFFAOYSA-N-u3_72by10.0_tor03_a1.log\n",
      "<Torsion \"(2, 0, 3, 10)\">\n",
      "Steps:      72\n",
      "Step Size:  10.0\n",
      "Attempt:    1\n",
      "\n"
     ]
    },
    {
     "data": {
      "image/png": "[encoded data removed]",
      "text/plain": [
       "<Figure size 432x288 with 1 Axes>"
      ]
     },
     "metadata": {
      "needs_background": "light"
     },
     "output_type": "display_data"
    },
    {
     "name": "stdout",
     "output_type": "stream",
     "text": [
      "Continuous:   True\n",
      "\tGood Slope:   False\n",
      "\n",
      "Lowest Conf:  True\n",
      "=========================================================\n",
      "\n",
      "\n",
      "C[CH]OC JQCSUVJDBHJKNG-UHFFFAOYSA-N-u3_72by10.0_tor03_a2.log\n",
      "C[CH]OC JQCSUVJDBHJKNG-UHFFFAOYSA-N-u3_72by10.0_tor03_a3.log\n",
      "C[CH]OC JQCSUVJDBHJKNG-UHFFFAOYSA-N-u3_72by10.0_tor03_a4.log\n",
      "\n",
      "\n",
      "C[CH]OC JQCSUVJDBHJKNG-UHFFFAOYSA-N-u3_72by10.0_tor13_a1.log\n",
      "<Torsion \"(5, 1, 3, 10)\">\n",
      "Steps:      72\n",
      "Step Size:  10.0\n",
      "Attempt:    1\n",
      "\n"
     ]
    },
    {
     "data": {
      "image/png": "[encoded data removed]",
      "text/plain": [
       "<Figure size 432x288 with 1 Axes>"
      ]
     },
     "metadata": {
      "needs_background": "light"
     },
     "output_type": "display_data"
    },
    {
     "name": "stdout",
     "output_type": "stream",
     "text": [
      "Continuous:   True\n",
      "\tGood Slope:   False\n",
      "\n",
      "Lowest Conf:  True\n",
      "=========================================================\n",
      "\n",
      "\n",
      "C[CH]OC JQCSUVJDBHJKNG-UHFFFAOYSA-N-u3_72by10.0_tor13_a2.log\n",
      "C[CH]OC JQCSUVJDBHJKNG-UHFFFAOYSA-N-u3_72by10.0_tor13_a3.log\n",
      "C[CH]OC JQCSUVJDBHJKNG-UHFFFAOYSA-N-u3_72by10.0_tor13_a4.log\n",
      "===================================================================\n",
      "\n",
      "\n"
     ]
    }
   ],
   "source": [
    "steps = 72\n",
    "step_size = 10.0\n",
    "\n",
    "Conf_list = []\n",
    "\n",
    "Rxn_list = None\n",
    "\n",
    "SMILES_list = [Master_SMILES_list[7]]\n",
    "print SMILES_list\n",
    "\n",
    "scan_progress(steps, step_size, Conf_list, SMILES_list=SMILES_list, Rxn_list=Rxn_list)"
   ]
  },
  {
   "cell_type": "code",
   "execution_count": 13,
   "metadata": {
    "scrolled": true
   },
   "outputs": [
    {
     "name": "stdout",
     "output_type": "stream",
     "text": [
      "['CCO[CH2]']\n"
     ]
    },
    {
     "data": {
      "application/3dmoljs_load.v0": "<div id=\"3dmolviewer_155208813227\"  style=\"position: relative; width: 600px; height: 600px\">\n        <p id=\"3dmolwarning_155208813227\" style=\"background-color:#ffcccc;color:black\">You appear to be running in JupyterLab.  You need to install the 3dmol extension: <br>\n        <tt>jupyter labextension install jupyterlab_3dmol</tt></p>\n        </div>\n<script>\n\nvar loadScriptAsync = function(uri){\n  return new Promise((resolve, reject) => {\n    var tag = document.createElement('script');\n    tag.src = uri;\n    tag.async = true;\n    tag.onload = () => {\n      resolve();\n    };\n  var firstScriptTag = document.getElementsByTagName('script')[0];\n  firstScriptTag.parentNode.insertBefore(tag, firstScriptTag);\n});\n};\n\nif(typeof $3Dmolpromise === 'undefined') {\n$3Dmolpromise = null;\n  $3Dmolpromise = loadScriptAsync('https://3dmol.csb.pitt.edu/build/3Dmol.js');\n}\n\nvar viewer_155208813227 = null;\nvar warn = document.getElementById(\"3dmolwarning_155208813227\");\nif(warn) {\n    warn.parentNode.removeChild(warn);\n}\n$3Dmolpromise.then(function() {\nviewer_155208813227 = $3Dmol.createViewer($(\"#3dmolviewer_155208813227\"),{backgroundColor:\"white\"});\n\tviewer_155208813227.addModel(\"\\n     RDKit          3D\\n\\n 11 10  0  0  0  0  0  0  0  0999 V2000\\n    0.5638    1.0527    0.0988 O   0  0  0  0  0  0  0  0  0  0  0  0\\n   -0.0666   -0.1729    0.0402 C   0  0  0  0  0  0  0  0  0  0  0  0\\n   -1.5185   -0.1089   -0.3193 C   0  0  0  0  0  0  0  0  0  0  0  0\\n    1.9089    0.7682    0.3922 C   0  0  0  0  0  3  0  0  0  0  0  0\\n    0.4323   -0.7688   -0.7456 H   0  0  0  0  0  0  0  0  0  0  0  0\\n    0.1429   -0.6935    0.9956 H   0  0  0  0  0  0  0  0  0  0  0  0\\n   -2.0748   -0.7345    0.4239 H   0  0  0  0  0  0  0  0  0  0  0  0\\n   -1.7499   -0.5361   -1.3207 H   0  0  0  0  0  0  0  0  0  0  0  0\\n   -1.9582    0.8981   -0.2591 H   0  0  0  0  0  0  0  0  0  0  0  0\\n    2.4124    0.3049   -0.4943 H   0  0  0  0  0  0  0  0  0  0  0  0\\n    1.9078   -0.0093    1.1885 H   0  0  0  0  0  0  0  0  0  0  0  0\\n  1  2  1  0\\n  1  4  1  0\\n  2  5  1  0\\n  2  3  1  0\\n  2  6  1  0\\n  3  9  1  0\\n  3  8  1  0\\n  3  7  1  0\\n  4 11  1  0\\n  4 10  1  0\\nM  RAD  1   4   2\\nM  END\\n\",\"sdf\");\n\tviewer_155208813227.setStyle({\"stick\": {}});\n\tviewer_155208813227.setBackgroundColor(\"0xeeeeee\");\n\tviewer_155208813227.zoomTo();\nviewer_155208813227.render();\n});\n</script>",
      "text/html": [
       "<div id=\"3dmolviewer_155208813227\"  style=\"position: relative; width: 600px; height: 600px\">\n",
       "        <p id=\"3dmolwarning_155208813227\" style=\"background-color:#ffcccc;color:black\">You appear to be running in JupyterLab.  You need to install the 3dmol extension: <br>\n",
       "        <tt>jupyter labextension install jupyterlab_3dmol</tt></p>\n",
       "        </div>\n",
       "<script>\n",
       "\n",
       "var loadScriptAsync = function(uri){\n",
       "  return new Promise((resolve, reject) => {\n",
       "    var tag = document.createElement('script');\n",
       "    tag.src = uri;\n",
       "    tag.async = true;\n",
       "    tag.onload = () => {\n",
       "      resolve();\n",
       "    };\n",
       "  var firstScriptTag = document.getElementsByTagName('script')[0];\n",
       "  firstScriptTag.parentNode.insertBefore(tag, firstScriptTag);\n",
       "});\n",
       "};\n",
       "\n",
       "if(typeof $3Dmolpromise === 'undefined') {\n",
       "$3Dmolpromise = null;\n",
       "  $3Dmolpromise = loadScriptAsync('https://3dmol.csb.pitt.edu/build/3Dmol.js');\n",
       "}\n",
       "\n",
       "var viewer_155208813227 = null;\n",
       "var warn = document.getElementById(\"3dmolwarning_155208813227\");\n",
       "if(warn) {\n",
       "    warn.parentNode.removeChild(warn);\n",
       "}\n",
       "$3Dmolpromise.then(function() {\n",
       "viewer_155208813227 = $3Dmol.createViewer($(\"#3dmolviewer_155208813227\"),{backgroundColor:\"white\"});\n",
       "\tviewer_155208813227.addModel(\"\\n     RDKit          3D\\n\\n 11 10  0  0  0  0  0  0  0  0999 V2000\\n    0.5638    1.0527    0.0988 O   0  0  0  0  0  0  0  0  0  0  0  0\\n   -0.0666   -0.1729    0.0402 C   0  0  0  0  0  0  0  0  0  0  0  0\\n   -1.5185   -0.1089   -0.3193 C   0  0  0  0  0  0  0  0  0  0  0  0\\n    1.9089    0.7682    0.3922 C   0  0  0  0  0  3  0  0  0  0  0  0\\n    0.4323   -0.7688   -0.7456 H   0  0  0  0  0  0  0  0  0  0  0  0\\n    0.1429   -0.6935    0.9956 H   0  0  0  0  0  0  0  0  0  0  0  0\\n   -2.0748   -0.7345    0.4239 H   0  0  0  0  0  0  0  0  0  0  0  0\\n   -1.7499   -0.5361   -1.3207 H   0  0  0  0  0  0  0  0  0  0  0  0\\n   -1.9582    0.8981   -0.2591 H   0  0  0  0  0  0  0  0  0  0  0  0\\n    2.4124    0.3049   -0.4943 H   0  0  0  0  0  0  0  0  0  0  0  0\\n    1.9078   -0.0093    1.1885 H   0  0  0  0  0  0  0  0  0  0  0  0\\n  1  2  1  0\\n  1  4  1  0\\n  2  5  1  0\\n  2  3  1  0\\n  2  6  1  0\\n  3  9  1  0\\n  3  8  1  0\\n  3  7  1  0\\n  4 11  1  0\\n  4 10  1  0\\nM  RAD  1   4   2\\nM  END\\n\",\"sdf\");\n",
       "\tviewer_155208813227.setStyle({\"stick\": {}});\n",
       "\tviewer_155208813227.setBackgroundColor(\"0xeeeeee\");\n",
       "\tviewer_155208813227.zoomTo();\n",
       "viewer_155208813227.render();\n",
       "});\n",
       "</script>"
      ]
     },
     "metadata": {},
     "output_type": "display_data"
    },
    {
     "name": "stdout",
     "output_type": "stream",
     "text": [
      "/home/underkoffler.c/Code/Hindered_Rotors/CCO[CH2]/From_Workflow\n",
      "\n",
      "\n",
      "CCO[CH2] TVFRQKHUZDMLDB-UHFFFAOYSA-N-u2_72by10.0_tor01_a1.log\n",
      "<Torsion \"(3, 0, 1, 5)\">\n",
      "Steps:      72\n",
      "Step Size:  10.0\n",
      "Attempt:    1\n",
      "\n"
     ]
    },
    {
     "data": {
      "image/png": "[encoded data removed]",
      "text/plain": [
       "<Figure size 432x288 with 1 Axes>"
      ]
     },
     "metadata": {
      "needs_background": "light"
     },
     "output_type": "display_data"
    },
    {
     "name": "stdout",
     "output_type": "stream",
     "text": [
      "Continuous:   True\n",
      "\tGood Slope:   True\n",
      "\n",
      "Lowest Conf:  True\n",
      "=========================================================\n",
      "\n",
      "\n",
      "CCO[CH2] TVFRQKHUZDMLDB-UHFFFAOYSA-N-u2_72by10.0_tor01_a2.log\n",
      "CCO[CH2] TVFRQKHUZDMLDB-UHFFFAOYSA-N-u2_72by10.0_tor01_a3.log\n",
      "CCO[CH2] TVFRQKHUZDMLDB-UHFFFAOYSA-N-u2_72by10.0_tor01_a4.log\n",
      "\n",
      "\n",
      "CCO[CH2] TVFRQKHUZDMLDB-UHFFFAOYSA-N-u2_72by10.0_tor03_a1.log\n",
      "<Torsion \"(1, 0, 3, 9)\">\n",
      "Steps:      72\n",
      "Step Size:  10.0\n",
      "Attempt:    1\n",
      "\n"
     ]
    },
    {
     "data": {
      "image/png": "[encoded data removed]",
      "text/plain": [
       "<Figure size 432x288 with 1 Axes>"
      ]
     },
     "metadata": {
      "needs_background": "light"
     },
     "output_type": "display_data"
    },
    {
     "name": "stdout",
     "output_type": "stream",
     "text": [
      "Continuous:   True\n",
      "\tGood Slope:   True\n",
      "\n",
      "Lowest Conf:  True\n",
      "=========================================================\n",
      "\n",
      "\n",
      "CCO[CH2] TVFRQKHUZDMLDB-UHFFFAOYSA-N-u2_72by10.0_tor03_a2.log\n",
      "CCO[CH2] TVFRQKHUZDMLDB-UHFFFAOYSA-N-u2_72by10.0_tor03_a3.log\n",
      "CCO[CH2] TVFRQKHUZDMLDB-UHFFFAOYSA-N-u2_72by10.0_tor03_a4.log\n",
      "\n",
      "\n",
      "CCO[CH2] TVFRQKHUZDMLDB-UHFFFAOYSA-N-u2_72by10.0_tor12_a1.log\n",
      "<Torsion \"(5, 1, 2, 6)\">\n",
      "Steps:      72\n",
      "Step Size:  10.0\n",
      "Attempt:    1\n",
      "\n"
     ]
    },
    {
     "data": {
      "image/png": "[encoded data removed]",
      "text/plain": [
       "<Figure size 432x288 with 1 Axes>"
      ]
     },
     "metadata": {
      "needs_background": "light"
     },
     "output_type": "display_data"
    },
    {
     "name": "stdout",
     "output_type": "stream",
     "text": [
      "Continuous:   True\n",
      "\tGood Slope:   True\n",
      "\n",
      "Lowest Conf:  True\n",
      "=========================================================\n",
      "\n",
      "\n",
      "CCO[CH2] TVFRQKHUZDMLDB-UHFFFAOYSA-N-u2_72by10.0_tor12_a2.log\n",
      "CCO[CH2] TVFRQKHUZDMLDB-UHFFFAOYSA-N-u2_72by10.0_tor12_a3.log\n",
      "CCO[CH2] TVFRQKHUZDMLDB-UHFFFAOYSA-N-u2_72by10.0_tor12_a4.log\n",
      "===================================================================\n",
      "\n",
      "\n"
     ]
    }
   ],
   "source": [
    "steps = 72\n",
    "step_size = 10.0\n",
    "\n",
    "Conf_list = []\n",
    "\n",
    "Rxn_list = None\n",
    "\n",
    "SMILES_list = [Master_SMILES_list[8]]\n",
    "print SMILES_list\n",
    "\n",
    "scan_progress(steps, step_size, Conf_list, SMILES_list=SMILES_list, Rxn_list=Rxn_list)"
   ]
  },
  {
   "cell_type": "code",
   "execution_count": 14,
   "metadata": {
    "scrolled": true
   },
   "outputs": [
    {
     "name": "stdout",
     "output_type": "stream",
     "text": [
      "['[CH2]COC']\n"
     ]
    },
    {
     "data": {
      "application/3dmoljs_load.v0": "<div id=\"3dmolviewer_155208814448\"  style=\"position: relative; width: 600px; height: 600px\">\n        <p id=\"3dmolwarning_155208814448\" style=\"background-color:#ffcccc;color:black\">You appear to be running in JupyterLab.  You need to install the 3dmol extension: <br>\n        <tt>jupyter labextension install jupyterlab_3dmol</tt></p>\n        </div>\n<script>\n\nvar loadScriptAsync = function(uri){\n  return new Promise((resolve, reject) => {\n    var tag = document.createElement('script');\n    tag.src = uri;\n    tag.async = true;\n    tag.onload = () => {\n      resolve();\n    };\n  var firstScriptTag = document.getElementsByTagName('script')[0];\n  firstScriptTag.parentNode.insertBefore(tag, firstScriptTag);\n});\n};\n\nif(typeof $3Dmolpromise === 'undefined') {\n$3Dmolpromise = null;\n  $3Dmolpromise = loadScriptAsync('https://3dmol.csb.pitt.edu/build/3Dmol.js');\n}\n\nvar viewer_155208814448 = null;\nvar warn = document.getElementById(\"3dmolwarning_155208814448\");\nif(warn) {\n    warn.parentNode.removeChild(warn);\n}\n$3Dmolpromise.then(function() {\nviewer_155208814448 = $3Dmol.createViewer($(\"#3dmolviewer_155208814448\"),{backgroundColor:\"white\"});\n\tviewer_155208814448.addModel(\"\\n     RDKit          3D\\n\\n 11 10  0  0  0  0  0  0  0  0999 V2000\\n   -0.4671   -0.7701    0.2177 O   0  0  0  0  0  0  0  0  0  0  0  0\\n    0.5370    0.0811    0.7041 C   0  0  0  0  0  0  0  0  0  0  0  0\\n   -1.4916   -0.0807   -0.4052 C   0  0  0  0  0  0  0  0  0  0  0  0\\n    1.8523   -0.1300    0.0061 C   0  0  0  0  0  3  0  0  0  0  0  0\\n    0.6784   -0.2349    1.7697 H   0  0  0  0  0  0  0  0  0  0  0  0\\n    0.2166    1.1503    0.6648 H   0  0  0  0  0  0  0  0  0  0  0  0\\n   -2.1755    0.4342    0.2883 H   0  0  0  0  0  0  0  0  0  0  0  0\\n   -2.0691   -0.8350   -0.9946 H   0  0  0  0  0  0  0  0  0  0  0  0\\n   -1.0316    0.6940   -1.0503 H   0  0  0  0  0  0  0  0  0  0  0  0\\n    2.1886    0.7277   -0.5911 H   0  0  0  0  0  0  0  0  0  0  0  0\\n    1.7622   -1.0365   -0.6096 H   0  0  0  0  0  0  0  0  0  0  0  0\\n  1  3  1  0\\n  1  2  1  0\\n  2  5  1  0\\n  2  4  1  0\\n  2  6  1  0\\n  3  8  1  0\\n  3  7  1  0\\n  3  9  1  0\\n  4 10  1  0\\n  4 11  1  0\\nM  RAD  1   4   2\\nM  END\\n\",\"sdf\");\n\tviewer_155208814448.setStyle({\"stick\": {}});\n\tviewer_155208814448.setBackgroundColor(\"0xeeeeee\");\n\tviewer_155208814448.zoomTo();\nviewer_155208814448.render();\n});\n</script>",
      "text/html": [
       "<div id=\"3dmolviewer_155208814448\"  style=\"position: relative; width: 600px; height: 600px\">\n",
       "        <p id=\"3dmolwarning_155208814448\" style=\"background-color:#ffcccc;color:black\">You appear to be running in JupyterLab.  You need to install the 3dmol extension: <br>\n",
       "        <tt>jupyter labextension install jupyterlab_3dmol</tt></p>\n",
       "        </div>\n",
       "<script>\n",
       "\n",
       "var loadScriptAsync = function(uri){\n",
       "  return new Promise((resolve, reject) => {\n",
       "    var tag = document.createElement('script');\n",
       "    tag.src = uri;\n",
       "    tag.async = true;\n",
       "    tag.onload = () => {\n",
       "      resolve();\n",
       "    };\n",
       "  var firstScriptTag = document.getElementsByTagName('script')[0];\n",
       "  firstScriptTag.parentNode.insertBefore(tag, firstScriptTag);\n",
       "});\n",
       "};\n",
       "\n",
       "if(typeof $3Dmolpromise === 'undefined') {\n",
       "$3Dmolpromise = null;\n",
       "  $3Dmolpromise = loadScriptAsync('https://3dmol.csb.pitt.edu/build/3Dmol.js');\n",
       "}\n",
       "\n",
       "var viewer_155208814448 = null;\n",
       "var warn = document.getElementById(\"3dmolwarning_155208814448\");\n",
       "if(warn) {\n",
       "    warn.parentNode.removeChild(warn);\n",
       "}\n",
       "$3Dmolpromise.then(function() {\n",
       "viewer_155208814448 = $3Dmol.createViewer($(\"#3dmolviewer_155208814448\"),{backgroundColor:\"white\"});\n",
       "\tviewer_155208814448.addModel(\"\\n     RDKit          3D\\n\\n 11 10  0  0  0  0  0  0  0  0999 V2000\\n   -0.4671   -0.7701    0.2177 O   0  0  0  0  0  0  0  0  0  0  0  0\\n    0.5370    0.0811    0.7041 C   0  0  0  0  0  0  0  0  0  0  0  0\\n   -1.4916   -0.0807   -0.4052 C   0  0  0  0  0  0  0  0  0  0  0  0\\n    1.8523   -0.1300    0.0061 C   0  0  0  0  0  3  0  0  0  0  0  0\\n    0.6784   -0.2349    1.7697 H   0  0  0  0  0  0  0  0  0  0  0  0\\n    0.2166    1.1503    0.6648 H   0  0  0  0  0  0  0  0  0  0  0  0\\n   -2.1755    0.4342    0.2883 H   0  0  0  0  0  0  0  0  0  0  0  0\\n   -2.0691   -0.8350   -0.9946 H   0  0  0  0  0  0  0  0  0  0  0  0\\n   -1.0316    0.6940   -1.0503 H   0  0  0  0  0  0  0  0  0  0  0  0\\n    2.1886    0.7277   -0.5911 H   0  0  0  0  0  0  0  0  0  0  0  0\\n    1.7622   -1.0365   -0.6096 H   0  0  0  0  0  0  0  0  0  0  0  0\\n  1  3  1  0\\n  1  2  1  0\\n  2  5  1  0\\n  2  4  1  0\\n  2  6  1  0\\n  3  8  1  0\\n  3  7  1  0\\n  3  9  1  0\\n  4 10  1  0\\n  4 11  1  0\\nM  RAD  1   4   2\\nM  END\\n\",\"sdf\");\n",
       "\tviewer_155208814448.setStyle({\"stick\": {}});\n",
       "\tviewer_155208814448.setBackgroundColor(\"0xeeeeee\");\n",
       "\tviewer_155208814448.zoomTo();\n",
       "viewer_155208814448.render();\n",
       "});\n",
       "</script>"
      ]
     },
     "metadata": {},
     "output_type": "display_data"
    },
    {
     "name": "stdout",
     "output_type": "stream",
     "text": [
      "/home/underkoffler.c/Code/Hindered_Rotors/[CH2]COC/From_Workflow\n",
      "\n",
      "\n",
      "[CH2]COC ZMAYDFGNKOVZRH-UHFFFAOYSA-N-u1_72by10.0_tor02_a1.log\n",
      "<Torsion \"(1, 0, 2, 8)\">\n",
      "Steps:      72\n",
      "Step Size:  10.0\n",
      "Attempt:    1\n",
      "\n"
     ]
    },
    {
     "data": {
      "image/png": "[encoded data removed]",
      "text/plain": [
       "<Figure size 432x288 with 1 Axes>"
      ]
     },
     "metadata": {
      "needs_background": "light"
     },
     "output_type": "display_data"
    },
    {
     "name": "stdout",
     "output_type": "stream",
     "text": [
      "Continuous:   True\n",
      "\tGood Slope:   True\n",
      "\n",
      "Lowest Conf:  True\n",
      "=========================================================\n",
      "\n",
      "\n",
      "[CH2]COC ZMAYDFGNKOVZRH-UHFFFAOYSA-N-u1_72by10.0_tor02_a2.log\n",
      "[CH2]COC ZMAYDFGNKOVZRH-UHFFFAOYSA-N-u1_72by10.0_tor02_a3.log\n",
      "[CH2]COC ZMAYDFGNKOVZRH-UHFFFAOYSA-N-u1_72by10.0_tor02_a4.log\n",
      "\n",
      "\n",
      "[CH2]COC ZMAYDFGNKOVZRH-UHFFFAOYSA-N-u1_72by10.0_tor01_a1.log\n",
      "<Torsion \"(2, 0, 1, 5)\">\n",
      "Steps:      72\n",
      "Step Size:  10.0\n",
      "Attempt:    1\n",
      "\n",
      "CANNOT Load Scan\n",
      "\n",
      "=========================================================\n",
      "\n",
      "\n",
      "[CH2]COC ZMAYDFGNKOVZRH-UHFFFAOYSA-N-u1_72by10.0_tor01_a2.log\n",
      "[CH2]COC ZMAYDFGNKOVZRH-UHFFFAOYSA-N-u1_72by10.0_tor01_a3.log\n",
      "[CH2]COC ZMAYDFGNKOVZRH-UHFFFAOYSA-N-u1_72by10.0_tor01_a4.log\n",
      "\n",
      "\n",
      "[CH2]COC ZMAYDFGNKOVZRH-UHFFFAOYSA-N-u1_72by10.0_tor13_a1.log\n",
      "<Torsion \"(5, 1, 3, 10)\">\n",
      "Steps:      72\n",
      "Step Size:  10.0\n",
      "Attempt:    1\n",
      "\n"
     ]
    },
    {
     "data": {
      "image/png": "[encoded data removed]",
      "text/plain": [
       "<Figure size 432x288 with 1 Axes>"
      ]
     },
     "metadata": {
      "needs_background": "light"
     },
     "output_type": "display_data"
    },
    {
     "name": "stdout",
     "output_type": "stream",
     "text": [
      "Continuous:   True\n",
      "\tGood Slope:   True\n",
      "\n",
      "Lowest Conf:  True\n",
      "=========================================================\n",
      "\n",
      "\n",
      "[CH2]COC ZMAYDFGNKOVZRH-UHFFFAOYSA-N-u1_72by10.0_tor13_a2.log\n",
      "[CH2]COC ZMAYDFGNKOVZRH-UHFFFAOYSA-N-u1_72by10.0_tor13_a3.log\n",
      "[CH2]COC ZMAYDFGNKOVZRH-UHFFFAOYSA-N-u1_72by10.0_tor13_a4.log\n",
      "===================================================================\n",
      "\n",
      "\n"
     ]
    }
   ],
   "source": [
    "steps = 72\n",
    "step_size = 10.0\n",
    "\n",
    "Conf_list = []\n",
    "\n",
    "Rxn_list = None\n",
    "\n",
    "SMILES_list = [Master_SMILES_list[9]]\n",
    "print SMILES_list\n",
    "\n",
    "scan_progress(steps, step_size, Conf_list, SMILES_list=SMILES_list, Rxn_list=Rxn_list)"
   ]
  },
  {
   "cell_type": "code",
   "execution_count": 15,
   "metadata": {
    "scrolled": true
   },
   "outputs": [
    {
     "name": "stdout",
     "output_type": "stream",
     "text": [
      "['COC(C)C']\n"
     ]
    },
    {
     "data": {
      "application/3dmoljs_load.v0": "<div id=\"3dmolviewer_155208815813\"  style=\"position: relative; width: 600px; height: 600px\">\n        <p id=\"3dmolwarning_155208815813\" style=\"background-color:#ffcccc;color:black\">You appear to be running in JupyterLab.  You need to install the 3dmol extension: <br>\n        <tt>jupyter labextension install jupyterlab_3dmol</tt></p>\n        </div>\n<script>\n\nvar loadScriptAsync = function(uri){\n  return new Promise((resolve, reject) => {\n    var tag = document.createElement('script');\n    tag.src = uri;\n    tag.async = true;\n    tag.onload = () => {\n      resolve();\n    };\n  var firstScriptTag = document.getElementsByTagName('script')[0];\n  firstScriptTag.parentNode.insertBefore(tag, firstScriptTag);\n});\n};\n\nif(typeof $3Dmolpromise === 'undefined') {\n$3Dmolpromise = null;\n  $3Dmolpromise = loadScriptAsync('https://3dmol.csb.pitt.edu/build/3Dmol.js');\n}\n\nvar viewer_155208815813 = null;\nvar warn = document.getElementById(\"3dmolwarning_155208815813\");\nif(warn) {\n    warn.parentNode.removeChild(warn);\n}\n$3Dmolpromise.then(function() {\nviewer_155208815813 = $3Dmol.createViewer($(\"#3dmolviewer_155208815813\"),{backgroundColor:\"white\"});\n\tviewer_155208815813.addModel(\"\\n     RDKit          3D\\n\\n 15 14  0  0  0  0  0  0  0  0999 V2000\\n    0.7679   -0.0681    0.9881 O   0  0  0  0  0  0  0  0  0  0  0  0\\n   -0.2359    0.0888    0.0433 C   0  0  0  0  0  0  0  0  0  0  0  0\\n   -1.0476    1.2971    0.5008 C   0  0  0  0  0  0  0  0  0  0  0  0\\n   -1.1413   -1.1319    0.0904 C   0  0  0  0  0  0  0  0  0  0  0  0\\n    2.0320   -0.1915    0.4434 C   0  0  0  0  0  0  0  0  0  0  0  0\\n    0.2266    0.2431   -0.9406 H   0  0  0  0  0  0  0  0  0  0  0  0\\n   -1.7785    1.6206   -0.2591 H   0  0  0  0  0  0  0  0  0  0  0  0\\n   -0.3077    2.0852    0.7052 H   0  0  0  0  0  0  0  0  0  0  0  0\\n   -1.5320    0.9980    1.4630 H   0  0  0  0  0  0  0  0  0  0  0  0\\n   -1.9887   -0.9250    0.7744 H   0  0  0  0  0  0  0  0  0  0  0  0\\n   -0.5821   -2.0342    0.4292 H   0  0  0  0  0  0  0  0  0  0  0  0\\n   -1.5516   -1.3134   -0.9203 H   0  0  0  0  0  0  0  0  0  0  0  0\\n    2.6343    0.6855    0.7763 H   0  0  0  0  0  0  0  0  0  0  0  0\\n    2.4741   -1.1182    0.8872 H   0  0  0  0  0  0  0  0  0  0  0  0\\n    2.0305   -0.2360   -0.6650 H   0  0  0  0  0  0  0  0  0  0  0  0\\n  1  5  1  0\\n  1  2  1  0\\n  2  6  1  0\\n  2  3  1  0\\n  2  4  1  0\\n  3  9  1  0\\n  3  7  1  0\\n  3  8  1  0\\n  4 10  1  0\\n  4 11  1  0\\n  4 12  1  0\\n  5 13  1  0\\n  5 14  1  0\\n  5 15  1  0\\nM  END\\n\",\"sdf\");\n\tviewer_155208815813.setStyle({\"stick\": {}});\n\tviewer_155208815813.setBackgroundColor(\"0xeeeeee\");\n\tviewer_155208815813.zoomTo();\nviewer_155208815813.render();\n});\n</script>",
      "text/html": [
       "<div id=\"3dmolviewer_155208815813\"  style=\"position: relative; width: 600px; height: 600px\">\n",
       "        <p id=\"3dmolwarning_155208815813\" style=\"background-color:#ffcccc;color:black\">You appear to be running in JupyterLab.  You need to install the 3dmol extension: <br>\n",
       "        <tt>jupyter labextension install jupyterlab_3dmol</tt></p>\n",
       "        </div>\n",
       "<script>\n",
       "\n",
       "var loadScriptAsync = function(uri){\n",
       "  return new Promise((resolve, reject) => {\n",
       "    var tag = document.createElement('script');\n",
       "    tag.src = uri;\n",
       "    tag.async = true;\n",
       "    tag.onload = () => {\n",
       "      resolve();\n",
       "    };\n",
       "  var firstScriptTag = document.getElementsByTagName('script')[0];\n",
       "  firstScriptTag.parentNode.insertBefore(tag, firstScriptTag);\n",
       "});\n",
       "};\n",
       "\n",
       "if(typeof $3Dmolpromise === 'undefined') {\n",
       "$3Dmolpromise = null;\n",
       "  $3Dmolpromise = loadScriptAsync('https://3dmol.csb.pitt.edu/build/3Dmol.js');\n",
       "}\n",
       "\n",
       "var viewer_155208815813 = null;\n",
       "var warn = document.getElementById(\"3dmolwarning_155208815813\");\n",
       "if(warn) {\n",
       "    warn.parentNode.removeChild(warn);\n",
       "}\n",
       "$3Dmolpromise.then(function() {\n",
       "viewer_155208815813 = $3Dmol.createViewer($(\"#3dmolviewer_155208815813\"),{backgroundColor:\"white\"});\n",
       "\tviewer_155208815813.addModel(\"\\n     RDKit          3D\\n\\n 15 14  0  0  0  0  0  0  0  0999 V2000\\n    0.7679   -0.0681    0.9881 O   0  0  0  0  0  0  0  0  0  0  0  0\\n   -0.2359    0.0888    0.0433 C   0  0  0  0  0  0  0  0  0  0  0  0\\n   -1.0476    1.2971    0.5008 C   0  0  0  0  0  0  0  0  0  0  0  0\\n   -1.1413   -1.1319    0.0904 C   0  0  0  0  0  0  0  0  0  0  0  0\\n    2.0320   -0.1915    0.4434 C   0  0  0  0  0  0  0  0  0  0  0  0\\n    0.2266    0.2431   -0.9406 H   0  0  0  0  0  0  0  0  0  0  0  0\\n   -1.7785    1.6206   -0.2591 H   0  0  0  0  0  0  0  0  0  0  0  0\\n   -0.3077    2.0852    0.7052 H   0  0  0  0  0  0  0  0  0  0  0  0\\n   -1.5320    0.9980    1.4630 H   0  0  0  0  0  0  0  0  0  0  0  0\\n   -1.9887   -0.9250    0.7744 H   0  0  0  0  0  0  0  0  0  0  0  0\\n   -0.5821   -2.0342    0.4292 H   0  0  0  0  0  0  0  0  0  0  0  0\\n   -1.5516   -1.3134   -0.9203 H   0  0  0  0  0  0  0  0  0  0  0  0\\n    2.6343    0.6855    0.7763 H   0  0  0  0  0  0  0  0  0  0  0  0\\n    2.4741   -1.1182    0.8872 H   0  0  0  0  0  0  0  0  0  0  0  0\\n    2.0305   -0.2360   -0.6650 H   0  0  0  0  0  0  0  0  0  0  0  0\\n  1  5  1  0\\n  1  2  1  0\\n  2  6  1  0\\n  2  3  1  0\\n  2  4  1  0\\n  3  9  1  0\\n  3  7  1  0\\n  3  8  1  0\\n  4 10  1  0\\n  4 11  1  0\\n  4 12  1  0\\n  5 13  1  0\\n  5 14  1  0\\n  5 15  1  0\\nM  END\\n\",\"sdf\");\n",
       "\tviewer_155208815813.setStyle({\"stick\": {}});\n",
       "\tviewer_155208815813.setBackgroundColor(\"0xeeeeee\");\n",
       "\tviewer_155208815813.zoomTo();\n",
       "viewer_155208815813.render();\n",
       "});\n",
       "</script>"
      ]
     },
     "metadata": {},
     "output_type": "display_data"
    },
    {
     "name": "stdout",
     "output_type": "stream",
     "text": [
      "/home/underkoffler.c/Code/Hindered_Rotors/COC(C)C/From_Workflow\n",
      "\n",
      "\n",
      "COC(C)C RMGHERXMTMUMMV-UHFFFAOYSA-N_72by10.0_tor04_a1.log\n",
      "<Torsion \"(1, 0, 4, 14)\">\n",
      "Steps:      72\n",
      "Step Size:  10.0\n",
      "Attempt:    1\n",
      "\n"
     ]
    },
    {
     "data": {
      "image/png": "[encoded data removed]",
      "text/plain": [
       "<Figure size 432x288 with 1 Axes>"
      ]
     },
     "metadata": {
      "needs_background": "light"
     },
     "output_type": "display_data"
    },
    {
     "name": "stdout",
     "output_type": "stream",
     "text": [
      "Continuous:   True\n",
      "\tGood Slope:   True\n",
      "\n",
      "Lowest Conf:  True\n",
      "=========================================================\n",
      "\n",
      "\n",
      "COC(C)C RMGHERXMTMUMMV-UHFFFAOYSA-N_72by10.0_tor04_a2.log\n",
      "COC(C)C RMGHERXMTMUMMV-UHFFFAOYSA-N_72by10.0_tor04_a3.log\n",
      "COC(C)C RMGHERXMTMUMMV-UHFFFAOYSA-N_72by10.0_tor04_a4.log\n",
      "\n",
      "\n",
      "COC(C)C RMGHERXMTMUMMV-UHFFFAOYSA-N_72by10.0_tor01_a1.log\n",
      "<Torsion \"(4, 0, 1, 3)\">\n",
      "Steps:      72\n",
      "Step Size:  10.0\n",
      "Attempt:    1\n",
      "\n"
     ]
    },
    {
     "data": {
      "image/png": "[encoded data removed]",
      "text/plain": [
       "<Figure size 432x288 with 1 Axes>"
      ]
     },
     "metadata": {
      "needs_background": "light"
     },
     "output_type": "display_data"
    },
    {
     "name": "stdout",
     "output_type": "stream",
     "text": [
      "Continuous:   True\n",
      "\tGood Slope:   True\n",
      "\n",
      "Lowest Conf:  True\n",
      "=========================================================\n",
      "\n",
      "\n",
      "COC(C)C RMGHERXMTMUMMV-UHFFFAOYSA-N_72by10.0_tor01_a2.log\n",
      "COC(C)C RMGHERXMTMUMMV-UHFFFAOYSA-N_72by10.0_tor01_a3.log\n",
      "COC(C)C RMGHERXMTMUMMV-UHFFFAOYSA-N_72by10.0_tor01_a4.log\n",
      "\n",
      "\n",
      "COC(C)C RMGHERXMTMUMMV-UHFFFAOYSA-N_72by10.0_tor12_a1.log\n",
      "<Torsion \"(3, 1, 2, 7)\">\n",
      "Steps:      72\n",
      "Step Size:  10.0\n",
      "Attempt:    1\n",
      "\n"
     ]
    },
    {
     "data": {
      "image/png": "[encoded data removed]",
      "text/plain": [
       "<Figure size 432x288 with 1 Axes>"
      ]
     },
     "metadata": {
      "needs_background": "light"
     },
     "output_type": "display_data"
    },
    {
     "name": "stdout",
     "output_type": "stream",
     "text": [
      "Continuous:   True\n",
      "\tGood Slope:   True\n",
      "\n",
      "Lowest Conf:  True\n",
      "=========================================================\n",
      "\n",
      "\n",
      "COC(C)C RMGHERXMTMUMMV-UHFFFAOYSA-N_72by10.0_tor12_a2.log\n",
      "COC(C)C RMGHERXMTMUMMV-UHFFFAOYSA-N_72by10.0_tor12_a3.log\n",
      "COC(C)C RMGHERXMTMUMMV-UHFFFAOYSA-N_72by10.0_tor12_a4.log\n",
      "\n",
      "\n",
      "COC(C)C RMGHERXMTMUMMV-UHFFFAOYSA-N_72by10.0_tor13_a1.log\n",
      "<Torsion \"(2, 1, 3, 11)\">\n",
      "Steps:      72\n",
      "Step Size:  10.0\n",
      "Attempt:    1\n",
      "\n"
     ]
    },
    {
     "data": {
      "image/png": "[encoded data removed]",
      "text/plain": [
       "<Figure size 432x288 with 1 Axes>"
      ]
     },
     "metadata": {
      "needs_background": "light"
     },
     "output_type": "display_data"
    },
    {
     "name": "stdout",
     "output_type": "stream",
     "text": [
      "Continuous:   True\n",
      "\tGood Slope:   True\n",
      "\n",
      "Lowest Conf:  True\n",
      "=========================================================\n",
      "\n",
      "\n",
      "COC(C)C RMGHERXMTMUMMV-UHFFFAOYSA-N_72by10.0_tor13_a2.log\n",
      "COC(C)C RMGHERXMTMUMMV-UHFFFAOYSA-N_72by10.0_tor13_a3.log\n",
      "COC(C)C RMGHERXMTMUMMV-UHFFFAOYSA-N_72by10.0_tor13_a4.log\n",
      "===================================================================\n",
      "\n",
      "\n"
     ]
    }
   ],
   "source": [
    "steps = 72\n",
    "step_size = 10.0\n",
    "\n",
    "Conf_list = []\n",
    "\n",
    "Rxn_list = None\n",
    "\n",
    "SMILES_list = [Master_SMILES_list[10]]\n",
    "print SMILES_list\n",
    "\n",
    "scan_progress(steps, step_size, Conf_list, SMILES_list=SMILES_list, Rxn_list=Rxn_list)"
   ]
  },
  {
   "cell_type": "code",
   "execution_count": 16,
   "metadata": {
    "scrolled": true
   },
   "outputs": [
    {
     "name": "stdout",
     "output_type": "stream",
     "text": [
      "['CO[C](C)C']\n"
     ]
    },
    {
     "data": {
      "application/3dmoljs_load.v0": "<div id=\"3dmolviewer_155208817841\"  style=\"position: relative; width: 600px; height: 600px\">\n        <p id=\"3dmolwarning_155208817841\" style=\"background-color:#ffcccc;color:black\">You appear to be running in JupyterLab.  You need to install the 3dmol extension: <br>\n        <tt>jupyter labextension install jupyterlab_3dmol</tt></p>\n        </div>\n<script>\n\nvar loadScriptAsync = function(uri){\n  return new Promise((resolve, reject) => {\n    var tag = document.createElement('script');\n    tag.src = uri;\n    tag.async = true;\n    tag.onload = () => {\n      resolve();\n    };\n  var firstScriptTag = document.getElementsByTagName('script')[0];\n  firstScriptTag.parentNode.insertBefore(tag, firstScriptTag);\n});\n};\n\nif(typeof $3Dmolpromise === 'undefined') {\n$3Dmolpromise = null;\n  $3Dmolpromise = loadScriptAsync('https://3dmol.csb.pitt.edu/build/3Dmol.js');\n}\n\nvar viewer_155208817841 = null;\nvar warn = document.getElementById(\"3dmolwarning_155208817841\");\nif(warn) {\n    warn.parentNode.removeChild(warn);\n}\n$3Dmolpromise.then(function() {\nviewer_155208817841 = $3Dmol.createViewer($(\"#3dmolviewer_155208817841\"),{backgroundColor:\"white\"});\n\tviewer_155208817841.addModel(\"\\n     RDKit          3D\\n\\n 14 13  0  0  0  0  0  0  0  0999 V2000\\n    0.7347   -0.6390    0.3711 O   0  0  0  0  0  0  0  0  0  0  0  0\\n   -1.4867   -0.9365   -0.2195 C   0  0  0  0  0  0  0  0  0  0  0  0\\n   -0.6238    1.2995    0.1615 C   0  0  0  0  0  0  0  0  0  0  0  0\\n    2.0199   -0.3467   -0.0180 C   0  0  0  0  0  0  0  0  0  0  0  0\\n   -0.2499   -0.0645   -0.4070 C   0  0  0  0  0  3  0  0  0  0  0  0\\n   -1.3184   -1.9213   -0.6853 H   0  0  0  0  0  0  0  0  0  0  0  0\\n   -2.3593   -0.4329   -0.6589 H   0  0  0  0  0  0  0  0  0  0  0  0\\n   -1.6789   -0.9881    0.8731 H   0  0  0  0  0  0  0  0  0  0  0  0\\n    0.1080    2.0761   -0.1068 H   0  0  0  0  0  0  0  0  0  0  0  0\\n   -1.6146    1.6012   -0.2389 H   0  0  0  0  0  0  0  0  0  0  0  0\\n   -0.7416    1.1590    1.2547 H   0  0  0  0  0  0  0  0  0  0  0  0\\n    2.6377   -1.2771    0.0095 H   0  0  0  0  0  0  0  0  0  0  0  0\\n    2.4671    0.3789    0.6967 H   0  0  0  0  0  0  0  0  0  0  0  0\\n    2.1058    0.0913   -1.0321 H   0  0  0  0  0  0  0  0  0  0  0  0\\n  1  5  1  0\\n  1  4  1  0\\n  2  7  1  0\\n  2  6  1  0\\n  2  5  1  0\\n  2  8  1  0\\n  3  9  1  0\\n  3  5  1  0\\n  3 11  1  0\\n  3 10  1  0\\n  4 13  1  0\\n  4 12  1  0\\n  4 14  1  0\\nM  RAD  1   5   2\\nM  END\\n\",\"sdf\");\n\tviewer_155208817841.setStyle({\"stick\": {}});\n\tviewer_155208817841.setBackgroundColor(\"0xeeeeee\");\n\tviewer_155208817841.zoomTo();\nviewer_155208817841.render();\n});\n</script>",
      "text/html": [
       "<div id=\"3dmolviewer_155208817841\"  style=\"position: relative; width: 600px; height: 600px\">\n",
       "        <p id=\"3dmolwarning_155208817841\" style=\"background-color:#ffcccc;color:black\">You appear to be running in JupyterLab.  You need to install the 3dmol extension: <br>\n",
       "        <tt>jupyter labextension install jupyterlab_3dmol</tt></p>\n",
       "        </div>\n",
       "<script>\n",
       "\n",
       "var loadScriptAsync = function(uri){\n",
       "  return new Promise((resolve, reject) => {\n",
       "    var tag = document.createElement('script');\n",
       "    tag.src = uri;\n",
       "    tag.async = true;\n",
       "    tag.onload = () => {\n",
       "      resolve();\n",
       "    };\n",
       "  var firstScriptTag = document.getElementsByTagName('script')[0];\n",
       "  firstScriptTag.parentNode.insertBefore(tag, firstScriptTag);\n",
       "});\n",
       "};\n",
       "\n",
       "if(typeof $3Dmolpromise === 'undefined') {\n",
       "$3Dmolpromise = null;\n",
       "  $3Dmolpromise = loadScriptAsync('https://3dmol.csb.pitt.edu/build/3Dmol.js');\n",
       "}\n",
       "\n",
       "var viewer_155208817841 = null;\n",
       "var warn = document.getElementById(\"3dmolwarning_155208817841\");\n",
       "if(warn) {\n",
       "    warn.parentNode.removeChild(warn);\n",
       "}\n",
       "$3Dmolpromise.then(function() {\n",
       "viewer_155208817841 = $3Dmol.createViewer($(\"#3dmolviewer_155208817841\"),{backgroundColor:\"white\"});\n",
       "\tviewer_155208817841.addModel(\"\\n     RDKit          3D\\n\\n 14 13  0  0  0  0  0  0  0  0999 V2000\\n    0.7347   -0.6390    0.3711 O   0  0  0  0  0  0  0  0  0  0  0  0\\n   -1.4867   -0.9365   -0.2195 C   0  0  0  0  0  0  0  0  0  0  0  0\\n   -0.6238    1.2995    0.1615 C   0  0  0  0  0  0  0  0  0  0  0  0\\n    2.0199   -0.3467   -0.0180 C   0  0  0  0  0  0  0  0  0  0  0  0\\n   -0.2499   -0.0645   -0.4070 C   0  0  0  0  0  3  0  0  0  0  0  0\\n   -1.3184   -1.9213   -0.6853 H   0  0  0  0  0  0  0  0  0  0  0  0\\n   -2.3593   -0.4329   -0.6589 H   0  0  0  0  0  0  0  0  0  0  0  0\\n   -1.6789   -0.9881    0.8731 H   0  0  0  0  0  0  0  0  0  0  0  0\\n    0.1080    2.0761   -0.1068 H   0  0  0  0  0  0  0  0  0  0  0  0\\n   -1.6146    1.6012   -0.2389 H   0  0  0  0  0  0  0  0  0  0  0  0\\n   -0.7416    1.1590    1.2547 H   0  0  0  0  0  0  0  0  0  0  0  0\\n    2.6377   -1.2771    0.0095 H   0  0  0  0  0  0  0  0  0  0  0  0\\n    2.4671    0.3789    0.6967 H   0  0  0  0  0  0  0  0  0  0  0  0\\n    2.1058    0.0913   -1.0321 H   0  0  0  0  0  0  0  0  0  0  0  0\\n  1  5  1  0\\n  1  4  1  0\\n  2  7  1  0\\n  2  6  1  0\\n  2  5  1  0\\n  2  8  1  0\\n  3  9  1  0\\n  3  5  1  0\\n  3 11  1  0\\n  3 10  1  0\\n  4 13  1  0\\n  4 12  1  0\\n  4 14  1  0\\nM  RAD  1   5   2\\nM  END\\n\",\"sdf\");\n",
       "\tviewer_155208817841.setStyle({\"stick\": {}});\n",
       "\tviewer_155208817841.setBackgroundColor(\"0xeeeeee\");\n",
       "\tviewer_155208817841.zoomTo();\n",
       "viewer_155208817841.render();\n",
       "});\n",
       "</script>"
      ]
     },
     "metadata": {},
     "output_type": "display_data"
    },
    {
     "name": "stdout",
     "output_type": "stream",
     "text": [
      "/home/underkoffler.c/Code/Hindered_Rotors/CO[C](C)C/From_Workflow\n",
      "\n",
      "\n",
      "CO[C](C)C VSQGJBCHGBRHMO-UHFFFAOYSA-N-u4_72by10.0_tor04_a1.log\n",
      "<Torsion \"(3, 0, 4, 2)\">\n",
      "Steps:      72\n",
      "Step Size:  10.0\n",
      "Attempt:    1\n",
      "\n"
     ]
    },
    {
     "data": {
      "image/png": "[encoded data removed]",
      "text/plain": [
       "<Figure size 432x288 with 1 Axes>"
      ]
     },
     "metadata": {
      "needs_background": "light"
     },
     "output_type": "display_data"
    },
    {
     "name": "stdout",
     "output_type": "stream",
     "text": [
      "Continuous:   True\n",
      "\tGood Slope:   True\n",
      "\n",
      "Lowest Conf:  True\n",
      "=========================================================\n",
      "\n",
      "\n",
      "CO[C](C)C VSQGJBCHGBRHMO-UHFFFAOYSA-N-u4_72by10.0_tor04_a2.log\n",
      "CO[C](C)C VSQGJBCHGBRHMO-UHFFFAOYSA-N-u4_72by10.0_tor04_a3.log\n",
      "CO[C](C)C VSQGJBCHGBRHMO-UHFFFAOYSA-N-u4_72by10.0_tor04_a4.log\n",
      "\n",
      "\n",
      "CO[C](C)C VSQGJBCHGBRHMO-UHFFFAOYSA-N-u4_72by10.0_tor03_a1.log\n",
      "<Torsion \"(4, 0, 3, 13)\">\n",
      "Steps:      72\n",
      "Step Size:  10.0\n",
      "Attempt:    1\n",
      "\n"
     ]
    },
    {
     "data": {
      "image/png": "[encoded data removed]",
      "text/plain": [
       "<Figure size 432x288 with 1 Axes>"
      ]
     },
     "metadata": {
      "needs_background": "light"
     },
     "output_type": "display_data"
    },
    {
     "name": "stdout",
     "output_type": "stream",
     "text": [
      "Continuous:   True\n",
      "\tGood Slope:   True\n",
      "\n",
      "Lowest Conf:  True\n",
      "=========================================================\n",
      "\n",
      "\n",
      "CO[C](C)C VSQGJBCHGBRHMO-UHFFFAOYSA-N-u4_72by10.0_tor03_a2.log\n",
      "CO[C](C)C VSQGJBCHGBRHMO-UHFFFAOYSA-N-u4_72by10.0_tor03_a3.log\n",
      "CO[C](C)C VSQGJBCHGBRHMO-UHFFFAOYSA-N-u4_72by10.0_tor03_a4.log\n",
      "\n",
      "\n",
      "CO[C](C)C VSQGJBCHGBRHMO-UHFFFAOYSA-N-u4_72by10.0_tor14_a1.log\n",
      "<Torsion \"(7, 1, 4, 2)\">\n",
      "Steps:      72\n",
      "Step Size:  10.0\n",
      "Attempt:    1\n",
      "\n"
     ]
    },
    {
     "data": {
      "image/png": "[encoded data removed]",
      "text/plain": [
       "<Figure size 432x288 with 1 Axes>"
      ]
     },
     "metadata": {
      "needs_background": "light"
     },
     "output_type": "display_data"
    },
    {
     "name": "stdout",
     "output_type": "stream",
     "text": [
      "Continuous:   True\n",
      "\tGood Slope:   True\n",
      "\n",
      "Lowest Conf:  True\n",
      "=========================================================\n",
      "\n",
      "\n",
      "CO[C](C)C VSQGJBCHGBRHMO-UHFFFAOYSA-N-u4_72by10.0_tor14_a2.log\n",
      "CO[C](C)C VSQGJBCHGBRHMO-UHFFFAOYSA-N-u4_72by10.0_tor14_a3.log\n",
      "CO[C](C)C VSQGJBCHGBRHMO-UHFFFAOYSA-N-u4_72by10.0_tor14_a4.log\n",
      "\n",
      "\n",
      "CO[C](C)C VSQGJBCHGBRHMO-UHFFFAOYSA-N-u4_72by10.0_tor24_a1.log\n",
      "<Torsion \"(9, 2, 4, 1)\">\n",
      "Steps:      72\n",
      "Step Size:  10.0\n",
      "Attempt:    1\n",
      "\n"
     ]
    },
    {
     "data": {
      "image/png": "[encoded data removed]",
      "text/plain": [
       "<Figure size 432x288 with 1 Axes>"
      ]
     },
     "metadata": {
      "needs_background": "light"
     },
     "output_type": "display_data"
    },
    {
     "name": "stdout",
     "output_type": "stream",
     "text": [
      "Continuous:   True\n",
      "\tGood Slope:   True\n",
      "\n",
      "Lowest Conf:  True\n",
      "=========================================================\n",
      "\n",
      "\n",
      "CO[C](C)C VSQGJBCHGBRHMO-UHFFFAOYSA-N-u4_72by10.0_tor24_a2.log\n",
      "CO[C](C)C VSQGJBCHGBRHMO-UHFFFAOYSA-N-u4_72by10.0_tor24_a3.log\n",
      "CO[C](C)C VSQGJBCHGBRHMO-UHFFFAOYSA-N-u4_72by10.0_tor24_a4.log\n",
      "===================================================================\n",
      "\n",
      "\n"
     ]
    }
   ],
   "source": [
    "steps = 72\n",
    "step_size = 10.0\n",
    "\n",
    "Conf_list = []\n",
    "\n",
    "Rxn_list = None\n",
    "\n",
    "SMILES_list = [Master_SMILES_list[11]]\n",
    "print SMILES_list\n",
    "\n",
    "scan_progress(steps, step_size, Conf_list, SMILES_list=SMILES_list, Rxn_list=Rxn_list)"
   ]
  },
  {
   "cell_type": "code",
   "execution_count": 17,
   "metadata": {
    "scrolled": true
   },
   "outputs": [
    {
     "name": "stdout",
     "output_type": "stream",
     "text": [
      "['[CH2]OC(C)C']\n"
     ]
    },
    {
     "data": {
      "application/3dmoljs_load.v0": "<div id=\"3dmolviewer_155208819918\"  style=\"position: relative; width: 600px; height: 600px\">\n        <p id=\"3dmolwarning_155208819918\" style=\"background-color:#ffcccc;color:black\">You appear to be running in JupyterLab.  You need to install the 3dmol extension: <br>\n        <tt>jupyter labextension install jupyterlab_3dmol</tt></p>\n        </div>\n<script>\n\nvar loadScriptAsync = function(uri){\n  return new Promise((resolve, reject) => {\n    var tag = document.createElement('script');\n    tag.src = uri;\n    tag.async = true;\n    tag.onload = () => {\n      resolve();\n    };\n  var firstScriptTag = document.getElementsByTagName('script')[0];\n  firstScriptTag.parentNode.insertBefore(tag, firstScriptTag);\n});\n};\n\nif(typeof $3Dmolpromise === 'undefined') {\n$3Dmolpromise = null;\n  $3Dmolpromise = loadScriptAsync('https://3dmol.csb.pitt.edu/build/3Dmol.js');\n}\n\nvar viewer_155208819918 = null;\nvar warn = document.getElementById(\"3dmolwarning_155208819918\");\nif(warn) {\n    warn.parentNode.removeChild(warn);\n}\n$3Dmolpromise.then(function() {\nviewer_155208819918 = $3Dmol.createViewer($(\"#3dmolviewer_155208819918\"),{backgroundColor:\"white\"});\n\tviewer_155208819918.addModel(\"\\n     RDKit          3D\\n\\n 14 13  0  0  0  0  0  0  0  0999 V2000\\n    1.0342   -0.0875   -1.0312 O   0  0  0  0  0  0  0  0  0  0  0  0\\n   -0.1813    0.3658   -0.5782 C   0  0  0  0  0  0  0  0  0  0  0  0\\n   -0.1033    1.2681    0.6198 C   0  0  0  0  0  0  0  0  0  0  0  0\\n   -1.1277   -0.7765   -0.2845 C   0  0  0  0  0  0  0  0  0  0  0  0\\n    1.7823   -0.7858   -0.1194 C   0  0  0  0  0  3  0  0  0  0  0  0\\n   -0.6450    0.9397   -1.4186 H   0  0  0  0  0  0  0  0  0  0  0  0\\n   -0.4584    2.3068    0.3998 H   0  0  0  0  0  0  0  0  0  0  0  0\\n   -0.7470    0.9042    1.4434 H   0  0  0  0  0  0  0  0  0  0  0  0\\n    0.9278    1.3769    0.9997 H   0  0  0  0  0  0  0  0  0  0  0  0\\n   -0.7113   -1.2927    0.6094 H   0  0  0  0  0  0  0  0  0  0  0  0\\n   -1.1577   -1.4385   -1.1693 H   0  0  0  0  0  0  0  0  0  0  0  0\\n   -2.1412   -0.3876   -0.0605 H   0  0  0  0  0  0  0  0  0  0  0  0\\n    1.9221   -1.8519   -0.3419 H   0  0  0  0  0  0  0  0  0  0  0  0\\n    1.6065   -0.5412    0.9315 H   0  0  0  0  0  0  0  0  0  0  0  0\\n  1  2  1  0\\n  1  5  1  0\\n  2  6  1  0\\n  2  4  1  0\\n  2  3  1  0\\n  3  9  1  0\\n  3  8  1  0\\n  3  7  1  0\\n  4 10  1  0\\n  4 11  1  0\\n  4 12  1  0\\n  5 13  1  0\\n  5 14  1  0\\nM  RAD  1   5   2\\nM  END\\n\",\"sdf\");\n\tviewer_155208819918.setStyle({\"stick\": {}});\n\tviewer_155208819918.setBackgroundColor(\"0xeeeeee\");\n\tviewer_155208819918.zoomTo();\nviewer_155208819918.render();\n});\n</script>",
      "text/html": [
       "<div id=\"3dmolviewer_155208819918\"  style=\"position: relative; width: 600px; height: 600px\">\n",
       "        <p id=\"3dmolwarning_155208819918\" style=\"background-color:#ffcccc;color:black\">You appear to be running in JupyterLab.  You need to install the 3dmol extension: <br>\n",
       "        <tt>jupyter labextension install jupyterlab_3dmol</tt></p>\n",
       "        </div>\n",
       "<script>\n",
       "\n",
       "var loadScriptAsync = function(uri){\n",
       "  return new Promise((resolve, reject) => {\n",
       "    var tag = document.createElement('script');\n",
       "    tag.src = uri;\n",
       "    tag.async = true;\n",
       "    tag.onload = () => {\n",
       "      resolve();\n",
       "    };\n",
       "  var firstScriptTag = document.getElementsByTagName('script')[0];\n",
       "  firstScriptTag.parentNode.insertBefore(tag, firstScriptTag);\n",
       "});\n",
       "};\n",
       "\n",
       "if(typeof $3Dmolpromise === 'undefined') {\n",
       "$3Dmolpromise = null;\n",
       "  $3Dmolpromise = loadScriptAsync('https://3dmol.csb.pitt.edu/build/3Dmol.js');\n",
       "}\n",
       "\n",
       "var viewer_155208819918 = null;\n",
       "var warn = document.getElementById(\"3dmolwarning_155208819918\");\n",
       "if(warn) {\n",
       "    warn.parentNode.removeChild(warn);\n",
       "}\n",
       "$3Dmolpromise.then(function() {\n",
       "viewer_155208819918 = $3Dmol.createViewer($(\"#3dmolviewer_155208819918\"),{backgroundColor:\"white\"});\n",
       "\tviewer_155208819918.addModel(\"\\n     RDKit          3D\\n\\n 14 13  0  0  0  0  0  0  0  0999 V2000\\n    1.0342   -0.0875   -1.0312 O   0  0  0  0  0  0  0  0  0  0  0  0\\n   -0.1813    0.3658   -0.5782 C   0  0  0  0  0  0  0  0  0  0  0  0\\n   -0.1033    1.2681    0.6198 C   0  0  0  0  0  0  0  0  0  0  0  0\\n   -1.1277   -0.7765   -0.2845 C   0  0  0  0  0  0  0  0  0  0  0  0\\n    1.7823   -0.7858   -0.1194 C   0  0  0  0  0  3  0  0  0  0  0  0\\n   -0.6450    0.9397   -1.4186 H   0  0  0  0  0  0  0  0  0  0  0  0\\n   -0.4584    2.3068    0.3998 H   0  0  0  0  0  0  0  0  0  0  0  0\\n   -0.7470    0.9042    1.4434 H   0  0  0  0  0  0  0  0  0  0  0  0\\n    0.9278    1.3769    0.9997 H   0  0  0  0  0  0  0  0  0  0  0  0\\n   -0.7113   -1.2927    0.6094 H   0  0  0  0  0  0  0  0  0  0  0  0\\n   -1.1577   -1.4385   -1.1693 H   0  0  0  0  0  0  0  0  0  0  0  0\\n   -2.1412   -0.3876   -0.0605 H   0  0  0  0  0  0  0  0  0  0  0  0\\n    1.9221   -1.8519   -0.3419 H   0  0  0  0  0  0  0  0  0  0  0  0\\n    1.6065   -0.5412    0.9315 H   0  0  0  0  0  0  0  0  0  0  0  0\\n  1  2  1  0\\n  1  5  1  0\\n  2  6  1  0\\n  2  4  1  0\\n  2  3  1  0\\n  3  9  1  0\\n  3  8  1  0\\n  3  7  1  0\\n  4 10  1  0\\n  4 11  1  0\\n  4 12  1  0\\n  5 13  1  0\\n  5 14  1  0\\nM  RAD  1   5   2\\nM  END\\n\",\"sdf\");\n",
       "\tviewer_155208819918.setStyle({\"stick\": {}});\n",
       "\tviewer_155208819918.setBackgroundColor(\"0xeeeeee\");\n",
       "\tviewer_155208819918.zoomTo();\n",
       "viewer_155208819918.render();\n",
       "});\n",
       "</script>"
      ]
     },
     "metadata": {},
     "output_type": "display_data"
    },
    {
     "name": "stdout",
     "output_type": "stream",
     "text": [
      "/home/underkoffler.c/Code/Hindered_Rotors/[CH2]OC(C)C/From_Workflow\n",
      "\n",
      "\n",
      "[CH2]OC(C)C BWWHSGPVJDTLAO-UHFFFAOYSA-N-u3_72by10.0_tor01_a1.log\n",
      "<Torsion \"(4, 0, 1, 2)\">\n",
      "Steps:      72\n",
      "Step Size:  10.0\n",
      "Attempt:    1\n",
      "\n"
     ]
    },
    {
     "data": {
      "image/png": "[encoded data removed]",
      "text/plain": [
       "<Figure size 432x288 with 1 Axes>"
      ]
     },
     "metadata": {
      "needs_background": "light"
     },
     "output_type": "display_data"
    },
    {
     "name": "stdout",
     "output_type": "stream",
     "text": [
      "Continuous:   False\n",
      "\tGood Slope:   True\n",
      "\n",
      "Lowest Conf:  True\n",
      "=========================================================\n",
      "\n",
      "\n",
      "[CH2]OC(C)C BWWHSGPVJDTLAO-UHFFFAOYSA-N-u3_72by10.0_tor01_a2.log\n",
      "[CH2]OC(C)C BWWHSGPVJDTLAO-UHFFFAOYSA-N-u3_72by10.0_tor01_a3.log\n",
      "[CH2]OC(C)C BWWHSGPVJDTLAO-UHFFFAOYSA-N-u3_72by10.0_tor01_a4.log\n",
      "\n",
      "\n",
      "[CH2]OC(C)C BWWHSGPVJDTLAO-UHFFFAOYSA-N-u3_72by10.0_tor04_a1.log\n",
      "<Torsion \"(1, 0, 4, 13)\">\n",
      "Steps:      72\n",
      "Step Size:  10.0\n",
      "Attempt:    1\n",
      "\n",
      "CANNOT Load Scan\n",
      "\n",
      "=========================================================\n",
      "\n",
      "\n",
      "[CH2]OC(C)C BWWHSGPVJDTLAO-UHFFFAOYSA-N-u3_72by10.0_tor04_a2.log\n",
      "[CH2]OC(C)C BWWHSGPVJDTLAO-UHFFFAOYSA-N-u3_72by10.0_tor04_a3.log\n",
      "[CH2]OC(C)C BWWHSGPVJDTLAO-UHFFFAOYSA-N-u3_72by10.0_tor04_a4.log\n",
      "\n",
      "\n",
      "[CH2]OC(C)C BWWHSGPVJDTLAO-UHFFFAOYSA-N-u3_72by10.0_tor13_a1.log\n",
      "<Torsion \"(2, 1, 3, 11)\">\n",
      "Steps:      72\n",
      "Step Size:  10.0\n",
      "Attempt:    1\n",
      "\n"
     ]
    },
    {
     "data": {
      "image/png": "[encoded data removed]",
      "text/plain": [
       "<Figure size 432x288 with 1 Axes>"
      ]
     },
     "metadata": {
      "needs_background": "light"
     },
     "output_type": "display_data"
    },
    {
     "name": "stdout",
     "output_type": "stream",
     "text": [
      "Continuous:   True\n",
      "\tGood Slope:   True\n",
      "\n",
      "Lowest Conf:  True\n",
      "=========================================================\n",
      "\n",
      "\n",
      "[CH2]OC(C)C BWWHSGPVJDTLAO-UHFFFAOYSA-N-u3_72by10.0_tor13_a2.log\n",
      "[CH2]OC(C)C BWWHSGPVJDTLAO-UHFFFAOYSA-N-u3_72by10.0_tor13_a3.log\n",
      "[CH2]OC(C)C BWWHSGPVJDTLAO-UHFFFAOYSA-N-u3_72by10.0_tor13_a4.log\n",
      "\n",
      "\n",
      "[CH2]OC(C)C BWWHSGPVJDTLAO-UHFFFAOYSA-N-u3_72by10.0_tor12_a1.log\n",
      "<Torsion \"(3, 1, 2, 6)\">\n",
      "Steps:      72\n",
      "Step Size:  10.0\n",
      "Attempt:    1\n",
      "\n"
     ]
    },
    {
     "data": {
      "image/png": "[encoded data removed]",
      "text/plain": [
       "<Figure size 432x288 with 1 Axes>"
      ]
     },
     "metadata": {
      "needs_background": "light"
     },
     "output_type": "display_data"
    },
    {
     "name": "stdout",
     "output_type": "stream",
     "text": [
      "Continuous:   True\n",
      "\tGood Slope:   True\n",
      "\n",
      "Lowest Conf:  True\n",
      "=========================================================\n",
      "\n",
      "\n",
      "[CH2]OC(C)C BWWHSGPVJDTLAO-UHFFFAOYSA-N-u3_72by10.0_tor12_a2.log\n",
      "[CH2]OC(C)C BWWHSGPVJDTLAO-UHFFFAOYSA-N-u3_72by10.0_tor12_a3.log\n",
      "[CH2]OC(C)C BWWHSGPVJDTLAO-UHFFFAOYSA-N-u3_72by10.0_tor12_a4.log\n",
      "===================================================================\n",
      "\n",
      "\n"
     ]
    }
   ],
   "source": [
    "steps = 72\n",
    "step_size = 10.0\n",
    "\n",
    "Conf_list = []\n",
    "\n",
    "Rxn_list = None\n",
    "\n",
    "SMILES_list = [Master_SMILES_list[12]]\n",
    "print SMILES_list\n",
    "\n",
    "scan_progress(steps, step_size, Conf_list, SMILES_list=SMILES_list, Rxn_list=Rxn_list)"
   ]
  },
  {
   "cell_type": "code",
   "execution_count": 18,
   "metadata": {
    "scrolled": true
   },
   "outputs": [
    {
     "name": "stdout",
     "output_type": "stream",
     "text": [
      "['[CH2]C(C)OC']\n"
     ]
    },
    {
     "data": {
      "application/3dmoljs_load.v0": "<div id=\"3dmolviewer_155208821929\"  style=\"position: relative; width: 600px; height: 600px\">\n        <p id=\"3dmolwarning_155208821929\" style=\"background-color:#ffcccc;color:black\">You appear to be running in JupyterLab.  You need to install the 3dmol extension: <br>\n        <tt>jupyter labextension install jupyterlab_3dmol</tt></p>\n        </div>\n<script>\n\nvar loadScriptAsync = function(uri){\n  return new Promise((resolve, reject) => {\n    var tag = document.createElement('script');\n    tag.src = uri;\n    tag.async = true;\n    tag.onload = () => {\n      resolve();\n    };\n  var firstScriptTag = document.getElementsByTagName('script')[0];\n  firstScriptTag.parentNode.insertBefore(tag, firstScriptTag);\n});\n};\n\nif(typeof $3Dmolpromise === 'undefined') {\n$3Dmolpromise = null;\n  $3Dmolpromise = loadScriptAsync('https://3dmol.csb.pitt.edu/build/3Dmol.js');\n}\n\nvar viewer_155208821929 = null;\nvar warn = document.getElementById(\"3dmolwarning_155208821929\");\nif(warn) {\n    warn.parentNode.removeChild(warn);\n}\n$3Dmolpromise.then(function() {\nviewer_155208821929 = $3Dmol.createViewer($(\"#3dmolviewer_155208821929\"),{backgroundColor:\"white\"});\n\tviewer_155208821929.addModel(\"\\n     RDKit          3D\\n\\n 14 13  0  0  0  0  0  0  0  0999 V2000\\n   -0.7694   -1.0499   -0.2795 O   0  0  0  0  0  0  0  0  0  0  0  0\\n    0.4463   -0.6076    0.1574 C   0  0  0  0  0  0  0  0  0  0  0  0\\n    0.4765    0.7426    0.7860 C   0  0  0  0  0  0  0  0  0  0  0  0\\n   -1.7760   -0.1126   -0.3122 C   0  0  0  0  0  0  0  0  0  0  0  0\\n    1.4384   -0.6485   -0.9934 C   0  0  0  0  0  3  0  0  0  0  0  0\\n    0.8248   -1.3336    0.9137 H   0  0  0  0  0  0  0  0  0  0  0  0\\n    0.4557    0.6726    1.8934 H   0  0  0  0  0  0  0  0  0  0  0  0\\n   -0.3108    1.4348    0.4648 H   0  0  0  0  0  0  0  0  0  0  0  0\\n    1.4444    1.2533    0.5496 H   0  0  0  0  0  0  0  0  0  0  0  0\\n   -1.9802    0.2422    0.7120 H   0  0  0  0  0  0  0  0  0  0  0  0\\n   -2.6727   -0.6081   -0.7312 H   0  0  0  0  0  0  0  0  0  0  0  0\\n   -1.5114    0.7051   -1.0100 H   0  0  0  0  0  0  0  0  0  0  0  0\\n    2.4162   -1.0254   -0.6493 H   0  0  0  0  0  0  0  0  0  0  0  0\\n    1.5182    0.3351   -1.5014 H   0  0  0  0  0  0  0  0  0  0  0  0\\n  1  2  1  0\\n  1  4  1  0\\n  2  5  1  0\\n  2  6  1  0\\n  2  3  1  0\\n  3  8  1  0\\n  3  7  1  0\\n  3  9  1  0\\n  4 12  1  0\\n  4 10  1  0\\n  4 11  1  0\\n  5 13  1  0\\n  5 14  1  0\\nM  RAD  1   5   2\\nM  END\\n\",\"sdf\");\n\tviewer_155208821929.setStyle({\"stick\": {}});\n\tviewer_155208821929.setBackgroundColor(\"0xeeeeee\");\n\tviewer_155208821929.zoomTo();\nviewer_155208821929.render();\n});\n</script>",
      "text/html": [
       "<div id=\"3dmolviewer_155208821929\"  style=\"position: relative; width: 600px; height: 600px\">\n",
       "        <p id=\"3dmolwarning_155208821929\" style=\"background-color:#ffcccc;color:black\">You appear to be running in JupyterLab.  You need to install the 3dmol extension: <br>\n",
       "        <tt>jupyter labextension install jupyterlab_3dmol</tt></p>\n",
       "        </div>\n",
       "<script>\n",
       "\n",
       "var loadScriptAsync = function(uri){\n",
       "  return new Promise((resolve, reject) => {\n",
       "    var tag = document.createElement('script');\n",
       "    tag.src = uri;\n",
       "    tag.async = true;\n",
       "    tag.onload = () => {\n",
       "      resolve();\n",
       "    };\n",
       "  var firstScriptTag = document.getElementsByTagName('script')[0];\n",
       "  firstScriptTag.parentNode.insertBefore(tag, firstScriptTag);\n",
       "});\n",
       "};\n",
       "\n",
       "if(typeof $3Dmolpromise === 'undefined') {\n",
       "$3Dmolpromise = null;\n",
       "  $3Dmolpromise = loadScriptAsync('https://3dmol.csb.pitt.edu/build/3Dmol.js');\n",
       "}\n",
       "\n",
       "var viewer_155208821929 = null;\n",
       "var warn = document.getElementById(\"3dmolwarning_155208821929\");\n",
       "if(warn) {\n",
       "    warn.parentNode.removeChild(warn);\n",
       "}\n",
       "$3Dmolpromise.then(function() {\n",
       "viewer_155208821929 = $3Dmol.createViewer($(\"#3dmolviewer_155208821929\"),{backgroundColor:\"white\"});\n",
       "\tviewer_155208821929.addModel(\"\\n     RDKit          3D\\n\\n 14 13  0  0  0  0  0  0  0  0999 V2000\\n   -0.7694   -1.0499   -0.2795 O   0  0  0  0  0  0  0  0  0  0  0  0\\n    0.4463   -0.6076    0.1574 C   0  0  0  0  0  0  0  0  0  0  0  0\\n    0.4765    0.7426    0.7860 C   0  0  0  0  0  0  0  0  0  0  0  0\\n   -1.7760   -0.1126   -0.3122 C   0  0  0  0  0  0  0  0  0  0  0  0\\n    1.4384   -0.6485   -0.9934 C   0  0  0  0  0  3  0  0  0  0  0  0\\n    0.8248   -1.3336    0.9137 H   0  0  0  0  0  0  0  0  0  0  0  0\\n    0.4557    0.6726    1.8934 H   0  0  0  0  0  0  0  0  0  0  0  0\\n   -0.3108    1.4348    0.4648 H   0  0  0  0  0  0  0  0  0  0  0  0\\n    1.4444    1.2533    0.5496 H   0  0  0  0  0  0  0  0  0  0  0  0\\n   -1.9802    0.2422    0.7120 H   0  0  0  0  0  0  0  0  0  0  0  0\\n   -2.6727   -0.6081   -0.7312 H   0  0  0  0  0  0  0  0  0  0  0  0\\n   -1.5114    0.7051   -1.0100 H   0  0  0  0  0  0  0  0  0  0  0  0\\n    2.4162   -1.0254   -0.6493 H   0  0  0  0  0  0  0  0  0  0  0  0\\n    1.5182    0.3351   -1.5014 H   0  0  0  0  0  0  0  0  0  0  0  0\\n  1  2  1  0\\n  1  4  1  0\\n  2  5  1  0\\n  2  6  1  0\\n  2  3  1  0\\n  3  8  1  0\\n  3  7  1  0\\n  3  9  1  0\\n  4 12  1  0\\n  4 10  1  0\\n  4 11  1  0\\n  5 13  1  0\\n  5 14  1  0\\nM  RAD  1   5   2\\nM  END\\n\",\"sdf\");\n",
       "\tviewer_155208821929.setStyle({\"stick\": {}});\n",
       "\tviewer_155208821929.setBackgroundColor(\"0xeeeeee\");\n",
       "\tviewer_155208821929.zoomTo();\n",
       "viewer_155208821929.render();\n",
       "});\n",
       "</script>"
      ]
     },
     "metadata": {},
     "output_type": "display_data"
    },
    {
     "name": "stdout",
     "output_type": "stream",
     "text": [
      "/home/underkoffler.c/Code/Hindered_Rotors/[CH2]C(C)OC/From_Workflow\n",
      "\n",
      "[CH2]C(C)OC FBRHVBFWGRGMCF-UHFFFAOYSA-N-u1_72by10.0_tor01_a1.log\n",
      "[CH2]C(C)OC FBRHVBFWGRGMCF-UHFFFAOYSA-N-u1_72by10.0_tor01_a2.log\n",
      "[CH2]C(C)OC FBRHVBFWGRGMCF-UHFFFAOYSA-N-u1_72by10.0_tor01_a3.log\n",
      "[CH2]C(C)OC FBRHVBFWGRGMCF-UHFFFAOYSA-N-u1_72by10.0_tor01_a4.log\n",
      "\n",
      "[CH2]C(C)OC FBRHVBFWGRGMCF-UHFFFAOYSA-N-u1_72by10.0_tor03_a1.log\n",
      "[CH2]C(C)OC FBRHVBFWGRGMCF-UHFFFAOYSA-N-u1_72by10.0_tor03_a2.log\n",
      "[CH2]C(C)OC FBRHVBFWGRGMCF-UHFFFAOYSA-N-u1_72by10.0_tor03_a3.log\n",
      "[CH2]C(C)OC FBRHVBFWGRGMCF-UHFFFAOYSA-N-u1_72by10.0_tor03_a4.log\n",
      "\n",
      "[CH2]C(C)OC FBRHVBFWGRGMCF-UHFFFAOYSA-N-u1_72by10.0_tor14_a1.log\n",
      "[CH2]C(C)OC FBRHVBFWGRGMCF-UHFFFAOYSA-N-u1_72by10.0_tor14_a2.log\n",
      "[CH2]C(C)OC FBRHVBFWGRGMCF-UHFFFAOYSA-N-u1_72by10.0_tor14_a3.log\n",
      "[CH2]C(C)OC FBRHVBFWGRGMCF-UHFFFAOYSA-N-u1_72by10.0_tor14_a4.log\n",
      "\n",
      "[CH2]C(C)OC FBRHVBFWGRGMCF-UHFFFAOYSA-N-u1_72by10.0_tor12_a1.log\n",
      "[CH2]C(C)OC FBRHVBFWGRGMCF-UHFFFAOYSA-N-u1_72by10.0_tor12_a2.log\n",
      "[CH2]C(C)OC FBRHVBFWGRGMCF-UHFFFAOYSA-N-u1_72by10.0_tor12_a3.log\n",
      "[CH2]C(C)OC FBRHVBFWGRGMCF-UHFFFAOYSA-N-u1_72by10.0_tor12_a4.log\n",
      "===================================================================\n",
      "\n",
      "\n"
     ]
    }
   ],
   "source": [
    "steps = 72\n",
    "step_size = 10.0\n",
    "\n",
    "Conf_list = []\n",
    "\n",
    "Rxn_list = None\n",
    "\n",
    "SMILES_list = [Master_SMILES_list[13]]\n",
    "print SMILES_list\n",
    "\n",
    "scan_progress(steps, step_size, Conf_list, SMILES_list=SMILES_list, Rxn_list=Rxn_list)"
   ]
  },
  {
   "cell_type": "code",
   "execution_count": 19,
   "metadata": {
    "scrolled": true
   },
   "outputs": [
    {
     "name": "stdout",
     "output_type": "stream",
     "text": [
      "['CCC(=O)OC']\n"
     ]
    },
    {
     "data": {
      "application/3dmoljs_load.v0": "<div id=\"3dmolviewer_15520882194\"  style=\"position: relative; width: 600px; height: 600px\">\n        <p id=\"3dmolwarning_15520882194\" style=\"background-color:#ffcccc;color:black\">You appear to be running in JupyterLab.  You need to install the 3dmol extension: <br>\n        <tt>jupyter labextension install jupyterlab_3dmol</tt></p>\n        </div>\n<script>\n\nvar loadScriptAsync = function(uri){\n  return new Promise((resolve, reject) => {\n    var tag = document.createElement('script');\n    tag.src = uri;\n    tag.async = true;\n    tag.onload = () => {\n      resolve();\n    };\n  var firstScriptTag = document.getElementsByTagName('script')[0];\n  firstScriptTag.parentNode.insertBefore(tag, firstScriptTag);\n});\n};\n\nif(typeof $3Dmolpromise === 'undefined') {\n$3Dmolpromise = null;\n  $3Dmolpromise = loadScriptAsync('https://3dmol.csb.pitt.edu/build/3Dmol.js');\n}\n\nvar viewer_15520882194 = null;\nvar warn = document.getElementById(\"3dmolwarning_15520882194\");\nif(warn) {\n    warn.parentNode.removeChild(warn);\n}\n$3Dmolpromise.then(function() {\nviewer_15520882194 = $3Dmol.createViewer($(\"#3dmolviewer_15520882194\"),{backgroundColor:\"white\"});\n\tviewer_15520882194.addModel(\"\\n     RDKit          3D\\n\\n 14 13  0  0  0  0  0  0  0  0999 V2000\\n    0.9670    0.5781   -0.3022 O   0  0  0  0  0  0  0  0  0  0  0  0\\n    0.8375   -1.2638    1.0582 O   0  0  0  0  0  0  0  0  0  0  0  0\\n   -1.1834   -0.7037    0.0040 C   0  0  0  0  0  0  0  0  0  0  0  0\\n   -1.9679    0.5118   -0.3956 C   0  0  0  0  0  0  0  0  0  0  0  0\\n    2.3712    0.4095   -0.3382 C   0  0  0  0  0  0  0  0  0  0  0  0\\n    0.2178   -0.3661    0.4088 C   0  0  0  0  0  0  0  0  0  0  0  0\\n   -1.6390   -1.1572    0.9209 H   0  0  0  0  0  0  0  0  0  0  0  0\\n   -1.1350   -1.4808   -0.7792 H   0  0  0  0  0  0  0  0  0  0  0  0\\n   -2.6985    0.7622    0.4153 H   0  0  0  0  0  0  0  0  0  0  0  0\\n   -2.6056    0.3184   -1.2947 H   0  0  0  0  0  0  0  0  0  0  0  0\\n   -1.3453    1.4161   -0.5325 H   0  0  0  0  0  0  0  0  0  0  0  0\\n    2.5880   -0.3422   -1.1100 H   0  0  0  0  0  0  0  0  0  0  0  0\\n    2.6650   -0.0321    0.6472 H   0  0  0  0  0  0  0  0  0  0  0  0\\n    2.9283    1.3497   -0.4296 H   0  0  0  0  0  0  0  0  0  0  0  0\\n  1  6  1  0\\n  1  5  1  0\\n  2  6  2  0\\n  3  8  1  0\\n  3  6  1  0\\n  3  4  1  0\\n  3  7  1  0\\n  4  9  1  0\\n  4 10  1  0\\n  4 11  1  0\\n  5 14  1  0\\n  5 12  1  0\\n  5 13  1  0\\nM  END\\n\",\"sdf\");\n\tviewer_15520882194.setStyle({\"stick\": {}});\n\tviewer_15520882194.setBackgroundColor(\"0xeeeeee\");\n\tviewer_15520882194.zoomTo();\nviewer_15520882194.render();\n});\n</script>",
      "text/html": [
       "<div id=\"3dmolviewer_15520882194\"  style=\"position: relative; width: 600px; height: 600px\">\n",
       "        <p id=\"3dmolwarning_15520882194\" style=\"background-color:#ffcccc;color:black\">You appear to be running in JupyterLab.  You need to install the 3dmol extension: <br>\n",
       "        <tt>jupyter labextension install jupyterlab_3dmol</tt></p>\n",
       "        </div>\n",
       "<script>\n",
       "\n",
       "var loadScriptAsync = function(uri){\n",
       "  return new Promise((resolve, reject) => {\n",
       "    var tag = document.createElement('script');\n",
       "    tag.src = uri;\n",
       "    tag.async = true;\n",
       "    tag.onload = () => {\n",
       "      resolve();\n",
       "    };\n",
       "  var firstScriptTag = document.getElementsByTagName('script')[0];\n",
       "  firstScriptTag.parentNode.insertBefore(tag, firstScriptTag);\n",
       "});\n",
       "};\n",
       "\n",
       "if(typeof $3Dmolpromise === 'undefined') {\n",
       "$3Dmolpromise = null;\n",
       "  $3Dmolpromise = loadScriptAsync('https://3dmol.csb.pitt.edu/build/3Dmol.js');\n",
       "}\n",
       "\n",
       "var viewer_15520882194 = null;\n",
       "var warn = document.getElementById(\"3dmolwarning_15520882194\");\n",
       "if(warn) {\n",
       "    warn.parentNode.removeChild(warn);\n",
       "}\n",
       "$3Dmolpromise.then(function() {\n",
       "viewer_15520882194 = $3Dmol.createViewer($(\"#3dmolviewer_15520882194\"),{backgroundColor:\"white\"});\n",
       "\tviewer_15520882194.addModel(\"\\n     RDKit          3D\\n\\n 14 13  0  0  0  0  0  0  0  0999 V2000\\n    0.9670    0.5781   -0.3022 O   0  0  0  0  0  0  0  0  0  0  0  0\\n    0.8375   -1.2638    1.0582 O   0  0  0  0  0  0  0  0  0  0  0  0\\n   -1.1834   -0.7037    0.0040 C   0  0  0  0  0  0  0  0  0  0  0  0\\n   -1.9679    0.5118   -0.3956 C   0  0  0  0  0  0  0  0  0  0  0  0\\n    2.3712    0.4095   -0.3382 C   0  0  0  0  0  0  0  0  0  0  0  0\\n    0.2178   -0.3661    0.4088 C   0  0  0  0  0  0  0  0  0  0  0  0\\n   -1.6390   -1.1572    0.9209 H   0  0  0  0  0  0  0  0  0  0  0  0\\n   -1.1350   -1.4808   -0.7792 H   0  0  0  0  0  0  0  0  0  0  0  0\\n   -2.6985    0.7622    0.4153 H   0  0  0  0  0  0  0  0  0  0  0  0\\n   -2.6056    0.3184   -1.2947 H   0  0  0  0  0  0  0  0  0  0  0  0\\n   -1.3453    1.4161   -0.5325 H   0  0  0  0  0  0  0  0  0  0  0  0\\n    2.5880   -0.3422   -1.1100 H   0  0  0  0  0  0  0  0  0  0  0  0\\n    2.6650   -0.0321    0.6472 H   0  0  0  0  0  0  0  0  0  0  0  0\\n    2.9283    1.3497   -0.4296 H   0  0  0  0  0  0  0  0  0  0  0  0\\n  1  6  1  0\\n  1  5  1  0\\n  2  6  2  0\\n  3  8  1  0\\n  3  6  1  0\\n  3  4  1  0\\n  3  7  1  0\\n  4  9  1  0\\n  4 10  1  0\\n  4 11  1  0\\n  5 14  1  0\\n  5 12  1  0\\n  5 13  1  0\\nM  END\\n\",\"sdf\");\n",
       "\tviewer_15520882194.setStyle({\"stick\": {}});\n",
       "\tviewer_15520882194.setBackgroundColor(\"0xeeeeee\");\n",
       "\tviewer_15520882194.zoomTo();\n",
       "viewer_15520882194.render();\n",
       "});\n",
       "</script>"
      ]
     },
     "metadata": {},
     "output_type": "display_data"
    },
    {
     "name": "stdout",
     "output_type": "stream",
     "text": [
      "/home/underkoffler.c/Code/Hindered_Rotors/CCC(=O)OC/From_Workflow\n",
      "\n",
      "\n",
      "CCC(=O)OC RJUFJBKOKNCXHH-UHFFFAOYSA-N_72by10.0_tor05_a1.log\n",
      "<Torsion \"(4, 0, 5, 2)\">\n",
      "Steps:      72\n",
      "Step Size:  10.0\n",
      "Attempt:    1\n",
      "\n"
     ]
    },
    {
     "data": {
      "image/png": "[encoded data removed]",
      "text/plain": [
       "<Figure size 432x288 with 1 Axes>"
      ]
     },
     "metadata": {
      "needs_background": "light"
     },
     "output_type": "display_data"
    },
    {
     "name": "stdout",
     "output_type": "stream",
     "text": [
      "Continuous:   True\n",
      "\tGood Slope:   True\n",
      "\n",
      "Lowest Conf:  True\n",
      "=========================================================\n",
      "\n",
      "\n",
      "CCC(=O)OC RJUFJBKOKNCXHH-UHFFFAOYSA-N_72by10.0_tor05_a2.log\n",
      "CCC(=O)OC RJUFJBKOKNCXHH-UHFFFAOYSA-N_72by10.0_tor05_a3.log\n",
      "CCC(=O)OC RJUFJBKOKNCXHH-UHFFFAOYSA-N_72by10.0_tor05_a4.log\n",
      "\n",
      "\n",
      "CCC(=O)OC RJUFJBKOKNCXHH-UHFFFAOYSA-N_72by10.0_tor04_a1.log\n",
      "<Torsion \"(5, 0, 4, 12)\">\n",
      "Steps:      72\n",
      "Step Size:  10.0\n",
      "Attempt:    1\n",
      "\n"
     ]
    },
    {
     "data": {
      "image/png": "[encoded data removed]",
      "text/plain": [
       "<Figure size 432x288 with 1 Axes>"
      ]
     },
     "metadata": {
      "needs_background": "light"
     },
     "output_type": "display_data"
    },
    {
     "name": "stdout",
     "output_type": "stream",
     "text": [
      "Continuous:   True\n",
      "\tGood Slope:   True\n",
      "\n",
      "Lowest Conf:  True\n",
      "=========================================================\n",
      "\n",
      "\n",
      "CCC(=O)OC RJUFJBKOKNCXHH-UHFFFAOYSA-N_72by10.0_tor04_a2.log\n",
      "CCC(=O)OC RJUFJBKOKNCXHH-UHFFFAOYSA-N_72by10.0_tor04_a3.log\n",
      "CCC(=O)OC RJUFJBKOKNCXHH-UHFFFAOYSA-N_72by10.0_tor04_a4.log\n",
      "\n",
      "\n",
      "CCC(=O)OC RJUFJBKOKNCXHH-UHFFFAOYSA-N_72by10.0_tor25_a1.log\n",
      "<Torsion \"(6, 2, 5, 1)\">\n",
      "Steps:      72\n",
      "Step Size:  10.0\n",
      "Attempt:    1\n",
      "\n"
     ]
    },
    {
     "data": {
      "image/png": "[encoded data removed]",
      "text/plain": [
       "<Figure size 432x288 with 1 Axes>"
      ]
     },
     "metadata": {
      "needs_background": "light"
     },
     "output_type": "display_data"
    },
    {
     "name": "stdout",
     "output_type": "stream",
     "text": [
      "Continuous:   True\n",
      "\tGood Slope:   True\n",
      "\n",
      "Lowest Conf:  True\n",
      "=========================================================\n",
      "\n",
      "\n",
      "CCC(=O)OC RJUFJBKOKNCXHH-UHFFFAOYSA-N_72by10.0_tor25_a2.log\n",
      "CCC(=O)OC RJUFJBKOKNCXHH-UHFFFAOYSA-N_72by10.0_tor25_a3.log\n",
      "CCC(=O)OC RJUFJBKOKNCXHH-UHFFFAOYSA-N_72by10.0_tor25_a4.log\n",
      "\n",
      "\n",
      "CCC(=O)OC RJUFJBKOKNCXHH-UHFFFAOYSA-N_72by10.0_tor23_a1.log\n",
      "<Torsion \"(6, 2, 3, 10)\">\n",
      "Steps:      72\n",
      "Step Size:  10.0\n",
      "Attempt:    1\n",
      "\n",
      "CANNOT Load Scan\n",
      "\n",
      "=========================================================\n",
      "\n",
      "\n",
      "CCC(=O)OC RJUFJBKOKNCXHH-UHFFFAOYSA-N_72by10.0_tor23_a2.log\n",
      "CCC(=O)OC RJUFJBKOKNCXHH-UHFFFAOYSA-N_72by10.0_tor23_a3.log\n",
      "CCC(=O)OC RJUFJBKOKNCXHH-UHFFFAOYSA-N_72by10.0_tor23_a4.log\n",
      "===================================================================\n",
      "\n",
      "\n"
     ]
    }
   ],
   "source": [
    "steps = 72\n",
    "step_size = 10.0\n",
    "\n",
    "Conf_list = []\n",
    "\n",
    "Rxn_list = None\n",
    "\n",
    "SMILES_list = [Master_SMILES_list[14]]\n",
    "print SMILES_list\n",
    "\n",
    "scan_progress(steps, step_size, Conf_list, SMILES_list=SMILES_list, Rxn_list=Rxn_list)"
   ]
  },
  {
   "cell_type": "code",
   "execution_count": 20,
   "metadata": {
    "scrolled": true
   },
   "outputs": [
    {
     "name": "stdout",
     "output_type": "stream",
     "text": [
      "['C[CH]C(=O)OC']\n"
     ]
    },
    {
     "data": {
      "application/3dmoljs_load.v0": "<div id=\"3dmolviewer_155208823529\"  style=\"position: relative; width: 600px; height: 600px\">\n        <p id=\"3dmolwarning_155208823529\" style=\"background-color:#ffcccc;color:black\">You appear to be running in JupyterLab.  You need to install the 3dmol extension: <br>\n        <tt>jupyter labextension install jupyterlab_3dmol</tt></p>\n        </div>\n<script>\n\nvar loadScriptAsync = function(uri){\n  return new Promise((resolve, reject) => {\n    var tag = document.createElement('script');\n    tag.src = uri;\n    tag.async = true;\n    tag.onload = () => {\n      resolve();\n    };\n  var firstScriptTag = document.getElementsByTagName('script')[0];\n  firstScriptTag.parentNode.insertBefore(tag, firstScriptTag);\n});\n};\n\nif(typeof $3Dmolpromise === 'undefined') {\n$3Dmolpromise = null;\n  $3Dmolpromise = loadScriptAsync('https://3dmol.csb.pitt.edu/build/3Dmol.js');\n}\n\nvar viewer_155208823529 = null;\nvar warn = document.getElementById(\"3dmolwarning_155208823529\");\nif(warn) {\n    warn.parentNode.removeChild(warn);\n}\n$3Dmolpromise.then(function() {\nviewer_155208823529 = $3Dmol.createViewer($(\"#3dmolviewer_155208823529\"),{backgroundColor:\"white\"});\n\tviewer_155208823529.addModel(\"\\n     RDKit          3D\\n\\n 13 12  0  0  0  0  0  0  0  0999 V2000\\n    0.9820   -0.0484    0.5540 O   0  0  0  0  0  0  0  0  0  0  0  0\\n    0.5164    1.3683   -1.1293 O   0  0  0  0  0  0  0  0  0  0  0  0\\n   -2.2196    0.0052    0.5868 C   0  0  0  0  0  0  0  0  0  0  0  0\\n    2.3699   -0.1432    0.2398 C   0  0  0  0  0  0  0  0  0  0  0  0\\n   -1.2797   -0.0358   -0.5822 C   0  0  0  0  0  3  0  0  0  0  0  0\\n    0.0568    0.5360   -0.2896 C   0  0  0  0  0  0  0  0  0  0  0  0\\n   -2.7230    0.9824    0.5831 H   0  0  0  0  0  0  0  0  0  0  0  0\\n   -2.9538   -0.8342    0.4776 H   0  0  0  0  0  0  0  0  0  0  0  0\\n   -1.6989   -0.1521    1.5460 H   0  0  0  0  0  0  0  0  0  0  0  0\\n    2.7851    0.8748    0.0403 H   0  0  0  0  0  0  0  0  0  0  0  0\\n    2.8454   -0.6257    1.1135 H   0  0  0  0  0  0  0  0  0  0  0  0\\n    2.5128   -0.8224   -0.6378 H   0  0  0  0  0  0  0  0  0  0  0  0\\n   -1.1936   -1.1050   -0.8849 H   0  0  0  0  0  0  0  0  0  0  0  0\\n  1  4  1  0\\n  1  6  1  0\\n  2  6  2  0\\n  3  9  1  0\\n  3  7  1  0\\n  3  5  1  0\\n  3  8  1  0\\n  4 10  1  0\\n  4 11  1  0\\n  4 12  1  0\\n  5 13  1  0\\n  5  6  1  0\\nM  RAD  1   5   2\\nM  END\\n\",\"sdf\");\n\tviewer_155208823529.setStyle({\"stick\": {}});\n\tviewer_155208823529.setBackgroundColor(\"0xeeeeee\");\n\tviewer_155208823529.zoomTo();\nviewer_155208823529.render();\n});\n</script>",
      "text/html": [
       "<div id=\"3dmolviewer_155208823529\"  style=\"position: relative; width: 600px; height: 600px\">\n",
       "        <p id=\"3dmolwarning_155208823529\" style=\"background-color:#ffcccc;color:black\">You appear to be running in JupyterLab.  You need to install the 3dmol extension: <br>\n",
       "        <tt>jupyter labextension install jupyterlab_3dmol</tt></p>\n",
       "        </div>\n",
       "<script>\n",
       "\n",
       "var loadScriptAsync = function(uri){\n",
       "  return new Promise((resolve, reject) => {\n",
       "    var tag = document.createElement('script');\n",
       "    tag.src = uri;\n",
       "    tag.async = true;\n",
       "    tag.onload = () => {\n",
       "      resolve();\n",
       "    };\n",
       "  var firstScriptTag = document.getElementsByTagName('script')[0];\n",
       "  firstScriptTag.parentNode.insertBefore(tag, firstScriptTag);\n",
       "});\n",
       "};\n",
       "\n",
       "if(typeof $3Dmolpromise === 'undefined') {\n",
       "$3Dmolpromise = null;\n",
       "  $3Dmolpromise = loadScriptAsync('https://3dmol.csb.pitt.edu/build/3Dmol.js');\n",
       "}\n",
       "\n",
       "var viewer_155208823529 = null;\n",
       "var warn = document.getElementById(\"3dmolwarning_155208823529\");\n",
       "if(warn) {\n",
       "    warn.parentNode.removeChild(warn);\n",
       "}\n",
       "$3Dmolpromise.then(function() {\n",
       "viewer_155208823529 = $3Dmol.createViewer($(\"#3dmolviewer_155208823529\"),{backgroundColor:\"white\"});\n",
       "\tviewer_155208823529.addModel(\"\\n     RDKit          3D\\n\\n 13 12  0  0  0  0  0  0  0  0999 V2000\\n    0.9820   -0.0484    0.5540 O   0  0  0  0  0  0  0  0  0  0  0  0\\n    0.5164    1.3683   -1.1293 O   0  0  0  0  0  0  0  0  0  0  0  0\\n   -2.2196    0.0052    0.5868 C   0  0  0  0  0  0  0  0  0  0  0  0\\n    2.3699   -0.1432    0.2398 C   0  0  0  0  0  0  0  0  0  0  0  0\\n   -1.2797   -0.0358   -0.5822 C   0  0  0  0  0  3  0  0  0  0  0  0\\n    0.0568    0.5360   -0.2896 C   0  0  0  0  0  0  0  0  0  0  0  0\\n   -2.7230    0.9824    0.5831 H   0  0  0  0  0  0  0  0  0  0  0  0\\n   -2.9538   -0.8342    0.4776 H   0  0  0  0  0  0  0  0  0  0  0  0\\n   -1.6989   -0.1521    1.5460 H   0  0  0  0  0  0  0  0  0  0  0  0\\n    2.7851    0.8748    0.0403 H   0  0  0  0  0  0  0  0  0  0  0  0\\n    2.8454   -0.6257    1.1135 H   0  0  0  0  0  0  0  0  0  0  0  0\\n    2.5128   -0.8224   -0.6378 H   0  0  0  0  0  0  0  0  0  0  0  0\\n   -1.1936   -1.1050   -0.8849 H   0  0  0  0  0  0  0  0  0  0  0  0\\n  1  4  1  0\\n  1  6  1  0\\n  2  6  2  0\\n  3  9  1  0\\n  3  7  1  0\\n  3  5  1  0\\n  3  8  1  0\\n  4 10  1  0\\n  4 11  1  0\\n  4 12  1  0\\n  5 13  1  0\\n  5  6  1  0\\nM  RAD  1   5   2\\nM  END\\n\",\"sdf\");\n",
       "\tviewer_155208823529.setStyle({\"stick\": {}});\n",
       "\tviewer_155208823529.setBackgroundColor(\"0xeeeeee\");\n",
       "\tviewer_155208823529.zoomTo();\n",
       "viewer_155208823529.render();\n",
       "});\n",
       "</script>"
      ]
     },
     "metadata": {},
     "output_type": "display_data"
    },
    {
     "name": "stdout",
     "output_type": "stream",
     "text": [
      "/home/underkoffler.c/Code/Hindered_Rotors/C[CH]C(=O)OC/From_Workflow\n",
      "\n",
      "C[CH]C(=O)OC DUEVIJNWLJUFDM-UHFFFAOYSA-N-u3_72by10.0_tor03_a1.log\n",
      "C[CH]C(=O)OC DUEVIJNWLJUFDM-UHFFFAOYSA-N-u3_72by10.0_tor03_a2.log\n",
      "C[CH]C(=O)OC DUEVIJNWLJUFDM-UHFFFAOYSA-N-u3_72by10.0_tor03_a3.log\n",
      "C[CH]C(=O)OC DUEVIJNWLJUFDM-UHFFFAOYSA-N-u3_72by10.0_tor03_a4.log\n",
      "\n",
      "C[CH]C(=O)OC DUEVIJNWLJUFDM-UHFFFAOYSA-N-u3_72by10.0_tor05_a1.log\n",
      "C[CH]C(=O)OC DUEVIJNWLJUFDM-UHFFFAOYSA-N-u3_72by10.0_tor05_a2.log\n",
      "C[CH]C(=O)OC DUEVIJNWLJUFDM-UHFFFAOYSA-N-u3_72by10.0_tor05_a3.log\n",
      "C[CH]C(=O)OC DUEVIJNWLJUFDM-UHFFFAOYSA-N-u3_72by10.0_tor05_a4.log\n",
      "\n",
      "C[CH]C(=O)OC DUEVIJNWLJUFDM-UHFFFAOYSA-N-u3_72by10.0_tor24_a1.log\n",
      "C[CH]C(=O)OC DUEVIJNWLJUFDM-UHFFFAOYSA-N-u3_72by10.0_tor24_a2.log\n",
      "C[CH]C(=O)OC DUEVIJNWLJUFDM-UHFFFAOYSA-N-u3_72by10.0_tor24_a3.log\n",
      "C[CH]C(=O)OC DUEVIJNWLJUFDM-UHFFFAOYSA-N-u3_72by10.0_tor24_a4.log\n",
      "\n",
      "C[CH]C(=O)OC DUEVIJNWLJUFDM-UHFFFAOYSA-N-u3_72by10.0_tor45_a1.log\n",
      "C[CH]C(=O)OC DUEVIJNWLJUFDM-UHFFFAOYSA-N-u3_72by10.0_tor45_a2.log\n",
      "C[CH]C(=O)OC DUEVIJNWLJUFDM-UHFFFAOYSA-N-u3_72by10.0_tor45_a3.log\n",
      "C[CH]C(=O)OC DUEVIJNWLJUFDM-UHFFFAOYSA-N-u3_72by10.0_tor45_a4.log\n",
      "===================================================================\n",
      "\n",
      "\n"
     ]
    }
   ],
   "source": [
    "steps = 72\n",
    "step_size = 10.0\n",
    "\n",
    "Conf_list = []\n",
    "\n",
    "Rxn_list = None\n",
    "\n",
    "SMILES_list = [Master_SMILES_list[15]]\n",
    "print SMILES_list\n",
    "\n",
    "scan_progress(steps, step_size, Conf_list, SMILES_list=SMILES_list, Rxn_list=Rxn_list)"
   ]
  },
  {
   "cell_type": "code",
   "execution_count": 21,
   "metadata": {
    "scrolled": true
   },
   "outputs": [
    {
     "name": "stdout",
     "output_type": "stream",
     "text": [
      "['[CH2]CC(=O)OC']\n"
     ]
    },
    {
     "data": {
      "application/3dmoljs_load.v0": "<div id=\"3dmolviewer_155208823541\"  style=\"position: relative; width: 600px; height: 600px\">\n        <p id=\"3dmolwarning_155208823541\" style=\"background-color:#ffcccc;color:black\">You appear to be running in JupyterLab.  You need to install the 3dmol extension: <br>\n        <tt>jupyter labextension install jupyterlab_3dmol</tt></p>\n        </div>\n<script>\n\nvar loadScriptAsync = function(uri){\n  return new Promise((resolve, reject) => {\n    var tag = document.createElement('script');\n    tag.src = uri;\n    tag.async = true;\n    tag.onload = () => {\n      resolve();\n    };\n  var firstScriptTag = document.getElementsByTagName('script')[0];\n  firstScriptTag.parentNode.insertBefore(tag, firstScriptTag);\n});\n};\n\nif(typeof $3Dmolpromise === 'undefined') {\n$3Dmolpromise = null;\n  $3Dmolpromise = loadScriptAsync('https://3dmol.csb.pitt.edu/build/3Dmol.js');\n}\n\nvar viewer_155208823541 = null;\nvar warn = document.getElementById(\"3dmolwarning_155208823541\");\nif(warn) {\n    warn.parentNode.removeChild(warn);\n}\n$3Dmolpromise.then(function() {\nviewer_155208823541 = $3Dmol.createViewer($(\"#3dmolviewer_155208823541\"),{backgroundColor:\"white\"});\n\tviewer_155208823541.addModel(\"\\n     RDKit          3D\\n\\n 13 12  0  0  0  0  0  0  0  0999 V2000\\n   -0.7951    0.4511    0.2978 O   0  0  0  0  0  0  0  0  0  0  0  0\\n   -0.4453   -1.4963    1.3565 O   0  0  0  0  0  0  0  0  0  0  0  0\\n    1.4239   -0.6122    0.1185 C   0  0  0  0  0  0  0  0  0  0  0  0\\n   -2.1924    0.3232    0.1730 C   0  0  0  0  0  0  0  0  0  0  0  0\\n    0.0418   -0.5916    0.6230 C   0  0  0  0  0  0  0  0  0  0  0  0\\n    1.8522    0.7784   -0.2961 C   0  0  0  0  0  3  0  0  0  0  0  0\\n    1.4438   -1.2992   -0.7523 H   0  0  0  0  0  0  0  0  0  0  0  0\\n    2.0700   -0.9820    0.9409 H   0  0  0  0  0  0  0  0  0  0  0  0\\n   -2.7219    0.4365    1.1538 H   0  0  0  0  0  0  0  0  0  0  0  0\\n   -2.5182   -0.6116   -0.3002 H   0  0  0  0  0  0  0  0  0  0  0  0\\n   -2.5232    1.2020   -0.4377 H   0  0  0  0  0  0  0  0  0  0  0  0\\n    2.9403    0.8503   -0.4225 H   0  0  0  0  0  0  0  0  0  0  0  0\\n    1.4241    1.5513    0.3635 H   0  0  0  0  0  0  0  0  0  0  0  0\\n  1  5  1  0\\n  1  4  1  0\\n  2  5  2  0\\n  3  5  1  0\\n  3  7  1  0\\n  3  6  1  0\\n  3  8  1  0\\n  4 11  1  0\\n  4  9  1  0\\n  4 10  1  0\\n  6 12  1  0\\n  6 13  1  0\\nM  RAD  1   6   2\\nM  END\\n\",\"sdf\");\n\tviewer_155208823541.setStyle({\"stick\": {}});\n\tviewer_155208823541.setBackgroundColor(\"0xeeeeee\");\n\tviewer_155208823541.zoomTo();\nviewer_155208823541.render();\n});\n</script>",
      "text/html": [
       "<div id=\"3dmolviewer_155208823541\"  style=\"position: relative; width: 600px; height: 600px\">\n",
       "        <p id=\"3dmolwarning_155208823541\" style=\"background-color:#ffcccc;color:black\">You appear to be running in JupyterLab.  You need to install the 3dmol extension: <br>\n",
       "        <tt>jupyter labextension install jupyterlab_3dmol</tt></p>\n",
       "        </div>\n",
       "<script>\n",
       "\n",
       "var loadScriptAsync = function(uri){\n",
       "  return new Promise((resolve, reject) => {\n",
       "    var tag = document.createElement('script');\n",
       "    tag.src = uri;\n",
       "    tag.async = true;\n",
       "    tag.onload = () => {\n",
       "      resolve();\n",
       "    };\n",
       "  var firstScriptTag = document.getElementsByTagName('script')[0];\n",
       "  firstScriptTag.parentNode.insertBefore(tag, firstScriptTag);\n",
       "});\n",
       "};\n",
       "\n",
       "if(typeof $3Dmolpromise === 'undefined') {\n",
       "$3Dmolpromise = null;\n",
       "  $3Dmolpromise = loadScriptAsync('https://3dmol.csb.pitt.edu/build/3Dmol.js');\n",
       "}\n",
       "\n",
       "var viewer_155208823541 = null;\n",
       "var warn = document.getElementById(\"3dmolwarning_155208823541\");\n",
       "if(warn) {\n",
       "    warn.parentNode.removeChild(warn);\n",
       "}\n",
       "$3Dmolpromise.then(function() {\n",
       "viewer_155208823541 = $3Dmol.createViewer($(\"#3dmolviewer_155208823541\"),{backgroundColor:\"white\"});\n",
       "\tviewer_155208823541.addModel(\"\\n     RDKit          3D\\n\\n 13 12  0  0  0  0  0  0  0  0999 V2000\\n   -0.7951    0.4511    0.2978 O   0  0  0  0  0  0  0  0  0  0  0  0\\n   -0.4453   -1.4963    1.3565 O   0  0  0  0  0  0  0  0  0  0  0  0\\n    1.4239   -0.6122    0.1185 C   0  0  0  0  0  0  0  0  0  0  0  0\\n   -2.1924    0.3232    0.1730 C   0  0  0  0  0  0  0  0  0  0  0  0\\n    0.0418   -0.5916    0.6230 C   0  0  0  0  0  0  0  0  0  0  0  0\\n    1.8522    0.7784   -0.2961 C   0  0  0  0  0  3  0  0  0  0  0  0\\n    1.4438   -1.2992   -0.7523 H   0  0  0  0  0  0  0  0  0  0  0  0\\n    2.0700   -0.9820    0.9409 H   0  0  0  0  0  0  0  0  0  0  0  0\\n   -2.7219    0.4365    1.1538 H   0  0  0  0  0  0  0  0  0  0  0  0\\n   -2.5182   -0.6116   -0.3002 H   0  0  0  0  0  0  0  0  0  0  0  0\\n   -2.5232    1.2020   -0.4377 H   0  0  0  0  0  0  0  0  0  0  0  0\\n    2.9403    0.8503   -0.4225 H   0  0  0  0  0  0  0  0  0  0  0  0\\n    1.4241    1.5513    0.3635 H   0  0  0  0  0  0  0  0  0  0  0  0\\n  1  5  1  0\\n  1  4  1  0\\n  2  5  2  0\\n  3  5  1  0\\n  3  7  1  0\\n  3  6  1  0\\n  3  8  1  0\\n  4 11  1  0\\n  4  9  1  0\\n  4 10  1  0\\n  6 12  1  0\\n  6 13  1  0\\nM  RAD  1   6   2\\nM  END\\n\",\"sdf\");\n",
       "\tviewer_155208823541.setStyle({\"stick\": {}});\n",
       "\tviewer_155208823541.setBackgroundColor(\"0xeeeeee\");\n",
       "\tviewer_155208823541.zoomTo();\n",
       "viewer_155208823541.render();\n",
       "});\n",
       "</script>"
      ]
     },
     "metadata": {},
     "output_type": "display_data"
    },
    {
     "name": "stdout",
     "output_type": "stream",
     "text": [
      "/home/underkoffler.c/Code/Hindered_Rotors/[CH2]CC(=O)OC/From_Workflow\n",
      "\n",
      "[CH2]CC(=O)OC NPQBOSHSVUVOHJ-UHFFFAOYSA-N-u1_72by10.0_tor04_a1.log\n",
      "[CH2]CC(=O)OC NPQBOSHSVUVOHJ-UHFFFAOYSA-N-u1_72by10.0_tor04_a2.log\n",
      "[CH2]CC(=O)OC NPQBOSHSVUVOHJ-UHFFFAOYSA-N-u1_72by10.0_tor04_a3.log\n",
      "[CH2]CC(=O)OC NPQBOSHSVUVOHJ-UHFFFAOYSA-N-u1_72by10.0_tor04_a4.log\n",
      "\n",
      "[CH2]CC(=O)OC NPQBOSHSVUVOHJ-UHFFFAOYSA-N-u1_72by10.0_tor03_a1.log\n",
      "[CH2]CC(=O)OC NPQBOSHSVUVOHJ-UHFFFAOYSA-N-u1_72by10.0_tor03_a2.log\n",
      "[CH2]CC(=O)OC NPQBOSHSVUVOHJ-UHFFFAOYSA-N-u1_72by10.0_tor03_a3.log\n",
      "[CH2]CC(=O)OC NPQBOSHSVUVOHJ-UHFFFAOYSA-N-u1_72by10.0_tor03_a4.log\n",
      "\n",
      "[CH2]CC(=O)OC NPQBOSHSVUVOHJ-UHFFFAOYSA-N-u1_72by10.0_tor24_a1.log\n",
      "[CH2]CC(=O)OC NPQBOSHSVUVOHJ-UHFFFAOYSA-N-u1_72by10.0_tor24_a2.log\n",
      "[CH2]CC(=O)OC NPQBOSHSVUVOHJ-UHFFFAOYSA-N-u1_72by10.0_tor24_a3.log\n",
      "[CH2]CC(=O)OC NPQBOSHSVUVOHJ-UHFFFAOYSA-N-u1_72by10.0_tor24_a4.log\n",
      "\n",
      "[CH2]CC(=O)OC NPQBOSHSVUVOHJ-UHFFFAOYSA-N-u1_72by10.0_tor25_a1.log\n",
      "[CH2]CC(=O)OC NPQBOSHSVUVOHJ-UHFFFAOYSA-N-u1_72by10.0_tor25_a2.log\n",
      "[CH2]CC(=O)OC NPQBOSHSVUVOHJ-UHFFFAOYSA-N-u1_72by10.0_tor25_a3.log\n",
      "[CH2]CC(=O)OC NPQBOSHSVUVOHJ-UHFFFAOYSA-N-u1_72by10.0_tor25_a4.log\n",
      "===================================================================\n",
      "\n",
      "\n"
     ]
    }
   ],
   "source": [
    "steps = 72\n",
    "step_size = 10.0\n",
    "\n",
    "Conf_list = []\n",
    "\n",
    "Rxn_list = None\n",
    "\n",
    "SMILES_list = [Master_SMILES_list[16]]\n",
    "print SMILES_list\n",
    "\n",
    "scan_progress(steps, step_size, Conf_list, SMILES_list=SMILES_list, Rxn_list=Rxn_list)"
   ]
  },
  {
   "cell_type": "code",
   "execution_count": 22,
   "metadata": {
    "scrolled": true
   },
   "outputs": [
    {
     "name": "stdout",
     "output_type": "stream",
     "text": [
      "['[CH2]OC(=O)CC']\n"
     ]
    },
    {
     "data": {
      "application/3dmoljs_load.v0": "<div id=\"3dmolviewer_155208823552\"  style=\"position: relative; width: 600px; height: 600px\">\n        <p id=\"3dmolwarning_155208823552\" style=\"background-color:#ffcccc;color:black\">You appear to be running in JupyterLab.  You need to install the 3dmol extension: <br>\n        <tt>jupyter labextension install jupyterlab_3dmol</tt></p>\n        </div>\n<script>\n\nvar loadScriptAsync = function(uri){\n  return new Promise((resolve, reject) => {\n    var tag = document.createElement('script');\n    tag.src = uri;\n    tag.async = true;\n    tag.onload = () => {\n      resolve();\n    };\n  var firstScriptTag = document.getElementsByTagName('script')[0];\n  firstScriptTag.parentNode.insertBefore(tag, firstScriptTag);\n});\n};\n\nif(typeof $3Dmolpromise === 'undefined') {\n$3Dmolpromise = null;\n  $3Dmolpromise = loadScriptAsync('https://3dmol.csb.pitt.edu/build/3Dmol.js');\n}\n\nvar viewer_155208823552 = null;\nvar warn = document.getElementById(\"3dmolwarning_155208823552\");\nif(warn) {\n    warn.parentNode.removeChild(warn);\n}\n$3Dmolpromise.then(function() {\nviewer_155208823552 = $3Dmol.createViewer($(\"#3dmolviewer_155208823552\"),{backgroundColor:\"white\"});\n\tviewer_155208823552.addModel(\"\\n     RDKit          3D\\n\\n 13 12  0  0  0  0  0  0  0  0999 V2000\\n    1.5419   -0.7910    0.1093 O   0  0  0  0  0  0  0  0  0  0  0  0\\n    0.5122    1.1335    0.7726 O   0  0  0  0  0  0  0  0  0  0  0  0\\n   -0.9291   -0.4086   -0.2755 C   0  0  0  0  0  0  0  0  0  0  0  0\\n   -1.9939    0.3724    0.4788 C   0  0  0  0  0  0  0  0  0  0  0  0\\n    0.4115    0.0328    0.1486 C   0  0  0  0  0  0  0  0  0  0  0  0\\n    2.7853   -0.1422    0.2360 C   0  0  0  0  0  3  0  0  0  0  0  0\\n   -1.1094   -1.4909   -0.0545 H   0  0  0  0  0  0  0  0  0  0  0  0\\n   -1.0999   -0.2971   -1.3742 H   0  0  0  0  0  0  0  0  0  0  0  0\\n   -2.1988   -0.1082    1.4578 H   0  0  0  0  0  0  0  0  0  0  0  0\\n   -2.8969    0.5551   -0.1191 H   0  0  0  0  0  0  0  0  0  0  0  0\\n   -1.5181    1.3543    0.7232 H   0  0  0  0  0  0  0  0  0  0  0  0\\n    3.6443   -0.8191    0.3009 H   0  0  0  0  0  0  0  0  0  0  0  0\\n    2.8510    0.6091   -0.5690 H   0  0  0  0  0  0  0  0  0  0  0  0\\n  1  6  1  0\\n  1  5  1  0\\n  2  5  2  0\\n  3  8  1  0\\n  3  5  1  0\\n  3  7  1  0\\n  3  4  1  0\\n  4 11  1  0\\n  4 10  1  0\\n  4  9  1  0\\n  6 13  1  0\\n  6 12  1  0\\nM  RAD  1   6   2\\nM  END\\n\",\"sdf\");\n\tviewer_155208823552.setStyle({\"stick\": {}});\n\tviewer_155208823552.setBackgroundColor(\"0xeeeeee\");\n\tviewer_155208823552.zoomTo();\nviewer_155208823552.render();\n});\n</script>",
      "text/html": [
       "<div id=\"3dmolviewer_155208823552\"  style=\"position: relative; width: 600px; height: 600px\">\n",
       "        <p id=\"3dmolwarning_155208823552\" style=\"background-color:#ffcccc;color:black\">You appear to be running in JupyterLab.  You need to install the 3dmol extension: <br>\n",
       "        <tt>jupyter labextension install jupyterlab_3dmol</tt></p>\n",
       "        </div>\n",
       "<script>\n",
       "\n",
       "var loadScriptAsync = function(uri){\n",
       "  return new Promise((resolve, reject) => {\n",
       "    var tag = document.createElement('script');\n",
       "    tag.src = uri;\n",
       "    tag.async = true;\n",
       "    tag.onload = () => {\n",
       "      resolve();\n",
       "    };\n",
       "  var firstScriptTag = document.getElementsByTagName('script')[0];\n",
       "  firstScriptTag.parentNode.insertBefore(tag, firstScriptTag);\n",
       "});\n",
       "};\n",
       "\n",
       "if(typeof $3Dmolpromise === 'undefined') {\n",
       "$3Dmolpromise = null;\n",
       "  $3Dmolpromise = loadScriptAsync('https://3dmol.csb.pitt.edu/build/3Dmol.js');\n",
       "}\n",
       "\n",
       "var viewer_155208823552 = null;\n",
       "var warn = document.getElementById(\"3dmolwarning_155208823552\");\n",
       "if(warn) {\n",
       "    warn.parentNode.removeChild(warn);\n",
       "}\n",
       "$3Dmolpromise.then(function() {\n",
       "viewer_155208823552 = $3Dmol.createViewer($(\"#3dmolviewer_155208823552\"),{backgroundColor:\"white\"});\n",
       "\tviewer_155208823552.addModel(\"\\n     RDKit          3D\\n\\n 13 12  0  0  0  0  0  0  0  0999 V2000\\n    1.5419   -0.7910    0.1093 O   0  0  0  0  0  0  0  0  0  0  0  0\\n    0.5122    1.1335    0.7726 O   0  0  0  0  0  0  0  0  0  0  0  0\\n   -0.9291   -0.4086   -0.2755 C   0  0  0  0  0  0  0  0  0  0  0  0\\n   -1.9939    0.3724    0.4788 C   0  0  0  0  0  0  0  0  0  0  0  0\\n    0.4115    0.0328    0.1486 C   0  0  0  0  0  0  0  0  0  0  0  0\\n    2.7853   -0.1422    0.2360 C   0  0  0  0  0  3  0  0  0  0  0  0\\n   -1.1094   -1.4909   -0.0545 H   0  0  0  0  0  0  0  0  0  0  0  0\\n   -1.0999   -0.2971   -1.3742 H   0  0  0  0  0  0  0  0  0  0  0  0\\n   -2.1988   -0.1082    1.4578 H   0  0  0  0  0  0  0  0  0  0  0  0\\n   -2.8969    0.5551   -0.1191 H   0  0  0  0  0  0  0  0  0  0  0  0\\n   -1.5181    1.3543    0.7232 H   0  0  0  0  0  0  0  0  0  0  0  0\\n    3.6443   -0.8191    0.3009 H   0  0  0  0  0  0  0  0  0  0  0  0\\n    2.8510    0.6091   -0.5690 H   0  0  0  0  0  0  0  0  0  0  0  0\\n  1  6  1  0\\n  1  5  1  0\\n  2  5  2  0\\n  3  8  1  0\\n  3  5  1  0\\n  3  7  1  0\\n  3  4  1  0\\n  4 11  1  0\\n  4 10  1  0\\n  4  9  1  0\\n  6 13  1  0\\n  6 12  1  0\\nM  RAD  1   6   2\\nM  END\\n\",\"sdf\");\n",
       "\tviewer_155208823552.setStyle({\"stick\": {}});\n",
       "\tviewer_155208823552.setBackgroundColor(\"0xeeeeee\");\n",
       "\tviewer_155208823552.zoomTo();\n",
       "viewer_155208823552.render();\n",
       "});\n",
       "</script>"
      ]
     },
     "metadata": {},
     "output_type": "display_data"
    },
    {
     "name": "stdout",
     "output_type": "stream",
     "text": [
      "/home/underkoffler.c/Code/Hindered_Rotors/[CH2]OC(=O)CC/From_Workflow\n",
      "\n",
      "[CH2]OC(=O)CC OJWHOIQFDAGZNF-UHFFFAOYSA-N-u2_72by10.0_tor05_a1.log\n",
      "[CH2]OC(=O)CC OJWHOIQFDAGZNF-UHFFFAOYSA-N-u2_72by10.0_tor05_a2.log\n",
      "[CH2]OC(=O)CC OJWHOIQFDAGZNF-UHFFFAOYSA-N-u2_72by10.0_tor05_a3.log\n",
      "[CH2]OC(=O)CC OJWHOIQFDAGZNF-UHFFFAOYSA-N-u2_72by10.0_tor05_a4.log\n",
      "\n",
      "[CH2]OC(=O)CC OJWHOIQFDAGZNF-UHFFFAOYSA-N-u2_72by10.0_tor04_a1.log\n",
      "[CH2]OC(=O)CC OJWHOIQFDAGZNF-UHFFFAOYSA-N-u2_72by10.0_tor04_a2.log\n",
      "[CH2]OC(=O)CC OJWHOIQFDAGZNF-UHFFFAOYSA-N-u2_72by10.0_tor04_a3.log\n",
      "[CH2]OC(=O)CC OJWHOIQFDAGZNF-UHFFFAOYSA-N-u2_72by10.0_tor04_a4.log\n",
      "\n",
      "[CH2]OC(=O)CC OJWHOIQFDAGZNF-UHFFFAOYSA-N-u2_72by10.0_tor24_a1.log\n",
      "[CH2]OC(=O)CC OJWHOIQFDAGZNF-UHFFFAOYSA-N-u2_72by10.0_tor24_a2.log\n",
      "[CH2]OC(=O)CC OJWHOIQFDAGZNF-UHFFFAOYSA-N-u2_72by10.0_tor24_a3.log\n",
      "[CH2]OC(=O)CC OJWHOIQFDAGZNF-UHFFFAOYSA-N-u2_72by10.0_tor24_a4.log\n",
      "\n",
      "[CH2]OC(=O)CC OJWHOIQFDAGZNF-UHFFFAOYSA-N-u2_72by10.0_tor23_a1.log\n",
      "[CH2]OC(=O)CC OJWHOIQFDAGZNF-UHFFFAOYSA-N-u2_72by10.0_tor23_a2.log\n",
      "[CH2]OC(=O)CC OJWHOIQFDAGZNF-UHFFFAOYSA-N-u2_72by10.0_tor23_a3.log\n",
      "[CH2]OC(=O)CC OJWHOIQFDAGZNF-UHFFFAOYSA-N-u2_72by10.0_tor23_a4.log\n",
      "===================================================================\n",
      "\n",
      "\n"
     ]
    }
   ],
   "source": [
    "steps = 72\n",
    "step_size = 10.0\n",
    "\n",
    "Conf_list = []\n",
    "\n",
    "Rxn_list = None\n",
    "\n",
    "SMILES_list = [Master_SMILES_list[17]]\n",
    "print SMILES_list\n",
    "\n",
    "scan_progress(steps, step_size, Conf_list, SMILES_list=SMILES_list, Rxn_list=Rxn_list)"
   ]
  },
  {
   "cell_type": "code",
   "execution_count": 23,
   "metadata": {
    "scrolled": true
   },
   "outputs": [
    {
     "ename": "IndexError",
     "evalue": "list index out of range",
     "output_type": "error",
     "traceback": [
      "\u001b[0;31m---------------------------------------------------------------------------\u001b[0m",
      "\u001b[0;31mIndexError\u001b[0m                                Traceback (most recent call last)",
      "\u001b[0;32m<ipython-input-23-7843500fab39>\u001b[0m in \u001b[0;36m<module>\u001b[0;34m()\u001b[0m\n\u001b[1;32m      6\u001b[0m \u001b[0mRxn_list\u001b[0m \u001b[0;34m=\u001b[0m \u001b[0mNone\u001b[0m\u001b[0;34m\u001b[0m\u001b[0m\n\u001b[1;32m      7\u001b[0m \u001b[0;34m\u001b[0m\u001b[0m\n\u001b[0;32m----> 8\u001b[0;31m \u001b[0mSMILES_list\u001b[0m \u001b[0;34m=\u001b[0m \u001b[0;34m[\u001b[0m\u001b[0mMaster_SMILES_list\u001b[0m\u001b[0;34m[\u001b[0m\u001b[0;36m18\u001b[0m\u001b[0;34m]\u001b[0m\u001b[0;34m]\u001b[0m\u001b[0;34m\u001b[0m\u001b[0m\n\u001b[0m\u001b[1;32m      9\u001b[0m \u001b[0;32mprint\u001b[0m \u001b[0mSMILES_list\u001b[0m\u001b[0;34m\u001b[0m\u001b[0m\n\u001b[1;32m     10\u001b[0m \u001b[0;34m\u001b[0m\u001b[0m\n",
      "\u001b[0;31mIndexError\u001b[0m: list index out of range"
     ]
    }
   ],
   "source": [
    "steps = 72\n",
    "step_size = 10.0\n",
    "\n",
    "Conf_list = []\n",
    "\n",
    "Rxn_list = None\n",
    "\n",
    "SMILES_list = [Master_SMILES_list[18]]\n",
    "print SMILES_list\n",
    "\n",
    "scan_progress(steps, step_size, Conf_list, SMILES_list=SMILES_list, Rxn_list=Rxn_list)"
   ]
  },
  {
   "cell_type": "code",
   "execution_count": null,
   "metadata": {},
   "outputs": [],
   "source": []
  },
  {
   "cell_type": "code",
   "execution_count": null,
   "metadata": {},
   "outputs": [],
   "source": []
  },
  {
   "cell_type": "code",
   "execution_count": null,
   "metadata": {},
   "outputs": [],
   "source": []
  }
 ],
 "metadata": {
  "kernelspec": {
   "display_name": "Python 2",
   "language": "python",
   "name": "python2"
  },
  "language_info": {
   "codemirror_mode": {
    "name": "ipython",
    "version": 2
   },
   "file_extension": ".py",
   "mimetype": "text/x-python",
   "name": "python",
   "nbconvert_exporter": "python",
   "pygments_lexer": "ipython2",
   "version": "2.7.15"
  }
 },
 "nbformat": 4,
 "nbformat_minor": 2
}
