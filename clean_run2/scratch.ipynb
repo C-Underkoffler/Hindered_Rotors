{
 "cells": [
  {
   "cell_type": "code",
   "execution_count": 26,
   "metadata": {},
   "outputs": [],
   "source": [
    "import cclib\n",
    "import os\n",
    "import matplotlib.pyplot as plt\n",
    "%matplotlib inline"
   ]
  },
  {
   "cell_type": "code",
   "execution_count": 24,
   "metadata": {},
   "outputs": [
    {
     "name": "stdout",
     "output_type": "stream",
     "text": [
      "/home/underkoffler.c/Code/Hindered_Rotors/clean_run2/[CH2]COC/From_Workflow\n",
      "/home/underkoffler.c/Code/Hindered_Rotors/clean_run2/[CH2]COC/From_Workflow\n"
     ]
    }
   ],
   "source": [
    "path = '/home/underkoffler.c/Code/Hindered_Rotors/clean_run2/[CH2]COC/From_Workflow'\n",
    "os.chdir(path)\n",
    "print os.getcwd()\n",
    "parser = cclib.io.ccread('ZMAYDFGNKOVZRH-UHFFFAOYSA-N_36by10.0_tor01_a2.log')"
   ]
  },
  {
   "cell_type": "code",
   "execution_count": 10,
   "metadata": {},
   "outputs": [],
   "source": [
    "started = [i for i,status in enumerate(parser.optstatus) if status == 1]\n",
    "finished = [i for i,status in enumerate(parser.optstatus) if (status == 2) or (status == 3)]"
   ]
  },
  {
   "cell_type": "code",
   "execution_count": 11,
   "metadata": {},
   "outputs": [
    {
     "data": {
      "text/plain": [
       "array([2, 1, 0, 0, 0, 2, 1, 0, 0, 0, 2, 1, 0, 0, 2, 1, 0, 0, 0, 2, 1, 0, 0,\n",
       "       0, 2, 1, 0, 0, 2, 1, 0, 0, 0, 2, 1, 0, 0, 2, 1, 0, 0, 0, 2, 1, 0, 0,\n",
       "       0, 0, 0, 0, 0, 0, 0, 0, 0, 0, 0, 0, 0, 0, 2, 1, 0, 0, 0, 2, 1, 0, 0,\n",
       "       0, 2, 1, 0, 0, 2, 1, 0, 0, 2, 1, 0, 0, 2, 1, 0, 0, 0, 2, 1, 0, 0, 2,\n",
       "       1, 0, 0, 0, 2, 1, 0, 0, 0, 0, 2, 1, 0, 0, 0, 0, 0, 0, 0, 0, 2, 1, 0,\n",
       "       0, 2, 1, 0, 2, 1, 0, 0, 2, 1, 0, 0, 2, 1, 0, 0, 0, 2, 1, 0, 0, 0, 0,\n",
       "       0, 0, 0, 0, 0, 0, 0, 0, 0, 0, 0, 0, 0, 0, 0, 0, 0, 0, 0, 0, 0, 0, 0,\n",
       "       0, 0, 0, 0, 0, 0, 0, 0, 0, 0, 0, 0, 0, 0, 0, 0, 0, 0, 0, 3, 1, 0, 0,\n",
       "       0, 0, 0, 0, 0, 0, 0, 0, 2, 1, 0, 0, 2, 1, 0, 0, 2, 1, 0, 0, 2, 1, 0,\n",
       "       0, 0, 0, 2, 1, 0, 0, 0, 0, 0, 0, 0, 0, 0, 0, 0, 0, 0, 2, 1, 0, 0, 0,\n",
       "       2, 1, 0, 0, 2, 1, 0, 0, 2, 1, 0, 0, 2], dtype=int32)"
      ]
     },
     "execution_count": 11,
     "metadata": {},
     "output_type": "execute_result"
    }
   ],
   "source": [
    "parser.optstatus"
   ]
  },
  {
   "cell_type": "code",
   "execution_count": 23,
   "metadata": {},
   "outputs": [],
   "source": [
    "thetas = range(0,370, 10)\n",
    "energies = [parser.scfenergies[index] for index in finished]"
   ]
  },
  {
   "cell_type": "code",
   "execution_count": 31,
   "metadata": {},
   "outputs": [
    {
     "data": {
      "image/png": "[encoded data removed]",
      "text/plain": [
       "<Figure size 432x288 with 1 Axes>"
      ]
     },
     "metadata": {
      "needs_background": "light"
     },
     "output_type": "display_data"
    }
   ],
   "source": [
    "plt.scatter(thetas, energies)\n",
    "plt.show()"
   ]
  },
  {
   "cell_type": "code",
   "execution_count": 28,
   "metadata": {},
   "outputs": [
    {
     "data": {
      "text/plain": [
       "[0,\n",
       " 5,\n",
       " 10,\n",
       " 14,\n",
       " 19,\n",
       " 24,\n",
       " 28,\n",
       " 33,\n",
       " 37,\n",
       " 42,\n",
       " 60,\n",
       " 65,\n",
       " 70,\n",
       " 74,\n",
       " 78,\n",
       " 82,\n",
       " 87,\n",
       " 91,\n",
       " 96,\n",
       " 102,\n",
       " 112,\n",
       " 116,\n",
       " 119,\n",
       " 123,\n",
       " 127,\n",
       " 132,\n",
       " 180,\n",
       " 192,\n",
       " 196,\n",
       " 200,\n",
       " 204,\n",
       " 210,\n",
       " 225,\n",
       " 230,\n",
       " 234,\n",
       " 238,\n",
       " 242]"
      ]
     },
     "execution_count": 28,
     "metadata": {},
     "output_type": "execute_result"
    }
   ],
   "source": [
    "finished"
   ]
  },
  {
   "cell_type": "code",
   "execution_count": 29,
   "metadata": {},
   "outputs": [
    {
     "data": {
      "text/plain": [
       "3"
      ]
     },
     "execution_count": 29,
     "metadata": {},
     "output_type": "execute_result"
    }
   ],
   "source": [
    "parser.optstatus[180]"
   ]
  },
  {
   "cell_type": "code",
   "execution_count": 30,
   "metadata": {},
   "outputs": [
    {
     "data": {
      "text/plain": [
       "-5269.2750897147998"
      ]
     },
     "execution_count": 30,
     "metadata": {},
     "output_type": "execute_result"
    }
   ],
   "source": [
    "parser.scfenergies[180]"
   ]
  },
  {
   "cell_type": "code",
   "execution_count": null,
   "metadata": {},
   "outputs": [],
   "source": []
  }
 ],
 "metadata": {
  "kernelspec": {
   "display_name": "Python 2",
   "language": "python",
   "name": "python2"
  },
  "language_info": {
   "codemirror_mode": {
    "name": "ipython",
    "version": 2
   },
   "file_extension": ".py",
   "mimetype": "text/x-python",
   "name": "python",
   "nbconvert_exporter": "python",
   "pygments_lexer": "ipython2",
   "version": "2.7.15"
  }
 },
 "nbformat": 4,
 "nbformat_minor": 2
}
