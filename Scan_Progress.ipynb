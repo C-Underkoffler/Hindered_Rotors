{
 "cells": [
  {
   "cell_type": "code",
   "execution_count": 3,
   "metadata": {},
   "outputs": [
    {
     "data": {
      "text/html": [
       "<style>.container { width:100% !important; }</style>"
      ],
      "text/plain": [
       "<IPython.core.display.HTML object>"
      ]
     },
     "metadata": {},
     "output_type": "display_data"
    },
    {
     "name": "stderr",
     "output_type": "stream",
     "text": [
      "Using Theano backend.\n",
      "/home/underkoffler.c/Code/RMG-Py/rmgpy/tools/plot.py:34: UserWarning: \n",
      "This call to matplotlib.use() has no effect because the backend has already\n",
      "been chosen; matplotlib.use() must be called *before* pylab, matplotlib.pyplot,\n",
      "or matplotlib.backends is imported for the first time.\n",
      "\n",
      "The backend was *originally* set to 'module://ipykernel.pylab.backend_inline' by the following code:\n",
      "  File \"/home/underkoffler.c/anaconda2/envs/rmg_env/lib/python2.7/runpy.py\", line 174, in _run_module_as_main\n",
      "    \"__main__\", fname, loader, pkg_name)\n",
      "  File \"/home/underkoffler.c/anaconda2/envs/rmg_env/lib/python2.7/runpy.py\", line 72, in _run_code\n",
      "    exec code in run_globals\n",
      "  File \"/home/underkoffler.c/anaconda2/envs/rmg_env/lib/python2.7/site-packages/ipykernel_launcher.py\", line 16, in <module>\n",
      "    app.launch_new_instance()\n",
      "  File \"/home/underkoffler.c/anaconda2/envs/rmg_env/lib/python2.7/site-packages/traitlets/config/application.py\", line 658, in launch_instance\n",
      "    app.start()\n",
      "  File \"/home/underkoffler.c/anaconda2/envs/rmg_env/lib/python2.7/site-packages/ipykernel/kernelapp.py\", line 499, in start\n",
      "    self.io_loop.start()\n",
      "  File \"/home/underkoffler.c/anaconda2/envs/rmg_env/lib/python2.7/site-packages/tornado/ioloop.py\", line 1073, in start\n",
      "    handler_func(fd_obj, events)\n",
      "  File \"/home/underkoffler.c/anaconda2/envs/rmg_env/lib/python2.7/site-packages/tornado/stack_context.py\", line 300, in null_wrapper\n",
      "    return fn(*args, **kwargs)\n",
      "  File \"/home/underkoffler.c/anaconda2/envs/rmg_env/lib/python2.7/site-packages/zmq/eventloop/zmqstream.py\", line 450, in _handle_events\n",
      "    self._handle_recv()\n",
      "  File \"/home/underkoffler.c/anaconda2/envs/rmg_env/lib/python2.7/site-packages/zmq/eventloop/zmqstream.py\", line 480, in _handle_recv\n",
      "    self._run_callback(callback, msg)\n",
      "  File \"/home/underkoffler.c/anaconda2/envs/rmg_env/lib/python2.7/site-packages/zmq/eventloop/zmqstream.py\", line 432, in _run_callback\n",
      "    callback(*args, **kwargs)\n",
      "  File \"/home/underkoffler.c/anaconda2/envs/rmg_env/lib/python2.7/site-packages/tornado/stack_context.py\", line 300, in null_wrapper\n",
      "    return fn(*args, **kwargs)\n",
      "  File \"/home/underkoffler.c/anaconda2/envs/rmg_env/lib/python2.7/site-packages/ipykernel/kernelbase.py\", line 283, in dispatcher\n",
      "    return self.dispatch_shell(stream, msg)\n",
      "  File \"/home/underkoffler.c/anaconda2/envs/rmg_env/lib/python2.7/site-packages/ipykernel/kernelbase.py\", line 233, in dispatch_shell\n",
      "    handler(stream, idents, msg)\n",
      "  File \"/home/underkoffler.c/anaconda2/envs/rmg_env/lib/python2.7/site-packages/ipykernel/kernelbase.py\", line 399, in execute_request\n",
      "    user_expressions, allow_stdin)\n",
      "  File \"/home/underkoffler.c/anaconda2/envs/rmg_env/lib/python2.7/site-packages/ipykernel/ipkernel.py\", line 208, in do_execute\n",
      "    res = shell.run_cell(code, store_history=store_history, silent=silent)\n",
      "  File \"/home/underkoffler.c/anaconda2/envs/rmg_env/lib/python2.7/site-packages/ipykernel/zmqshell.py\", line 537, in run_cell\n",
      "    return super(ZMQInteractiveShell, self).run_cell(*args, **kwargs)\n",
      "  File \"/home/underkoffler.c/anaconda2/envs/rmg_env/lib/python2.7/site-packages/IPython/core/interactiveshell.py\", line 2714, in run_cell\n",
      "    interactivity=interactivity, compiler=compiler, result=result)\n",
      "  File \"/home/underkoffler.c/anaconda2/envs/rmg_env/lib/python2.7/site-packages/IPython/core/interactiveshell.py\", line 2818, in run_ast_nodes\n",
      "    if self.run_code(code, result):\n",
      "  File \"/home/underkoffler.c/anaconda2/envs/rmg_env/lib/python2.7/site-packages/IPython/core/interactiveshell.py\", line 2878, in run_code\n",
      "    exec(code_obj, self.user_global_ns, self.user_ns)\n",
      "  File \"<ipython-input-3-9a6a47d14784>\", line 12, in <module>\n",
      "    get_ipython().magic(u'matplotlib inline')\n",
      "  File \"/home/underkoffler.c/anaconda2/envs/rmg_env/lib/python2.7/site-packages/IPython/core/interactiveshell.py\", line 2160, in magic\n",
      "    return self.run_line_magic(magic_name, magic_arg_s)\n",
      "  File \"/home/underkoffler.c/anaconda2/envs/rmg_env/lib/python2.7/site-packages/IPython/core/interactiveshell.py\", line 2081, in run_line_magic\n",
      "    result = fn(*args,**kwargs)\n",
      "  File \"<decorator-gen-105>\", line 2, in matplotlib\n",
      "  File \"/home/underkoffler.c/anaconda2/envs/rmg_env/lib/python2.7/site-packages/IPython/core/magic.py\", line 188, in <lambda>\n",
      "    call = lambda f, *a, **k: f(*a, **k)\n",
      "  File \"/home/underkoffler.c/anaconda2/envs/rmg_env/lib/python2.7/site-packages/IPython/core/magics/pylab.py\", line 100, in matplotlib\n",
      "    gui, backend = self.shell.enable_matplotlib(args.gui)\n",
      "  File \"/home/underkoffler.c/anaconda2/envs/rmg_env/lib/python2.7/site-packages/IPython/core/interactiveshell.py\", line 2966, in enable_matplotlib\n",
      "    pt.activate_matplotlib(backend)\n",
      "  File \"/home/underkoffler.c/anaconda2/envs/rmg_env/lib/python2.7/site-packages/IPython/core/pylabtools.py\", line 315, in activate_matplotlib\n",
      "    matplotlib.pyplot.switch_backend(backend)\n",
      "  File \"/home/underkoffler.c/anaconda2/envs/rmg_env/lib/python2.7/site-packages/matplotlib/pyplot.py\", line 231, in switch_backend\n",
      "    matplotlib.use(newbackend, warn=False, force=True)\n",
      "  File \"/home/underkoffler.c/anaconda2/envs/rmg_env/lib/python2.7/site-packages/matplotlib/__init__.py\", line 1422, in use\n",
      "    reload(sys.modules['matplotlib.backends'])\n",
      "  File \"/home/underkoffler.c/anaconda2/envs/rmg_env/lib/python2.7/site-packages/matplotlib/backends/__init__.py\", line 16, in <module>\n",
      "    line for line in traceback.format_stack()\n",
      "\n",
      "\n",
      "  mpl.use('Agg')\n"
     ]
    }
   ],
   "source": [
    "from IPython.core.display import display, HTML\n",
    "display(HTML(\"<style>.container { width:100% !important; }</style>\"))\n",
    "\n",
    "from rdkit import Chem\n",
    "\n",
    "from hotbit import Hotbit\n",
    "\n",
    "import os\n",
    "import cclib\n",
    "\n",
    "import matplotlib.pyplot as plt\n",
    "%matplotlib inline\n",
    "\n",
    "import subprocess\n",
    "import shlex\n",
    "\n",
    "from autotst.job import Job as AutoTST_Job\n",
    "from autotst.species import Conformer, Species\n",
    "from autotst.calculators.gaussian import Gaussian as AutoTST_Gaussian\n",
    "from autotst.reaction import Reaction\n",
    "\n",
    "from rmgpy.molecule import Molecule as RMG_Molecule\n"
   ]
  },
  {
   "cell_type": "code",
   "execution_count": null,
   "metadata": {},
   "outputs": [],
   "source": []
  },
  {
   "cell_type": "code",
   "execution_count": null,
   "metadata": {},
   "outputs": [],
   "source": []
  },
  {
   "cell_type": "code",
   "execution_count": 16,
   "metadata": {},
   "outputs": [],
   "source": [
    "def get_opt_energies(scan_log):\n",
    "    \"\"\"\n",
    "    Sets data attributes using cclib and Arkane\n",
    "\n",
    "    scan_log :: name of scan log\n",
    "    path     :: path to scan log\n",
    "    \"\"\"\n",
    "    parser = cclib.io.ccread(scan_log)\n",
    "\n",
    "    opt_indices = [i for i, status in enumerate(parser.optstatus) if status==2]\n",
    "    opt_SCFEnergies = [parser.scfenergies[index] for index in opt_indices]\n",
    "\n",
    "    return [opt_SCFEnergies, parser]\n",
    "\n",
    "\n",
    "def exists_and_complete(path):\n",
    "    exists_and_complete = False\n",
    "    auto_g = AutoTST_Gaussian()\n",
    "    \n",
    "    if os.path.isfile(path):\n",
    "        if False not in auto_g.verify_output_file(path):\n",
    "            exists_and_complete = True\n",
    "    \n",
    "    return exists_and_complete\n",
    "\n",
    "\n",
    "def scan_progress(steps, step_size, Conf_list, SMILES_list=None, Rxn_list=None):\n",
    "    auto_job = AutoTST_Job()\n",
    "    assert (SMILES_list is not None) or (Rxn_list is not None) or (len(Conf_list)!=0)\n",
    "\n",
    "    if (Rxn_list is not None):\n",
    "        for rxn in Rxn_list:\n",
    "            for species in rxn.reactants:\n",
    "                for reac_list in species.conformers.values():\n",
    "                    Conf_list += reac_list\n",
    "\n",
    "            for species in rxn.products:\n",
    "                for prod_list in species.conformers.values():\n",
    "                    Conf_list += prod_list\n",
    "\n",
    "\n",
    "    Conf_list += [Conformer(SMILES) for SMILES in SMILES_list]\n",
    "\n",
    "    for conf in Conf_list:\n",
    "        SMILES = conf.smiles\n",
    "        \n",
    "        augInChIKey = Chem.rdinchi.InchiToInchiKey(Chem.MolToInchi(\n",
    "            Chem.MolFromSmiles(SMILES)))\n",
    "                \n",
    "        conf.view()\n",
    "        path = '/home/underkoffler.c/Code/Hindered_Rotors/{}/From_Workflow'.format(SMILES)\n",
    "        os.chdir(path)\n",
    "        print os.getcwd()\n",
    "        \n",
    "        for torsion in conf.torsions:\n",
    "            print\n",
    "            attempt = 1\n",
    "            while attempt < 5:\n",
    "                c_attempt = attempt\n",
    "                attempt += 1\n",
    "\n",
    "                [i, j, k, l] = torsion.atom_indices \n",
    "\n",
    "                output_log = augInChIKey + '_{0}by{1}_tor{2}{3}_a{4}.log'.format(steps, step_size, j, k, c_attempt)\n",
    "\n",
    "                if not exists_and_complete(output_log):\n",
    "                    print SMILES, output_log\n",
    "                    continue\n",
    "                else:\n",
    "                    print '\\n', SMILES, output_log\n",
    "\n",
    "                print torsion\n",
    "                print 'Steps:     ', steps\n",
    "                print 'Step Size: ', step_size\n",
    "                print 'Attempt:   ', c_attempt\n",
    "                print\n",
    "\n",
    "\n",
    "                try:\n",
    "                    opt_SCFenergies, parser = get_opt_energies(output_log)\n",
    "                    thetas = [i*step_size for i in range(steps+1)]\n",
    "\n",
    "                    assert len(thetas) == len(opt_SCFenergies)\n",
    "                    plt.scatter(thetas, opt_SCFenergies)\n",
    "                    plt.ylim(-9785.1, -9784.5)\n",
    "                    plt.show()\n",
    "\n",
    "                    print 'Continuous:  ', auto_job.check_rotor_continuous(steps, step_size, parser=parser)\n",
    "                    print '\\nGood Slope:  ', auto_job.check_rotor_slope(steps, step_size, parser=parser)\n",
    "                    print '\\nLowest Conf: ', auto_job.check_rotor_lowest_conf(parser=parser)[0]\n",
    "                    print '=========================================================\\n\\n'\n",
    "                except:\n",
    "                    print 'CANNOT Load Scan\\n'\n",
    "\n",
    "                    print '=========================================================\\n\\n'\n",
    "        \n",
    "        print '===================================================================\\n\\n'\n",
    "\n",
    "    return\n",
    "\n",
    "\n",
    "def updated_conf_from_scan(conf, steps, step_size, attempt):\n",
    "    \n",
    "    augInChIKey = Chem.rdinchi.InchiToInchiKey(Chem.MolToInchi(\n",
    "            Chem.MolFromSmiles(conf.smiles)))\n",
    "        \n",
    "    multiplicity = conf.rmg_molecule.multiplicity\n",
    "    \n",
    "    min_atomnos = None\n",
    "    min_atomcoords = None\n",
    "    min_energy = None\n",
    "    \n",
    "    desp_atomnos = None\n",
    "    desp_atomcoords = None\n",
    "    desp_energy = None\n",
    "    \n",
    "    using_lowest = True\n",
    "\n",
    "    for torsion in conf.torsions:\n",
    "        (i, j, k, l) = torsion.atom_indices\n",
    "\n",
    "        output_log = '{0}_{1}by{2}_tor{3}{4}_a{5}.log'.format(augInChIKey, steps, step_size, j, k, attempt)\n",
    "        assert exists_and_complete(output_log), 'Run currently in progress or DNF. Maybe rerun to completion or delete'\n",
    "\n",
    "        parser = cclib.io.ccread(output_log)\n",
    "        \n",
    "        scan_info = auto_job.check_rotor_lowest_conf(steps, step_size, parser=parser)\n",
    "        [lowest_conf, energy, atomnos, atomcoords] = scan_info\n",
    "        \n",
    "        continuous = auto_job.check_rotor_continuous(steps, step_size, parser=parser)\n",
    "        good_slope = auto_job.check_rotor_slope(steps, step_size, parser=parser)\n",
    "        \n",
    "        if not lowest_conf:\n",
    "            using_lowest = False\n",
    "            if (energy < min_energy) or (min_energy is None):\n",
    "                min_energy = energy\n",
    "                min_atomnos = atomnos\n",
    "                min_atomcoords = atomcoords\n",
    "        \n",
    "        elif good_slope and not continuous:\n",
    "            last_geo = energies_of_interest(parser=parser)\n",
    "            if (last_geo[1] < desp_energy) or (desp_energy is None):\n",
    "                desp_atomnos = parser.atomnos\n",
    "                desp_atomcoords = last_geo[0]\n",
    "                desp_energy = last_geo[1]\n",
    "\n",
    "    new_coords = None\n",
    "    new_energy = None\n",
    "    new_atomnos = None\n",
    "\n",
    "    if not using_lowest:\n",
    "        new_coords = min_atomcoords\n",
    "        new_energy = min_energy\n",
    "        new_atomnos = min_atomnos\n",
    "    else:\n",
    "        new_coords = desp_atomcoords\n",
    "        new_energy = desp_energy\n",
    "        new_atomnos = desp_atomnos\n",
    "    \n",
    "    for atom, atomno in zip(conf.rmg_molecule.atoms, new_atomnos):\n",
    "        assert atom.number == atomno\n",
    "        \n",
    "    conf.ase_molecule.set_positions(newpositions=np.array(new_atomcoords))\n",
    "    conf.update_coords_from(mol_type='ase')\n",
    "    \n",
    "    return conf\n",
    "\n",
    "\n",
    "\n",
    "def hotbit_lowest_conf(SMILES):\n",
    "    SMILES_list = [SMILES]\n",
    "    spec = Species(SMILES_list)\n",
    "    spec.generate_conformers(calculator=Hotbit())\n",
    "\n",
    "    lowest_conf = None\n",
    "    lowest_energy = None\n",
    "    for smiles, confs in spec.conformers.items():\n",
    "        for conf in confs:\n",
    "            conf.ase_molecule.set_calculator(Hotbit())\n",
    "            conf.energy = conf.ase_molecule.get_potential_energy()\n",
    "\n",
    "            if (conf.energy < lowest_energy) or (lowest_energy is None):\n",
    "                lowest_energy = conf.energy\n",
    "                lowest_conf = conf\n",
    "\n",
    "    return lowest_conf\n",
    "\n",
    "\n",
    "\n",
    "\n",
    "def rote_Rotor_Input(conformer, \n",
    "                     torsion, \n",
    "                     file_name, \n",
    "                     path=None, \n",
    "                     method='m062x', \n",
    "                     basis='6-311+g(2df,2p)', \n",
    "                     job='Opt=(CalcFC,ModRedun)', \n",
    "                     steps=72, \n",
    "                     stepsize_deg=10.0):\n",
    "    \"\"\"\n",
    "    Write Gaussian input file for torsion scan\n",
    "\n",
    "    conformer :: Conformer Object\n",
    "    torsion   :: Torsion Object\n",
    "    file_name :: desired file name to be written to\n",
    "    \n",
    "    path     :: path of file to write\n",
    "    method   :: Gaussian method\n",
    "    basis    :: Gaussian basis\n",
    "    job      :: Gaussian job key word\n",
    "\n",
    "    steps        :: Number of steps in scan\n",
    "    stepsize_deg :: change in DEGREES between steps\n",
    "    \"\"\"\n",
    "    \n",
    "    if path is None:\n",
    "        path = os.getcwd()\n",
    "\n",
    "    assert isinstance(stepsize_deg, float)\n",
    "    (i, j, k, l) = (-1, -1, -1, -1)\n",
    "    (i, j, k, l) = torsion.atom_indices\n",
    "    mol = conformer.rmg_molecule\n",
    "    mol.updateMultiplicity()\n",
    "\n",
    "    output = '%nprocshared=20\\n'\n",
    "    output += '%mem=5GB\\n'\n",
    "    output += '#p {0}/{1} {2}\\n'.format(method, basis, job)\n",
    "    output += '\\nGaussian Input Prepared from Scan Object\\n'\n",
    "    output += '\\n0 {}\\n'.format(mol.multiplicity)\n",
    "\n",
    "    for i, atom in enumerate(mol.atoms):\n",
    "        output += \"{}     {}     {}     {}\\n\".format(atom.element, atom.coords[0], atom.coords[1], atom.coords[2])\n",
    "\n",
    "    output += '\\n'\n",
    "\n",
    "    # For atom IDs, need to be careful to adjust mol's IDs by +1 so that they start at 1 instead of zero\n",
    "    for bond in mol.getAllEdges():\n",
    "        output += 'B {0} {1}\\n'.format(bond.atom1.sortingLabel+1, bond.atom2.sortingLabel+1)\n",
    "\n",
    "        \n",
    "    assert (i!=j) and (j!=k) and (k!=l)\n",
    "    \n",
    "    output = output + 'D {0} {1} {2} {3} S {4} {5}'.format(i+1,\n",
    "                                                           j+1,\n",
    "                                                           k+1,\n",
    "                                                           l+1,\n",
    "                                                           steps,\n",
    "                                                           stepsize_deg)\n",
    "    output += '\\n\\n\\n'\n",
    "\n",
    "    with open(os.path.join(path, file_name), 'w') as F:\n",
    "        F.write(output)\n",
    "        F.close\n",
    "\n",
    "    return\n",
    "\n",
    "\n",
    "\n",
    "\n",
    "\n",
    "def improve_scans(steps, step_size, Conf_list, SMILES_list=None, Rxn_List=None, base_path=None):\n",
    "    assert (SMILES_list is not None) or (Rxn_list is not None) or (len(Conf_list)!=0)\n",
    "\n",
    "    if (Rxn_list is not None):\n",
    "        for rxn in Rxn_list:\n",
    "            for species in rxn.reactants:\n",
    "                for reac_list in species.conformers.values():\n",
    "                    Conf_list += reac_list\n",
    "\n",
    "            for species in rxn.products:\n",
    "                for prod_list in species.conformers.values():\n",
    "                    Conf_list += prod_list\n",
    "\n",
    "\n",
    "    Conf_list += [Conformer(SMILES) for SMILES in SMILES_list]\n",
    "\n",
    "    \n",
    "    for conf in Conf_list:\n",
    "        SMILES = conf.smiles\n",
    "        path = '{}/{}/From_Workflow'.format(base_path, SMILES)\n",
    "\n",
    "        os.chdir(path)\n",
    "\n",
    "        augInChIKey = Chem.rdinchi.InchiToInchiKey(Chem.MolToInchi(\n",
    "                    Chem.MolFromSmiles(SMILES)))\n",
    "                \n",
    "        \n",
    "        (i, j, k, l) = conf.torsions[0].atom_indices\n",
    "\n",
    "\n",
    "        tor_base = '{0}_{1}by{2}_tor{3}{4}'.format(augInChIKey, steps, step_size, j, k)\n",
    "\n",
    "        prev_attempt = 10\n",
    "        file_name = tor_base + '_a{}.log'.format(prev_attempt)\n",
    "\n",
    "        while not os.path.isfile(file_name):\n",
    "            prev_attempt -= 1\n",
    "            assert prev_attempt != 0\n",
    "            file_name = tor_base + '_a{}.log'.format(prev_attempt)\n",
    "\n",
    "        print SMILES\n",
    "        print '  Previous Attempt: ', prev_attempt\n",
    "\n",
    "        current_attempt = prev_attempt + 1\n",
    "\n",
    "        all_verified, up_conf = updated_conf_from_scan(conf, steps, step_size, prev_attempt)\n",
    "\n",
    "        if all_verified:\n",
    "            print '  New Lowest Conformer Not Found'\n",
    "        else:\n",
    "            print '  Updated Conformer Found'\n",
    "\n",
    "            augInChIKey = Chem.rdinchi.InchiToInchiKey(Chem.MolToInchi(\n",
    "                Chem.MolFromSmiles(conf.smiles)))\n",
    "\n",
    "\n",
    "            for torsion in up_conf.get_torsions():\n",
    "\n",
    "            \n",
    "                (i, j, k, l) = torsion.atom_indices\n",
    "\n",
    "                assert exists_and_complete('{}_{}by{}_tor{}{}_a{}.log'.format(augInChIKey, steps, step_size, j, k, current_attempt-1)), '{}_{}by{}_tor{}{}_a{}.log'.format(augInChIKey, steps, step_size, j, k, current_attempt-1)\n",
    "                assert not os.path.isfile('{}_{}by{}_tor{}{}_a{}.log'.format(augInChIKey, steps, step_size, j, k, current_attempt)), '{}_{}by{}_tor{}{}_a{}.log'.format(augInChIKey, steps, step_size, j, k, current_attempt)\n",
    "                input_com = '{}_{}by{}_tor{}{}_a{}.com'.format(augInChIKey, steps, step_size, j, k, current_attempt)\n",
    "                rote_Rotor_Input(up_conf, torsion, input_com, path=path)\n",
    "                new_tor_base = input_com.strip('.com')\n",
    "                print new_tor_base\n",
    "                #subprocess.call(shlex.split('sbatch rotors_run_template.sh {0}'.format(new_tor_base)))\n",
    "\n",
    "    return"
   ]
  },
  {
   "cell_type": "code",
   "execution_count": null,
   "metadata": {},
   "outputs": [],
   "source": [
    "import os\n",
    "import cclib\n",
    "from rdkit import Chem\n",
    "import subprocess\n",
    "import shlex\n",
    "\n",
    "\n",
    "\n",
    "conf = Conformer('ONCC(=O)O')\n",
    "path = '/home/underkoffler.c/Code/Hindered_Rotors/ONCC(=O)O/From_Workflow'\n",
    "attempt = 4\n",
    "steps = 72\n",
    "step_size = 10.0\n",
    "\n",
    "\n",
    "\n",
    "\n",
    "os.chdir(path)\n",
    "print os.getcwd()\n",
    "\n",
    "augInChIKey = Chem.rdinchi.InchiToInchiKey(Chem.MolToInchi(\n",
    "        Chem.MolFromSmiles(conf.smiles)))\n",
    "\n",
    "multiplicity = conf.rmg_molecule.multiplicity\n",
    "\n",
    "\n",
    "output_log = 'NPWGWQRXHVJJRD-UHFFFAOYSA-N_72by10.0_tor34_a3.log'\n",
    "\n",
    "parser = cclib.io.ccread(output_log)\n",
    "\n",
    "opt_indices = [i for i, status in enumerate(parser.optstatus) if status==2]\n",
    "#opt_SCFEnergies = [parser.scfenergies[index] for index in opt_indices]\n",
    "\n",
    "last_idx = opt_indices[-1]\n",
    "\n",
    "atomnos = parser.atomnos\n",
    "atomcoords = parser.atomcoords[last_idx]\n",
    "\n",
    "for atom, atomno, atomcoord in zip(conf.rmg_molecule.atoms, atomnos, atomcoords):\n",
    "    assert atom.number == atomno\n",
    "    atom.coords = atomcoord\n",
    "\n",
    "for torsion in conf.get_torsions():\n",
    "    \n",
    "    (i, j, k, l) = torsion.atom_indices\n",
    "    \n",
    "    if j==3 and k==4:\n",
    "        rotor_name = augInChIKey + '_{}by{}_tor{}{}_a{}.com'.format(steps, step_size, j, k, attempt)\n",
    "        print rotor_name\n",
    "        rote_Rotor_Input(conf, torsion, file_name=rotor_name)\n",
    "        base_rotor_name = rotor_name.strip('.com')\n",
    "        #subprocess.call(shlex.split('sbatch rotors_run_template.sh {0}'.format(base_rotor_name)))\n"
   ]
  },
  {
   "cell_type": "code",
   "execution_count": null,
   "metadata": {},
   "outputs": [],
   "source": [
    "\n",
    "\n",
    "steps = 72\n",
    "step_size = 10.0\n",
    "\n",
    "Conf_list = []\n",
    "\n",
    "Rxn_list = None\n",
    "\n",
    "Master_SMILES_list = [\n",
    "    'CCCCO',\n",
    "    'CCCC[O]',\n",
    "    'CCC[CH]O',\n",
    "    'CC[CH]CO',\n",
    "    'C[CH]CCO',\n",
    "    '[CH2]CCCO',\n",
    "    'CCOC',\n",
    "    'C[CH]OC',\n",
    "    'CCO[CH2]',\n",
    "    '[CH2]COC',\n",
    "    'COC(C)C',\n",
    "    'CO[C](C)C',\n",
    "    '[CH2]OC(C)C',\n",
    "    '[CH2]C(C)OC',\n",
    "    'CCC(=O)OC',\n",
    "    'C[CH]C(=O)OC',\n",
    "    '[CH2]CC(=O)OC',\n",
    "    '[CH2]OC(=O)CC'\n",
    "]\n"
   ]
  },
  {
   "cell_type": "code",
   "execution_count": 5,
   "metadata": {},
   "outputs": [
    {
     "name": "stdout",
     "output_type": "stream",
     "text": [
      "ONCC(=O)O\n",
      "  Previous Attempt:  4\n",
      "\n"
     ]
    }
   ],
   "source": [
    "auto_job = AutoTST_Job()\n",
    "\n",
    "SMILES_list = ['ONCC(=O)O']\n",
    "Conf_list = []\n",
    "Rxn_list = None\n",
    "\n",
    "\n",
    "assert (SMILES_list is not None) or (Rxn_list is not None) or (len(Conf_list)!=0)\n",
    "\n",
    "if (Rxn_list is not None):\n",
    "    for rxn in Rxn_list:\n",
    "        for species in rxn.reactants:\n",
    "            for reac_list in species.conformers.values():\n",
    "                Conf_list += reac_list\n",
    "\n",
    "        for species in rxn.products:\n",
    "            for prod_list in species.conformers.values():\n",
    "                Conf_list += prod_list\n",
    "\n",
    "\n",
    "Conf_list += [Conformer(SMILES) for SMILES in SMILES_list]\n",
    "\n",
    "\n",
    "for conf in Conf_list:\n",
    "    conf = Conformer(SMILES)\n",
    "    path = '/home/underkoffler.c/Code/Hindered_Rotors/{}/From_Workflow'.format(SMILES)\n",
    "\n",
    "    os.chdir(path)\n",
    "\n",
    "    augInChIKey = Chem.rdinchi.InchiToInchiKey(Chem.MolToInchi(\n",
    "        Chem.MolFromSmiles(SMILES)))\n",
    "                \n",
    "    (i, j, k, l) = conf.torsions[0].atom_indices\n",
    "\n",
    "    steps = 72\n",
    "    step_size = 10.0\n",
    "    tor_base = '{0}_{1}by{2}_tor{3}{4}'.format(augInChIKey, steps, step_size, j, k)\n",
    "\n",
    "    prev_attempt = 10\n",
    "    file_name = tor_base + '_a{}.log'.format(prev_attempt)\n",
    "\n",
    "    while not os.path.isfile(file_name):\n",
    "        prev_attempt -= 1\n",
    "        assert prev_attempt != 0\n",
    "        file_name = tor_base + '_a{}.log'.format(prev_attempt)\n",
    "    print SMILES\n",
    "    print '  Previous Attempt: ', prev_attempt\n",
    "    print"
   ]
  },
  {
   "cell_type": "code",
   "execution_count": 9,
   "metadata": {},
   "outputs": [
    {
     "name": "stdout",
     "output_type": "stream",
     "text": [
      "/home/underkoffler.c/Code/Hindered_Rotors/CCCC[O]/From_Workflow\n",
      "\n",
      "None\n",
      "0 8 [-2.6451 -1.3296  0.3454]\n",
      "1 6 [ 0.4185  0.596  -0.0268]\n",
      "2 6 [-0.3828 -0.6798 -0.2119]\n",
      "3 6 [ 1.9001  0.3489 -0.0282]\n",
      "4 6 [-1.8375 -0.2836 -0.0538]\n",
      "5 1 [ 0.0785  1.077   0.9218]\n",
      "6 1 [ 0.0808  1.2769 -0.8329]\n",
      "7 1 [-0.1258 -1.4519  0.5411]\n",
      "8 1 [-0.1704 -1.124  -1.199 ]\n",
      "9 1 [ 2.4139  1.3025 -0.1975]\n",
      "10 1 [ 2.1561 -0.3635 -0.837 ]\n",
      "11 1 [ 2.1852 -0.0773  0.9552]\n",
      "12 1 [-1.9046  0.4973  0.7433]\n",
      "13 1 [-2.167   0.2111 -0.9855]\n",
      "\n",
      "(2, 1, 3, 11)\n",
      "2 1 3 11\n",
      "\n",
      "(3, 1, 2, 7)\n",
      "3 1 2 7\n",
      "\n",
      "(7, 2, 4, 12)\n",
      "7 2 4 12\n",
      "\n",
      "None\n",
      "0 8 [-2.66114943 -1.19733745  1.08140661]\n",
      "1 6 [ 0.92456938 -0.65826609  0.05808759]\n",
      "2 6 [-0.53351981 -1.08638499 -0.08984235]\n",
      "3 6 [ 1.09790023  0.84722559  0.23899323]\n",
      "4 6 [-1.36363992 -0.77981815  1.15209967]\n",
      "5 1 [ 1.47549804 -0.98206149 -0.82593308]\n",
      "6 1 [ 1.37192005 -1.18379268  0.90603551]\n",
      "7 1 [-0.58929705 -2.16034229 -0.27490709]\n",
      "8 1 [-0.99135557 -0.58949161 -0.9478474 ]\n",
      "9 1 [ 2.15107809  1.12454215  0.24152543]\n",
      "10 1 [ 0.60984875  1.39281079 -0.57038105]\n",
      "11 1 [ 0.6695053   1.19414715  1.17979351]\n",
      "12 1 [-0.87887329 -1.15019729  2.06859497]\n",
      "13 1 [-1.44951062  0.31330033  1.29568416]\n",
      "\n",
      "(2, 1, 3, 11)\n",
      "2 1 3 11\n",
      "\n",
      "(3, 1, 2, 7)\n",
      "3 1 2 7\n",
      "\n",
      "(7, 2, 4, 12)\n",
      "7 2 4 12\n",
      "\n",
      "QOOQLKSEGVNYLA-UHFFFAOYSA-N-u5\n"
     ]
    }
   ],
   "source": [
    "conf = Conformer('CCCC[O]')\n",
    "from hotbit import Hotbit\n",
    "\n",
    "\n",
    "from autotst.calculators.gaussian import read_gaussian_out\n",
    "\n",
    "def update_Conformer(conformer, file_name, path=None):\n",
    "    \"\"\"\n",
    "    Updates conformer geometry from Gaussian geometry optimization output. If no filename specified tries by naming convention within path\n",
    "\n",
    "    ACHTUNG!!! No Checks for whether conformer in file matches given conformer\n",
    "\n",
    "    filename :: Geometry optimization log from Gaussian\n",
    "    path :: path of file, default to cwd\n",
    "    \"\"\"\n",
    "\n",
    "    if path is None:\n",
    "        path = os.getcwd()\n",
    "\n",
    "    os.chdir(path)\n",
    "    conformer.ase_molecule = read_gaussian_out(file_name)\n",
    "    \n",
    "    conformer.update_coords()\n",
    "    \n",
    "    return conformer\n",
    "\n",
    "print os.getcwd()\n",
    "path = '/home/underkoffler.c/Code/Hindered_Rotors/CCCC[O]/From_Workflow'\n",
    "os.chdir(path)\n",
    "\n",
    "geo_name = 'QOOQLKSEGVNYLA-UHFFFAOYSA-N_GeoFreq_a1.log'\n",
    "#conf.ase_molecule.set_calculator(Hotbit())\n",
    "#conf.energy = conf.ase_molecule.get_potential_energy()\n",
    "\n",
    "\n",
    "\n",
    "\n",
    "\n",
    "\n",
    "print\n",
    "print conf.energy\n",
    "for atom in conf.rmg_molecule.atoms:\n",
    "    print atom.sortingLabel, atom.number, atom.coords\n",
    "print\n",
    "for torsion in conf.torsions:\n",
    "    (i, j, k, l) =  torsion.atom_indices\n",
    "    print torsion.atom_indices\n",
    "    print i, j, k, l\n",
    "    print\n",
    "\n",
    "\n",
    "\n",
    "\n",
    "\n",
    "conf = update_Conformer(conf, geo_name)\n",
    "\n",
    "print conf.energy\n",
    "\n",
    "for atom in conf.rmg_molecule.atoms:\n",
    "    print atom.sortingLabel, atom.number, atom.coords\n",
    "print\n",
    "for torsion in conf.torsions:\n",
    "    (i, j, k, l) =  torsion.atom_indices\n",
    "    print torsion.atom_indices\n",
    "    print i, j, k, l\n",
    "    print\n",
    "    \n",
    "print conf.rmg_molecule.toAugmentedInChIKey()"
   ]
  },
  {
   "cell_type": "code",
   "execution_count": 61,
   "metadata": {
    "scrolled": true
   },
   "outputs": [
    {
     "name": "stdout",
     "output_type": "stream",
     "text": [
      "NPWGWQRXHVJJRD-UHFFFAOYSA-N_GeoFreq.log\n",
      "NPWGWQRXHVJJRD-UHFFFAOYSA-N_72by10.0_tor03_a1.log\n",
      "NPWGWQRXHVJJRD-UHFFFAOYSA-N_72by10.0_tor15_a1.log\n",
      "NPWGWQRXHVJJRD-UHFFFAOYSA-N_72by10.0_tor34_a1.log\n",
      "NPWGWQRXHVJJRD-UHFFFAOYSA-N_72by10.0_tor45_a1.log\n",
      "NPWGWQRXHVJJRD-UHFFFAOYSA-N_72by10.0_tor03_a2.log\n",
      "NPWGWQRXHVJJRD-UHFFFAOYSA-N_72by10.0_tor15_a2.log\n",
      "NPWGWQRXHVJJRD-UHFFFAOYSA-N_72by10.0_tor34_a2.log\n",
      "NPWGWQRXHVJJRD-UHFFFAOYSA-N_72by10.0_tor45_a2.log\n",
      "NPWGWQRXHVJJRD-UHFFFAOYSA-N_72by10.0_tor03_a3.log\n",
      "NPWGWQRXHVJJRD-UHFFFAOYSA-N_72by10.0_tor15_a3.log\n",
      "NPWGWQRXHVJJRD-UHFFFAOYSA-N_72by10.0_tor34_a3.log\n",
      "NPWGWQRXHVJJRD-UHFFFAOYSA-N_72by10.0_tor45_a3.log\n",
      "NPWGWQRXHVJJRD-UHFFFAOYSA-N_72by10.0_tor03_a4.log\n",
      "NPWGWQRXHVJJRD-UHFFFAOYSA-N_72by10.0_tor15_a4.log\n",
      "NPWGWQRXHVJJRD-UHFFFAOYSA-N_72by10.0_tor34_a4.log\n",
      "NPWGWQRXHVJJRD-UHFFFAOYSA-N_72by10.0_tor45_a4.log\n",
      "Solved one time; Iterations: 6\n",
      "\n",
      "Timing:\n",
      "            label                    time     calls    %sub  %covered   %tot\n",
      "-------------------------------------------------------------------------------\n",
      "Hotbit                             102.348         1 (100.0 %,  0.5 %) 100.0 % |000000000000000000000000000000|\n",
      "../initialization                    0.390         1 (  0.4 %        )   0.4 % ||\n",
      "../geometry                          0.003         1 (  0.0 %, 41.9 %)   0.0 % ||\n",
      "../../operations                     0.000         1 (  1.0 %        )   0.0 % ||\n",
      "../../displacements                  0.001         1 ( 40.8 %        )   0.0 % ||\n",
      "../solve                             0.163         1 (  0.2 %, 93.6 %)   0.2 % ||\n",
      "../../matrix construction            0.129         1 ( 78.8 %        )   0.1 % ||\n",
      "../../gamma matrix                   0.002         1 (  1.1 %        )   0.0 % ||\n",
      "../../h1                             0.006         7 (  3.8 %        )   0.0 % ||\n",
      "../../LAPACK eigensolver             0.005         7 (  2.9 %        )   0.0 % ||\n",
      "../../Check norm (remove?)           0.001         7 (  0.5 %        )   0.0 % ||\n",
      "../../update                         0.010         7 (  6.3 %,  6.8 %)   0.0 % ||\n",
      "../../../rho                         0.001         7 (  6.8 %        )   0.0 % ||\n",
      "../../final update                   0.000         1 (  0.1 %        )   0.0 % ||\n",
      "../energy                            0.002         1 (  0.0 %, 72.2 %)   0.0 % ||\n",
      "../../e_bs                           0.000         1 (  5.1 %        )   0.0 % ||\n",
      "../../ecoul                          0.000         1 (  2.1 %        )   0.0 % ||\n",
      "../../e_rep                          0.001         1 ( 65.1 %        )   0.0 % ||\n",
      " -------------------------------------------------------------------------------\n",
      "total time      102.348 seconds      0 h  1 min  42 sec\n",
      "Sun Mar 10 19:18:57 2019\n",
      "\n",
      "\n",
      "\n",
      "\n",
      "\n",
      "\n",
      " _           _    _     _ _\n",
      "| |__   ___ | |_ | |__ |_| |_\n",
      "|  _ \\ / _ \\|  _||  _ \\| |  _|\n",
      "| | | | ( ) | |_ | ( ) | | |_\n",
      "|_| |_|\\___/ \\__|\\____/|_|\\__|  ver. 0.1 (svn=Unversioned directory)\n",
      "Distributed under GNU GPL; see /home/underkoffler.c/Code/hotbit/lib/python/LICENSE\n",
      "Date: Sun Mar 10 19:18:57 2019\n",
      "Nodename: c0220\n",
      "Arch: x86_64\n",
      "Dir: /home/underkoffler.c/Code/Hindered_Rotors/ONCC(=O)O/From_Workflow\n",
      "System: H5C2O3N\n",
      "       Charge= 0.0\n",
      "       Container Bravais: pbc:[0,0,0], cell:[0.00,0.00,0.00] Ang, \n",
      "   cosines(12,13,23):[nan,nan,nan]\n",
      "Symmetry operations (if any):\n",
      "       0: pbc= False , kappa-points=1, M=1\n",
      "       1: pbc= False , kappa-points=1, M=1\n",
      "       2: pbc= False , kappa-points=1, M=1\n",
      "Electronic temperature: 0.02 eV\n",
      "Mixer: Anderson with memory = 3 , mixing parameter = 0.2\n",
      "11 atoms, 29 states, 36.0 electrons (18.0 filled states)\n",
      "Initial n ranges:[0,0] [0,0] [0,0] \n",
      "Element O in /home/underkoffler.c/Code/hotbit/param/O.elm\n",
      "    *no comment\n",
      "Element N in /home/underkoffler.c/Code/hotbit/param/N.elm\n",
      "    *no comment\n",
      "Element C in /home/underkoffler.c/Code/hotbit/param/C.elm\n",
      "    *fixed set C\n",
      "Element H in /home/underkoffler.c/Code/hotbit/param/H.elm\n",
      "    *no comment\n",
      "\n",
      "Interactions:\n",
      "  OO in /home/underkoffler.c/Code/hotbit/param/O_O.par\n",
      "    *test parameters 23.6 2008\n",
      "  ON in /home/underkoffler.c/Code/hotbit/param/N_O.par\n",
      "    *no slako doc\n",
      "  OC in /home/underkoffler.c/Code/hotbit/param/C_O.par\n",
      "    *test parameters 23.6 2008\n",
      "  OH in /home/underkoffler.c/Code/hotbit/param/O_H.par\n",
      "    *test parameters 23.6 2008\n",
      "  NO in /home/underkoffler.c/Code/hotbit/param/N_O.par\n",
      "    *no slako doc\n",
      "  NN in /home/underkoffler.c/Code/hotbit/param/N_N.par\n",
      "    *test parameters 23.6 2008\n",
      "  NC in /home/underkoffler.c/Code/hotbit/param/C_N.par\n",
      "    *test parameters 23.6 2008\n",
      "  NH in /home/underkoffler.c/Code/hotbit/param/N_H.par\n",
      "    *test parameters 23.6 2008\n",
      "  CO in /home/underkoffler.c/Code/hotbit/param/C_O.par\n",
      "    *test parameters 23.6 2008\n",
      "  CN in /home/underkoffler.c/Code/hotbit/param/C_N.par\n",
      "    *test parameters 23.6 2008\n",
      "  CC in /home/underkoffler.c/Code/hotbit/param/C_C.par\n",
      "    *test parameters 23.6 2008\n",
      "    *Quadratic original (r/r0)**2, r0=1.85*r_cov,\n",
      "    *Original repulsion (probably)\n",
      "  CH in /home/underkoffler.c/Code/hotbit/param/C_H.par\n",
      "    *test parameters 23.6 2008\n",
      "  HO in /home/underkoffler.c/Code/hotbit/param/O_H.par\n",
      "    *test parameters 23.6 2008\n",
      "  HN in /home/underkoffler.c/Code/hotbit/param/N_H.par\n",
      "    *test parameters 23.6 2008\n",
      "  HC in /home/underkoffler.c/Code/hotbit/param/C_H.par\n",
      "    *test parameters 23.6 2008\n",
      "  HH in /home/underkoffler.c/Code/hotbit/param/H_H.par\n",
      "    *test parameters 23.6 2008\n",
      "\n",
      "Repulsions:\n",
      "  OO in /home/underkoffler.c/Code/hotbit/param/O_O.par\n",
      "    *test parameters 23.6 2008\n",
      "  ON in /home/underkoffler.c/Code/hotbit/param/N_O.par\n",
      "    *no repulsion doc\n",
      "  OC in /home/underkoffler.c/Code/hotbit/param/C_O.par\n",
      "    *test parameters 23.6 2008\n",
      "  OH in /home/underkoffler.c/Code/hotbit/param/O_H.par\n",
      "    *test parameters 23.6 2008\n",
      "  NN in /home/underkoffler.c/Code/hotbit/param/N_N.par\n",
      "    *test parameters 23.6 2008\n",
      "  NC in /home/underkoffler.c/Code/hotbit/param/C_N.par\n",
      "    *test parameters 23.6 2008\n",
      "  NH in /home/underkoffler.c/Code/hotbit/param/N_H.par\n",
      "    *test parameters 23.6 2008\n",
      "  CC in /home/underkoffler.c/Code/hotbit/param/C_C.par\n",
      "    *test parameters 23.6 2008\n",
      "  CH in /home/underkoffler.c/Code/hotbit/param/C_H.par\n",
      "    *test parameters 23.6 2008\n",
      "  HH in /home/underkoffler.c/Code/hotbit/param/H_H.par\n",
      "    *test parameters 23.6 2008\n",
      "\n",
      "Memory consumption estimate: > 0.00 GB\n",
      "Hamiltonian ~91.201 % filled.\n",
      "Solved one time; Iterations: 6\n",
      "\n",
      "Timing:\n",
      "            label                    time     calls    %sub  %covered   %tot\n",
      "-------------------------------------------------------------------------------\n",
      "Hotbit                               0.594         1 (100.0 %, 94.9 %) 100.0 % |000000000000000000000000000000|\n",
      "../initialization                    0.400         1 ( 67.4 %        )  67.4 % |11111111111111111111|\n",
      "../geometry                          0.003         1 (  0.5 %, 37.7 %)   0.5 % ||\n",
      "../../operations                     0.000         1 (  1.0 %        )   0.0 % ||\n",
      "../../displacements                  0.001         1 ( 36.7 %        )   0.2 % ||\n",
      "../solve                             0.159         1 ( 26.7 %, 94.9 %)  26.7 % |11111111|\n",
      "../../matrix construction            0.128         1 ( 80.7 %        )  21.6 % |222222|\n",
      "../../gamma matrix                   0.002         1 (  1.4 %        )   0.4 % ||\n",
      "../../h1                             0.006         7 (  3.5 %        )   0.9 % ||\n",
      "../../LAPACK eigensolver             0.004         7 (  2.7 %        )   0.7 % ||\n",
      "../../Check norm (remove?)           0.001         7 (  0.4 %        )   0.1 % ||\n",
      "../../update                         0.009         7 (  5.9 %,  6.8 %)   1.6 % ||\n",
      "../../../rho                         0.001         7 (  6.8 %        )   0.1 % ||\n",
      "../../final update                   0.000         1 (  0.1 %        )   0.0 % ||\n",
      "../energy                            0.002         1 (  0.3 %, 72.9 %)   0.3 % ||\n",
      "../../e_bs                           0.000         1 (  5.1 %        )   0.0 % ||\n",
      "../../ecoul                          0.000         1 (  2.1 %        )   0.0 % ||\n",
      "../../e_rep                          0.001         1 ( 65.7 %        )   0.2 % ||\n",
      " -------------------------------------------------------------------------------\n",
      "total time        0.594 seconds      0 h  0 min  1 sec\n",
      "Sun Mar 10 19:18:57 2019\n",
      "\n",
      "\n",
      "\n",
      "\n",
      "\n",
      "\n",
      " _           _    _     _ _\n",
      "| |__   ___ | |_ | |__ |_| |_\n",
      "|  _ \\ / _ \\|  _||  _ \\| |  _|\n",
      "| | | | ( ) | |_ | ( ) | | |_\n",
      "|_| |_|\\___/ \\__|\\____/|_|\\__|  ver. 0.1 (svn=Unversioned directory)\n",
      "Distributed under GNU GPL; see /home/underkoffler.c/Code/hotbit/lib/python/LICENSE\n",
      "Date: Sun Mar 10 19:18:58 2019\n",
      "Nodename: c0220\n",
      "Arch: x86_64\n",
      "Dir: /home/underkoffler.c/Code/Hindered_Rotors/ONCC(=O)O/From_Workflow\n",
      "System: H5C2O3N\n",
      "       Charge= 0.0\n",
      "       Container Bravais: pbc:[0,0,0], cell:[0.00,0.00,0.00] Ang, \n",
      "   cosines(12,13,23):[nan,nan,nan]\n",
      "Symmetry operations (if any):\n",
      "       0: pbc= False , kappa-points=1, M=1\n",
      "       1: pbc= False , kappa-points=1, M=1\n",
      "       2: pbc= False , kappa-points=1, M=1\n",
      "Electronic temperature: 0.02 eV\n",
      "Mixer: Anderson with memory = 3 , mixing parameter = 0.2\n",
      "11 atoms, 29 states, 36.0 electrons (18.0 filled states)\n",
      "Initial n ranges:[0,0] [0,0] [0,0] \n",
      "Element O in /home/underkoffler.c/Code/hotbit/param/O.elm\n",
      "    *no comment\n",
      "Element N in /home/underkoffler.c/Code/hotbit/param/N.elm\n",
      "    *no comment\n",
      "Element C in /home/underkoffler.c/Code/hotbit/param/C.elm\n",
      "    *fixed set C\n",
      "Element H in /home/underkoffler.c/Code/hotbit/param/H.elm\n",
      "    *no comment\n",
      "\n",
      "Interactions:\n",
      "  OO in /home/underkoffler.c/Code/hotbit/param/O_O.par\n",
      "    *test parameters 23.6 2008\n",
      "  ON in /home/underkoffler.c/Code/hotbit/param/N_O.par\n",
      "    *no slako doc\n",
      "  OC in /home/underkoffler.c/Code/hotbit/param/C_O.par\n",
      "    *test parameters 23.6 2008\n",
      "  OH in /home/underkoffler.c/Code/hotbit/param/O_H.par\n",
      "    *test parameters 23.6 2008\n",
      "  NO in /home/underkoffler.c/Code/hotbit/param/N_O.par\n",
      "    *no slako doc\n",
      "  NN in /home/underkoffler.c/Code/hotbit/param/N_N.par\n",
      "    *test parameters 23.6 2008\n",
      "  NC in /home/underkoffler.c/Code/hotbit/param/C_N.par\n",
      "    *test parameters 23.6 2008\n",
      "  NH in /home/underkoffler.c/Code/hotbit/param/N_H.par\n",
      "    *test parameters 23.6 2008\n",
      "  CO in /home/underkoffler.c/Code/hotbit/param/C_O.par\n",
      "    *test parameters 23.6 2008\n",
      "  CN in /home/underkoffler.c/Code/hotbit/param/C_N.par\n",
      "    *test parameters 23.6 2008\n",
      "  CC in /home/underkoffler.c/Code/hotbit/param/C_C.par\n",
      "    *test parameters 23.6 2008\n",
      "    *Quadratic original (r/r0)**2, r0=1.85*r_cov,\n",
      "    *Original repulsion (probably)\n",
      "  CH in /home/underkoffler.c/Code/hotbit/param/C_H.par\n",
      "    *test parameters 23.6 2008\n",
      "  HO in /home/underkoffler.c/Code/hotbit/param/O_H.par\n",
      "    *test parameters 23.6 2008\n",
      "  HN in /home/underkoffler.c/Code/hotbit/param/N_H.par\n",
      "    *test parameters 23.6 2008\n",
      "  HC in /home/underkoffler.c/Code/hotbit/param/C_H.par\n",
      "    *test parameters 23.6 2008\n",
      "  HH in /home/underkoffler.c/Code/hotbit/param/H_H.par\n",
      "    *test parameters 23.6 2008\n",
      "\n",
      "Repulsions:\n",
      "  OO in /home/underkoffler.c/Code/hotbit/param/O_O.par\n",
      "    *test parameters 23.6 2008\n",
      "  ON in /home/underkoffler.c/Code/hotbit/param/N_O.par\n",
      "    *no repulsion doc\n",
      "  OC in /home/underkoffler.c/Code/hotbit/param/C_O.par\n",
      "    *test parameters 23.6 2008\n",
      "  OH in /home/underkoffler.c/Code/hotbit/param/O_H.par\n",
      "    *test parameters 23.6 2008\n",
      "  NN in /home/underkoffler.c/Code/hotbit/param/N_N.par\n",
      "    *test parameters 23.6 2008\n",
      "  NC in /home/underkoffler.c/Code/hotbit/param/C_N.par\n",
      "    *test parameters 23.6 2008\n",
      "  NH in /home/underkoffler.c/Code/hotbit/param/N_H.par\n",
      "    *test parameters 23.6 2008\n",
      "  CC in /home/underkoffler.c/Code/hotbit/param/C_C.par\n",
      "    *test parameters 23.6 2008\n",
      "  CH in /home/underkoffler.c/Code/hotbit/param/C_H.par\n",
      "    *test parameters 23.6 2008\n",
      "  HH in /home/underkoffler.c/Code/hotbit/param/H_H.par\n",
      "    *test parameters 23.6 2008\n",
      "\n",
      "Memory consumption estimate: > 0.00 GB\n"
     ]
    },
    {
     "name": "stdout",
     "output_type": "stream",
     "text": [
      "Hamiltonian ~91.201 % filled.\n",
      "Solved one time; Iterations: 6\n",
      "\n",
      "Timing:\n",
      "            label                    time     calls    %sub  %covered   %tot\n",
      "-------------------------------------------------------------------------------\n",
      "Hotbit                               0.627         1 (100.0 %, 95.0 %) 100.0 % |000000000000000000000000000000|\n",
      "../initialization                    0.424         1 ( 67.6 %        )  67.6 % |11111111111111111111|\n",
      "../geometry                          0.003         1 (  0.5 %, 43.9 %)   0.5 % ||\n",
      "../../operations                     0.000         1 (  0.9 %        )   0.0 % ||\n",
      "../../displacements                  0.001         1 ( 42.9 %        )   0.2 % ||\n",
      "../solve                             0.166         1 ( 26.5 %, 94.9 %)  26.5 % |11111111|\n",
      "../../matrix construction            0.132         1 ( 79.6 %        )  21.1 % |222222|\n",
      "../../gamma matrix                   0.002         1 (  1.5 %        )   0.4 % ||\n",
      "../../h1                             0.006         7 (  3.8 %        )   1.0 % ||\n",
      "../../LAPACK eigensolver             0.005         7 (  2.9 %        )   0.8 % ||\n",
      "../../Check norm (remove?)           0.001         7 (  0.5 %        )   0.1 % ||\n",
      "../../update                         0.011         7 (  6.4 %,  6.8 %)   1.7 % |2|\n",
      "../../../rho                         0.001         7 (  6.8 %        )   0.1 % ||\n",
      "../../final update                   0.000         1 (  0.1 %        )   0.0 % ||\n",
      "../energy                            0.002         1 (  0.3 %, 75.8 %)   0.3 % ||\n",
      "../../e_bs                           0.000         1 (  5.4 %        )   0.0 % ||\n",
      "../../ecoul                          0.000         1 (  1.8 %        )   0.0 % ||\n",
      "../../e_rep                          0.001         1 ( 68.6 %        )   0.2 % ||\n",
      " -------------------------------------------------------------------------------\n",
      "total time        0.627 seconds      0 h  0 min  1 sec\n",
      "Sun Mar 10 19:18:58 2019\n",
      "\n",
      "\n",
      "\n",
      "\n",
      "\n",
      "\n",
      " _           _    _     _ _\n",
      "| |__   ___ | |_ | |__ |_| |_\n",
      "|  _ \\ / _ \\|  _||  _ \\| |  _|\n",
      "| | | | ( ) | |_ | ( ) | | |_\n",
      "|_| |_|\\___/ \\__|\\____/|_|\\__|  ver. 0.1 (svn=Unversioned directory)\n",
      "Distributed under GNU GPL; see /home/underkoffler.c/Code/hotbit/lib/python/LICENSE\n",
      "Date: Sun Mar 10 19:18:58 2019\n",
      "Nodename: c0220\n",
      "Arch: x86_64\n",
      "Dir: /home/underkoffler.c/Code/Hindered_Rotors/ONCC(=O)O/From_Workflow\n",
      "System: H5C2O3N\n",
      "       Charge= 0.0\n",
      "       Container Bravais: pbc:[0,0,0], cell:[0.00,0.00,0.00] Ang, \n",
      "   cosines(12,13,23):[nan,nan,nan]\n",
      "Symmetry operations (if any):\n",
      "       0: pbc= False , kappa-points=1, M=1\n",
      "       1: pbc= False , kappa-points=1, M=1\n",
      "       2: pbc= False , kappa-points=1, M=1\n",
      "Electronic temperature: 0.02 eV\n",
      "Mixer: Anderson with memory = 3 , mixing parameter = 0.2\n",
      "11 atoms, 29 states, 36.0 electrons (18.0 filled states)\n",
      "Initial n ranges:[0,0] [0,0] [0,0] \n",
      "Element O in /home/underkoffler.c/Code/hotbit/param/O.elm\n",
      "    *no comment\n",
      "Element N in /home/underkoffler.c/Code/hotbit/param/N.elm\n",
      "    *no comment\n",
      "Element C in /home/underkoffler.c/Code/hotbit/param/C.elm\n",
      "    *fixed set C\n",
      "Element H in /home/underkoffler.c/Code/hotbit/param/H.elm\n",
      "    *no comment\n",
      "\n",
      "Interactions:\n",
      "  OO in /home/underkoffler.c/Code/hotbit/param/O_O.par\n",
      "    *test parameters 23.6 2008\n",
      "  ON in /home/underkoffler.c/Code/hotbit/param/N_O.par\n",
      "    *no slako doc\n",
      "  OC in /home/underkoffler.c/Code/hotbit/param/C_O.par\n",
      "    *test parameters 23.6 2008\n",
      "  OH in /home/underkoffler.c/Code/hotbit/param/O_H.par\n",
      "    *test parameters 23.6 2008\n",
      "  NO in /home/underkoffler.c/Code/hotbit/param/N_O.par\n",
      "    *no slako doc\n",
      "  NN in /home/underkoffler.c/Code/hotbit/param/N_N.par\n",
      "    *test parameters 23.6 2008\n",
      "  NC in /home/underkoffler.c/Code/hotbit/param/C_N.par\n",
      "    *test parameters 23.6 2008\n",
      "  NH in /home/underkoffler.c/Code/hotbit/param/N_H.par\n",
      "    *test parameters 23.6 2008\n",
      "  CO in /home/underkoffler.c/Code/hotbit/param/C_O.par\n",
      "    *test parameters 23.6 2008\n",
      "  CN in /home/underkoffler.c/Code/hotbit/param/C_N.par\n",
      "    *test parameters 23.6 2008\n",
      "  CC in /home/underkoffler.c/Code/hotbit/param/C_C.par\n",
      "    *test parameters 23.6 2008\n",
      "    *Quadratic original (r/r0)**2, r0=1.85*r_cov,\n",
      "    *Original repulsion (probably)\n",
      "  CH in /home/underkoffler.c/Code/hotbit/param/C_H.par\n",
      "    *test parameters 23.6 2008\n",
      "  HO in /home/underkoffler.c/Code/hotbit/param/O_H.par\n",
      "    *test parameters 23.6 2008\n",
      "  HN in /home/underkoffler.c/Code/hotbit/param/N_H.par\n",
      "    *test parameters 23.6 2008\n",
      "  HC in /home/underkoffler.c/Code/hotbit/param/C_H.par\n",
      "    *test parameters 23.6 2008\n",
      "  HH in /home/underkoffler.c/Code/hotbit/param/H_H.par\n",
      "    *test parameters 23.6 2008\n",
      "\n",
      "Repulsions:\n",
      "  OO in /home/underkoffler.c/Code/hotbit/param/O_O.par\n",
      "    *test parameters 23.6 2008\n",
      "  ON in /home/underkoffler.c/Code/hotbit/param/N_O.par\n",
      "    *no repulsion doc\n",
      "  OC in /home/underkoffler.c/Code/hotbit/param/C_O.par\n",
      "    *test parameters 23.6 2008\n",
      "  OH in /home/underkoffler.c/Code/hotbit/param/O_H.par\n",
      "    *test parameters 23.6 2008\n",
      "  NN in /home/underkoffler.c/Code/hotbit/param/N_N.par\n",
      "    *test parameters 23.6 2008\n",
      "  NC in /home/underkoffler.c/Code/hotbit/param/C_N.par\n",
      "    *test parameters 23.6 2008\n",
      "  NH in /home/underkoffler.c/Code/hotbit/param/N_H.par\n",
      "    *test parameters 23.6 2008\n",
      "  CC in /home/underkoffler.c/Code/hotbit/param/C_C.par\n",
      "    *test parameters 23.6 2008\n",
      "  CH in /home/underkoffler.c/Code/hotbit/param/C_H.par\n",
      "    *test parameters 23.6 2008\n",
      "  HH in /home/underkoffler.c/Code/hotbit/param/H_H.par\n",
      "    *test parameters 23.6 2008\n",
      "\n",
      "Memory consumption estimate: > 0.00 GB\n",
      "Hamiltonian ~91.201 % filled.\n",
      "Solved one time; Iterations: 6\n",
      "\n",
      "Timing:\n",
      "            label                    time     calls    %sub  %covered   %tot\n",
      "-------------------------------------------------------------------------------\n",
      "Hotbit                               0.653         1 (100.0 %, 95.2 %) 100.0 % |000000000000000000000000000000|\n",
      "../initialization                    0.456         1 ( 69.8 %        )  69.8 % |111111111111111111111|\n",
      "../geometry                          0.003         1 (  0.5 %, 38.0 %)   0.5 % ||\n",
      "../../operations                     0.000         1 (  1.0 %        )   0.0 % ||\n",
      "../../displacements                  0.001         1 ( 37.0 %        )   0.2 % ||\n",
      "../solve                             0.161         1 ( 24.6 %, 96.9 %)  24.6 % |1111111|\n",
      "../../matrix construction            0.130         1 ( 80.8 %        )  19.9 % |222222|\n",
      "../../gamma matrix                   0.003         1 (  2.1 %        )   0.5 % ||\n",
      "../../h1                             0.006         7 (  3.9 %        )   0.9 % ||\n",
      "../../LAPACK eigensolver             0.005         7 (  2.9 %        )   0.7 % ||\n",
      "../../Check norm (remove?)           0.001         7 (  0.5 %        )   0.1 % ||\n",
      "../../update                         0.010         7 (  6.5 %,  6.8 %)   1.6 % ||\n",
      "../../../rho                         0.001         7 (  6.8 %        )   0.1 % ||\n",
      "../../final update                   0.000         1 (  0.1 %        )   0.0 % ||\n",
      "../energy                            0.002         1 (  0.2 %, 73.1 %)   0.2 % ||\n",
      "../../e_bs                           0.000         1 (  5.3 %        )   0.0 % ||\n",
      "../../ecoul                          0.000         1 (  2.0 %        )   0.0 % ||\n",
      "../../e_rep                          0.001         1 ( 65.7 %        )   0.2 % ||\n",
      " -------------------------------------------------------------------------------\n",
      "total time        0.653 seconds      0 h  0 min  1 sec\n",
      "Sun Mar 10 19:18:59 2019\n",
      "\n",
      "\n",
      "\n",
      "\n",
      "\n",
      "\n",
      " _           _    _     _ _\n",
      "| |__   ___ | |_ | |__ |_| |_\n",
      "|  _ \\ / _ \\|  _||  _ \\| |  _|\n",
      "| | | | ( ) | |_ | ( ) | | |_\n",
      "|_| |_|\\___/ \\__|\\____/|_|\\__|  ver. 0.1 (svn=Unversioned directory)\n",
      "Distributed under GNU GPL; see /home/underkoffler.c/Code/hotbit/lib/python/LICENSE\n",
      "Date: Sun Mar 10 19:18:59 2019\n",
      "Nodename: c0220\n",
      "Arch: x86_64\n",
      "Dir: /home/underkoffler.c/Code/Hindered_Rotors/ONCC(=O)O/From_Workflow\n",
      "System: H5C2O3N\n",
      "       Charge= 0.0\n",
      "       Container Bravais: pbc:[0,0,0], cell:[0.00,0.00,0.00] Ang, \n",
      "   cosines(12,13,23):[nan,nan,nan]\n",
      "Symmetry operations (if any):\n",
      "       0: pbc= False , kappa-points=1, M=1\n",
      "       1: pbc= False , kappa-points=1, M=1\n",
      "       2: pbc= False , kappa-points=1, M=1\n",
      "Electronic temperature: 0.02 eV\n",
      "Mixer: Anderson with memory = 3 , mixing parameter = 0.2\n",
      "11 atoms, 29 states, 36.0 electrons (18.0 filled states)\n",
      "Initial n ranges:[0,0] [0,0] [0,0] \n",
      "Element O in /home/underkoffler.c/Code/hotbit/param/O.elm\n",
      "    *no comment\n",
      "Element N in /home/underkoffler.c/Code/hotbit/param/N.elm\n",
      "    *no comment\n",
      "Element C in /home/underkoffler.c/Code/hotbit/param/C.elm\n",
      "    *fixed set C\n",
      "Element H in /home/underkoffler.c/Code/hotbit/param/H.elm\n",
      "    *no comment\n",
      "\n",
      "Interactions:\n",
      "  OO in /home/underkoffler.c/Code/hotbit/param/O_O.par\n",
      "    *test parameters 23.6 2008\n",
      "  ON in /home/underkoffler.c/Code/hotbit/param/N_O.par\n",
      "    *no slako doc\n",
      "  OC in /home/underkoffler.c/Code/hotbit/param/C_O.par\n",
      "    *test parameters 23.6 2008\n",
      "  OH in /home/underkoffler.c/Code/hotbit/param/O_H.par\n",
      "    *test parameters 23.6 2008\n",
      "  NO in /home/underkoffler.c/Code/hotbit/param/N_O.par\n",
      "    *no slako doc\n",
      "  NN in /home/underkoffler.c/Code/hotbit/param/N_N.par\n",
      "    *test parameters 23.6 2008\n",
      "  NC in /home/underkoffler.c/Code/hotbit/param/C_N.par\n",
      "    *test parameters 23.6 2008\n",
      "  NH in /home/underkoffler.c/Code/hotbit/param/N_H.par\n",
      "    *test parameters 23.6 2008\n",
      "  CO in /home/underkoffler.c/Code/hotbit/param/C_O.par\n",
      "    *test parameters 23.6 2008\n",
      "  CN in /home/underkoffler.c/Code/hotbit/param/C_N.par\n",
      "    *test parameters 23.6 2008\n",
      "  CC in /home/underkoffler.c/Code/hotbit/param/C_C.par\n",
      "    *test parameters 23.6 2008\n",
      "    *Quadratic original (r/r0)**2, r0=1.85*r_cov,\n",
      "    *Original repulsion (probably)\n",
      "  CH in /home/underkoffler.c/Code/hotbit/param/C_H.par\n",
      "    *test parameters 23.6 2008\n",
      "  HO in /home/underkoffler.c/Code/hotbit/param/O_H.par\n",
      "    *test parameters 23.6 2008\n",
      "  HN in /home/underkoffler.c/Code/hotbit/param/N_H.par\n",
      "    *test parameters 23.6 2008\n",
      "  HC in /home/underkoffler.c/Code/hotbit/param/C_H.par\n",
      "    *test parameters 23.6 2008\n",
      "  HH in /home/underkoffler.c/Code/hotbit/param/H_H.par\n",
      "    *test parameters 23.6 2008\n",
      "\n",
      "Repulsions:\n",
      "  OO in /home/underkoffler.c/Code/hotbit/param/O_O.par\n",
      "    *test parameters 23.6 2008\n",
      "  ON in /home/underkoffler.c/Code/hotbit/param/N_O.par\n",
      "    *no repulsion doc\n",
      "  OC in /home/underkoffler.c/Code/hotbit/param/C_O.par\n",
      "    *test parameters 23.6 2008\n",
      "  OH in /home/underkoffler.c/Code/hotbit/param/O_H.par\n",
      "    *test parameters 23.6 2008\n",
      "  NN in /home/underkoffler.c/Code/hotbit/param/N_N.par\n",
      "    *test parameters 23.6 2008\n",
      "  NC in /home/underkoffler.c/Code/hotbit/param/C_N.par\n",
      "    *test parameters 23.6 2008\n",
      "  NH in /home/underkoffler.c/Code/hotbit/param/N_H.par\n",
      "    *test parameters 23.6 2008\n",
      "  CC in /home/underkoffler.c/Code/hotbit/param/C_C.par\n",
      "    *test parameters 23.6 2008\n",
      "  CH in /home/underkoffler.c/Code/hotbit/param/C_H.par\n",
      "    *test parameters 23.6 2008\n",
      "  HH in /home/underkoffler.c/Code/hotbit/param/H_H.par\n",
      "    *test parameters 23.6 2008\n",
      "\n",
      "Memory consumption estimate: > 0.00 GB\n"
     ]
    },
    {
     "name": "stdout",
     "output_type": "stream",
     "text": [
      "Hamiltonian ~91.201 % filled.\n",
      "Solved one time; Iterations: 6\n",
      "\n",
      "Timing:\n",
      "            label                    time     calls    %sub  %covered   %tot\n",
      "-------------------------------------------------------------------------------\n",
      "Hotbit                               0.627         1 (100.0 %, 94.5 %) 100.0 % |000000000000000000000000000000|\n",
      "../initialization                    0.422         1 ( 67.3 %        )  67.3 % |11111111111111111111|\n",
      "../geometry                          0.003         1 (  0.5 %, 37.4 %)   0.5 % ||\n",
      "../../operations                     0.000         1 (  1.0 %        )   0.0 % ||\n",
      "../../displacements                  0.001         1 ( 36.4 %        )   0.2 % ||\n",
      "../solve                             0.166         1 ( 26.5 %, 94.7 %)  26.5 % |11111111|\n",
      "../../matrix construction            0.132         1 ( 79.7 %        )  21.1 % |222222|\n",
      "../../gamma matrix                   0.002         1 (  1.2 %        )   0.3 % ||\n",
      "../../h1                             0.006         7 (  3.9 %        )   1.0 % ||\n",
      "../../LAPACK eigensolver             0.005         7 (  2.9 %        )   0.8 % ||\n",
      "../../Check norm (remove?)           0.001         7 (  0.5 %        )   0.1 % ||\n",
      "../../update                         0.011         7 (  6.4 %,  6.7 %)   1.7 % |2|\n",
      "../../../rho                         0.001         7 (  6.7 %        )   0.1 % ||\n",
      "../../final update                   0.000         1 (  0.1 %        )   0.0 % ||\n",
      "../energy                            0.002         1 (  0.3 %, 73.3 %)   0.3 % ||\n",
      "../../e_bs                           0.000         1 (  5.4 %        )   0.0 % ||\n",
      "../../ecoul                          0.000         1 (  2.1 %        )   0.0 % ||\n",
      "../../e_rep                          0.001         1 ( 65.8 %        )   0.2 % ||\n",
      " -------------------------------------------------------------------------------\n",
      "total time        0.627 seconds      0 h  0 min  1 sec\n",
      "Sun Mar 10 19:18:59 2019\n",
      "\n",
      "\n",
      "\n",
      "\n",
      "\n",
      "\n",
      " _           _    _     _ _\n",
      "| |__   ___ | |_ | |__ |_| |_\n",
      "|  _ \\ / _ \\|  _||  _ \\| |  _|\n",
      "| | | | ( ) | |_ | ( ) | | |_\n",
      "|_| |_|\\___/ \\__|\\____/|_|\\__|  ver. 0.1 (svn=Unversioned directory)\n",
      "Distributed under GNU GPL; see /home/underkoffler.c/Code/hotbit/lib/python/LICENSE\n",
      "Date: Sun Mar 10 19:19:00 2019\n",
      "Nodename: c0220\n",
      "Arch: x86_64\n",
      "Dir: /home/underkoffler.c/Code/Hindered_Rotors/ONCC(=O)O/From_Workflow\n",
      "System: H5C2O3N\n",
      "       Charge= 0.0\n",
      "       Container Bravais: pbc:[0,0,0], cell:[0.00,0.00,0.00] Ang, \n",
      "   cosines(12,13,23):[nan,nan,nan]\n",
      "Symmetry operations (if any):\n",
      "       0: pbc= False , kappa-points=1, M=1\n",
      "       1: pbc= False , kappa-points=1, M=1\n",
      "       2: pbc= False , kappa-points=1, M=1\n",
      "Electronic temperature: 0.02 eV\n",
      "Mixer: Anderson with memory = 3 , mixing parameter = 0.2\n",
      "11 atoms, 29 states, 36.0 electrons (18.0 filled states)\n",
      "Initial n ranges:[0,0] [0,0] [0,0] \n",
      "Element O in /home/underkoffler.c/Code/hotbit/param/O.elm\n",
      "    *no comment\n",
      "Element N in /home/underkoffler.c/Code/hotbit/param/N.elm\n",
      "    *no comment\n",
      "Element C in /home/underkoffler.c/Code/hotbit/param/C.elm\n",
      "    *fixed set C\n",
      "Element H in /home/underkoffler.c/Code/hotbit/param/H.elm\n",
      "    *no comment\n",
      "\n",
      "Interactions:\n",
      "  OO in /home/underkoffler.c/Code/hotbit/param/O_O.par\n",
      "    *test parameters 23.6 2008\n",
      "  ON in /home/underkoffler.c/Code/hotbit/param/N_O.par\n",
      "    *no slako doc\n",
      "  OC in /home/underkoffler.c/Code/hotbit/param/C_O.par\n",
      "    *test parameters 23.6 2008\n",
      "  OH in /home/underkoffler.c/Code/hotbit/param/O_H.par\n",
      "    *test parameters 23.6 2008\n",
      "  NO in /home/underkoffler.c/Code/hotbit/param/N_O.par\n",
      "    *no slako doc\n",
      "  NN in /home/underkoffler.c/Code/hotbit/param/N_N.par\n",
      "    *test parameters 23.6 2008\n",
      "  NC in /home/underkoffler.c/Code/hotbit/param/C_N.par\n",
      "    *test parameters 23.6 2008\n",
      "  NH in /home/underkoffler.c/Code/hotbit/param/N_H.par\n",
      "    *test parameters 23.6 2008\n",
      "  CO in /home/underkoffler.c/Code/hotbit/param/C_O.par\n",
      "    *test parameters 23.6 2008\n",
      "  CN in /home/underkoffler.c/Code/hotbit/param/C_N.par\n",
      "    *test parameters 23.6 2008\n",
      "  CC in /home/underkoffler.c/Code/hotbit/param/C_C.par\n",
      "    *test parameters 23.6 2008\n",
      "    *Quadratic original (r/r0)**2, r0=1.85*r_cov,\n",
      "    *Original repulsion (probably)\n",
      "  CH in /home/underkoffler.c/Code/hotbit/param/C_H.par\n",
      "    *test parameters 23.6 2008\n",
      "  HO in /home/underkoffler.c/Code/hotbit/param/O_H.par\n",
      "    *test parameters 23.6 2008\n",
      "  HN in /home/underkoffler.c/Code/hotbit/param/N_H.par\n",
      "    *test parameters 23.6 2008\n",
      "  HC in /home/underkoffler.c/Code/hotbit/param/C_H.par\n",
      "    *test parameters 23.6 2008\n",
      "  HH in /home/underkoffler.c/Code/hotbit/param/H_H.par\n",
      "    *test parameters 23.6 2008\n",
      "\n",
      "Repulsions:\n",
      "  OO in /home/underkoffler.c/Code/hotbit/param/O_O.par\n",
      "    *test parameters 23.6 2008\n",
      "  ON in /home/underkoffler.c/Code/hotbit/param/N_O.par\n",
      "    *no repulsion doc\n",
      "  OC in /home/underkoffler.c/Code/hotbit/param/C_O.par\n",
      "    *test parameters 23.6 2008\n",
      "  OH in /home/underkoffler.c/Code/hotbit/param/O_H.par\n",
      "    *test parameters 23.6 2008\n",
      "  NN in /home/underkoffler.c/Code/hotbit/param/N_N.par\n",
      "    *test parameters 23.6 2008\n",
      "  NC in /home/underkoffler.c/Code/hotbit/param/C_N.par\n",
      "    *test parameters 23.6 2008\n",
      "  NH in /home/underkoffler.c/Code/hotbit/param/N_H.par\n",
      "    *test parameters 23.6 2008\n",
      "  CC in /home/underkoffler.c/Code/hotbit/param/C_C.par\n",
      "    *test parameters 23.6 2008\n",
      "  CH in /home/underkoffler.c/Code/hotbit/param/C_H.par\n",
      "    *test parameters 23.6 2008\n",
      "  HH in /home/underkoffler.c/Code/hotbit/param/H_H.par\n",
      "    *test parameters 23.6 2008\n",
      "\n",
      "Memory consumption estimate: > 0.00 GB\n",
      "Hamiltonian ~91.201 % filled.\n",
      "Solved one time; Iterations: 6\n",
      "\n",
      "Timing:\n",
      "            label                    time     calls    %sub  %covered   %tot\n",
      "-------------------------------------------------------------------------------\n",
      "Hotbit                               0.641         1 (100.0 %, 94.8 %) 100.0 % |000000000000000000000000000000|\n",
      "../initialization                    0.438         1 ( 68.4 %        )  68.4 % |111111111111111111111|\n",
      "../geometry                          0.003         1 (  0.5 %, 38.5 %)   0.5 % ||\n",
      "../../operations                     0.000         1 (  1.0 %        )   0.0 % ||\n",
      "../../displacements                  0.001         1 ( 37.4 %        )   0.2 % ||\n",
      "../solve                             0.164         1 ( 25.6 %, 96.4 %)  25.6 % |11111111|\n",
      "../../matrix construction            0.132         1 ( 80.6 %        )  20.7 % |222222|\n",
      "../../gamma matrix                   0.003         1 (  2.1 %        )   0.5 % ||\n",
      "../../h1                             0.006         7 (  3.8 %        )   1.0 % ||\n",
      "../../LAPACK eigensolver             0.005         7 (  2.9 %        )   0.7 % ||\n",
      "../../Check norm (remove?)           0.001         7 (  0.5 %        )   0.1 % ||\n",
      "../../update                         0.011         7 (  6.4 %,  6.8 %)   1.6 % ||\n",
      "../../../rho                         0.001         7 (  6.8 %        )   0.1 % ||\n",
      "../../final update                   0.000         1 (  0.1 %        )   0.0 % ||\n",
      "../energy                            0.002         1 (  0.2 %, 73.1 %)   0.2 % ||\n",
      "../../e_bs                           0.000         1 (  5.3 %        )   0.0 % ||\n",
      "../../ecoul                          0.000         1 (  2.7 %        )   0.0 % ||\n",
      "../../e_rep                          0.001         1 ( 65.1 %        )   0.2 % ||\n",
      " -------------------------------------------------------------------------------\n",
      "total time        0.641 seconds      0 h  0 min  1 sec\n",
      "Sun Mar 10 19:19:00 2019\n",
      "\n",
      "\n",
      "\n",
      "\n",
      "\n",
      "\n",
      " _           _    _     _ _\n",
      "| |__   ___ | |_ | |__ |_| |_\n",
      "|  _ \\ / _ \\|  _||  _ \\| |  _|\n",
      "| | | | ( ) | |_ | ( ) | | |_\n",
      "|_| |_|\\___/ \\__|\\____/|_|\\__|  ver. 0.1 (svn=Unversioned directory)\n",
      "Distributed under GNU GPL; see /home/underkoffler.c/Code/hotbit/lib/python/LICENSE\n",
      "Date: Sun Mar 10 19:19:00 2019\n",
      "Nodename: c0220\n",
      "Arch: x86_64\n",
      "Dir: /home/underkoffler.c/Code/Hindered_Rotors/ONCC(=O)O/From_Workflow\n",
      "System: H5C2O3N\n",
      "       Charge= 0.0\n",
      "       Container Bravais: pbc:[0,0,0], cell:[0.00,0.00,0.00] Ang, \n",
      "   cosines(12,13,23):[nan,nan,nan]\n",
      "Symmetry operations (if any):\n",
      "       0: pbc= False , kappa-points=1, M=1\n",
      "       1: pbc= False , kappa-points=1, M=1\n",
      "       2: pbc= False , kappa-points=1, M=1\n",
      "Electronic temperature: 0.02 eV\n",
      "Mixer: Anderson with memory = 3 , mixing parameter = 0.2\n",
      "11 atoms, 29 states, 36.0 electrons (18.0 filled states)\n",
      "Initial n ranges:[0,0] [0,0] [0,0] \n",
      "Element O in /home/underkoffler.c/Code/hotbit/param/O.elm\n",
      "    *no comment\n",
      "Element N in /home/underkoffler.c/Code/hotbit/param/N.elm\n",
      "    *no comment\n",
      "Element C in /home/underkoffler.c/Code/hotbit/param/C.elm\n",
      "    *fixed set C\n",
      "Element H in /home/underkoffler.c/Code/hotbit/param/H.elm\n",
      "    *no comment\n",
      "\n",
      "Interactions:\n",
      "  OO in /home/underkoffler.c/Code/hotbit/param/O_O.par\n",
      "    *test parameters 23.6 2008\n",
      "  ON in /home/underkoffler.c/Code/hotbit/param/N_O.par\n",
      "    *no slako doc\n",
      "  OC in /home/underkoffler.c/Code/hotbit/param/C_O.par\n",
      "    *test parameters 23.6 2008\n",
      "  OH in /home/underkoffler.c/Code/hotbit/param/O_H.par\n",
      "    *test parameters 23.6 2008\n",
      "  NO in /home/underkoffler.c/Code/hotbit/param/N_O.par\n",
      "    *no slako doc\n",
      "  NN in /home/underkoffler.c/Code/hotbit/param/N_N.par\n",
      "    *test parameters 23.6 2008\n",
      "  NC in /home/underkoffler.c/Code/hotbit/param/C_N.par\n",
      "    *test parameters 23.6 2008\n",
      "  NH in /home/underkoffler.c/Code/hotbit/param/N_H.par\n",
      "    *test parameters 23.6 2008\n",
      "  CO in /home/underkoffler.c/Code/hotbit/param/C_O.par\n",
      "    *test parameters 23.6 2008\n",
      "  CN in /home/underkoffler.c/Code/hotbit/param/C_N.par\n",
      "    *test parameters 23.6 2008\n",
      "  CC in /home/underkoffler.c/Code/hotbit/param/C_C.par\n",
      "    *test parameters 23.6 2008\n",
      "    *Quadratic original (r/r0)**2, r0=1.85*r_cov,\n",
      "    *Original repulsion (probably)\n",
      "  CH in /home/underkoffler.c/Code/hotbit/param/C_H.par\n",
      "    *test parameters 23.6 2008\n",
      "  HO in /home/underkoffler.c/Code/hotbit/param/O_H.par\n",
      "    *test parameters 23.6 2008\n",
      "  HN in /home/underkoffler.c/Code/hotbit/param/N_H.par\n",
      "    *test parameters 23.6 2008\n",
      "  HC in /home/underkoffler.c/Code/hotbit/param/C_H.par\n",
      "    *test parameters 23.6 2008\n",
      "  HH in /home/underkoffler.c/Code/hotbit/param/H_H.par\n",
      "    *test parameters 23.6 2008\n",
      "\n",
      "Repulsions:\n",
      "  OO in /home/underkoffler.c/Code/hotbit/param/O_O.par\n",
      "    *test parameters 23.6 2008\n",
      "  ON in /home/underkoffler.c/Code/hotbit/param/N_O.par\n",
      "    *no repulsion doc\n",
      "  OC in /home/underkoffler.c/Code/hotbit/param/C_O.par\n",
      "    *test parameters 23.6 2008\n",
      "  OH in /home/underkoffler.c/Code/hotbit/param/O_H.par\n",
      "    *test parameters 23.6 2008\n",
      "  NN in /home/underkoffler.c/Code/hotbit/param/N_N.par\n",
      "    *test parameters 23.6 2008\n",
      "  NC in /home/underkoffler.c/Code/hotbit/param/C_N.par\n",
      "    *test parameters 23.6 2008\n",
      "  NH in /home/underkoffler.c/Code/hotbit/param/N_H.par\n",
      "    *test parameters 23.6 2008\n",
      "  CC in /home/underkoffler.c/Code/hotbit/param/C_C.par\n",
      "    *test parameters 23.6 2008\n",
      "  CH in /home/underkoffler.c/Code/hotbit/param/C_H.par\n",
      "    *test parameters 23.6 2008\n",
      "  HH in /home/underkoffler.c/Code/hotbit/param/H_H.par\n",
      "    *test parameters 23.6 2008\n",
      "\n",
      "Memory consumption estimate: > 0.00 GB\n"
     ]
    },
    {
     "name": "stdout",
     "output_type": "stream",
     "text": [
      "Hamiltonian ~91.201 % filled.\n"
     ]
    }
   ],
   "source": [
    "from autotst.species import Conformer\n",
    "import os\n",
    "from ase.io.gaussian import read_gaussian_out\n",
    "from hotbit import Hotbit\n",
    "import pickle\n",
    "\n",
    "from rdkit import Chem\n",
    "from autotst.job import Job as AutoTST_Job\n",
    "\n",
    "import numpy as np\n",
    "\n",
    "\n",
    "def ASE_updated_conf_from_scans(conf, steps, step_size, attempt):\n",
    "    auto_job = AutoTST_Job()\n",
    "    \n",
    "    augInChIKey = Chem.rdinchi.InchiToInchiKey(Chem.MolToInchi(\n",
    "            Chem.MolFromSmiles(conf.smiles)))\n",
    "        \n",
    "    multiplicity = conf.rmg_molecule.multiplicity\n",
    "    \n",
    "    min_atomnos = None\n",
    "    min_atomcoords = None\n",
    "    min_energy = None\n",
    "    all_verified = True\n",
    "\n",
    "    for torsion in conf.torsions:\n",
    "        (i, j, k, l) = torsion.atom_indices\n",
    "\n",
    "        output_log = '{0}_{1}by{2}_tor{3}{4}_a{5}.log'.format(augInChIKey, steps, step_size, j, k, attempt)\n",
    "        \n",
    "        scan_info = auto_job.check_rotor_lowest_conf(file_name=output_log, tol=0.0)\n",
    "        print output_log\n",
    "        [verified, energy, atomnos, atomcoords] = scan_info\n",
    "        \n",
    "        if (min_energy is None) or (energy<min_energy):\n",
    "            min_energy = energy\n",
    "            min_atomnos = atomnos\n",
    "            min_atomcoords = atomcoords\n",
    "\n",
    "    \n",
    "    assert min_atomnos is not None\n",
    "    assert min_atomcoords is not None\n",
    "    \n",
    "    \n",
    "    for ase_atomno, atomno in zip(conf.ase_molecule.get_atomic_numbers(), min_atomnos):\n",
    "        assert ase_atomno == atomno\n",
    "    \n",
    "    \n",
    "    conf.ase_molecule.set_positions(newpositions=np.array(min_atomcoords))\n",
    "    conf.update_coords_from(mol_type='ase')\n",
    "    \n",
    "    return [conf, min_energy]\n",
    "\n",
    "\n",
    "SMILES_list = ['ONCC(=O)O']\n",
    "steps = 72\n",
    "step_size = 10.0\n",
    "base_path = '/home/underkoffler.c/Code/Hindered_Rotors'\n",
    "\n",
    "\n",
    "for SMILES in SMILES_list:\n",
    "    conf_dict = {}\n",
    "    augInChIKey = Chem.rdinchi.InchiToInchiKey(Chem.MolToInchi(\n",
    "                Chem.MolFromSmiles(conf.smiles)))\n",
    "\n",
    "\n",
    "    general_conf = Conformer(SMILES)\n",
    "    conf_dict['gen_conf'] = general_conf\n",
    "\n",
    "    path = '{}/{}/From_Workflow'.format(base_path, SMILES)\n",
    "    os.chdir(path)\n",
    "\n",
    "    \n",
    "    \n",
    "    \n",
    "    \n",
    "    og_geo_conf = general_conf\n",
    "    og_geo_log = augInChIKey + '_GeoFreq.log'\n",
    "    if os.path.isfile(og_geo_log):\n",
    "        og_geo_conf.ase_molecule = read_gaussian_out(og_geo_log)\n",
    "        og_geo_conf.update_coords()\n",
    "        conf_dict['og_geo_log'] = og_geo_conf\n",
    "        print og_geo_log\n",
    "\n",
    "    for attempt in range(1,10):\n",
    "        \n",
    "        geo_log = augInChIKey + '_GeoFreq_a{}.log'.format(attempt)\n",
    "        \n",
    "        if os.path.isfile(geo_log):\n",
    "            geo_conf = general_conf\n",
    "            geo_conf.ase_molecule = read_gaussian_out(geo_log)\n",
    "            geo_conf.update_coords()\n",
    "            geo_conf.ase_molecule\n",
    "            conf_dict['geo_a{}'.format(attempt)] = geo_conf\n",
    "            \n",
    "        \n",
    "        \n",
    "        try:\n",
    "            scan_conf = ASE_updated_conf_from_scans(general_conf, steps, step_size, attempt)[0]\n",
    "            conf_dict['scans_a{}'.format(attempt)] = scan_conf\n",
    "        except:\n",
    "            pass\n",
    "\n",
    "    lowest_conf = None\n",
    "    \n",
    "    for source, conformer in conf_dict.items():\n",
    "        conformer.update_coords_from(mol_type='ase')\n",
    "        conformer.ase_molecule = conformer.get_ase_mol()\n",
    "        conformer.ase_molecule.set_calculator(Hotbit())\n",
    "    \n",
    "        conformer.energy = conformer.ase_molecule.get_potential_energy()\n",
    "\n",
    "        if (lowest_conf is None) or (conformer.energy < lowest_conf.energy):\n",
    "            lowest_conf = conformer\n",
    "\n",
    "    #conf_dict['hotbit_gen'] = hotbit_lowest_conf(SMILES)\n"
   ]
  },
  {
   "cell_type": "code",
   "execution_count": 41,
   "metadata": {},
   "outputs": [
    {
     "name": "stdout",
     "output_type": "stream",
     "text": [
      "/home/underkoffler.c/Code/Hindered_Rotors/ONCC(=O)O/From_Workflow\n",
      "[Gaussian NPWGWQRXHVJJRD-UHFFFAOYSA-N_GeoFreq.log WARNING] Number of basis functions (nbasis) has changed from 249 to 279\n"
     ]
    },
    {
     "name": "stderr",
     "output_type": "stream",
     "text": [
      "gaussianparser.py:1313 extract WARNING Number of basis functions (nbasis) has changed from 249 to 279\n"
     ]
    },
    {
     "name": "stdout",
     "output_type": "stream",
     "text": [
      "[Gaussian NPWGWQRXHVJJRD-UHFFFAOYSA-N_GeoFreq.log WARNING] Number of basis functions (nbasis) has changed from 279 to 249\n"
     ]
    },
    {
     "name": "stderr",
     "output_type": "stream",
     "text": [
      "gaussianparser.py:1313 extract WARNING Number of basis functions (nbasis) has changed from 279 to 249\n"
     ]
    },
    {
     "name": "stdout",
     "output_type": "stream",
     "text": [
      "[Gaussian NPWGWQRXHVJJRD-UHFFFAOYSA-N_GeoFreq.log WARNING] Number of basis functions (nbasis) has changed from 249 to 279\n"
     ]
    },
    {
     "name": "stderr",
     "output_type": "stream",
     "text": [
      "gaussianparser.py:1313 extract WARNING Number of basis functions (nbasis) has changed from 249 to 279\n"
     ]
    },
    {
     "name": "stdout",
     "output_type": "stream",
     "text": [
      "[Gaussian NPWGWQRXHVJJRD-UHFFFAOYSA-N_GeoFreq.log WARNING] Number of basis functions (nbasis) has changed from 279 to 249\n"
     ]
    },
    {
     "name": "stderr",
     "output_type": "stream",
     "text": [
      "gaussianparser.py:1313 extract WARNING Number of basis functions (nbasis) has changed from 279 to 249\n"
     ]
    },
    {
     "name": "stdout",
     "output_type": "stream",
     "text": [
      "[Gaussian NPWGWQRXHVJJRD-UHFFFAOYSA-N_GeoFreq.log WARNING] Number of basis functions (nbasis) has changed from 249 to 279\n"
     ]
    },
    {
     "name": "stderr",
     "output_type": "stream",
     "text": [
      "gaussianparser.py:1313 extract WARNING Number of basis functions (nbasis) has changed from 249 to 279\n"
     ]
    },
    {
     "name": "stdout",
     "output_type": "stream",
     "text": [
      "[Gaussian NPWGWQRXHVJJRD-UHFFFAOYSA-N_GeoFreq.log WARNING] Number of basis functions (nbasis) has changed from 279 to 249\n"
     ]
    },
    {
     "name": "stderr",
     "output_type": "stream",
     "text": [
      "gaussianparser.py:1313 extract WARNING Number of basis functions (nbasis) has changed from 279 to 249\n"
     ]
    },
    {
     "name": "stdout",
     "output_type": "stream",
     "text": [
      "[Gaussian NPWGWQRXHVJJRD-UHFFFAOYSA-N_GeoFreq.log WARNING] Number of basis functions (nbasis) has changed from 249 to 279\n"
     ]
    },
    {
     "name": "stderr",
     "output_type": "stream",
     "text": [
      "gaussianparser.py:1313 extract WARNING Number of basis functions (nbasis) has changed from 249 to 279\n"
     ]
    },
    {
     "name": "stdout",
     "output_type": "stream",
     "text": [
      "[Gaussian NPWGWQRXHVJJRD-UHFFFAOYSA-N_GeoFreq.log WARNING] Number of basis functions (nbasis) has changed from 279 to 249\n"
     ]
    },
    {
     "name": "stderr",
     "output_type": "stream",
     "text": [
      "gaussianparser.py:1313 extract WARNING Number of basis functions (nbasis) has changed from 279 to 249\n"
     ]
    },
    {
     "name": "stdout",
     "output_type": "stream",
     "text": [
      "[Gaussian NPWGWQRXHVJJRD-UHFFFAOYSA-N_GeoFreq.log WARNING] Number of basis functions (nbasis) has changed from 249 to 279\n"
     ]
    },
    {
     "name": "stderr",
     "output_type": "stream",
     "text": [
      "gaussianparser.py:1313 extract WARNING Number of basis functions (nbasis) has changed from 249 to 279\n"
     ]
    },
    {
     "name": "stdout",
     "output_type": "stream",
     "text": [
      "[Gaussian NPWGWQRXHVJJRD-UHFFFAOYSA-N_GeoFreq.log WARNING] Number of basis functions (nbasis) has changed from 279 to 249\n"
     ]
    },
    {
     "name": "stderr",
     "output_type": "stream",
     "text": [
      "gaussianparser.py:1313 extract WARNING Number of basis functions (nbasis) has changed from 279 to 249\n"
     ]
    },
    {
     "name": "stdout",
     "output_type": "stream",
     "text": [
      "[Gaussian NPWGWQRXHVJJRD-UHFFFAOYSA-N_GeoFreq.log WARNING] Number of basis functions (nbasis) has changed from 249 to 279\n"
     ]
    },
    {
     "name": "stderr",
     "output_type": "stream",
     "text": [
      "gaussianparser.py:1313 extract WARNING Number of basis functions (nbasis) has changed from 249 to 279\n"
     ]
    },
    {
     "name": "stdout",
     "output_type": "stream",
     "text": [
      "[Gaussian NPWGWQRXHVJJRD-UHFFFAOYSA-N_GeoFreq.log WARNING] Number of basis functions (nbasis) has changed from 279 to 249\n"
     ]
    },
    {
     "name": "stderr",
     "output_type": "stream",
     "text": [
      "gaussianparser.py:1313 extract WARNING Number of basis functions (nbasis) has changed from 279 to 249\n"
     ]
    },
    {
     "name": "stdout",
     "output_type": "stream",
     "text": [
      "[Gaussian NPWGWQRXHVJJRD-UHFFFAOYSA-N_GeoFreq.log WARNING] Number of basis functions (nbasis) has changed from 249 to 279\n"
     ]
    },
    {
     "name": "stderr",
     "output_type": "stream",
     "text": [
      "gaussianparser.py:1313 extract WARNING Number of basis functions (nbasis) has changed from 249 to 279\n"
     ]
    },
    {
     "name": "stdout",
     "output_type": "stream",
     "text": [
      "[Gaussian NPWGWQRXHVJJRD-UHFFFAOYSA-N_GeoFreq.log WARNING] Number of basis functions (nbasis) has changed from 279 to 249\n"
     ]
    },
    {
     "name": "stderr",
     "output_type": "stream",
     "text": [
      "gaussianparser.py:1313 extract WARNING Number of basis functions (nbasis) has changed from 279 to 249\n"
     ]
    },
    {
     "name": "stdout",
     "output_type": "stream",
     "text": [
      "[Gaussian NPWGWQRXHVJJRD-UHFFFAOYSA-N_GeoFreq.log WARNING] Number of basis functions (nbasis) has changed from 249 to 279\n"
     ]
    },
    {
     "name": "stderr",
     "output_type": "stream",
     "text": [
      "gaussianparser.py:1313 extract WARNING Number of basis functions (nbasis) has changed from 249 to 279\n"
     ]
    },
    {
     "name": "stdout",
     "output_type": "stream",
     "text": [
      "[Gaussian NPWGWQRXHVJJRD-UHFFFAOYSA-N_GeoFreq.log WARNING] Number of basis functions (nbasis) has changed from 279 to 249\n"
     ]
    },
    {
     "name": "stderr",
     "output_type": "stream",
     "text": [
      "gaussianparser.py:1313 extract WARNING Number of basis functions (nbasis) has changed from 279 to 249\n"
     ]
    },
    {
     "name": "stdout",
     "output_type": "stream",
     "text": [
      "[Gaussian NPWGWQRXHVJJRD-UHFFFAOYSA-N_GeoFreq.log WARNING] Number of basis functions (nbasis) has changed from 249 to 279\n"
     ]
    },
    {
     "name": "stderr",
     "output_type": "stream",
     "text": [
      "gaussianparser.py:1313 extract WARNING Number of basis functions (nbasis) has changed from 249 to 279\n"
     ]
    },
    {
     "name": "stdout",
     "output_type": "stream",
     "text": [
      "[Gaussian NPWGWQRXHVJJRD-UHFFFAOYSA-N_GeoFreq.log WARNING] Number of basis functions (nbasis) has changed from 279 to 249\n"
     ]
    },
    {
     "name": "stderr",
     "output_type": "stream",
     "text": [
      "gaussianparser.py:1313 extract WARNING Number of basis functions (nbasis) has changed from 279 to 249\n"
     ]
    },
    {
     "name": "stdout",
     "output_type": "stream",
     "text": [
      "[Gaussian NPWGWQRXHVJJRD-UHFFFAOYSA-N_GeoFreq.log WARNING] Number of basis functions (nbasis) has changed from 249 to 279\n"
     ]
    },
    {
     "name": "stderr",
     "output_type": "stream",
     "text": [
      "gaussianparser.py:1313 extract WARNING Number of basis functions (nbasis) has changed from 249 to 279\n"
     ]
    },
    {
     "name": "stdout",
     "output_type": "stream",
     "text": [
      "[Gaussian NPWGWQRXHVJJRD-UHFFFAOYSA-N_GeoFreq.log WARNING] Number of basis functions (nbasis) has changed from 279 to 249\n"
     ]
    },
    {
     "name": "stderr",
     "output_type": "stream",
     "text": [
      "gaussianparser.py:1313 extract WARNING Number of basis functions (nbasis) has changed from 279 to 249\n"
     ]
    },
    {
     "name": "stdout",
     "output_type": "stream",
     "text": [
      "[Gaussian NPWGWQRXHVJJRD-UHFFFAOYSA-N_GeoFreq.log WARNING] Number of basis functions (nbasis) has changed from 249 to 279\n"
     ]
    },
    {
     "name": "stderr",
     "output_type": "stream",
     "text": [
      "gaussianparser.py:1313 extract WARNING Number of basis functions (nbasis) has changed from 249 to 279\n"
     ]
    },
    {
     "name": "stdout",
     "output_type": "stream",
     "text": [
      "[Gaussian NPWGWQRXHVJJRD-UHFFFAOYSA-N_GeoFreq.log WARNING] Number of basis functions (nbasis) has changed from 279 to 249\n"
     ]
    },
    {
     "name": "stderr",
     "output_type": "stream",
     "text": [
      "gaussianparser.py:1313 extract WARNING Number of basis functions (nbasis) has changed from 279 to 249\n"
     ]
    },
    {
     "name": "stdout",
     "output_type": "stream",
     "text": [
      "[Gaussian NPWGWQRXHVJJRD-UHFFFAOYSA-N_GeoFreq.log WARNING] Number of basis functions (nbasis) has changed from 249 to 279\n"
     ]
    },
    {
     "name": "stderr",
     "output_type": "stream",
     "text": [
      "gaussianparser.py:1313 extract WARNING Number of basis functions (nbasis) has changed from 249 to 279\n"
     ]
    },
    {
     "name": "stdout",
     "output_type": "stream",
     "text": [
      "[Gaussian NPWGWQRXHVJJRD-UHFFFAOYSA-N_GeoFreq.log WARNING] Number of basis functions (nbasis) has changed from 279 to 249\n"
     ]
    },
    {
     "name": "stderr",
     "output_type": "stream",
     "text": [
      "gaussianparser.py:1313 extract WARNING Number of basis functions (nbasis) has changed from 279 to 249\n"
     ]
    },
    {
     "name": "stdout",
     "output_type": "stream",
     "text": [
      "[Gaussian NPWGWQRXHVJJRD-UHFFFAOYSA-N_GeoFreq.log WARNING] Number of basis functions (nbasis) has changed from 249 to 279\n"
     ]
    },
    {
     "name": "stderr",
     "output_type": "stream",
     "text": [
      "gaussianparser.py:1313 extract WARNING Number of basis functions (nbasis) has changed from 249 to 279\n"
     ]
    },
    {
     "name": "stdout",
     "output_type": "stream",
     "text": [
      "[Gaussian NPWGWQRXHVJJRD-UHFFFAOYSA-N_GeoFreq.log WARNING] Number of basis functions (nbasis) has changed from 279 to 249\n"
     ]
    },
    {
     "name": "stderr",
     "output_type": "stream",
     "text": [
      "gaussianparser.py:1313 extract WARNING Number of basis functions (nbasis) has changed from 279 to 249\n"
     ]
    },
    {
     "name": "stdout",
     "output_type": "stream",
     "text": [
      "[Gaussian NPWGWQRXHVJJRD-UHFFFAOYSA-N_GeoFreq.log WARNING] Number of basis functions (nbasis) has changed from 249 to 279\n"
     ]
    },
    {
     "name": "stderr",
     "output_type": "stream",
     "text": [
      "gaussianparser.py:1313 extract WARNING Number of basis functions (nbasis) has changed from 249 to 279\n"
     ]
    },
    {
     "name": "stdout",
     "output_type": "stream",
     "text": [
      "[Gaussian NPWGWQRXHVJJRD-UHFFFAOYSA-N_GeoFreq.log WARNING] Number of basis functions (nbasis) has changed from 279 to 249\n"
     ]
    },
    {
     "name": "stderr",
     "output_type": "stream",
     "text": [
      "gaussianparser.py:1313 extract WARNING Number of basis functions (nbasis) has changed from 279 to 249\n"
     ]
    },
    {
     "name": "stdout",
     "output_type": "stream",
     "text": [
      "[Gaussian NPWGWQRXHVJJRD-UHFFFAOYSA-N_GeoFreq.log WARNING] Number of basis functions (nbasis) has changed from 249 to 279\n"
     ]
    },
    {
     "name": "stderr",
     "output_type": "stream",
     "text": [
      "gaussianparser.py:1313 extract WARNING Number of basis functions (nbasis) has changed from 249 to 279\n"
     ]
    },
    {
     "name": "stdout",
     "output_type": "stream",
     "text": [
      "[Gaussian NPWGWQRXHVJJRD-UHFFFAOYSA-N_GeoFreq.log WARNING] Number of basis functions (nbasis) has changed from 279 to 249\n"
     ]
    },
    {
     "name": "stderr",
     "output_type": "stream",
     "text": [
      "gaussianparser.py:1313 extract WARNING Number of basis functions (nbasis) has changed from 279 to 249\n"
     ]
    },
    {
     "name": "stdout",
     "output_type": "stream",
     "text": [
      "[Gaussian NPWGWQRXHVJJRD-UHFFFAOYSA-N_GeoFreq.log WARNING] Number of basis functions (nbasis) has changed from 249 to 279\n"
     ]
    },
    {
     "name": "stderr",
     "output_type": "stream",
     "text": [
      "gaussianparser.py:1313 extract WARNING Number of basis functions (nbasis) has changed from 249 to 279\n"
     ]
    },
    {
     "name": "stdout",
     "output_type": "stream",
     "text": [
      "[Gaussian NPWGWQRXHVJJRD-UHFFFAOYSA-N_GeoFreq.log WARNING] Number of basis functions (nbasis) has changed from 279 to 249\n"
     ]
    },
    {
     "name": "stderr",
     "output_type": "stream",
     "text": [
      "gaussianparser.py:1313 extract WARNING Number of basis functions (nbasis) has changed from 279 to 249\n"
     ]
    },
    {
     "name": "stdout",
     "output_type": "stream",
     "text": [
      "[Gaussian NPWGWQRXHVJJRD-UHFFFAOYSA-N_GeoFreq.log WARNING] Number of basis functions (nbasis) has changed from 249 to 279\n"
     ]
    },
    {
     "name": "stderr",
     "output_type": "stream",
     "text": [
      "gaussianparser.py:1313 extract WARNING Number of basis functions (nbasis) has changed from 249 to 279\n"
     ]
    },
    {
     "name": "stdout",
     "output_type": "stream",
     "text": [
      "[Gaussian NPWGWQRXHVJJRD-UHFFFAOYSA-N_GeoFreq.log WARNING] Number of basis functions (nbasis) has changed from 279 to 249\n"
     ]
    },
    {
     "name": "stderr",
     "output_type": "stream",
     "text": [
      "gaussianparser.py:1313 extract WARNING Number of basis functions (nbasis) has changed from 279 to 249\n"
     ]
    },
    {
     "name": "stdout",
     "output_type": "stream",
     "text": [
      "[Gaussian NPWGWQRXHVJJRD-UHFFFAOYSA-N_GeoFreq.log WARNING] Number of basis functions (nbasis) has changed from 249 to 279\n"
     ]
    },
    {
     "name": "stderr",
     "output_type": "stream",
     "text": [
      "gaussianparser.py:1313 extract WARNING Number of basis functions (nbasis) has changed from 249 to 279\n"
     ]
    },
    {
     "name": "stdout",
     "output_type": "stream",
     "text": [
      "[Gaussian NPWGWQRXHVJJRD-UHFFFAOYSA-N_GeoFreq.log WARNING] Number of basis functions (nbasis) has changed from 279 to 249\n"
     ]
    },
    {
     "name": "stderr",
     "output_type": "stream",
     "text": [
      "gaussianparser.py:1313 extract WARNING Number of basis functions (nbasis) has changed from 279 to 249\n"
     ]
    },
    {
     "name": "stdout",
     "output_type": "stream",
     "text": [
      "[Gaussian NPWGWQRXHVJJRD-UHFFFAOYSA-N_GeoFreq.log WARNING] Number of basis functions (nbasis) has changed from 249 to 279\n"
     ]
    },
    {
     "name": "stderr",
     "output_type": "stream",
     "text": [
      "gaussianparser.py:1313 extract WARNING Number of basis functions (nbasis) has changed from 249 to 279\n"
     ]
    },
    {
     "name": "stdout",
     "output_type": "stream",
     "text": [
      "[Gaussian NPWGWQRXHVJJRD-UHFFFAOYSA-N_GeoFreq.log WARNING] Number of basis functions (nbasis) has changed from 279 to 249\n"
     ]
    },
    {
     "name": "stderr",
     "output_type": "stream",
     "text": [
      "gaussianparser.py:1313 extract WARNING Number of basis functions (nbasis) has changed from 279 to 249\n"
     ]
    },
    {
     "name": "stdout",
     "output_type": "stream",
     "text": [
      "[Gaussian NPWGWQRXHVJJRD-UHFFFAOYSA-N_GeoFreq.log WARNING] Number of basis functions (nbasis) has changed from 249 to 279\n"
     ]
    },
    {
     "name": "stderr",
     "output_type": "stream",
     "text": [
      "gaussianparser.py:1313 extract WARNING Number of basis functions (nbasis) has changed from 249 to 279\n"
     ]
    },
    {
     "name": "stdout",
     "output_type": "stream",
     "text": [
      "[Gaussian NPWGWQRXHVJJRD-UHFFFAOYSA-N_GeoFreq.log WARNING] Number of basis functions (nbasis) has changed from 279 to 249\n"
     ]
    },
    {
     "name": "stderr",
     "output_type": "stream",
     "text": [
      "gaussianparser.py:1313 extract WARNING Number of basis functions (nbasis) has changed from 279 to 249\n"
     ]
    }
   ],
   "source": [
    "import cclib\n",
    "print os.getcwd()\n",
    "parser = cclib.io.ccread('NPWGWQRXHVJJRD-UHFFFAOYSA-N_GeoFreq.log')"
   ]
  },
  {
   "cell_type": "code",
   "execution_count": 58,
   "metadata": {},
   "outputs": [
    {
     "name": "stdout",
     "output_type": "stream",
     "text": [
      "/home/underkoffler.c/Code/Hindered_Rotors/ONCC(=O)O/From_Workflow\n",
      "[[ 1.824782  0.305438 -0.763853]\n",
      " [-1.951069 -0.539931 -0.468023]\n",
      " [-0.893741  1.266432  0.321768]\n",
      " [ 1.506198 -0.197069  0.527877]\n",
      " [ 0.226863 -0.858389  0.417876]\n",
      " [-0.905584  0.093728  0.083984]\n",
      " [-0.008483 -1.320512  1.379665]\n",
      " [ 0.283713 -1.648418 -0.327083]\n",
      " [ 1.375644  0.643081  1.086416]\n",
      " [ 2.68576  -0.075786 -0.949425]\n",
      " [-2.647462  0.113572 -0.615007]] 5.68173727515e-05\n",
      "\n",
      "[[ 1.824502  0.305174 -0.764079]\n",
      " [-1.950987 -0.539861 -0.468162]\n",
      " [-0.893737  1.266394  0.321975]\n",
      " [ 1.506215 -0.197133  0.527815]\n",
      " [ 0.226866 -0.858432  0.417935]\n",
      " [-0.905558  0.09372   0.08403 ]\n",
      " [-0.008443 -1.320414  1.379797]\n",
      " [ 0.28367  -1.648519 -0.32696 ]\n",
      " [ 1.375555  0.643077  1.086274]\n",
      " [ 2.686995 -0.073256 -0.948325]\n",
      " [-2.647355  0.113667 -0.615156]] 5.39873890375e-05\n",
      "\n",
      "[[ 1.939002  0.464298  0.517581]\n",
      " [-2.09165  -0.409461  0.252581]\n",
      " [-0.72059   1.25957  -0.323901]\n",
      " [ 1.433926 -0.402415 -0.481443]\n",
      " [ 0.184226 -0.954735 -0.011745]\n",
      " [-0.891423  0.104257 -0.062344]\n",
      " [ 0.2301   -1.320393  1.020837]\n",
      " [-0.109825 -1.783022 -0.657503]\n",
      " [ 2.127053 -1.137506 -0.54803 ]\n",
      " [ 1.678236  1.333927  0.198241]\n",
      " [-2.733962  0.311509  0.231003]] 0.0\n",
      "\n",
      "[[ 1.824726  0.305281 -0.763898]\n",
      " [-1.951165 -0.539757 -0.468067]\n",
      " [-0.893683  1.266395  0.322   ]\n",
      " [ 1.506208 -0.197379  0.527823]\n",
      " [ 0.226819 -0.858458  0.417619]\n",
      " [-0.905584  0.093748  0.083884]\n",
      " [-0.008589 -1.320531  1.37943 ]\n",
      " [ 0.283496 -1.648561 -0.327292]\n",
      " [ 1.37544   0.64273   1.086425]\n",
      " [ 2.687397 -0.072838 -0.947963]\n",
      " [-2.647633  0.113755 -0.614661]] 5.41506578884e-05\n"
     ]
    }
   ],
   "source": [
    "import cclib\n",
    "print os.getcwd()\n",
    "parser = cclib.io.ccread('NPWGWQRXHVJJRD-UHFFFAOYSA-N_72by10.0_tor34_a3.log')\n",
    "energies_of_interest(parser=parser)"
   ]
  },
  {
   "cell_type": "code",
   "execution_count": 10,
   "metadata": {},
   "outputs": [],
   "source": [
    "\n",
    "def geos_of_interest(parser=None, file_name=None):\n",
    "    if parser is None:\n",
    "        assert file_name is not None, \"Need either parser or file_name\"\n",
    "        parser = cclib.io.ccread(file_name)\n",
    "\n",
    "    min_energy = None\n",
    "    min_coords = None\n",
    "\n",
    "    atomnos = parser.atomnos\n",
    "\n",
    "    opt_indices = [idx for idx, status in enumerate(parser.optstatus) if status==2]\n",
    "    opt_SCFenergies = [parser.scfenergies[idx] for idx in opt_indices]\n",
    "\n",
    "    init_atomcoords = parser.atomcoords[0]\n",
    "    init_energy = parser.scfenergies[0]\n",
    "\n",
    "    first_atomcoords = parser.atomcoords[opt_indices[0]]\n",
    "    first_energy = parser.scfenergies[opt_indices[0]]\n",
    "\n",
    "    last_atomcoords = parser.atomcoords[opt_indices[-1]]\n",
    "    last_energy = parser.scfenergies[opt_indices[-1]]\n",
    "\n",
    "    lowest_atomcoords = None\n",
    "    lowest_energy = None\n",
    "    for opt_idx in opt_indices:\n",
    "        energy = parser.scfenergies[opt_idx]\n",
    "        if (energy < lowest_energy) or (lowest_energy is None):\n",
    "            lowest_energy = energy\n",
    "            lowest_atomcoords = parser.atomcoords[opt_idx]\n",
    "    \n",
    "    geometries = {}\n",
    "    geometries['scan_init'] = [init_atomcoords, init_energy]\n",
    "    geometries['sacn_first'] = [first_atomcoords, first_energy]\n",
    "    geometries['scan_lowest'] = [lowest_atomcoords, lowest_energy]\n",
    "    geometries['scan_last'] = [last_atomcoords, last_energy]\n",
    "    \n",
    "    return geometries"
   ]
  },
  {
   "cell_type": "code",
   "execution_count": 81,
   "metadata": {},
   "outputs": [],
   "source": [
    "\"\"\"for source, conf in conf_dict.items():\n",
    "    with open('del_conf.pickle', 'wb') as f:\n",
    "        positions = conf.ase_molecule.get_positions()\n",
    "        atomnos = conf.ase_molecule.get_atomic_numbers()\n",
    "        chem_symb = conf.ase_molecule.get_chemical_symbols()\n",
    "        energy = conf.energy\n",
    "        \n",
    "        info = [\n",
    "            positions,\n",
    "            atomnos,\n",
    "            chem_symb,\n",
    "            energy\n",
    "        ]\n",
    "        \n",
    "        pickle.dump(info, f)\n",
    "    \n",
    "    break\"\"\"\n",
    "x=1"
   ]
  },
  {
   "cell_type": "code",
   "execution_count": 65,
   "metadata": {},
   "outputs": [
    {
     "data": {
      "text/plain": [
       "array([[ 1.8247,  0.3053, -0.7639],\n",
       "       [-1.9512, -0.5398, -0.4681],\n",
       "       [-0.8937,  1.2664,  0.322 ],\n",
       "       [ 1.5062, -0.1974,  0.5278],\n",
       "       [ 0.2268, -0.8585,  0.4176],\n",
       "       [-0.9056,  0.0937,  0.0839],\n",
       "       [-0.0086, -1.3205,  1.3794],\n",
       "       [ 0.2835, -1.6486, -0.3273],\n",
       "       [ 1.3754,  0.6427,  1.0864],\n",
       "       [ 2.6874, -0.0728, -0.948 ],\n",
       "       [-2.6476,  0.1138, -0.6147]])"
      ]
     },
     "execution_count": 65,
     "metadata": {},
     "output_type": "execute_result"
    }
   ],
   "source": [
    "for source, conf in conf_dict.items():\n",
    "    #print source, conf.energy, conf.ase_molecule.get_positions()\n",
    "    break\n",
    "\n",
    "\n",
    "conf.ase_molecule.get_positions()\n"
   ]
  },
  {
   "cell_type": "code",
   "execution_count": 3,
   "metadata": {},
   "outputs": [],
   "source": [
    "os.chdir('/home/underkoffler.c/Code/Hindered_Rotors/clean_run1')"
   ]
  },
  {
   "cell_type": "code",
   "execution_count": 3,
   "metadata": {
    "scrolled": true
   },
   "outputs": [
    {
     "name": "stdout",
     "output_type": "stream",
     "text": [
      "\n",
      "\n",
      "\n",
      "\n",
      "\n",
      "\n",
      " _           _    _     _ _\n",
      "| |__   ___ | |_ | |__ |_| |_\n",
      "|  _ \\ / _ \\|  _||  _ \\| |  _|\n",
      "| | | | ( ) | |_ | ( ) | | |_\n",
      "|_| |_|\\___/ \\__|\\____/|_|\\__|  ver. 0.1 (svn=Unversioned directory)\n",
      "Distributed under GNU GPL; see /home/underkoffler.c/Code/hotbit/lib/python/LICENSE\n",
      "Date: Sun Mar 10 23:51:15 2019\n",
      "Nodename: c0066\n",
      "Arch: x86_64\n",
      "Dir: /home/underkoffler.c/Code/Hindered_Rotors\n",
      "System: H5C2O3N\n",
      "       Charge= 0.0\n",
      "       Container Bravais: pbc:[0,0,0], cell:[0.00,0.00,0.00] Ang, \n",
      "   cosines(12,13,23):[nan,nan,nan]\n",
      "Symmetry operations (if any):\n",
      "       0: pbc= False , kappa-points=1, M=1\n",
      "       1: pbc= False , kappa-points=1, M=1\n",
      "       2: pbc= False , kappa-points=1, M=1\n",
      "Electronic temperature: 0.02 eV\n",
      "Mixer: Anderson with memory = 3 , mixing parameter = 0.2\n",
      "11 atoms, 29 states, 36.0 electrons (18.0 filled states)\n",
      "Initial n ranges:[0,0] [0,0] [0,0] \n",
      "Element O in /home/underkoffler.c/Code/hotbit/param/O.elm\n",
      "    *no comment\n",
      "Element N in /home/underkoffler.c/Code/hotbit/param/N.elm\n",
      "    *no comment\n",
      "Element C in /home/underkoffler.c/Code/hotbit/param/C.elm\n",
      "    *fixed set C\n",
      "Element H in /home/underkoffler.c/Code/hotbit/param/H.elm\n",
      "    *no comment\n",
      "\n",
      "Interactions:\n",
      "  OO in /home/underkoffler.c/Code/hotbit/param/O_O.par\n",
      "    *test parameters 23.6 2008\n",
      "  ON in /home/underkoffler.c/Code/hotbit/param/N_O.par\n",
      "    *no slako doc\n",
      "  OC in /home/underkoffler.c/Code/hotbit/param/C_O.par\n",
      "    *test parameters 23.6 2008\n",
      "  OH in /home/underkoffler.c/Code/hotbit/param/O_H.par\n",
      "    *test parameters 23.6 2008\n",
      "  NO in /home/underkoffler.c/Code/hotbit/param/N_O.par\n",
      "    *no slako doc\n",
      "  NN in /home/underkoffler.c/Code/hotbit/param/N_N.par\n",
      "    *test parameters 23.6 2008\n",
      "  NC in /home/underkoffler.c/Code/hotbit/param/C_N.par\n",
      "    *test parameters 23.6 2008\n",
      "  NH in /home/underkoffler.c/Code/hotbit/param/N_H.par\n",
      "    *test parameters 23.6 2008\n",
      "  CO in /home/underkoffler.c/Code/hotbit/param/C_O.par\n",
      "    *test parameters 23.6 2008\n",
      "  CN in /home/underkoffler.c/Code/hotbit/param/C_N.par\n",
      "    *test parameters 23.6 2008\n",
      "  CC in /home/underkoffler.c/Code/hotbit/param/C_C.par\n",
      "    *test parameters 23.6 2008\n",
      "    *Quadratic original (r/r0)**2, r0=1.85*r_cov,\n",
      "    *Original repulsion (probably)\n",
      "  CH in /home/underkoffler.c/Code/hotbit/param/C_H.par\n",
      "    *test parameters 23.6 2008\n",
      "  HO in /home/underkoffler.c/Code/hotbit/param/O_H.par\n",
      "    *test parameters 23.6 2008\n",
      "  HN in /home/underkoffler.c/Code/hotbit/param/N_H.par\n",
      "    *test parameters 23.6 2008\n",
      "  HC in /home/underkoffler.c/Code/hotbit/param/C_H.par\n",
      "    *test parameters 23.6 2008\n",
      "  HH in /home/underkoffler.c/Code/hotbit/param/H_H.par\n",
      "    *test parameters 23.6 2008\n",
      "\n",
      "Repulsions:\n",
      "  OO in /home/underkoffler.c/Code/hotbit/param/O_O.par\n",
      "    *test parameters 23.6 2008\n",
      "  ON in /home/underkoffler.c/Code/hotbit/param/N_O.par\n",
      "    *no repulsion doc\n",
      "  OC in /home/underkoffler.c/Code/hotbit/param/C_O.par\n",
      "    *test parameters 23.6 2008\n",
      "  OH in /home/underkoffler.c/Code/hotbit/param/O_H.par\n",
      "    *test parameters 23.6 2008\n",
      "  NN in /home/underkoffler.c/Code/hotbit/param/N_N.par\n",
      "    *test parameters 23.6 2008\n",
      "  NC in /home/underkoffler.c/Code/hotbit/param/C_N.par\n",
      "    *test parameters 23.6 2008\n",
      "  NH in /home/underkoffler.c/Code/hotbit/param/N_H.par\n",
      "    *test parameters 23.6 2008\n",
      "  CC in /home/underkoffler.c/Code/hotbit/param/C_C.par\n",
      "    *test parameters 23.6 2008\n",
      "  CH in /home/underkoffler.c/Code/hotbit/param/C_H.par\n",
      "    *test parameters 23.6 2008\n",
      "  HH in /home/underkoffler.c/Code/hotbit/param/H_H.par\n",
      "    *test parameters 23.6 2008\n",
      "\n",
      "Memory consumption estimate: > 0.00 GB\n",
      "Hamiltonian ~91.201 % filled.\n"
     ]
    },
    {
     "name": "stderr",
     "output_type": "stream",
     "text": [
      "/home/underkoffler.c/Code/hotbit/lib/python/hotbit/containers/bravais.py:28: RuntimeWarning: invalid value encountered in double_scalars\n",
      "  a12 = np.dot(cell[0],cell[1])/(d[0]*d[1])\n",
      "/home/underkoffler.c/Code/hotbit/lib/python/hotbit/containers/bravais.py:29: RuntimeWarning: invalid value encountered in double_scalars\n",
      "  a13 = np.dot(cell[0],cell[2])/(d[0]*d[2])\n",
      "/home/underkoffler.c/Code/hotbit/lib/python/hotbit/containers/bravais.py:30: RuntimeWarning: invalid value encountered in double_scalars\n",
      "  a23 = np.dot(cell[1],cell[2])/(d[1]*d[2])\n"
     ]
    },
    {
     "ename": "NameError",
     "evalue": "name 'os' is not defined",
     "output_type": "error",
     "traceback": [
      "\u001b[0;31m---------------------------------------------------------------------------\u001b[0m",
      "\u001b[0;31mNameError\u001b[0m                                 Traceback (most recent call last)",
      "\u001b[0;32m<ipython-input-3-7da013b01a27>\u001b[0m in \u001b[0;36m<module>\u001b[0;34m()\u001b[0m\n\u001b[1;32m    148\u001b[0m         \u001b[0mpath\u001b[0m \u001b[0;34m=\u001b[0m \u001b[0;34m'{}/{}/From_Workflow'\u001b[0m\u001b[0;34m.\u001b[0m\u001b[0mformat\u001b[0m\u001b[0;34m(\u001b[0m\u001b[0mbase_path\u001b[0m\u001b[0;34m,\u001b[0m \u001b[0mSMILES\u001b[0m\u001b[0;34m)\u001b[0m\u001b[0;34m\u001b[0m\u001b[0m\n\u001b[1;32m    149\u001b[0m \u001b[0;34m\u001b[0m\u001b[0m\n\u001b[0;32m--> 150\u001b[0;31m         \u001b[0mos\u001b[0m\u001b[0;34m.\u001b[0m\u001b[0mchdir\u001b[0m\u001b[0;34m(\u001b[0m\u001b[0mpath\u001b[0m\u001b[0;34m)\u001b[0m\u001b[0;34m\u001b[0m\u001b[0m\n\u001b[0m\u001b[1;32m    151\u001b[0m \u001b[0;34m\u001b[0m\u001b[0m\n\u001b[1;32m    152\u001b[0m         \u001b[0;32mfor\u001b[0m \u001b[0mlog\u001b[0m \u001b[0;32min\u001b[0m \u001b[0mos\u001b[0m\u001b[0;34m.\u001b[0m\u001b[0mlistdir\u001b[0m\u001b[0;34m(\u001b[0m\u001b[0mpath\u001b[0m\u001b[0;34m)\u001b[0m\u001b[0;34m:\u001b[0m\u001b[0;34m\u001b[0m\u001b[0m\n",
      "\u001b[0;31mNameError\u001b[0m: name 'os' is not defined"
     ]
    }
   ],
   "source": [
    "import numpy as np\n",
    "import cclib\n",
    "\n",
    "from autotst.species import Conformer\n",
    "\n",
    "from hotbit import Hotbit\n",
    "\n",
    "from ase.calculators.gaussian import Gaussian as ASE_Gaussian\n",
    "\n",
    "\n",
    "SMILES_list = ['ONCC(=O)O']\n",
    "base_paths = [\n",
    "    '/home/underkoffler.c/Code/Hindered_Rotors',\n",
    "    '/home/underkoffler.c/Code/Hindered_Rotors/clean_run1'\n",
    "]\n",
    "\n",
    "\n",
    "\n",
    "\n",
    "\n",
    "\n",
    "\n",
    "def GeoFreqCom_from_Conf(conf, file_name=None):\n",
    "    \n",
    "    gaus_job = ASE_Gaussian()\n",
    "    \n",
    "    if file_name is None:\n",
    "        gaus_job.label = conf.rmg_molecule.toAugmentedInChIKey() + '_GeoFreq'\n",
    "    else:\n",
    "        gaus_job.label = file_name\n",
    "        \n",
    "    gaus_job.parameters['mem'] = '5GB'\n",
    "    gaus_job.parameters['nprocshared'] = '20'\n",
    "    gaus_job.parameters['method'] = 'm062x'\n",
    "    gaus_job.parameters['basis'] = '6-311+g(2df,2p)'\n",
    "    conf.rmg_molecule.updateMultiplicity()\n",
    "    gaus_job.parameters['multiplicity'] = conf.rmg_molecule.multiplicity\n",
    "    gaus_job.extra = 'opt=(calcfc,verytight,gdiis,maxcycles=900) freq iop(7/33=1,2/16=3)'\n",
    "\n",
    "    \n",
    "    del gaus_job.parameters['force']\n",
    "    \n",
    "    gaus_job.write_input(conf.ase_molecule)\n",
    "    \n",
    "    return\n",
    "\n",
    "\n",
    "def generate_rotors_run_script(path=None):\n",
    "    \n",
    "    if path is None:\n",
    "        path = os.getcwd()\n",
    "    \n",
    "    lst_template = [\"#!/bin/bash\",\n",
    "                    \"\",\n",
    "                    \"#SBATCH --job-name=AutoScript\",\n",
    "                    \"#SBATCH --output=$1.log\",\n",
    "                    \"\",\n",
    "                    \"## number of nodes\",\n",
    "                    \"#SBATCH -N 1\",\n",
    "                    \"#SBATCH --exclusive\",\n",
    "                    \"#SBATCH --partition=general\",\n",
    "                    \"#SBATCH --mem=120000\",\n",
    "                    \"\",\n",
    "                    \"## export GAUSS_SCRDIR=/scratch/$USER/gaussian_scratch\",\n",
    "                    \"## make the directory if it doesn't exist already\",\n",
    "                    \"## mkdir -p $GAUSS_SCRDIR\",\n",
    "                    \"\",\n",
    "                    \"## run gaussian, with the desired input file\",\n",
    "                    \"g16 $1.com\",\n",
    "                    \"\",\n",
    "                    \"\"]\n",
    "\n",
    "\n",
    "    template ='\\n'.join(lst_template)\n",
    "    with open('{}/rotors_run_template.sh'.format(path), 'w') as f:\n",
    "        f.write(template)\n",
    "        \n",
    "    return\n",
    "\n",
    "\n",
    "\n",
    "def geos_of_interest(parser=None, file_name=None):\n",
    "    if parser is None:\n",
    "        assert file_name is not None, \"Need either parser or file_name\"\n",
    "        parser = cclib.io.ccread(file_name)\n",
    "\n",
    "    min_energy = None\n",
    "    min_coords = None\n",
    "\n",
    "    atomnos = parser.atomnos\n",
    "\n",
    "    opt_indices = [idx for idx, status in enumerate(parser.optstatus) if status==2]\n",
    "    opt_SCFenergies = [parser.scfenergies[idx] for idx in opt_indices]\n",
    "\n",
    "    init_atomcoords = parser.atomcoords[0]\n",
    "    init_energy = parser.scfenergies[0]\n",
    "\n",
    "    first_atomcoords = parser.atomcoords[opt_indices[0]]\n",
    "    first_energy = parser.scfenergies[opt_indices[0]]\n",
    "\n",
    "    last_atomcoords = parser.atomcoords[opt_indices[-1]]\n",
    "    last_energy = parser.scfenergies[opt_indices[-1]]\n",
    "\n",
    "    lowest_atomcoords = None\n",
    "    lowest_energy = None\n",
    "    for opt_idx in opt_indices:\n",
    "        energy = parser.scfenergies[opt_idx]\n",
    "        if (energy < lowest_energy) or (lowest_energy is None):\n",
    "            lowest_energy = energy\n",
    "            lowest_atomcoords = parser.atomcoords[opt_idx]\n",
    "    \n",
    "    geometries = {}\n",
    "    geometries['scan_init'] = [init_atomcoords, init_energy]\n",
    "    geometries['sacn_first'] = [first_atomcoords, first_energy]\n",
    "    geometries['scan_lowest'] = [lowest_atomcoords, lowest_energy]\n",
    "    geometries['scan_last'] = [last_atomcoords, last_energy]\n",
    "    \n",
    "    return geometries\n",
    "\n",
    "\n",
    "\n",
    "\n",
    "\n",
    "\n",
    "\n",
    "\n",
    "\n",
    "\n",
    "\n",
    "\n",
    "\n",
    "\n",
    "\n",
    "\n",
    "\n",
    "\n",
    "\n",
    "for SMILES in SMILES_list:\n",
    "    gen_conf = Conformer(SMILES)\n",
    "    gen_conf.ase_molecule.set_calculator(Hotbit())\n",
    "    gen_conf.energy = gen_conf.ase_molecule.get_potential_energy()\n",
    "\n",
    "    conf_dict = {}\n",
    "    conf_dict['default'] = gen_conf\n",
    "    \n",
    "    \n",
    "    for base_path in base_paths:\n",
    "        path = '{}/{}/From_Workflow'.format(base_path, SMILES)\n",
    "        \n",
    "        os.chdir(path)\n",
    "\n",
    "        for log in os.listdir(path):\n",
    "            if log.endswith('.log'):\n",
    "                parser = None\n",
    "                new_conf = Conformer(SMILES)\n",
    "                \n",
    "                try:\n",
    "                    parser = cclib.io.ccread(log)\n",
    "                    assert parser is not None\n",
    "                except:\n",
    "                    continue\n",
    "\n",
    "                geos = geos_of_interest(parser=parser)\n",
    "\n",
    "                atomcoords, scfenergy = geos['scan_lowest']\n",
    "\n",
    "                new_conf.ase_molecule.set_positions(atomcoords)\n",
    "                new_conf.update_coords_from(mol_type='ase')\n",
    "\n",
    "                new_conf.ase_molecule.set_calculator(Hotbit())\n",
    "                new_conf.energy = new_conf.ase_molecule.get_potential_energy()\n",
    "\n",
    "                conf_dict[path+'/'+log] = new_conf\n",
    "\n",
    "    already_hotbit_gened = False\n",
    "    for key in conf_dict.keys():\n",
    "        if '/home/underkoffler.c/Code/Hindered_Rotors/clean_run1' in key:\n",
    "            already_hotbit_gened = True\n",
    "    \n",
    "    if not already_hotbit_gened:\n",
    "        hotbit_conf = Conformer(SMILES)\n",
    "        hotbit_conf.energy = -100\n",
    "        #hotbit_conf = hotbit_lowest_conf(SMILES)\n",
    "        #assert hotbit_conf.energy is not None\n",
    "\n",
    "        conf_dict['hotbit_gen'] = hotbit_conf\n",
    "    \n",
    "    output = SMILES + '\\n'\n",
    "    output += 'Energy of conformer using hotbit: Log conformer came from\\n\\n'\n",
    "    output += 'If log is scan, conformer chosen by lowest SCF energy\\n\\n'\n",
    "    \n",
    "    min_conf = None\n",
    "    min_energy = None\n",
    "    min_key = None\n",
    "    for key, conf in conf_dict.items():\n",
    "        output += '{}\\t:\\t{}\\n'.format(conf.energy, key)\n",
    "        \n",
    "        if (min_energy is None) or (conf.energy < min_energy):\n",
    "            min_conf = conf\n",
    "            min_energy = conf.energy\n",
    "            min_key = key\n",
    "    \n",
    "    \n",
    "    output += '\\nLOWEST FOUND:\\n{}\\t:\\t{}\\n'.format(min_energy, min_key)\n",
    "    \n",
    "    \n",
    "    \n",
    "    \n",
    "                    \n",
    "    base_output = '/home/underkoffler.c/Code/Hindered_Rotors/clean_run2'\n",
    "    path_output = '{}/{}/From_Workflow'.format(base_output, SMILES)\n",
    "    \n",
    "    \n",
    "    \n",
    "    if not os.path.isdir(path_output):\n",
    "        os.makedirs(path_output)\n",
    "    os.chdir(path_output)\n",
    "    \n",
    "    generate_rotors_run_script(path=path_output)\n",
    "    \n",
    "    with open('Lowest_Conf_Search.txt', 'w') as f:\n",
    "        f.write(output)\n",
    "    \n",
    "    augInChIKey = Chem.rdinchi.InchiToInchiKey(Chem.MolToInchi(\n",
    "            Chem.MolFromSmiles(SMILES)))\n",
    "    \n",
    "    geo_Freq_Base = augInChIKey + '_GeoFreq_a1'\n",
    "    \n",
    "    GeoFreqCom_from_Conf(min_conf, file_name=geo_Freq_Base)\n",
    "    #subprocess.call(shlex.split('sbatch rotors_run_template.sh {0}'.format(geo_Freq_Base)))\n",
    "    \n",
    "    \n",
    "    \n",
    "\n",
    "\n",
    "\n"
   ]
  },
  {
   "cell_type": "code",
   "execution_count": 11,
   "metadata": {
    "scrolled": true
   },
   "outputs": [
    {
     "data": {
      "text/plain": [
       "'ONCC(=O)O\\nEnergy of conformer using hotbit: Log conformer came from\\n\\nIf log is scan, conformer chosen by lowest SCF energy\\n\\n-69.4729662253 : /home/underkoffler.c/Code/Hindered_Rotors/ONCC(=O)O/From_Workflow/NPWGWQRXHVJJRD-UHFFFAOYSA-N_72by10.0_tor34.log-69.4570182943 : /home/underkoffler.c/Code/Hindered_Rotors/ONCC(=O)O/From_Workflow/NPWGWQRXHVJJRD-UHFFFAOYSA-N_72by10.0_tor45_a2.log-69.3752437455 : /home/underkoffler.c/Code/Hindered_Rotors/ONCC(=O)O/From_Workflow/NPWGWQRXHVJJRD-UHFFFAOYSA-N_72by10.0_tor15_a1.log-69.3964890014 : /home/underkoffler.c/Code/Hindered_Rotors/ONCC(=O)O/From_Workflow/NPWGWQRXHVJJRD-UHFFFAOYSA-N_GeoFreq.log-69.5663049545 : /home/underkoffler.c/Code/Hindered_Rotors/ONCC(=O)O/From_Workflow/NPWGWQRXHVJJRD-UHFFFAOYSA-N_72by10.0_tor45_a3.log-69.4729662253 : /home/underkoffler.c/Code/Hindered_Rotors/ONCC(=O)O/From_Workflow/NPWGWQRXHVJJRD-UHFFFAOYSA-N_72by10.0_tor34_a1.log-69.4736254251 : /home/underkoffler.c/Code/Hindered_Rotors/ONCC(=O)O/From_Workflow/NPWGWQRXHVJJRD-UHFFFAOYSA-N_72by10.0_tor34_a2.log-69.3752437455 : /home/underkoffler.c/Code/Hindered_Rotors/ONCC(=O)O/From_Workflow/NPWGWQRXHVJJRD-UHFFFAOYSA-N_72by10.0_tor15.log-69.5663074128 : /home/underkoffler.c/Code/Hindered_Rotors/ONCC(=O)O/From_Workflow/NPWGWQRXHVJJRD-UHFFFAOYSA-N_72by10.0_tor15_a3.log-69.375489361 : /home/underkoffler.c/Code/Hindered_Rotors/ONCC(=O)O/From_Workflow/NPWGWQRXHVJJRD-UHFFFAOYSA-N_72by10.0_tor45_a1.log-69.5694474958 : /home/underkoffler.c/Code/Hindered_Rotors/ONCC(=O)O/From_Workflow/NPWGWQRXHVJJRD-UHFFFAOYSA-N_72by10.0_tor03.log-69.5694474958 : /home/underkoffler.c/Code/Hindered_Rotors/ONCC(=O)O/From_Workflow/NPWGWQRXHVJJRD-UHFFFAOYSA-N_72by10.0_tor03_a1.log-69.4570888207 : /home/underkoffler.c/Code/Hindered_Rotors/ONCC(=O)O/From_Workflow/NPWGWQRXHVJJRD-UHFFFAOYSA-N_72by10.0_tor15_a2.log-69.5660760346 : /home/underkoffler.c/Code/Hindered_Rotors/ONCC(=O)O/From_Workflow/NPWGWQRXHVJJRD-UHFFFAOYSA-N_72by10.0_tor03_a2.log-69.5255134818 : /home/underkoffler.c/Code/Hindered_Rotors/ONCC(=O)O/From_Workflow/NPWGWQRXHVJJRD-UHFFFAOYSA-N_72by10.0_tor34_a3.log-69.5664165422 : /home/underkoffler.c/Code/Hindered_Rotors/ONCC(=O)O/From_Workflow/NPWGWQRXHVJJRD-UHFFFAOYSA-N_72by10.0_tor34_a4.log-69.5665651284 : /home/underkoffler.c/Code/Hindered_Rotors/ONCC(=O)O/From_Workflow/NPWGWQRXHVJJRD-UHFFFAOYSA-N_72by10.0_tor03_a3.log-67.3959986074 : default-100 : hotbit_gen-69.5664165422 : /home/underkoffler.c/Code/Hindered_Rotors/ONCC(=O)O/From_Workflow/NPWGWQRXHVJJRD-UHFFFAOYSA-N_72by10.0_tor45_a4.log-69.375489361 : /home/underkoffler.c/Code/Hindered_Rotors/ONCC(=O)O/From_Workflow/NPWGWQRXHVJJRD-UHFFFAOYSA-N_72by10.0_tor45.log-69.5664165422 : /home/underkoffler.c/Code/Hindered_Rotors/ONCC(=O)O/From_Workflow/NPWGWQRXHVJJRD-UHFFFAOYSA-N_72by10.0_tor03_a4.log-69.5664165422 : /home/underkoffler.c/Code/Hindered_Rotors/ONCC(=O)O/From_Workflow/NPWGWQRXHVJJRD-UHFFFAOYSA-N_72by10.0_tor15_a4.log'"
      ]
     },
     "execution_count": 11,
     "metadata": {},
     "output_type": "execute_result"
    }
   ],
   "source": [
    "output"
   ]
  },
  {
   "cell_type": "code",
   "execution_count": 8,
   "metadata": {},
   "outputs": [],
   "source": [
    "os.chdir('/home/underkoffler.c/Code/Hindered_Rotors/clean_run1/ONCC(=O)O/From_Workflow')"
   ]
  },
  {
   "cell_type": "code",
   "execution_count": 4,
   "metadata": {},
   "outputs": [],
   "source": [
    "\"\"\"for key in geos:\n",
    "    atomcoords, energy = geos[key]\n",
    "\n",
    "    new_conf = Conformer(SMILES)    \n",
    "    new_conf.ase_molecule.set_positions(atomcoords)\n",
    "    new_conf.update_coords_from(mol_type='ase')\n",
    "\n",
    "    new_conf.ase_molecule.set_calculator(Hotbit())\n",
    "    new_conf.energy = new_conf.ase_molecule.get_potential_energy()\n",
    "\n",
    "    conf_dict[key] = new_conf\n",
    "\"\"\"\n",
    "#sconf_dict['hotbit_gen'] = hotbit_lowest_conf(SMILES)\n",
    "\"\"\"    \n",
    "pickle_dict = {}\n",
    "for key, conf in sconf_dict.items():\n",
    "    SMILES = conf.smiles\n",
    "    atomcoords = conf.ase_molecule.get_positions()\n",
    "    energy = conf.energy\n",
    "    pickle_dict[key] = [SMILES, atomcoords, energy]\n",
    "\"\"\"    \n",
    "\n",
    "x=1"
   ]
  },
  {
   "cell_type": "code",
   "execution_count": 22,
   "metadata": {},
   "outputs": [
    {
     "name": "stdout",
     "output_type": "stream",
     "text": [
      "$1.log\n",
      "NPWGWQRXHVJJRD-UHFFFAOYSA-N_72by10.0_tor15.log\n",
      "NPWGWQRXHVJJRD-UHFFFAOYSA-N_72by10.0_tor03_a1.log\n",
      "NPWGWQRXHVJJRD-UHFFFAOYSA-N_72by10.0_tor03_a2.log\n",
      "NPWGWQRXHVJJRD-UHFFFAOYSA-N_72by10.0_tor34_a3.log\n",
      "NPWGWQRXHVJJRD-UHFFFAOYSA-N_72by10.0_tor03_a4.log\n",
      "NPWGWQRXHVJJRD-UHFFFAOYSA-N_72by10.0_tor45_a3.log\n",
      "NPWGWQRXHVJJRD-UHFFFAOYSA-N_72by10.0_tor03.log\n",
      "NPWGWQRXHVJJRD-UHFFFAOYSA-N_72by10.0_tor34_a4.log\n",
      "NPWGWQRXHVJJRD-UHFFFAOYSA-N_72by10.0_tor45_a1.log\n",
      "NPWGWQRXHVJJRD-UHFFFAOYSA-N_72by10.0_tor34_a1.log\n",
      "NPWGWQRXHVJJRD-UHFFFAOYSA-N_72by10.0_tor45.log\n",
      "NPWGWQRXHVJJRD-UHFFFAOYSA-N_GeoFreq.log\n",
      "NPWGWQRXHVJJRD-UHFFFAOYSA-N_72by10.0_tor34_a2.log\n",
      "NPWGWQRXHVJJRD-UHFFFAOYSA-N_72by10.0_tor15_a1.log\n",
      "NPWGWQRXHVJJRD-UHFFFAOYSA-N_72by10.0_tor15_a2.log\n",
      "NPWGWQRXHVJJRD-UHFFFAOYSA-N_72by10.0_tor45_a4.log\n",
      "NPWGWQRXHVJJRD-UHFFFAOYSA-N_72by10.0_tor45_a2.log\n",
      "NPWGWQRXHVJJRD-UHFFFAOYSA-N_72by10.0_tor15_a4.log\n",
      "NPWGWQRXHVJJRD-UHFFFAOYSA-N_72by10.0_tor34.log\n",
      "NPWGWQRXHVJJRD-UHFFFAOYSA-N_72by10.0_tor03_a3.log\n",
      "NPWGWQRXHVJJRD-UHFFFAOYSA-N_72by10.0_tor15_a3.log\n"
     ]
    }
   ],
   "source": [
    "for log in os.listdir(path):\n",
    "    if log.endswith('.log'):\n",
    "        print log"
   ]
  },
  {
   "cell_type": "code",
   "execution_count": 18,
   "metadata": {
    "scrolled": true
   },
   "outputs": [
    {
     "name": "stdout",
     "output_type": "stream",
     "text": [
      "lowest ['ONCC(=O)O', array([[ 1.939002,  0.464298,  0.517581],\n",
      "       [-2.09165 , -0.409461,  0.252581],\n",
      "       [-0.72059 ,  1.25957 , -0.323901],\n",
      "       [ 1.433926, -0.402415, -0.481443],\n",
      "       [ 0.184226, -0.954735, -0.011745],\n",
      "       [-0.891423,  0.104257, -0.062344],\n",
      "       [ 0.2301  , -1.320393,  1.020837],\n",
      "       [-0.109825, -1.783022, -0.657503],\n",
      "       [ 2.127053, -1.137506, -0.54803 ],\n",
      "       [ 1.678236,  1.333927,  0.198241],\n",
      "       [-2.733962,  0.311509,  0.231003]]), -69.525513481836413]\n",
      "init ['ONCC(=O)O', array([[ 1.824782,  0.305438, -0.763853],\n",
      "       [-1.951069, -0.539931, -0.468023],\n",
      "       [-0.893741,  1.266432,  0.321768],\n",
      "       [ 1.506198, -0.197069,  0.527877],\n",
      "       [ 0.226863, -0.858389,  0.417876],\n",
      "       [-0.905584,  0.093728,  0.083984],\n",
      "       [-0.008483, -1.320512,  1.379665],\n",
      "       [ 0.283713, -1.648418, -0.327083],\n",
      "       [ 1.375644,  0.643081,  1.086416],\n",
      "       [ 2.68576 , -0.075786, -0.949425],\n",
      "       [-2.647462,  0.113572, -0.615007]]), -69.566076034617822]\n",
      "gen_conf ['ONCC(=O)O', array([[-1.2072,  1.2009, -0.2916],\n",
      "       [ 1.401 ,  1.0174,  0.5898],\n",
      "       [ 2.2337, -0.308 , -1.047 ],\n",
      "       [-1.0504,  0.0028,  0.2136],\n",
      "       [ 0.0069, -0.8075, -0.2374],\n",
      "       [ 1.2288,  0.0078, -0.3618],\n",
      "       [ 0.1409, -1.6427,  0.4972],\n",
      "       [-0.2664, -1.2654, -1.2032],\n",
      "       [-1.6369, -0.3104,  0.9754],\n",
      "       [-2.1089,  1.2844, -0.7179],\n",
      "       [ 1.2586,  0.8208,  1.5829]]), -67.121249507768368]\n",
      "last ['ONCC(=O)O', array([[ 1.824726,  0.305281, -0.763898],\n",
      "       [-1.951165, -0.539757, -0.468067],\n",
      "       [-0.893683,  1.266395,  0.322   ],\n",
      "       [ 1.506208, -0.197379,  0.527823],\n",
      "       [ 0.226819, -0.858458,  0.417619],\n",
      "       [-0.905584,  0.093748,  0.083884],\n",
      "       [-0.008589, -1.320531,  1.37943 ],\n",
      "       [ 0.283496, -1.648561, -0.327292],\n",
      "       [ 1.37544 ,  0.64273 ,  1.086425],\n",
      "       [ 2.687397, -0.072838, -0.947963],\n",
      "       [-2.647633,  0.113755, -0.614661]]), -69.566416542247225]\n",
      "first ['ONCC(=O)O', array([[ 1.824502,  0.305174, -0.764079],\n",
      "       [-1.950987, -0.539861, -0.468162],\n",
      "       [-0.893737,  1.266394,  0.321975],\n",
      "       [ 1.506215, -0.197133,  0.527815],\n",
      "       [ 0.226866, -0.858432,  0.417935],\n",
      "       [-0.905558,  0.09372 ,  0.08403 ],\n",
      "       [-0.008443, -1.320414,  1.379797],\n",
      "       [ 0.28367 , -1.648519, -0.32696 ],\n",
      "       [ 1.375555,  0.643077,  1.086274],\n",
      "       [ 2.686995, -0.073256, -0.948325],\n",
      "       [-2.647355,  0.113667, -0.615156]]), -69.566288064324283]\n"
     ]
    }
   ],
   "source": [
    "for key, item in pickle_dict.items():\n",
    "    print key, item"
   ]
  },
  {
   "cell_type": "code",
   "execution_count": 17,
   "metadata": {
    "scrolled": true
   },
   "outputs": [
    {
     "name": "stdout",
     "output_type": "stream",
     "text": [
      "Solved one time; Iterations: 6\n",
      "\n",
      "Timing:\n",
      "            label                    time     calls    %sub  %covered   %tot\n",
      "-------------------------------------------------------------------------------\n",
      "Hotbit                             418.124         1 (100.0 %,  0.1 %) 100.0 % |000000000000000000000000000000|\n",
      "../initialization                    0.466         1 (  0.1 %        )   0.1 % ||\n",
      "../geometry                          0.003         1 (  0.0 %, 35.9 %)   0.0 % ||\n",
      "../../operations                     0.000         1 (  0.9 %        )   0.0 % ||\n",
      "../../displacements                  0.001         1 ( 34.9 %        )   0.0 % ||\n",
      "../solve                             0.142         1 (  0.0 %, 96.9 %)   0.0 % ||\n",
      "../../matrix construction            0.115         1 ( 81.3 %        )   0.0 % ||\n",
      "../../gamma matrix                   0.003         1 (  2.1 %        )   0.0 % ||\n",
      "../../h1                             0.006         7 (  3.9 %        )   0.0 % ||\n",
      "../../LAPACK eigensolver             0.004         7 (  2.9 %        )   0.0 % ||\n",
      "../../Check norm (remove?)           0.001         7 (  0.5 %        )   0.0 % ||\n",
      "../../update                         0.008         7 (  5.9 %,  7.1 %)   0.0 % ||\n",
      "../../../rho                         0.001         7 (  7.1 %        )   0.0 % ||\n",
      "../../final update                   0.000         1 (  0.1 %        )   0.0 % ||\n",
      "../energy                            0.001         1 (  0.0 %, 72.8 %)   0.0 % ||\n",
      "../../e_bs                           0.000         1 (  5.3 %        )   0.0 % ||\n",
      "../../ecoul                          0.000         1 (  2.0 %        )   0.0 % ||\n",
      "../../e_rep                          0.001         1 ( 65.5 %        )   0.0 % ||\n",
      " -------------------------------------------------------------------------------\n",
      "total time      418.124 seconds      0 h  6 min  58 sec\n",
      "Sun Mar 10 16:52:51 2019\n"
     ]
    },
    {
     "ename": "TypeError",
     "evalue": "unbound method check_rotor_lowest_conf() must be called with Job instance as first argument (got nothing instead)",
     "output_type": "error",
     "traceback": [
      "\u001b[0;31m---------------------------------------------------------------------------\u001b[0m",
      "\u001b[0;31mTypeError\u001b[0m                                 Traceback (most recent call last)",
      "\u001b[0;32m<ipython-input-17-ebb50db67b6e>\u001b[0m in \u001b[0;36m<module>\u001b[0;34m()\u001b[0m\n\u001b[0;32m----> 1\u001b[0;31m \u001b[0mconf\u001b[0m \u001b[0;34m=\u001b[0m \u001b[0mASE_updated_conf_from_scans\u001b[0m\u001b[0;34m(\u001b[0m\u001b[0mgeneral_conf\u001b[0m\u001b[0;34m,\u001b[0m \u001b[0msteps\u001b[0m\u001b[0;34m,\u001b[0m \u001b[0mstep_size\u001b[0m\u001b[0;34m,\u001b[0m \u001b[0;36m3\u001b[0m\u001b[0;34m)\u001b[0m\u001b[0;34m\u001b[0m\u001b[0m\n\u001b[0m",
      "\u001b[0;32m<ipython-input-16-34f81fb59278>\u001b[0m in \u001b[0;36mASE_updated_conf_from_scans\u001b[0;34m(conf, steps, step_size, attempt)\u001b[0m\n\u001b[1;32m     29\u001b[0m         \u001b[0moutput_log\u001b[0m \u001b[0;34m=\u001b[0m \u001b[0;34m'{0}_{1}by{2}_tor{3}{4}_a{5}.log'\u001b[0m\u001b[0;34m.\u001b[0m\u001b[0mformat\u001b[0m\u001b[0;34m(\u001b[0m\u001b[0maugInChIKey\u001b[0m\u001b[0;34m,\u001b[0m \u001b[0msteps\u001b[0m\u001b[0;34m,\u001b[0m \u001b[0mstep_size\u001b[0m\u001b[0;34m,\u001b[0m \u001b[0mj\u001b[0m\u001b[0;34m,\u001b[0m \u001b[0mk\u001b[0m\u001b[0;34m,\u001b[0m \u001b[0mattempt\u001b[0m\u001b[0;34m)\u001b[0m\u001b[0;34m\u001b[0m\u001b[0m\n\u001b[1;32m     30\u001b[0m \u001b[0;34m\u001b[0m\u001b[0m\n\u001b[0;32m---> 31\u001b[0;31m         \u001b[0mscan_info\u001b[0m \u001b[0;34m=\u001b[0m \u001b[0mauto_job\u001b[0m\u001b[0;34m.\u001b[0m\u001b[0mcheck_rotor_lowest_conf\u001b[0m\u001b[0;34m(\u001b[0m\u001b[0mfile_name\u001b[0m\u001b[0;34m=\u001b[0m\u001b[0moutput_log\u001b[0m\u001b[0;34m,\u001b[0m \u001b[0mtol\u001b[0m\u001b[0;34m=\u001b[0m\u001b[0;36m0.0\u001b[0m\u001b[0;34m)\u001b[0m\u001b[0;34m\u001b[0m\u001b[0m\n\u001b[0m\u001b[1;32m     32\u001b[0m         \u001b[0;32mprint\u001b[0m \u001b[0moutput_log\u001b[0m\u001b[0;34m\u001b[0m\u001b[0m\n\u001b[1;32m     33\u001b[0m         \u001b[0;34m[\u001b[0m\u001b[0mverified\u001b[0m\u001b[0;34m,\u001b[0m \u001b[0menergy\u001b[0m\u001b[0;34m,\u001b[0m \u001b[0matomnos\u001b[0m\u001b[0;34m,\u001b[0m \u001b[0matomcoords\u001b[0m\u001b[0;34m]\u001b[0m \u001b[0;34m=\u001b[0m \u001b[0mscan_info\u001b[0m\u001b[0;34m\u001b[0m\u001b[0m\n",
      "\u001b[0;31mTypeError\u001b[0m: unbound method check_rotor_lowest_conf() must be called with Job instance as first argument (got nothing instead)"
     ]
    }
   ],
   "source": [
    "conf = ASE_updated_conf_from_scans(general_conf, steps, step_size, 3)"
   ]
  },
  {
   "cell_type": "code",
   "execution_count": 11,
   "metadata": {},
   "outputs": [
    {
     "ename": "NameError",
     "evalue": "name 'ASE_updated_conf_from_scans' is not defined",
     "output_type": "error",
     "traceback": [
      "\u001b[0;31m---------------------------------------------------------------------------\u001b[0m",
      "\u001b[0;31mNameError\u001b[0m                                 Traceback (most recent call last)",
      "\u001b[0;32m<ipython-input-11-ff5119f5470b>\u001b[0m in \u001b[0;36m<module>\u001b[0;34m()\u001b[0m\n\u001b[1;32m      5\u001b[0m \u001b[0;34m\u001b[0m\u001b[0m\n\u001b[1;32m      6\u001b[0m \u001b[0;34m\u001b[0m\u001b[0m\n\u001b[0;32m----> 7\u001b[0;31m \u001b[0mconf\u001b[0m \u001b[0;34m=\u001b[0m \u001b[0mASE_updated_conf_from_scans\u001b[0m\u001b[0;34m(\u001b[0m\u001b[0;34m)\u001b[0m\u001b[0;34m\u001b[0m\u001b[0m\n\u001b[0m\u001b[1;32m      8\u001b[0m \u001b[0;34m\u001b[0m\u001b[0m\n\u001b[1;32m      9\u001b[0m \u001b[0mgeo_log\u001b[0m \u001b[0;34m=\u001b[0m \u001b[0;34m'QOOQLKSEGVNYLA-UHFFFAOYSA-N_GeoFreq_a1.log'\u001b[0m\u001b[0;34m\u001b[0m\u001b[0m\n",
      "\u001b[0;31mNameError\u001b[0m: name 'ASE_updated_conf_from_scans' is not defined"
     ]
    }
   ],
   "source": [
    "\n",
    "\n",
    "path = '/home/underkoffler.c/Code/Hindered_Rotors/CCCC[O]/From_Workflow'\n",
    "os.chdir(path)\n",
    "\n",
    "\n",
    "conf = ASE_updated_conf_from_scans()\n",
    "\n",
    "geo_log = 'QOOQLKSEGVNYLA-UHFFFAOYSA-N_GeoFreq_a1.log'\n",
    "\n",
    "atoms = read_gaussian_out(geo_log) \n",
    "print type(atoms)\n",
    "print atoms.set_atomic_numbers"
   ]
  },
  {
   "cell_type": "code",
   "execution_count": 13,
   "metadata": {},
   "outputs": [],
   "source": [
    "plt.show()"
   ]
  },
  {
   "cell_type": "code",
   "execution_count": 17,
   "metadata": {
    "scrolled": true
   },
   "outputs": [
    {
     "name": "stdout",
     "output_type": "stream",
     "text": [
      "['ONCC(=O)O']\n"
     ]
    },
    {
     "data": {
      "application/3dmoljs_load.v0": "<div id=\"3dmolviewer_155240143544\"  style=\"position: relative; width: 600px; height: 600px\">\n        <p id=\"3dmolwarning_155240143544\" style=\"background-color:#ffcccc;color:black\">You appear to be running in JupyterLab.  You need to install the 3dmol extension: <br>\n        <tt>jupyter labextension install jupyterlab_3dmol</tt></p>\n        </div>\n<script>\n\nvar loadScriptAsync = function(uri){\n  return new Promise((resolve, reject) => {\n    var tag = document.createElement('script');\n    tag.src = uri;\n    tag.async = true;\n    tag.onload = () => {\n      resolve();\n    };\n  var firstScriptTag = document.getElementsByTagName('script')[0];\n  firstScriptTag.parentNode.insertBefore(tag, firstScriptTag);\n});\n};\n\nif(typeof $3Dmolpromise === 'undefined') {\n$3Dmolpromise = null;\n  $3Dmolpromise = loadScriptAsync('https://3dmol.csb.pitt.edu/build/3Dmol.js');\n}\n\nvar viewer_155240143544 = null;\nvar warn = document.getElementById(\"3dmolwarning_155240143544\");\nif(warn) {\n    warn.parentNode.removeChild(warn);\n}\n$3Dmolpromise.then(function() {\nviewer_155240143544 = $3Dmol.createViewer($(\"#3dmolviewer_155240143544\"),{backgroundColor:\"white\"});\n\tviewer_155240143544.addModel(\"\\n     RDKit          3D\\n\\n 11 10  0  0  0  0  0  0  0  0999 V2000\\n    2.1947    0.3198    0.6140 O   0  0  0  0  0  0  0  0  0  0  0  0\\n   -2.3268   -0.1558   -0.6018 O   0  0  0  0  0  0  0  0  0  0  0  0\\n   -1.0703    1.5495    0.3621 O   0  0  0  0  0  0  0  0  0  0  0  0\\n    0.9300   -0.0527    0.9554 N   0  0  0  0  0  0  0  0  0  0  0  0\\n    0.1784   -0.3190   -0.2669 C   0  0  0  0  0  0  0  0  0  0  0  0\\n   -1.1303    0.3989   -0.1688 C   0  0  0  0  0  0  0  0  0  0  0  0\\n    0.7352    0.0181   -1.1598 H   0  0  0  0  0  0  0  0  0  0  0  0\\n   -0.0216   -1.4184   -0.2766 H   0  0  0  0  0  0  0  0  0  0  0  0\\n    0.5190    0.7999    1.4203 H   0  0  0  0  0  0  0  0  0  0  0  0\\n    2.8658   -0.3449    0.8926 H   0  0  0  0  0  0  0  0  0  0  0  0\\n   -2.8741   -0.7954   -0.0454 H   0  0  0  0  0  0  0  0  0  0  0  0\\n  1  4  1  0\\n  1 10  1  0\\n  2  6  1  0\\n  2 11  1  0\\n  3  6  2  0\\n  4  5  1  0\\n  4  9  1  0\\n  5  6  1  0\\n  5  7  1  0\\n  5  8  1  0\\nM  END\\n\",\"sdf\");\n\tviewer_155240143544.setStyle({\"stick\": {}});\n\tviewer_155240143544.setBackgroundColor(\"0xeeeeee\");\n\tviewer_155240143544.zoomTo();\nviewer_155240143544.render();\n});\n</script>",
      "text/html": [
       "<div id=\"3dmolviewer_155240143544\"  style=\"position: relative; width: 600px; height: 600px\">\n",
       "        <p id=\"3dmolwarning_155240143544\" style=\"background-color:#ffcccc;color:black\">You appear to be running in JupyterLab.  You need to install the 3dmol extension: <br>\n",
       "        <tt>jupyter labextension install jupyterlab_3dmol</tt></p>\n",
       "        </div>\n",
       "<script>\n",
       "\n",
       "var loadScriptAsync = function(uri){\n",
       "  return new Promise((resolve, reject) => {\n",
       "    var tag = document.createElement('script');\n",
       "    tag.src = uri;\n",
       "    tag.async = true;\n",
       "    tag.onload = () => {\n",
       "      resolve();\n",
       "    };\n",
       "  var firstScriptTag = document.getElementsByTagName('script')[0];\n",
       "  firstScriptTag.parentNode.insertBefore(tag, firstScriptTag);\n",
       "});\n",
       "};\n",
       "\n",
       "if(typeof $3Dmolpromise === 'undefined') {\n",
       "$3Dmolpromise = null;\n",
       "  $3Dmolpromise = loadScriptAsync('https://3dmol.csb.pitt.edu/build/3Dmol.js');\n",
       "}\n",
       "\n",
       "var viewer_155240143544 = null;\n",
       "var warn = document.getElementById(\"3dmolwarning_155240143544\");\n",
       "if(warn) {\n",
       "    warn.parentNode.removeChild(warn);\n",
       "}\n",
       "$3Dmolpromise.then(function() {\n",
       "viewer_155240143544 = $3Dmol.createViewer($(\"#3dmolviewer_155240143544\"),{backgroundColor:\"white\"});\n",
       "\tviewer_155240143544.addModel(\"\\n     RDKit          3D\\n\\n 11 10  0  0  0  0  0  0  0  0999 V2000\\n    2.1947    0.3198    0.6140 O   0  0  0  0  0  0  0  0  0  0  0  0\\n   -2.3268   -0.1558   -0.6018 O   0  0  0  0  0  0  0  0  0  0  0  0\\n   -1.0703    1.5495    0.3621 O   0  0  0  0  0  0  0  0  0  0  0  0\\n    0.9300   -0.0527    0.9554 N   0  0  0  0  0  0  0  0  0  0  0  0\\n    0.1784   -0.3190   -0.2669 C   0  0  0  0  0  0  0  0  0  0  0  0\\n   -1.1303    0.3989   -0.1688 C   0  0  0  0  0  0  0  0  0  0  0  0\\n    0.7352    0.0181   -1.1598 H   0  0  0  0  0  0  0  0  0  0  0  0\\n   -0.0216   -1.4184   -0.2766 H   0  0  0  0  0  0  0  0  0  0  0  0\\n    0.5190    0.7999    1.4203 H   0  0  0  0  0  0  0  0  0  0  0  0\\n    2.8658   -0.3449    0.8926 H   0  0  0  0  0  0  0  0  0  0  0  0\\n   -2.8741   -0.7954   -0.0454 H   0  0  0  0  0  0  0  0  0  0  0  0\\n  1  4  1  0\\n  1 10  1  0\\n  2  6  1  0\\n  2 11  1  0\\n  3  6  2  0\\n  4  5  1  0\\n  4  9  1  0\\n  5  6  1  0\\n  5  7  1  0\\n  5  8  1  0\\nM  END\\n\",\"sdf\");\n",
       "\tviewer_155240143544.setStyle({\"stick\": {}});\n",
       "\tviewer_155240143544.setBackgroundColor(\"0xeeeeee\");\n",
       "\tviewer_155240143544.zoomTo();\n",
       "viewer_155240143544.render();\n",
       "});\n",
       "</script>"
      ]
     },
     "metadata": {},
     "output_type": "display_data"
    },
    {
     "name": "stdout",
     "output_type": "stream",
     "text": [
      "/home/underkoffler.c/Code/Hindered_Rotors/ONCC(=O)O/From_Workflow\n",
      "\n",
      "\n",
      "ONCC(=O)O NPWGWQRXHVJJRD-UHFFFAOYSA-N_72by10.0_tor03_a1.log\n",
      "<Torsion \"(9, 0, 3, 8)\">\n",
      "Steps:      72\n",
      "Step Size:  10.0\n",
      "Attempt:    1\n",
      "\n"
     ]
    },
    {
     "data": {
      "image/png": "[encoded data removed]",
      "text/plain": [
       "<Figure size 432x288 with 1 Axes>"
      ]
     },
     "metadata": {
      "needs_background": "light"
     },
     "output_type": "display_data"
    },
    {
     "name": "stdout",
     "output_type": "stream",
     "text": [
      "Continuous:   True\n",
      "\n",
      "Good Slope:   True\n",
      "\n",
      "Lowest Conf:  False\n",
      "=========================================================\n",
      "\n",
      "\n",
      "\n",
      "ONCC(=O)O NPWGWQRXHVJJRD-UHFFFAOYSA-N_72by10.0_tor03_a2.log\n",
      "<Torsion \"(9, 0, 3, 8)\">\n",
      "Steps:      72\n",
      "Step Size:  10.0\n",
      "Attempt:    2\n",
      "\n"
     ]
    },
    {
     "data": {
      "image/png": "[encoded data removed]",
      "text/plain": [
       "<Figure size 432x288 with 1 Axes>"
      ]
     },
     "metadata": {
      "needs_background": "light"
     },
     "output_type": "display_data"
    },
    {
     "name": "stdout",
     "output_type": "stream",
     "text": [
      "Continuous:   True\n",
      "\n",
      "Good Slope:   True\n",
      "\n",
      "Lowest Conf:  True\n",
      "=========================================================\n",
      "\n",
      "\n",
      "\n",
      "ONCC(=O)O NPWGWQRXHVJJRD-UHFFFAOYSA-N_72by10.0_tor03_a3.log\n",
      "<Torsion \"(9, 0, 3, 8)\">\n",
      "Steps:      72\n",
      "Step Size:  10.0\n",
      "Attempt:    3\n",
      "\n"
     ]
    },
    {
     "data": {
      "image/png": "[encoded data removed]",
      "text/plain": [
       "<Figure size 432x288 with 1 Axes>"
      ]
     },
     "metadata": {
      "needs_background": "light"
     },
     "output_type": "display_data"
    },
    {
     "name": "stdout",
     "output_type": "stream",
     "text": [
      "Continuous:   True\n",
      "\n",
      "Good Slope:   True\n",
      "\n",
      "Lowest Conf:  True\n",
      "=========================================================\n",
      "\n",
      "\n",
      "ONCC(=O)O NPWGWQRXHVJJRD-UHFFFAOYSA-N_72by10.0_tor03_a4.log\n",
      "\n",
      "\n",
      "ONCC(=O)O NPWGWQRXHVJJRD-UHFFFAOYSA-N_72by10.0_tor15_a1.log\n",
      "<Torsion \"(10, 1, 5, 4)\">\n",
      "Steps:      72\n",
      "Step Size:  10.0\n",
      "Attempt:    1\n",
      "\n"
     ]
    },
    {
     "data": {
      "image/png": "[encoded data removed]",
      "text/plain": [
       "<Figure size 432x288 with 1 Axes>"
      ]
     },
     "metadata": {
      "needs_background": "light"
     },
     "output_type": "display_data"
    },
    {
     "name": "stdout",
     "output_type": "stream",
     "text": [
      "Continuous:   False\n",
      "\n",
      "Good Slope:   True\n",
      "\n",
      "Lowest Conf:  False\n",
      "=========================================================\n",
      "\n",
      "\n",
      "\n",
      "ONCC(=O)O NPWGWQRXHVJJRD-UHFFFAOYSA-N_72by10.0_tor15_a2.log\n",
      "<Torsion \"(10, 1, 5, 4)\">\n",
      "Steps:      72\n",
      "Step Size:  10.0\n",
      "Attempt:    2\n",
      "\n"
     ]
    },
    {
     "data": {
      "image/png": "[encoded data removed]",
      "text/plain": [
       "<Figure size 432x288 with 1 Axes>"
      ]
     },
     "metadata": {
      "needs_background": "light"
     },
     "output_type": "display_data"
    },
    {
     "name": "stdout",
     "output_type": "stream",
     "text": [
      "Continuous:   True\n",
      "\n",
      "Good Slope:   True\n",
      "\n",
      "Lowest Conf:  True\n",
      "=========================================================\n",
      "\n",
      "\n",
      "\n",
      "ONCC(=O)O NPWGWQRXHVJJRD-UHFFFAOYSA-N_72by10.0_tor15_a3.log\n",
      "<Torsion \"(10, 1, 5, 4)\">\n",
      "Steps:      72\n",
      "Step Size:  10.0\n",
      "Attempt:    3\n",
      "\n"
     ]
    },
    {
     "data": {
      "image/png": "[encoded data removed]",
      "text/plain": [
       "<Figure size 432x288 with 1 Axes>"
      ]
     },
     "metadata": {
      "needs_background": "light"
     },
     "output_type": "display_data"
    },
    {
     "name": "stdout",
     "output_type": "stream",
     "text": [
      "Continuous:   True\n",
      "\n",
      "Good Slope:   True\n",
      "\n",
      "Lowest Conf:  True\n",
      "=========================================================\n",
      "\n",
      "\n",
      "\n",
      "ONCC(=O)O NPWGWQRXHVJJRD-UHFFFAOYSA-N_72by10.0_tor15_a4.log\n",
      "<Torsion \"(10, 1, 5, 4)\">\n",
      "Steps:      72\n",
      "Step Size:  10.0\n",
      "Attempt:    4\n",
      "\n"
     ]
    },
    {
     "data": {
      "image/png": "[encoded data removed]",
      "text/plain": [
       "<Figure size 432x288 with 1 Axes>"
      ]
     },
     "metadata": {
      "needs_background": "light"
     },
     "output_type": "display_data"
    },
    {
     "name": "stdout",
     "output_type": "stream",
     "text": [
      "Continuous:   True\n",
      "\n",
      "Good Slope:   True\n",
      "\n",
      "Lowest Conf:  True\n",
      "=========================================================\n",
      "\n",
      "\n",
      "\n",
      "\n",
      "ONCC(=O)O NPWGWQRXHVJJRD-UHFFFAOYSA-N_72by10.0_tor34_a1.log\n",
      "<Torsion \"(8, 3, 4, 7)\">\n",
      "Steps:      72\n",
      "Step Size:  10.0\n",
      "Attempt:    1\n",
      "\n"
     ]
    },
    {
     "data": {
      "image/png": "[encoded data removed]",
      "text/plain": [
       "<Figure size 432x288 with 1 Axes>"
      ]
     },
     "metadata": {
      "needs_background": "light"
     },
     "output_type": "display_data"
    },
    {
     "name": "stdout",
     "output_type": "stream",
     "text": [
      "Continuous:   False\n",
      "\n",
      "Good Slope:   True\n",
      "\n",
      "Lowest Conf:  False\n",
      "=========================================================\n",
      "\n",
      "\n",
      "\n",
      "ONCC(=O)O NPWGWQRXHVJJRD-UHFFFAOYSA-N_72by10.0_tor34_a2.log\n",
      "<Torsion \"(8, 3, 4, 7)\">\n",
      "Steps:      72\n",
      "Step Size:  10.0\n",
      "Attempt:    2\n",
      "\n"
     ]
    },
    {
     "data": {
      "image/png": "[encoded data removed]",
      "text/plain": [
       "<Figure size 432x288 with 1 Axes>"
      ]
     },
     "metadata": {
      "needs_background": "light"
     },
     "output_type": "display_data"
    },
    {
     "name": "stdout",
     "output_type": "stream",
     "text": [
      "Continuous:   False\n",
      "\n",
      "Good Slope:   True\n",
      "\n",
      "Lowest Conf:  True\n",
      "=========================================================\n",
      "\n",
      "\n",
      "\n",
      "ONCC(=O)O NPWGWQRXHVJJRD-UHFFFAOYSA-N_72by10.0_tor34_a3.log\n",
      "<Torsion \"(8, 3, 4, 7)\">\n",
      "Steps:      72\n",
      "Step Size:  10.0\n",
      "Attempt:    3\n",
      "\n"
     ]
    },
    {
     "data": {
      "image/png": "[encoded data removed]",
      "text/plain": [
       "<Figure size 432x288 with 1 Axes>"
      ]
     },
     "metadata": {
      "needs_background": "light"
     },
     "output_type": "display_data"
    },
    {
     "name": "stdout",
     "output_type": "stream",
     "text": [
      "Continuous:   False\n",
      "\n",
      "Good Slope:   True\n",
      "\n",
      "Lowest Conf:  True\n",
      "=========================================================\n",
      "\n",
      "\n",
      "ONCC(=O)O NPWGWQRXHVJJRD-UHFFFAOYSA-N_72by10.0_tor34_a4.log\n",
      "\n",
      "\n",
      "ONCC(=O)O NPWGWQRXHVJJRD-UHFFFAOYSA-N_72by10.0_tor45_a1.log\n",
      "<Torsion \"(7, 4, 5, 2)\">\n",
      "Steps:      72\n",
      "Step Size:  10.0\n",
      "Attempt:    1\n",
      "\n"
     ]
    },
    {
     "data": {
      "image/png": "[encoded data removed]",
      "text/plain": [
       "<Figure size 432x288 with 1 Axes>"
      ]
     },
     "metadata": {
      "needs_background": "light"
     },
     "output_type": "display_data"
    },
    {
     "name": "stdout",
     "output_type": "stream",
     "text": [
      "Continuous:   True\n",
      "\n",
      "Good Slope:   True\n",
      "\n",
      "Lowest Conf:  False\n",
      "=========================================================\n",
      "\n",
      "\n",
      "\n",
      "ONCC(=O)O NPWGWQRXHVJJRD-UHFFFAOYSA-N_72by10.0_tor45_a2.log\n",
      "<Torsion \"(7, 4, 5, 2)\">\n",
      "Steps:      72\n",
      "Step Size:  10.0\n",
      "Attempt:    2\n",
      "\n"
     ]
    },
    {
     "data": {
      "image/png": "[encoded data removed]",
      "text/plain": [
       "<Figure size 432x288 with 1 Axes>"
      ]
     },
     "metadata": {
      "needs_background": "light"
     },
     "output_type": "display_data"
    },
    {
     "name": "stdout",
     "output_type": "stream",
     "text": [
      "Continuous:   True\n",
      "\n",
      "Good Slope:   True\n",
      "\n",
      "Lowest Conf:  True\n",
      "=========================================================\n",
      "\n",
      "\n",
      "\n",
      "ONCC(=O)O NPWGWQRXHVJJRD-UHFFFAOYSA-N_72by10.0_tor45_a3.log\n",
      "<Torsion \"(7, 4, 5, 2)\">\n",
      "Steps:      72\n",
      "Step Size:  10.0\n",
      "Attempt:    3\n",
      "\n"
     ]
    },
    {
     "data": {
      "image/png": "[encoded data removed]",
      "text/plain": [
       "<Figure size 432x288 with 1 Axes>"
      ]
     },
     "metadata": {
      "needs_background": "light"
     },
     "output_type": "display_data"
    },
    {
     "name": "stdout",
     "output_type": "stream",
     "text": [
      "Continuous:   True\n",
      "\n",
      "Good Slope:   True\n",
      "\n",
      "Lowest Conf:  True\n",
      "=========================================================\n",
      "\n",
      "\n",
      "ONCC(=O)O NPWGWQRXHVJJRD-UHFFFAOYSA-N_72by10.0_tor45_a4.log\n",
      "===================================================================\n",
      "\n",
      "\n"
     ]
    }
   ],
   "source": [
    "steps = 72\n",
    "step_size = 10.0\n",
    "\n",
    "Conf_list = []\n",
    "\n",
    "Rxn_list = None\n",
    "\n",
    "SMILES_list = ['ONCC(=O)O']\n",
    "print SMILES_list\n",
    "\n",
    "scan_progress(steps, step_size, Conf_list, SMILES_list=SMILES_list, Rxn_list=Rxn_list)"
   ]
  },
  {
   "cell_type": "code",
   "execution_count": 8,
   "metadata": {
    "scrolled": true
   },
   "outputs": [
    {
     "name": "stdout",
     "output_type": "stream",
     "text": [
      "['CCCCO']\n"
     ]
    },
    {
     "data": {
      "application/3dmoljs_load.v0": "<div id=\"3dmolviewer_155239583618\"  style=\"position: relative; width: 600px; height: 600px\">\n        <p id=\"3dmolwarning_155239583618\" style=\"background-color:#ffcccc;color:black\">You appear to be running in JupyterLab.  You need to install the 3dmol extension: <br>\n        <tt>jupyter labextension install jupyterlab_3dmol</tt></p>\n        </div>\n<script>\n\nvar loadScriptAsync = function(uri){\n  return new Promise((resolve, reject) => {\n    var tag = document.createElement('script');\n    tag.src = uri;\n    tag.async = true;\n    tag.onload = () => {\n      resolve();\n    };\n  var firstScriptTag = document.getElementsByTagName('script')[0];\n  firstScriptTag.parentNode.insertBefore(tag, firstScriptTag);\n});\n};\n\nif(typeof $3Dmolpromise === 'undefined') {\n$3Dmolpromise = null;\n  $3Dmolpromise = loadScriptAsync('https://3dmol.csb.pitt.edu/build/3Dmol.js');\n}\n\nvar viewer_155239583618 = null;\nvar warn = document.getElementById(\"3dmolwarning_155239583618\");\nif(warn) {\n    warn.parentNode.removeChild(warn);\n}\n$3Dmolpromise.then(function() {\nviewer_155239583618 = $3Dmol.createViewer($(\"#3dmolviewer_155239583618\"),{backgroundColor:\"white\"});\n\tviewer_155239583618.addModel(\"\\n     RDKit          3D\\n\\n 15 14  0  0  0  0  0  0  0  0999 V2000\\n    2.6235   -0.6078    0.0981 O   0  0  0  0  0  0  0  0  0  0  0  0\\n    0.3518   -0.1618   -0.2163 C   0  0  0  0  0  0  0  0  0  0  0  0\\n   -0.8524    0.6516    0.1463 C   0  0  0  0  0  0  0  0  0  0  0  0\\n    1.6254    0.3247    0.4205 C   0  0  0  0  0  0  0  0  0  0  0  0\\n   -1.9351   -0.2289    0.7430 C   0  0  0  0  0  0  0  0  0  0  0  0\\n   -0.6531    1.4801    0.8339 H   0  0  0  0  0  0  0  0  0  0  0  0\\n   -1.2798    1.0532   -0.8041 H   0  0  0  0  0  0  0  0  0  0  0  0\\n    0.4890   -0.2551   -1.3171 H   0  0  0  0  0  0  0  0  0  0  0  0\\n    0.2161   -1.2096    0.1527 H   0  0  0  0  0  0  0  0  0  0  0  0\\n    1.9319    1.3218    0.0296 H   0  0  0  0  0  0  0  0  0  0  0  0\\n    1.5243    0.3772    1.5129 H   0  0  0  0  0  0  0  0  0  0  0  0\\n   -2.6697    0.3874    1.2938 H   0  0  0  0  0  0  0  0  0  0  0  0\\n   -2.5029   -0.7349   -0.0790 H   0  0  0  0  0  0  0  0  0  0  0  0\\n   -1.4852   -1.0093    1.3768 H   0  0  0  0  0  0  0  0  0  0  0  0\\n    2.6165   -1.3886    0.7230 H   0  0  0  0  0  0  0  0  0  0  0  0\\n  1  4  1  0\\n  1 15  1  0\\n  2  8  1  0\\n  2  9  1  0\\n  2  4  1  0\\n  2  3  1  0\\n  3  7  1  0\\n  3  5  1  0\\n  3  6  1  0\\n  4 11  1  0\\n  4 10  1  0\\n  5 13  1  0\\n  5 12  1  0\\n  5 14  1  0\\nM  END\\n\",\"sdf\");\n\tviewer_155239583618.setStyle({\"stick\": {}});\n\tviewer_155239583618.setBackgroundColor(\"0xeeeeee\");\n\tviewer_155239583618.zoomTo();\nviewer_155239583618.render();\n});\n</script>",
      "text/html": [
       "<div id=\"3dmolviewer_155239583618\"  style=\"position: relative; width: 600px; height: 600px\">\n",
       "        <p id=\"3dmolwarning_155239583618\" style=\"background-color:#ffcccc;color:black\">You appear to be running in JupyterLab.  You need to install the 3dmol extension: <br>\n",
       "        <tt>jupyter labextension install jupyterlab_3dmol</tt></p>\n",
       "        </div>\n",
       "<script>\n",
       "\n",
       "var loadScriptAsync = function(uri){\n",
       "  return new Promise((resolve, reject) => {\n",
       "    var tag = document.createElement('script');\n",
       "    tag.src = uri;\n",
       "    tag.async = true;\n",
       "    tag.onload = () => {\n",
       "      resolve();\n",
       "    };\n",
       "  var firstScriptTag = document.getElementsByTagName('script')[0];\n",
       "  firstScriptTag.parentNode.insertBefore(tag, firstScriptTag);\n",
       "});\n",
       "};\n",
       "\n",
       "if(typeof $3Dmolpromise === 'undefined') {\n",
       "$3Dmolpromise = null;\n",
       "  $3Dmolpromise = loadScriptAsync('https://3dmol.csb.pitt.edu/build/3Dmol.js');\n",
       "}\n",
       "\n",
       "var viewer_155239583618 = null;\n",
       "var warn = document.getElementById(\"3dmolwarning_155239583618\");\n",
       "if(warn) {\n",
       "    warn.parentNode.removeChild(warn);\n",
       "}\n",
       "$3Dmolpromise.then(function() {\n",
       "viewer_155239583618 = $3Dmol.createViewer($(\"#3dmolviewer_155239583618\"),{backgroundColor:\"white\"});\n",
       "\tviewer_155239583618.addModel(\"\\n     RDKit          3D\\n\\n 15 14  0  0  0  0  0  0  0  0999 V2000\\n    2.6235   -0.6078    0.0981 O   0  0  0  0  0  0  0  0  0  0  0  0\\n    0.3518   -0.1618   -0.2163 C   0  0  0  0  0  0  0  0  0  0  0  0\\n   -0.8524    0.6516    0.1463 C   0  0  0  0  0  0  0  0  0  0  0  0\\n    1.6254    0.3247    0.4205 C   0  0  0  0  0  0  0  0  0  0  0  0\\n   -1.9351   -0.2289    0.7430 C   0  0  0  0  0  0  0  0  0  0  0  0\\n   -0.6531    1.4801    0.8339 H   0  0  0  0  0  0  0  0  0  0  0  0\\n   -1.2798    1.0532   -0.8041 H   0  0  0  0  0  0  0  0  0  0  0  0\\n    0.4890   -0.2551   -1.3171 H   0  0  0  0  0  0  0  0  0  0  0  0\\n    0.2161   -1.2096    0.1527 H   0  0  0  0  0  0  0  0  0  0  0  0\\n    1.9319    1.3218    0.0296 H   0  0  0  0  0  0  0  0  0  0  0  0\\n    1.5243    0.3772    1.5129 H   0  0  0  0  0  0  0  0  0  0  0  0\\n   -2.6697    0.3874    1.2938 H   0  0  0  0  0  0  0  0  0  0  0  0\\n   -2.5029   -0.7349   -0.0790 H   0  0  0  0  0  0  0  0  0  0  0  0\\n   -1.4852   -1.0093    1.3768 H   0  0  0  0  0  0  0  0  0  0  0  0\\n    2.6165   -1.3886    0.7230 H   0  0  0  0  0  0  0  0  0  0  0  0\\n  1  4  1  0\\n  1 15  1  0\\n  2  8  1  0\\n  2  9  1  0\\n  2  4  1  0\\n  2  3  1  0\\n  3  7  1  0\\n  3  5  1  0\\n  3  6  1  0\\n  4 11  1  0\\n  4 10  1  0\\n  5 13  1  0\\n  5 12  1  0\\n  5 14  1  0\\nM  END\\n\",\"sdf\");\n",
       "\tviewer_155239583618.setStyle({\"stick\": {}});\n",
       "\tviewer_155239583618.setBackgroundColor(\"0xeeeeee\");\n",
       "\tviewer_155239583618.zoomTo();\n",
       "viewer_155239583618.render();\n",
       "});\n",
       "</script>"
      ]
     },
     "metadata": {},
     "output_type": "display_data"
    },
    {
     "name": "stdout",
     "output_type": "stream",
     "text": [
      "/home/underkoffler.c/Code/Hindered_Rotors/CCCCO/From_Workflow\n",
      "\n",
      "\n",
      "CCCCO LRHPLDYGYMQRHN-UHFFFAOYSA-N_72by10.0_tor03_a1.log\n",
      "<Torsion \"(14, 0, 3, 9)\">\n",
      "Steps:      72\n",
      "Step Size:  10.0\n",
      "Attempt:    1\n",
      "\n"
     ]
    },
    {
     "data": {
      "image/png": "[encoded data removed]",
      "text/plain": [
       "<Figure size 432x288 with 1 Axes>"
      ]
     },
     "metadata": {
      "needs_background": "light"
     },
     "output_type": "display_data"
    },
    {
     "name": "stdout",
     "output_type": "stream",
     "text": [
      "Continuous:   True\n",
      "\n",
      "Good Slope:   True\n",
      "\n",
      "Lowest Conf:  False\n",
      "=========================================================\n",
      "\n",
      "\n",
      "CCCCO LRHPLDYGYMQRHN-UHFFFAOYSA-N_72by10.0_tor03_a2.log\n",
      "CCCCO LRHPLDYGYMQRHN-UHFFFAOYSA-N_72by10.0_tor03_a3.log\n",
      "CCCCO LRHPLDYGYMQRHN-UHFFFAOYSA-N_72by10.0_tor03_a4.log\n",
      "\n",
      "\n",
      "CCCCO LRHPLDYGYMQRHN-UHFFFAOYSA-N_72by10.0_tor13_a1.log\n",
      "<Torsion \"(2, 1, 3, 9)\">\n",
      "Steps:      72\n",
      "Step Size:  10.0\n",
      "Attempt:    1\n",
      "\n"
     ]
    },
    {
     "data": {
      "image/png": "[encoded data removed]",
      "text/plain": [
       "<Figure size 432x288 with 1 Axes>"
      ]
     },
     "metadata": {
      "needs_background": "light"
     },
     "output_type": "display_data"
    },
    {
     "name": "stdout",
     "output_type": "stream",
     "text": [
      "Continuous:   True\n",
      "\n",
      "Good Slope:   True\n",
      "\n",
      "Lowest Conf:  True\n",
      "=========================================================\n",
      "\n",
      "\n",
      "CCCCO LRHPLDYGYMQRHN-UHFFFAOYSA-N_72by10.0_tor13_a2.log\n",
      "CCCCO LRHPLDYGYMQRHN-UHFFFAOYSA-N_72by10.0_tor13_a3.log\n",
      "CCCCO LRHPLDYGYMQRHN-UHFFFAOYSA-N_72by10.0_tor13_a4.log\n",
      "\n",
      "\n",
      "CCCCO LRHPLDYGYMQRHN-UHFFFAOYSA-N_72by10.0_tor12_a1.log\n",
      "<Torsion \"(3, 1, 2, 5)\">\n",
      "Steps:      72\n",
      "Step Size:  10.0\n",
      "Attempt:    1\n",
      "\n"
     ]
    },
    {
     "data": {
      "image/png": "[encoded data removed]",
      "text/plain": [
       "<Figure size 432x288 with 1 Axes>"
      ]
     },
     "metadata": {
      "needs_background": "light"
     },
     "output_type": "display_data"
    },
    {
     "name": "stdout",
     "output_type": "stream",
     "text": [
      "Continuous:   True\n",
      "\n",
      "Good Slope:   True\n",
      "\n",
      "Lowest Conf:  True\n",
      "=========================================================\n",
      "\n",
      "\n",
      "CCCCO LRHPLDYGYMQRHN-UHFFFAOYSA-N_72by10.0_tor12_a2.log\n",
      "CCCCO LRHPLDYGYMQRHN-UHFFFAOYSA-N_72by10.0_tor12_a3.log\n",
      "CCCCO LRHPLDYGYMQRHN-UHFFFAOYSA-N_72by10.0_tor12_a4.log\n",
      "\n",
      "\n",
      "CCCCO LRHPLDYGYMQRHN-UHFFFAOYSA-N_72by10.0_tor24_a1.log\n",
      "<Torsion \"(5, 2, 4, 13)\">\n",
      "Steps:      72\n",
      "Step Size:  10.0\n",
      "Attempt:    1\n",
      "\n"
     ]
    },
    {
     "data": {
      "image/png": "[encoded data removed]",
      "text/plain": [
       "<Figure size 432x288 with 1 Axes>"
      ]
     },
     "metadata": {
      "needs_background": "light"
     },
     "output_type": "display_data"
    },
    {
     "name": "stdout",
     "output_type": "stream",
     "text": [
      "Continuous:   True\n",
      "\n",
      "Good Slope:   True\n",
      "\n",
      "Lowest Conf:  True\n",
      "=========================================================\n",
      "\n",
      "\n",
      "CCCCO LRHPLDYGYMQRHN-UHFFFAOYSA-N_72by10.0_tor24_a2.log\n",
      "CCCCO LRHPLDYGYMQRHN-UHFFFAOYSA-N_72by10.0_tor24_a3.log\n",
      "CCCCO LRHPLDYGYMQRHN-UHFFFAOYSA-N_72by10.0_tor24_a4.log\n",
      "===================================================================\n",
      "\n",
      "\n"
     ]
    }
   ],
   "source": [
    "steps = 72\n",
    "step_size = 10.0\n",
    "\n",
    "Conf_list = []\n",
    "\n",
    "Rxn_list = None\n",
    "\n",
    "SMILES_list = [Master_SMILES_list[0]]\n",
    "print SMILES_list\n",
    "\n",
    "scan_progress(steps, step_size, Conf_list, SMILES_list=SMILES_list, Rxn_list=Rxn_list)"
   ]
  },
  {
   "cell_type": "code",
   "execution_count": 7,
   "metadata": {
    "scrolled": true
   },
   "outputs": [
    {
     "name": "stdout",
     "output_type": "stream",
     "text": [
      "['CCCC[O]']\n",
      "QOOQLKSEGVNYLA-UHFFFAOYSA-N\n",
      "QOOQLKSEGVNYLA-UHFFFAOYSA-N-u5\n"
     ]
    },
    {
     "data": {
      "application/3dmoljs_load.v0": "<div id=\"3dmolviewer_155239580717\"  style=\"position: relative; width: 600px; height: 600px\">\n        <p id=\"3dmolwarning_155239580717\" style=\"background-color:#ffcccc;color:black\">You appear to be running in JupyterLab.  You need to install the 3dmol extension: <br>\n        <tt>jupyter labextension install jupyterlab_3dmol</tt></p>\n        </div>\n<script>\n\nvar loadScriptAsync = function(uri){\n  return new Promise((resolve, reject) => {\n    var tag = document.createElement('script');\n    tag.src = uri;\n    tag.async = true;\n    tag.onload = () => {\n      resolve();\n    };\n  var firstScriptTag = document.getElementsByTagName('script')[0];\n  firstScriptTag.parentNode.insertBefore(tag, firstScriptTag);\n});\n};\n\nif(typeof $3Dmolpromise === 'undefined') {\n$3Dmolpromise = null;\n  $3Dmolpromise = loadScriptAsync('https://3dmol.csb.pitt.edu/build/3Dmol.js');\n}\n\nvar viewer_155239580717 = null;\nvar warn = document.getElementById(\"3dmolwarning_155239580717\");\nif(warn) {\n    warn.parentNode.removeChild(warn);\n}\n$3Dmolpromise.then(function() {\nviewer_155239580717 = $3Dmol.createViewer($(\"#3dmolviewer_155239580717\"),{backgroundColor:\"white\"});\n\tviewer_155239580717.addModel(\"\\n     RDKit          3D\\n\\n 14 13  0  0  0  0  0  0  0  0999 V2000\\n   -0.9497   -0.0324    1.6373 O   0  0  0  0  0  1  0  0  0  0  0  0\\n    0.5527    0.5614   -0.4145 C   0  0  0  0  0  0  0  0  0  0  0  0\\n   -0.6418   -0.3462   -0.6552 C   0  0  0  0  0  0  0  0  0  0  0  0\\n    1.6600   -0.1476    0.3134 C   0  0  0  0  0  0  0  0  0  0  0  0\\n   -1.6614   -0.0901    0.4341 C   0  0  0  0  0  0  0  0  0  0  0  0\\n    0.1888    1.4453    0.1642 H   0  0  0  0  0  0  0  0  0  0  0  0\\n    0.9721    0.9237   -1.3769 H   0  0  0  0  0  0  0  0  0  0  0  0\\n   -0.3059   -1.3990   -0.6896 H   0  0  0  0  0  0  0  0  0  0  0  0\\n   -1.0560   -0.0550   -1.6482 H   0  0  0  0  0  0  0  0  0  0  0  0\\n    2.5184   -0.4000   -0.3332 H   0  0  0  0  0  0  0  0  0  0  0  0\\n    2.0266    0.5318    1.1204 H   0  0  0  0  0  0  0  0  0  0  0  0\\n    1.2436   -1.0860    0.7599 H   0  0  0  0  0  0  0  0  0  0  0  0\\n   -2.0784    0.9271    0.2328 H   0  0  0  0  0  0  0  0  0  0  0  0\\n   -2.4690   -0.8330    0.4555 H   0  0  0  0  0  0  0  0  0  0  0  0\\n  1  5  1  0\\n  2  3  1  0\\n  2  6  1  0\\n  2  7  1  0\\n  2  4  1  0\\n  3  5  1  0\\n  3  9  1  0\\n  3  8  1  0\\n  4 11  1  0\\n  4 10  1  0\\n  4 12  1  0\\n  5 14  1  0\\n  5 13  1  0\\nM  RAD  1   1   2\\nM  END\\n\",\"sdf\");\n\tviewer_155239580717.setStyle({\"stick\": {}});\n\tviewer_155239580717.setBackgroundColor(\"0xeeeeee\");\n\tviewer_155239580717.zoomTo();\nviewer_155239580717.render();\n});\n</script>",
      "text/html": [
       "<div id=\"3dmolviewer_155239580717\"  style=\"position: relative; width: 600px; height: 600px\">\n",
       "        <p id=\"3dmolwarning_155239580717\" style=\"background-color:#ffcccc;color:black\">You appear to be running in JupyterLab.  You need to install the 3dmol extension: <br>\n",
       "        <tt>jupyter labextension install jupyterlab_3dmol</tt></p>\n",
       "        </div>\n",
       "<script>\n",
       "\n",
       "var loadScriptAsync = function(uri){\n",
       "  return new Promise((resolve, reject) => {\n",
       "    var tag = document.createElement('script');\n",
       "    tag.src = uri;\n",
       "    tag.async = true;\n",
       "    tag.onload = () => {\n",
       "      resolve();\n",
       "    };\n",
       "  var firstScriptTag = document.getElementsByTagName('script')[0];\n",
       "  firstScriptTag.parentNode.insertBefore(tag, firstScriptTag);\n",
       "});\n",
       "};\n",
       "\n",
       "if(typeof $3Dmolpromise === 'undefined') {\n",
       "$3Dmolpromise = null;\n",
       "  $3Dmolpromise = loadScriptAsync('https://3dmol.csb.pitt.edu/build/3Dmol.js');\n",
       "}\n",
       "\n",
       "var viewer_155239580717 = null;\n",
       "var warn = document.getElementById(\"3dmolwarning_155239580717\");\n",
       "if(warn) {\n",
       "    warn.parentNode.removeChild(warn);\n",
       "}\n",
       "$3Dmolpromise.then(function() {\n",
       "viewer_155239580717 = $3Dmol.createViewer($(\"#3dmolviewer_155239580717\"),{backgroundColor:\"white\"});\n",
       "\tviewer_155239580717.addModel(\"\\n     RDKit          3D\\n\\n 14 13  0  0  0  0  0  0  0  0999 V2000\\n   -0.9497   -0.0324    1.6373 O   0  0  0  0  0  1  0  0  0  0  0  0\\n    0.5527    0.5614   -0.4145 C   0  0  0  0  0  0  0  0  0  0  0  0\\n   -0.6418   -0.3462   -0.6552 C   0  0  0  0  0  0  0  0  0  0  0  0\\n    1.6600   -0.1476    0.3134 C   0  0  0  0  0  0  0  0  0  0  0  0\\n   -1.6614   -0.0901    0.4341 C   0  0  0  0  0  0  0  0  0  0  0  0\\n    0.1888    1.4453    0.1642 H   0  0  0  0  0  0  0  0  0  0  0  0\\n    0.9721    0.9237   -1.3769 H   0  0  0  0  0  0  0  0  0  0  0  0\\n   -0.3059   -1.3990   -0.6896 H   0  0  0  0  0  0  0  0  0  0  0  0\\n   -1.0560   -0.0550   -1.6482 H   0  0  0  0  0  0  0  0  0  0  0  0\\n    2.5184   -0.4000   -0.3332 H   0  0  0  0  0  0  0  0  0  0  0  0\\n    2.0266    0.5318    1.1204 H   0  0  0  0  0  0  0  0  0  0  0  0\\n    1.2436   -1.0860    0.7599 H   0  0  0  0  0  0  0  0  0  0  0  0\\n   -2.0784    0.9271    0.2328 H   0  0  0  0  0  0  0  0  0  0  0  0\\n   -2.4690   -0.8330    0.4555 H   0  0  0  0  0  0  0  0  0  0  0  0\\n  1  5  1  0\\n  2  3  1  0\\n  2  6  1  0\\n  2  7  1  0\\n  2  4  1  0\\n  3  5  1  0\\n  3  9  1  0\\n  3  8  1  0\\n  4 11  1  0\\n  4 10  1  0\\n  4 12  1  0\\n  5 14  1  0\\n  5 13  1  0\\nM  RAD  1   1   2\\nM  END\\n\",\"sdf\");\n",
       "\tviewer_155239580717.setStyle({\"stick\": {}});\n",
       "\tviewer_155239580717.setBackgroundColor(\"0xeeeeee\");\n",
       "\tviewer_155239580717.zoomTo();\n",
       "viewer_155239580717.render();\n",
       "});\n",
       "</script>"
      ]
     },
     "metadata": {},
     "output_type": "display_data"
    },
    {
     "name": "stdout",
     "output_type": "stream",
     "text": [
      "/home/underkoffler.c/Code/Hindered_Rotors/CCCC[O]/From_Workflow\n",
      "\n",
      "\n",
      "CCCC[O] QOOQLKSEGVNYLA-UHFFFAOYSA-N_72by10.0_tor12_a1.log\n",
      "<Torsion \"(3, 1, 2, 7)\">\n",
      "Steps:      72\n",
      "Step Size:  10.0\n",
      "Attempt:    1\n",
      "\n",
      "CANNOT Load Scan\n",
      "\n",
      "=========================================================\n",
      "\n",
      "\n",
      "CCCC[O] QOOQLKSEGVNYLA-UHFFFAOYSA-N_72by10.0_tor12_a2.log\n",
      "CCCC[O] QOOQLKSEGVNYLA-UHFFFAOYSA-N_72by10.0_tor12_a3.log\n",
      "CCCC[O] QOOQLKSEGVNYLA-UHFFFAOYSA-N_72by10.0_tor12_a4.log\n",
      "\n",
      "\n",
      "CCCC[O] QOOQLKSEGVNYLA-UHFFFAOYSA-N_72by10.0_tor13_a1.log\n",
      "<Torsion \"(6, 1, 3, 11)\">\n",
      "Steps:      72\n",
      "Step Size:  10.0\n",
      "Attempt:    1\n",
      "\n"
     ]
    },
    {
     "data": {
      "image/png": "[encoded data removed]",
      "text/plain": [
       "<Figure size 432x288 with 1 Axes>"
      ]
     },
     "metadata": {
      "needs_background": "light"
     },
     "output_type": "display_data"
    },
    {
     "name": "stdout",
     "output_type": "stream",
     "text": [
      "Continuous:   True\n",
      "\n",
      "Good Slope:   True\n",
      "\n",
      "Lowest Conf:  True\n",
      "=========================================================\n",
      "\n",
      "\n",
      "CCCC[O] QOOQLKSEGVNYLA-UHFFFAOYSA-N_72by10.0_tor13_a2.log\n",
      "CCCC[O] QOOQLKSEGVNYLA-UHFFFAOYSA-N_72by10.0_tor13_a3.log\n",
      "CCCC[O] QOOQLKSEGVNYLA-UHFFFAOYSA-N_72by10.0_tor13_a4.log\n",
      "\n",
      "\n",
      "CCCC[O] QOOQLKSEGVNYLA-UHFFFAOYSA-N_72by10.0_tor24_a1.log\n",
      "<Torsion \"(7, 2, 4, 12)\">\n",
      "Steps:      72\n",
      "Step Size:  10.0\n",
      "Attempt:    1\n",
      "\n"
     ]
    },
    {
     "data": {
      "image/png": "[encoded data removed]",
      "text/plain": [
       "<Figure size 432x288 with 1 Axes>"
      ]
     },
     "metadata": {
      "needs_background": "light"
     },
     "output_type": "display_data"
    },
    {
     "name": "stdout",
     "output_type": "stream",
     "text": [
      "Continuous:   True\n",
      "\n",
      "Good Slope:   False\n",
      "\n",
      "Lowest Conf:  False\n",
      "=========================================================\n",
      "\n",
      "\n",
      "CCCC[O] QOOQLKSEGVNYLA-UHFFFAOYSA-N_72by10.0_tor24_a2.log\n",
      "CCCC[O] QOOQLKSEGVNYLA-UHFFFAOYSA-N_72by10.0_tor24_a3.log\n",
      "CCCC[O] QOOQLKSEGVNYLA-UHFFFAOYSA-N_72by10.0_tor24_a4.log\n",
      "===================================================================\n",
      "\n",
      "\n"
     ]
    }
   ],
   "source": [
    "steps = 72\n",
    "step_size = 10.0\n",
    "\n",
    "Conf_list = []\n",
    "\n",
    "Rxn_list = None\n",
    "\n",
    "SMILES_list = [Master_SMILES_list[1]]\n",
    "print SMILES_list\n",
    "SMILES = SMILES_list[0]\n",
    "\n",
    "conf = Conformer(SMILES)\n",
    "\n",
    "augInChIKey = Chem.rdinchi.InchiToInchiKey(Chem.MolToInchi(\n",
    "            Chem.MolFromSmiles(SMILES)))\n",
    "    \n",
    "print augInChIKey\n",
    "print conf.rmg_molecule.toAugmentedInChIKey()\n",
    "\n",
    "scan_progress(steps, step_size, Conf_list, SMILES_list=SMILES_list, Rxn_list=Rxn_list)"
   ]
  },
  {
   "cell_type": "code",
   "execution_count": 32,
   "metadata": {
    "scrolled": true
   },
   "outputs": [
    {
     "name": "stdout",
     "output_type": "stream",
     "text": [
      "['CCC[CH]O']\n"
     ]
    },
    {
     "data": {
      "application/3dmoljs_load.v0": "<div id=\"3dmolviewer_155223299656\"  style=\"position: relative; width: 600px; height: 600px\">\n        <p id=\"3dmolwarning_155223299656\" style=\"background-color:#ffcccc;color:black\">You appear to be running in JupyterLab.  You need to install the 3dmol extension: <br>\n        <tt>jupyter labextension install jupyterlab_3dmol</tt></p>\n        </div>\n<script>\n\nvar loadScriptAsync = function(uri){\n  return new Promise((resolve, reject) => {\n    var tag = document.createElement('script');\n    tag.src = uri;\n    tag.async = true;\n    tag.onload = () => {\n      resolve();\n    };\n  var firstScriptTag = document.getElementsByTagName('script')[0];\n  firstScriptTag.parentNode.insertBefore(tag, firstScriptTag);\n});\n};\n\nif(typeof $3Dmolpromise === 'undefined') {\n$3Dmolpromise = null;\n  $3Dmolpromise = loadScriptAsync('https://3dmol.csb.pitt.edu/build/3Dmol.js');\n}\n\nvar viewer_155223299656 = null;\nvar warn = document.getElementById(\"3dmolwarning_155223299656\");\nif(warn) {\n    warn.parentNode.removeChild(warn);\n}\n$3Dmolpromise.then(function() {\nviewer_155223299656 = $3Dmol.createViewer($(\"#3dmolviewer_155223299656\"),{backgroundColor:\"white\"});\n\tviewer_155223299656.addModel(\"\\n     RDKit          3D\\n\\n 14 13  0  0  0  0  0  0  0  0999 V2000\\n    2.6477   -0.3624    0.5171 O   0  0  0  0  0  0  0  0  0  0  0  0\\n   -0.4624    0.5330    0.3474 C   0  0  0  0  0  0  0  0  0  0  0  0\\n    0.2986   -0.7463    0.0799 C   0  0  0  0  0  0  0  0  0  0  0  0\\n   -1.9090    0.1861    0.6271 C   0  0  0  0  0  0  0  0  0  0  0  0\\n    1.6628   -0.4191   -0.4429 C   0  0  0  0  0  3  0  0  0  0  0  0\\n   -0.0638    1.0532    1.2538 H   0  0  0  0  0  0  0  0  0  0  0  0\\n   -0.3394    1.1700   -0.5354 H   0  0  0  0  0  0  0  0  0  0  0  0\\n    0.3407   -1.2982    1.0241 H   0  0  0  0  0  0  0  0  0  0  0  0\\n   -0.2525   -1.2956   -0.6986 H   0  0  0  0  0  0  0  0  0  0  0  0\\n   -2.1370   -0.7950    0.1707 H   0  0  0  0  0  0  0  0  0  0  0  0\\n   -2.1494    0.1501    1.7006 H   0  0  0  0  0  0  0  0  0  0  0  0\\n   -2.5172    0.9851    0.1353 H   0  0  0  0  0  0  0  0  0  0  0  0\\n    1.6830    0.3914   -1.1785 H   0  0  0  0  0  0  0  0  0  0  0  0\\n    3.1978    0.4477    0.5086 H   0  0  0  0  0  0  0  0  0  0  0  0\\n  1  5  1  0\\n  1 14  1  0\\n  2  7  1  0\\n  2  6  1  0\\n  2  4  1  0\\n  2  3  1  0\\n  3  9  1  0\\n  3  5  1  0\\n  3  8  1  0\\n  4 10  1  0\\n  4 11  1  0\\n  4 12  1  0\\n  5 13  1  0\\nM  RAD  1   5   2\\nM  END\\n\",\"sdf\");\n\tviewer_155223299656.setStyle({\"stick\": {}});\n\tviewer_155223299656.setBackgroundColor(\"0xeeeeee\");\n\tviewer_155223299656.zoomTo();\nviewer_155223299656.render();\n});\n</script>",
      "text/html": [
       "<div id=\"3dmolviewer_155223299656\"  style=\"position: relative; width: 600px; height: 600px\">\n",
       "        <p id=\"3dmolwarning_155223299656\" style=\"background-color:#ffcccc;color:black\">You appear to be running in JupyterLab.  You need to install the 3dmol extension: <br>\n",
       "        <tt>jupyter labextension install jupyterlab_3dmol</tt></p>\n",
       "        </div>\n",
       "<script>\n",
       "\n",
       "var loadScriptAsync = function(uri){\n",
       "  return new Promise((resolve, reject) => {\n",
       "    var tag = document.createElement('script');\n",
       "    tag.src = uri;\n",
       "    tag.async = true;\n",
       "    tag.onload = () => {\n",
       "      resolve();\n",
       "    };\n",
       "  var firstScriptTag = document.getElementsByTagName('script')[0];\n",
       "  firstScriptTag.parentNode.insertBefore(tag, firstScriptTag);\n",
       "});\n",
       "};\n",
       "\n",
       "if(typeof $3Dmolpromise === 'undefined') {\n",
       "$3Dmolpromise = null;\n",
       "  $3Dmolpromise = loadScriptAsync('https://3dmol.csb.pitt.edu/build/3Dmol.js');\n",
       "}\n",
       "\n",
       "var viewer_155223299656 = null;\n",
       "var warn = document.getElementById(\"3dmolwarning_155223299656\");\n",
       "if(warn) {\n",
       "    warn.parentNode.removeChild(warn);\n",
       "}\n",
       "$3Dmolpromise.then(function() {\n",
       "viewer_155223299656 = $3Dmol.createViewer($(\"#3dmolviewer_155223299656\"),{backgroundColor:\"white\"});\n",
       "\tviewer_155223299656.addModel(\"\\n     RDKit          3D\\n\\n 14 13  0  0  0  0  0  0  0  0999 V2000\\n    2.6477   -0.3624    0.5171 O   0  0  0  0  0  0  0  0  0  0  0  0\\n   -0.4624    0.5330    0.3474 C   0  0  0  0  0  0  0  0  0  0  0  0\\n    0.2986   -0.7463    0.0799 C   0  0  0  0  0  0  0  0  0  0  0  0\\n   -1.9090    0.1861    0.6271 C   0  0  0  0  0  0  0  0  0  0  0  0\\n    1.6628   -0.4191   -0.4429 C   0  0  0  0  0  3  0  0  0  0  0  0\\n   -0.0638    1.0532    1.2538 H   0  0  0  0  0  0  0  0  0  0  0  0\\n   -0.3394    1.1700   -0.5354 H   0  0  0  0  0  0  0  0  0  0  0  0\\n    0.3407   -1.2982    1.0241 H   0  0  0  0  0  0  0  0  0  0  0  0\\n   -0.2525   -1.2956   -0.6986 H   0  0  0  0  0  0  0  0  0  0  0  0\\n   -2.1370   -0.7950    0.1707 H   0  0  0  0  0  0  0  0  0  0  0  0\\n   -2.1494    0.1501    1.7006 H   0  0  0  0  0  0  0  0  0  0  0  0\\n   -2.5172    0.9851    0.1353 H   0  0  0  0  0  0  0  0  0  0  0  0\\n    1.6830    0.3914   -1.1785 H   0  0  0  0  0  0  0  0  0  0  0  0\\n    3.1978    0.4477    0.5086 H   0  0  0  0  0  0  0  0  0  0  0  0\\n  1  5  1  0\\n  1 14  1  0\\n  2  7  1  0\\n  2  6  1  0\\n  2  4  1  0\\n  2  3  1  0\\n  3  9  1  0\\n  3  5  1  0\\n  3  8  1  0\\n  4 10  1  0\\n  4 11  1  0\\n  4 12  1  0\\n  5 13  1  0\\nM  RAD  1   5   2\\nM  END\\n\",\"sdf\");\n",
       "\tviewer_155223299656.setStyle({\"stick\": {}});\n",
       "\tviewer_155223299656.setBackgroundColor(\"0xeeeeee\");\n",
       "\tviewer_155223299656.zoomTo();\n",
       "viewer_155223299656.render();\n",
       "});\n",
       "</script>"
      ]
     },
     "metadata": {},
     "output_type": "display_data"
    },
    {
     "name": "stdout",
     "output_type": "stream",
     "text": [
      "/home/underkoffler.c/Code/Hindered_Rotors/CCC[CH]O/From_Workflow\n",
      "\n",
      "\n",
      "CCC[CH]O DHVSQGCGLGSLDF-UHFFFAOYSA-N_72by10.0_tor04_a1.log\n",
      "<Torsion \"(13, 0, 4, 12)\">\n",
      "Steps:      72\n",
      "Step Size:  10.0\n",
      "Attempt:    1\n",
      "\n"
     ]
    },
    {
     "data": {
      "image/png": "[encoded data removed]",
      "text/plain": [
       "<Figure size 432x288 with 1 Axes>"
      ]
     },
     "metadata": {
      "needs_background": "light"
     },
     "output_type": "display_data"
    },
    {
     "name": "stdout",
     "output_type": "stream",
     "text": [
      "Continuous:   False\n",
      "\n",
      "Good Slope:   True\n",
      "\n",
      "Lowest Conf:  False\n",
      "=========================================================\n",
      "\n",
      "\n",
      "CCC[CH]O DHVSQGCGLGSLDF-UHFFFAOYSA-N_72by10.0_tor04_a2.log\n",
      "CCC[CH]O DHVSQGCGLGSLDF-UHFFFAOYSA-N_72by10.0_tor04_a3.log\n",
      "CCC[CH]O DHVSQGCGLGSLDF-UHFFFAOYSA-N_72by10.0_tor04_a4.log\n",
      "\n",
      "\n",
      "CCC[CH]O DHVSQGCGLGSLDF-UHFFFAOYSA-N_72by10.0_tor13_a1.log\n",
      "<Torsion \"(2, 1, 3, 11)\">\n",
      "Steps:      72\n",
      "Step Size:  10.0\n",
      "Attempt:    1\n",
      "\n"
     ]
    },
    {
     "data": {
      "image/png": "[encoded data removed]",
      "text/plain": [
       "<Figure size 432x288 with 1 Axes>"
      ]
     },
     "metadata": {
      "needs_background": "light"
     },
     "output_type": "display_data"
    },
    {
     "name": "stdout",
     "output_type": "stream",
     "text": [
      "Continuous:   True\n",
      "\n",
      "Good Slope:   True\n",
      "\n",
      "Lowest Conf:  True\n",
      "=========================================================\n",
      "\n",
      "\n",
      "CCC[CH]O DHVSQGCGLGSLDF-UHFFFAOYSA-N_72by10.0_tor13_a2.log\n",
      "CCC[CH]O DHVSQGCGLGSLDF-UHFFFAOYSA-N_72by10.0_tor13_a3.log\n",
      "CCC[CH]O DHVSQGCGLGSLDF-UHFFFAOYSA-N_72by10.0_tor13_a4.log\n",
      "\n",
      "CCC[CH]O DHVSQGCGLGSLDF-UHFFFAOYSA-N_72by10.0_tor12_a1.log\n",
      "CCC[CH]O DHVSQGCGLGSLDF-UHFFFAOYSA-N_72by10.0_tor12_a2.log\n",
      "CCC[CH]O DHVSQGCGLGSLDF-UHFFFAOYSA-N_72by10.0_tor12_a3.log\n",
      "CCC[CH]O DHVSQGCGLGSLDF-UHFFFAOYSA-N_72by10.0_tor12_a4.log\n",
      "\n",
      "CCC[CH]O DHVSQGCGLGSLDF-UHFFFAOYSA-N_72by10.0_tor24_a1.log\n",
      "CCC[CH]O DHVSQGCGLGSLDF-UHFFFAOYSA-N_72by10.0_tor24_a2.log\n",
      "CCC[CH]O DHVSQGCGLGSLDF-UHFFFAOYSA-N_72by10.0_tor24_a3.log\n",
      "CCC[CH]O DHVSQGCGLGSLDF-UHFFFAOYSA-N_72by10.0_tor24_a4.log\n",
      "===================================================================\n",
      "\n",
      "\n"
     ]
    }
   ],
   "source": [
    "steps = 72\n",
    "step_size = 10.0\n",
    "\n",
    "Conf_list = []\n",
    "\n",
    "Rxn_list = None\n",
    "\n",
    "SMILES_list = [Master_SMILES_list[2]]\n",
    "print SMILES_list\n",
    "\n",
    "scan_progress(steps, step_size, Conf_list, SMILES_list=SMILES_list, Rxn_list=Rxn_list)"
   ]
  },
  {
   "cell_type": "code",
   "execution_count": 47,
   "metadata": {
    "scrolled": true
   },
   "outputs": [
    {
     "name": "stdout",
     "output_type": "stream",
     "text": [
      "['CC[CH]CO']\n"
     ]
    },
    {
     "data": {
      "application/3dmoljs_load.v0": "<div id=\"3dmolviewer_155223318067\"  style=\"position: relative; width: 600px; height: 600px\">\n        <p id=\"3dmolwarning_155223318067\" style=\"background-color:#ffcccc;color:black\">You appear to be running in JupyterLab.  You need to install the 3dmol extension: <br>\n        <tt>jupyter labextension install jupyterlab_3dmol</tt></p>\n        </div>\n<script>\n\nvar loadScriptAsync = function(uri){\n  return new Promise((resolve, reject) => {\n    var tag = document.createElement('script');\n    tag.src = uri;\n    tag.async = true;\n    tag.onload = () => {\n      resolve();\n    };\n  var firstScriptTag = document.getElementsByTagName('script')[0];\n  firstScriptTag.parentNode.insertBefore(tag, firstScriptTag);\n});\n};\n\nif(typeof $3Dmolpromise === 'undefined') {\n$3Dmolpromise = null;\n  $3Dmolpromise = loadScriptAsync('https://3dmol.csb.pitt.edu/build/3Dmol.js');\n}\n\nvar viewer_155223318067 = null;\nvar warn = document.getElementById(\"3dmolwarning_155223318067\");\nif(warn) {\n    warn.parentNode.removeChild(warn);\n}\n$3Dmolpromise.then(function() {\nviewer_155223318067 = $3Dmol.createViewer($(\"#3dmolviewer_155223318067\"),{backgroundColor:\"white\"});\n\tviewer_155223318067.addModel(\"\\n     RDKit          3D\\n\\n 14 13  0  0  0  0  0  0  0  0999 V2000\\n    2.1749   -0.3776   -0.6795 O   0  0  0  0  0  0  0  0  0  0  0  0\\n   -0.6535    0.1529   -0.2511 C   0  0  0  0  0  0  0  0  0  0  0  0\\n    1.6661    0.5636    0.2073 C   0  0  0  0  0  0  0  0  0  0  0  0\\n   -2.0270   -0.2744    0.1812 C   0  0  0  0  0  0  0  0  0  0  0  0\\n    0.3689    0.1117    0.8500 C   0  0  0  0  0  3  0  0  0  0  0  0\\n   -0.3639   -0.4462   -1.1431 H   0  0  0  0  0  0  0  0  0  0  0  0\\n   -0.6978    1.2150   -0.5905 H   0  0  0  0  0  0  0  0  0  0  0  0\\n   -2.2554    0.0366    1.2279 H   0  0  0  0  0  0  0  0  0  0  0  0\\n   -2.7494    0.2168   -0.5195 H   0  0  0  0  0  0  0  0  0  0  0  0\\n   -2.0824   -1.3789    0.1388 H   0  0  0  0  0  0  0  0  0  0  0  0\\n    1.3882    1.4591   -0.4056 H   0  0  0  0  0  0  0  0  0  0  0  0\\n    2.4003    0.7970    0.9904 H   0  0  0  0  0  0  0  0  0  0  0  0\\n    0.4418   -0.8530    1.3623 H   0  0  0  0  0  0  0  0  0  0  0  0\\n    2.3893   -1.2224   -0.2227 H   0  0  0  0  0  0  0  0  0  0  0  0\\n  1  3  1  0\\n  1 14  1  0\\n  2  4  1  0\\n  2  5  1  0\\n  2  7  1  0\\n  2  6  1  0\\n  3  5  1  0\\n  3 12  1  0\\n  3 11  1  0\\n  4 10  1  0\\n  4  9  1  0\\n  4  8  1  0\\n  5 13  1  0\\nM  RAD  1   5   2\\nM  END\\n\",\"sdf\");\n\tviewer_155223318067.setStyle({\"stick\": {}});\n\tviewer_155223318067.setBackgroundColor(\"0xeeeeee\");\n\tviewer_155223318067.zoomTo();\nviewer_155223318067.render();\n});\n</script>",
      "text/html": [
       "<div id=\"3dmolviewer_155223318067\"  style=\"position: relative; width: 600px; height: 600px\">\n",
       "        <p id=\"3dmolwarning_155223318067\" style=\"background-color:#ffcccc;color:black\">You appear to be running in JupyterLab.  You need to install the 3dmol extension: <br>\n",
       "        <tt>jupyter labextension install jupyterlab_3dmol</tt></p>\n",
       "        </div>\n",
       "<script>\n",
       "\n",
       "var loadScriptAsync = function(uri){\n",
       "  return new Promise((resolve, reject) => {\n",
       "    var tag = document.createElement('script');\n",
       "    tag.src = uri;\n",
       "    tag.async = true;\n",
       "    tag.onload = () => {\n",
       "      resolve();\n",
       "    };\n",
       "  var firstScriptTag = document.getElementsByTagName('script')[0];\n",
       "  firstScriptTag.parentNode.insertBefore(tag, firstScriptTag);\n",
       "});\n",
       "};\n",
       "\n",
       "if(typeof $3Dmolpromise === 'undefined') {\n",
       "$3Dmolpromise = null;\n",
       "  $3Dmolpromise = loadScriptAsync('https://3dmol.csb.pitt.edu/build/3Dmol.js');\n",
       "}\n",
       "\n",
       "var viewer_155223318067 = null;\n",
       "var warn = document.getElementById(\"3dmolwarning_155223318067\");\n",
       "if(warn) {\n",
       "    warn.parentNode.removeChild(warn);\n",
       "}\n",
       "$3Dmolpromise.then(function() {\n",
       "viewer_155223318067 = $3Dmol.createViewer($(\"#3dmolviewer_155223318067\"),{backgroundColor:\"white\"});\n",
       "\tviewer_155223318067.addModel(\"\\n     RDKit          3D\\n\\n 14 13  0  0  0  0  0  0  0  0999 V2000\\n    2.1749   -0.3776   -0.6795 O   0  0  0  0  0  0  0  0  0  0  0  0\\n   -0.6535    0.1529   -0.2511 C   0  0  0  0  0  0  0  0  0  0  0  0\\n    1.6661    0.5636    0.2073 C   0  0  0  0  0  0  0  0  0  0  0  0\\n   -2.0270   -0.2744    0.1812 C   0  0  0  0  0  0  0  0  0  0  0  0\\n    0.3689    0.1117    0.8500 C   0  0  0  0  0  3  0  0  0  0  0  0\\n   -0.3639   -0.4462   -1.1431 H   0  0  0  0  0  0  0  0  0  0  0  0\\n   -0.6978    1.2150   -0.5905 H   0  0  0  0  0  0  0  0  0  0  0  0\\n   -2.2554    0.0366    1.2279 H   0  0  0  0  0  0  0  0  0  0  0  0\\n   -2.7494    0.2168   -0.5195 H   0  0  0  0  0  0  0  0  0  0  0  0\\n   -2.0824   -1.3789    0.1388 H   0  0  0  0  0  0  0  0  0  0  0  0\\n    1.3882    1.4591   -0.4056 H   0  0  0  0  0  0  0  0  0  0  0  0\\n    2.4003    0.7970    0.9904 H   0  0  0  0  0  0  0  0  0  0  0  0\\n    0.4418   -0.8530    1.3623 H   0  0  0  0  0  0  0  0  0  0  0  0\\n    2.3893   -1.2224   -0.2227 H   0  0  0  0  0  0  0  0  0  0  0  0\\n  1  3  1  0\\n  1 14  1  0\\n  2  4  1  0\\n  2  5  1  0\\n  2  7  1  0\\n  2  6  1  0\\n  3  5  1  0\\n  3 12  1  0\\n  3 11  1  0\\n  4 10  1  0\\n  4  9  1  0\\n  4  8  1  0\\n  5 13  1  0\\nM  RAD  1   5   2\\nM  END\\n\",\"sdf\");\n",
       "\tviewer_155223318067.setStyle({\"stick\": {}});\n",
       "\tviewer_155223318067.setBackgroundColor(\"0xeeeeee\");\n",
       "\tviewer_155223318067.zoomTo();\n",
       "viewer_155223318067.render();\n",
       "});\n",
       "</script>"
      ]
     },
     "metadata": {},
     "output_type": "display_data"
    },
    {
     "name": "stdout",
     "output_type": "stream",
     "text": [
      "/home/underkoffler.c/Code/Hindered_Rotors/CC[CH]CO/From_Workflow\n",
      "\n",
      "\n",
      "CC[CH]CO GIXGVIVAHMJKNP-UHFFFAOYSA-N_72by10.0_tor02_a1.log\n",
      "<Torsion \"(13, 0, 2, 10)\">\n",
      "Steps:      72\n",
      "Step Size:  10.0\n",
      "Attempt:    1\n",
      "\n",
      "CANNOT Load Scan\n",
      "\n",
      "=========================================================\n",
      "\n",
      "\n",
      "CC[CH]CO GIXGVIVAHMJKNP-UHFFFAOYSA-N_72by10.0_tor02_a2.log\n",
      "CC[CH]CO GIXGVIVAHMJKNP-UHFFFAOYSA-N_72by10.0_tor02_a3.log\n",
      "CC[CH]CO GIXGVIVAHMJKNP-UHFFFAOYSA-N_72by10.0_tor02_a4.log\n",
      "\n",
      "CC[CH]CO GIXGVIVAHMJKNP-UHFFFAOYSA-N_72by10.0_tor13_a1.log\n",
      "CC[CH]CO GIXGVIVAHMJKNP-UHFFFAOYSA-N_72by10.0_tor13_a2.log\n",
      "CC[CH]CO GIXGVIVAHMJKNP-UHFFFAOYSA-N_72by10.0_tor13_a3.log\n",
      "CC[CH]CO GIXGVIVAHMJKNP-UHFFFAOYSA-N_72by10.0_tor13_a4.log\n",
      "\n",
      "CC[CH]CO GIXGVIVAHMJKNP-UHFFFAOYSA-N_72by10.0_tor14_a1.log\n",
      "CC[CH]CO GIXGVIVAHMJKNP-UHFFFAOYSA-N_72by10.0_tor14_a2.log\n",
      "CC[CH]CO GIXGVIVAHMJKNP-UHFFFAOYSA-N_72by10.0_tor14_a3.log\n",
      "CC[CH]CO GIXGVIVAHMJKNP-UHFFFAOYSA-N_72by10.0_tor14_a4.log\n",
      "\n",
      "\n",
      "CC[CH]CO GIXGVIVAHMJKNP-UHFFFAOYSA-N_72by10.0_tor24_a1.log\n",
      "<Torsion \"(10, 2, 4, 12)\">\n",
      "Steps:      72\n",
      "Step Size:  10.0\n",
      "Attempt:    1\n",
      "\n"
     ]
    },
    {
     "data": {
      "image/png": "[encoded data removed]",
      "text/plain": [
       "<Figure size 432x288 with 1 Axes>"
      ]
     },
     "metadata": {
      "needs_background": "light"
     },
     "output_type": "display_data"
    },
    {
     "name": "stdout",
     "output_type": "stream",
     "text": [
      "Continuous:   False\n",
      "\n",
      "Good Slope:   False\n",
      "\n",
      "Lowest Conf:  False\n",
      "=========================================================\n",
      "\n",
      "\n",
      "CC[CH]CO GIXGVIVAHMJKNP-UHFFFAOYSA-N_72by10.0_tor24_a2.log\n",
      "CC[CH]CO GIXGVIVAHMJKNP-UHFFFAOYSA-N_72by10.0_tor24_a3.log\n",
      "CC[CH]CO GIXGVIVAHMJKNP-UHFFFAOYSA-N_72by10.0_tor24_a4.log\n",
      "===================================================================\n",
      "\n",
      "\n"
     ]
    }
   ],
   "source": [
    "steps = 72\n",
    "step_size = 10.0\n",
    "\n",
    "Conf_list = []\n",
    "\n",
    "Rxn_list = None\n",
    "\n",
    "SMILES_list = [Master_SMILES_list[3]]\n",
    "print SMILES_list\n",
    "\n",
    "scan_progress(steps, step_size, Conf_list, SMILES_list=SMILES_list, Rxn_list=Rxn_list)"
   ]
  },
  {
   "cell_type": "code",
   "execution_count": 48,
   "metadata": {
    "scrolled": true
   },
   "outputs": [
    {
     "name": "stdout",
     "output_type": "stream",
     "text": [
      "['C[CH]CCO']\n"
     ]
    },
    {
     "data": {
      "application/3dmoljs_load.v0": "<div id=\"3dmolviewer_155223468674\"  style=\"position: relative; width: 600px; height: 600px\">\n        <p id=\"3dmolwarning_155223468674\" style=\"background-color:#ffcccc;color:black\">You appear to be running in JupyterLab.  You need to install the 3dmol extension: <br>\n        <tt>jupyter labextension install jupyterlab_3dmol</tt></p>\n        </div>\n<script>\n\nvar loadScriptAsync = function(uri){\n  return new Promise((resolve, reject) => {\n    var tag = document.createElement('script');\n    tag.src = uri;\n    tag.async = true;\n    tag.onload = () => {\n      resolve();\n    };\n  var firstScriptTag = document.getElementsByTagName('script')[0];\n  firstScriptTag.parentNode.insertBefore(tag, firstScriptTag);\n});\n};\n\nif(typeof $3Dmolpromise === 'undefined') {\n$3Dmolpromise = null;\n  $3Dmolpromise = loadScriptAsync('https://3dmol.csb.pitt.edu/build/3Dmol.js');\n}\n\nvar viewer_155223468674 = null;\nvar warn = document.getElementById(\"3dmolwarning_155223468674\");\nif(warn) {\n    warn.parentNode.removeChild(warn);\n}\n$3Dmolpromise.then(function() {\nviewer_155223468674 = $3Dmol.createViewer($(\"#3dmolviewer_155223468674\"),{backgroundColor:\"white\"});\n\tviewer_155223468674.addModel(\"\\n     RDKit          3D\\n\\n 14 13  0  0  0  0  0  0  0  0999 V2000\\n   -1.7172   -1.1911    0.5997 O   0  0  0  0  0  0  0  0  0  0  0  0\\n   -0.3954    0.7582    0.4633 C   0  0  0  0  0  0  0  0  0  0  0  0\\n   -1.2245   -0.2344   -0.2782 C   0  0  0  0  0  0  0  0  0  0  0  0\\n    1.7289   -0.3073   -0.4081 C   0  0  0  0  0  0  0  0  0  0  0  0\\n    1.0240    0.4011    0.6839 C   0  0  0  0  0  3  0  0  0  0  0  0\\n   -0.5046    1.7551   -0.0251 H   0  0  0  0  0  0  0  0  0  0  0  0\\n   -0.8702    0.8779    1.4715 H   0  0  0  0  0  0  0  0  0  0  0  0\\n   -0.7502   -0.6676   -1.1686 H   0  0  0  0  0  0  0  0  0  0  0  0\\n   -2.1276    0.3100   -0.6586 H   0  0  0  0  0  0  0  0  0  0  0  0\\n    1.9337   -1.3519   -0.0632 H   0  0  0  0  0  0  0  0  0  0  0  0\\n    2.7419    0.1433   -0.5661 H   0  0  0  0  0  0  0  0  0  0  0  0\\n    1.2315   -0.3340   -1.3789 H   0  0  0  0  0  0  0  0  0  0  0  0\\n    1.5613    1.3371    0.9845 H   0  0  0  0  0  0  0  0  0  0  0  0\\n   -2.6315   -1.4963    0.3439 H   0  0  0  0  0  0  0  0  0  0  0  0\\n  1  3  1  0\\n  1 14  1  0\\n  2  7  1  0\\n  2  3  1  0\\n  2  5  1  0\\n  2  6  1  0\\n  3  9  1  0\\n  3  8  1  0\\n  4 12  1  0\\n  4  5  1  0\\n  4 10  1  0\\n  4 11  1  0\\n  5 13  1  0\\nM  RAD  1   5   2\\nM  END\\n\",\"sdf\");\n\tviewer_155223468674.setStyle({\"stick\": {}});\n\tviewer_155223468674.setBackgroundColor(\"0xeeeeee\");\n\tviewer_155223468674.zoomTo();\nviewer_155223468674.render();\n});\n</script>",
      "text/html": [
       "<div id=\"3dmolviewer_155223468674\"  style=\"position: relative; width: 600px; height: 600px\">\n",
       "        <p id=\"3dmolwarning_155223468674\" style=\"background-color:#ffcccc;color:black\">You appear to be running in JupyterLab.  You need to install the 3dmol extension: <br>\n",
       "        <tt>jupyter labextension install jupyterlab_3dmol</tt></p>\n",
       "        </div>\n",
       "<script>\n",
       "\n",
       "var loadScriptAsync = function(uri){\n",
       "  return new Promise((resolve, reject) => {\n",
       "    var tag = document.createElement('script');\n",
       "    tag.src = uri;\n",
       "    tag.async = true;\n",
       "    tag.onload = () => {\n",
       "      resolve();\n",
       "    };\n",
       "  var firstScriptTag = document.getElementsByTagName('script')[0];\n",
       "  firstScriptTag.parentNode.insertBefore(tag, firstScriptTag);\n",
       "});\n",
       "};\n",
       "\n",
       "if(typeof $3Dmolpromise === 'undefined') {\n",
       "$3Dmolpromise = null;\n",
       "  $3Dmolpromise = loadScriptAsync('https://3dmol.csb.pitt.edu/build/3Dmol.js');\n",
       "}\n",
       "\n",
       "var viewer_155223468674 = null;\n",
       "var warn = document.getElementById(\"3dmolwarning_155223468674\");\n",
       "if(warn) {\n",
       "    warn.parentNode.removeChild(warn);\n",
       "}\n",
       "$3Dmolpromise.then(function() {\n",
       "viewer_155223468674 = $3Dmol.createViewer($(\"#3dmolviewer_155223468674\"),{backgroundColor:\"white\"});\n",
       "\tviewer_155223468674.addModel(\"\\n     RDKit          3D\\n\\n 14 13  0  0  0  0  0  0  0  0999 V2000\\n   -1.7172   -1.1911    0.5997 O   0  0  0  0  0  0  0  0  0  0  0  0\\n   -0.3954    0.7582    0.4633 C   0  0  0  0  0  0  0  0  0  0  0  0\\n   -1.2245   -0.2344   -0.2782 C   0  0  0  0  0  0  0  0  0  0  0  0\\n    1.7289   -0.3073   -0.4081 C   0  0  0  0  0  0  0  0  0  0  0  0\\n    1.0240    0.4011    0.6839 C   0  0  0  0  0  3  0  0  0  0  0  0\\n   -0.5046    1.7551   -0.0251 H   0  0  0  0  0  0  0  0  0  0  0  0\\n   -0.8702    0.8779    1.4715 H   0  0  0  0  0  0  0  0  0  0  0  0\\n   -0.7502   -0.6676   -1.1686 H   0  0  0  0  0  0  0  0  0  0  0  0\\n   -2.1276    0.3100   -0.6586 H   0  0  0  0  0  0  0  0  0  0  0  0\\n    1.9337   -1.3519   -0.0632 H   0  0  0  0  0  0  0  0  0  0  0  0\\n    2.7419    0.1433   -0.5661 H   0  0  0  0  0  0  0  0  0  0  0  0\\n    1.2315   -0.3340   -1.3789 H   0  0  0  0  0  0  0  0  0  0  0  0\\n    1.5613    1.3371    0.9845 H   0  0  0  0  0  0  0  0  0  0  0  0\\n   -2.6315   -1.4963    0.3439 H   0  0  0  0  0  0  0  0  0  0  0  0\\n  1  3  1  0\\n  1 14  1  0\\n  2  7  1  0\\n  2  3  1  0\\n  2  5  1  0\\n  2  6  1  0\\n  3  9  1  0\\n  3  8  1  0\\n  4 12  1  0\\n  4  5  1  0\\n  4 10  1  0\\n  4 11  1  0\\n  5 13  1  0\\nM  RAD  1   5   2\\nM  END\\n\",\"sdf\");\n",
       "\tviewer_155223468674.setStyle({\"stick\": {}});\n",
       "\tviewer_155223468674.setBackgroundColor(\"0xeeeeee\");\n",
       "\tviewer_155223468674.zoomTo();\n",
       "viewer_155223468674.render();\n",
       "});\n",
       "</script>"
      ]
     },
     "metadata": {},
     "output_type": "display_data"
    },
    {
     "name": "stdout",
     "output_type": "stream",
     "text": [
      "/home/underkoffler.c/Code/Hindered_Rotors/C[CH]CCO/From_Workflow\n",
      "\n",
      "\n",
      "C[CH]CCO DBQZVPSKYUCKNT-UHFFFAOYSA-N_72by10.0_tor02_a1.log\n",
      "<Torsion \"(13, 0, 2, 7)\">\n",
      "Steps:      72\n",
      "Step Size:  10.0\n",
      "Attempt:    1\n",
      "\n"
     ]
    },
    {
     "data": {
      "image/png": "[encoded data removed]",
      "text/plain": [
       "<Figure size 432x288 with 1 Axes>"
      ]
     },
     "metadata": {
      "needs_background": "light"
     },
     "output_type": "display_data"
    },
    {
     "name": "stdout",
     "output_type": "stream",
     "text": [
      "Continuous:   False\n",
      "\n",
      "Good Slope:   True\n",
      "\n",
      "Lowest Conf:  True\n",
      "=========================================================\n",
      "\n",
      "\n",
      "C[CH]CCO DBQZVPSKYUCKNT-UHFFFAOYSA-N_72by10.0_tor02_a2.log\n",
      "C[CH]CCO DBQZVPSKYUCKNT-UHFFFAOYSA-N_72by10.0_tor02_a3.log\n",
      "C[CH]CCO DBQZVPSKYUCKNT-UHFFFAOYSA-N_72by10.0_tor02_a4.log\n",
      "\n",
      "C[CH]CCO DBQZVPSKYUCKNT-UHFFFAOYSA-N_72by10.0_tor12_a1.log\n",
      "C[CH]CCO DBQZVPSKYUCKNT-UHFFFAOYSA-N_72by10.0_tor12_a2.log\n",
      "C[CH]CCO DBQZVPSKYUCKNT-UHFFFAOYSA-N_72by10.0_tor12_a3.log\n",
      "C[CH]CCO DBQZVPSKYUCKNT-UHFFFAOYSA-N_72by10.0_tor12_a4.log\n",
      "\n",
      "\n",
      "C[CH]CCO DBQZVPSKYUCKNT-UHFFFAOYSA-N_72by10.0_tor14_a1.log\n",
      "<Torsion \"(5, 1, 4, 12)\">\n",
      "Steps:      72\n",
      "Step Size:  10.0\n",
      "Attempt:    1\n",
      "\n"
     ]
    },
    {
     "data": {
      "image/png": "[encoded data removed]",
      "text/plain": [
       "<Figure size 432x288 with 1 Axes>"
      ]
     },
     "metadata": {
      "needs_background": "light"
     },
     "output_type": "display_data"
    },
    {
     "name": "stdout",
     "output_type": "stream",
     "text": [
      "Continuous:   True\n",
      "\n",
      "Good Slope:   False\n",
      "\n",
      "Lowest Conf:  True\n",
      "=========================================================\n",
      "\n",
      "\n",
      "C[CH]CCO DBQZVPSKYUCKNT-UHFFFAOYSA-N_72by10.0_tor14_a2.log\n",
      "C[CH]CCO DBQZVPSKYUCKNT-UHFFFAOYSA-N_72by10.0_tor14_a3.log\n",
      "C[CH]CCO DBQZVPSKYUCKNT-UHFFFAOYSA-N_72by10.0_tor14_a4.log\n",
      "\n",
      "\n",
      "C[CH]CCO DBQZVPSKYUCKNT-UHFFFAOYSA-N_72by10.0_tor34_a1.log\n",
      "<Torsion \"(10, 3, 4, 12)\">\n",
      "Steps:      72\n",
      "Step Size:  10.0\n",
      "Attempt:    1\n",
      "\n"
     ]
    },
    {
     "data": {
      "image/png": "[encoded data removed]",
      "text/plain": [
       "<Figure size 432x288 with 1 Axes>"
      ]
     },
     "metadata": {
      "needs_background": "light"
     },
     "output_type": "display_data"
    },
    {
     "name": "stdout",
     "output_type": "stream",
     "text": [
      "Continuous:   True\n",
      "\n",
      "Good Slope:   False\n",
      "\n",
      "Lowest Conf:  True\n",
      "=========================================================\n",
      "\n",
      "\n",
      "C[CH]CCO DBQZVPSKYUCKNT-UHFFFAOYSA-N_72by10.0_tor34_a2.log\n",
      "C[CH]CCO DBQZVPSKYUCKNT-UHFFFAOYSA-N_72by10.0_tor34_a3.log\n",
      "C[CH]CCO DBQZVPSKYUCKNT-UHFFFAOYSA-N_72by10.0_tor34_a4.log\n",
      "===================================================================\n",
      "\n",
      "\n"
     ]
    }
   ],
   "source": [
    "steps = 72\n",
    "step_size = 10.0\n",
    "\n",
    "Conf_list = []\n",
    "\n",
    "Rxn_list = None\n",
    "\n",
    "SMILES_list = [Master_SMILES_list[4]]\n",
    "print SMILES_list\n",
    "\n",
    "scan_progress(steps, step_size, Conf_list, SMILES_list=SMILES_list, Rxn_list=Rxn_list)"
   ]
  },
  {
   "cell_type": "code",
   "execution_count": 34,
   "metadata": {},
   "outputs": [
    {
     "name": "stdout",
     "output_type": "stream",
     "text": [
      "['[CH2]CCCO']\n"
     ]
    },
    {
     "data": {
      "application/3dmoljs_load.v0": "<div id=\"3dmolviewer_155223305082\"  style=\"position: relative; width: 600px; height: 600px\">\n        <p id=\"3dmolwarning_155223305082\" style=\"background-color:#ffcccc;color:black\">You appear to be running in JupyterLab.  You need to install the 3dmol extension: <br>\n        <tt>jupyter labextension install jupyterlab_3dmol</tt></p>\n        </div>\n<script>\n\nvar loadScriptAsync = function(uri){\n  return new Promise((resolve, reject) => {\n    var tag = document.createElement('script');\n    tag.src = uri;\n    tag.async = true;\n    tag.onload = () => {\n      resolve();\n    };\n  var firstScriptTag = document.getElementsByTagName('script')[0];\n  firstScriptTag.parentNode.insertBefore(tag, firstScriptTag);\n});\n};\n\nif(typeof $3Dmolpromise === 'undefined') {\n$3Dmolpromise = null;\n  $3Dmolpromise = loadScriptAsync('https://3dmol.csb.pitt.edu/build/3Dmol.js');\n}\n\nvar viewer_155223305082 = null;\nvar warn = document.getElementById(\"3dmolwarning_155223305082\");\nif(warn) {\n    warn.parentNode.removeChild(warn);\n}\n$3Dmolpromise.then(function() {\nviewer_155223305082 = $3Dmol.createViewer($(\"#3dmolviewer_155223305082\"),{backgroundColor:\"white\"});\n\tviewer_155223305082.addModel(\"\\n     RDKit          3D\\n\\n 14 13  0  0  0  0  0  0  0  0999 V2000\\n   -2.0614    0.9671   -0.7124 O   0  0  0  0  0  0  0  0  0  0  0  0\\n   -0.1664   -0.3981   -0.9447 C   0  0  0  0  0  0  0  0  0  0  0  0\\n    0.8327    0.1844    0.0491 C   0  0  0  0  0  0  0  0  0  0  0  0\\n   -1.5311   -0.2498   -0.3012 C   0  0  0  0  0  0  0  0  0  0  0  0\\n    2.1987   -0.0960   -0.4871 C   0  0  0  0  0  3  0  0  0  0  0  0\\n   -0.0855    0.1002   -1.9202 H   0  0  0  0  0  0  0  0  0  0  0  0\\n    0.1035   -1.4825   -1.0162 H   0  0  0  0  0  0  0  0  0  0  0  0\\n    0.6097   -0.3339    1.0113 H   0  0  0  0  0  0  0  0  0  0  0  0\\n    0.6185    1.2681    0.1969 H   0  0  0  0  0  0  0  0  0  0  0  0\\n   -2.1966   -1.0963   -0.5540 H   0  0  0  0  0  0  0  0  0  0  0  0\\n   -1.4181   -0.2647    0.8095 H   0  0  0  0  0  0  0  0  0  0  0  0\\n    2.8068    0.8026   -0.6378 H   0  0  0  0  0  0  0  0  0  0  0  0\\n    2.6860   -0.9058    0.0761 H   0  0  0  0  0  0  0  0  0  0  0  0\\n   -2.3967    1.5046    0.0424 H   0  0  0  0  0  0  0  0  0  0  0  0\\n  1 14  1  0\\n  1  4  1  0\\n  2  7  1  0\\n  2  6  1  0\\n  2  4  1  0\\n  2  3  1  0\\n  3  9  1  0\\n  3  5  1  0\\n  3  8  1  0\\n  4 10  1  0\\n  4 11  1  0\\n  5 13  1  0\\n  5 12  1  0\\nM  RAD  1   5   2\\nM  END\\n\",\"sdf\");\n\tviewer_155223305082.setStyle({\"stick\": {}});\n\tviewer_155223305082.setBackgroundColor(\"0xeeeeee\");\n\tviewer_155223305082.zoomTo();\nviewer_155223305082.render();\n});\n</script>",
      "text/html": [
       "<div id=\"3dmolviewer_155223305082\"  style=\"position: relative; width: 600px; height: 600px\">\n",
       "        <p id=\"3dmolwarning_155223305082\" style=\"background-color:#ffcccc;color:black\">You appear to be running in JupyterLab.  You need to install the 3dmol extension: <br>\n",
       "        <tt>jupyter labextension install jupyterlab_3dmol</tt></p>\n",
       "        </div>\n",
       "<script>\n",
       "\n",
       "var loadScriptAsync = function(uri){\n",
       "  return new Promise((resolve, reject) => {\n",
       "    var tag = document.createElement('script');\n",
       "    tag.src = uri;\n",
       "    tag.async = true;\n",
       "    tag.onload = () => {\n",
       "      resolve();\n",
       "    };\n",
       "  var firstScriptTag = document.getElementsByTagName('script')[0];\n",
       "  firstScriptTag.parentNode.insertBefore(tag, firstScriptTag);\n",
       "});\n",
       "};\n",
       "\n",
       "if(typeof $3Dmolpromise === 'undefined') {\n",
       "$3Dmolpromise = null;\n",
       "  $3Dmolpromise = loadScriptAsync('https://3dmol.csb.pitt.edu/build/3Dmol.js');\n",
       "}\n",
       "\n",
       "var viewer_155223305082 = null;\n",
       "var warn = document.getElementById(\"3dmolwarning_155223305082\");\n",
       "if(warn) {\n",
       "    warn.parentNode.removeChild(warn);\n",
       "}\n",
       "$3Dmolpromise.then(function() {\n",
       "viewer_155223305082 = $3Dmol.createViewer($(\"#3dmolviewer_155223305082\"),{backgroundColor:\"white\"});\n",
       "\tviewer_155223305082.addModel(\"\\n     RDKit          3D\\n\\n 14 13  0  0  0  0  0  0  0  0999 V2000\\n   -2.0614    0.9671   -0.7124 O   0  0  0  0  0  0  0  0  0  0  0  0\\n   -0.1664   -0.3981   -0.9447 C   0  0  0  0  0  0  0  0  0  0  0  0\\n    0.8327    0.1844    0.0491 C   0  0  0  0  0  0  0  0  0  0  0  0\\n   -1.5311   -0.2498   -0.3012 C   0  0  0  0  0  0  0  0  0  0  0  0\\n    2.1987   -0.0960   -0.4871 C   0  0  0  0  0  3  0  0  0  0  0  0\\n   -0.0855    0.1002   -1.9202 H   0  0  0  0  0  0  0  0  0  0  0  0\\n    0.1035   -1.4825   -1.0162 H   0  0  0  0  0  0  0  0  0  0  0  0\\n    0.6097   -0.3339    1.0113 H   0  0  0  0  0  0  0  0  0  0  0  0\\n    0.6185    1.2681    0.1969 H   0  0  0  0  0  0  0  0  0  0  0  0\\n   -2.1966   -1.0963   -0.5540 H   0  0  0  0  0  0  0  0  0  0  0  0\\n   -1.4181   -0.2647    0.8095 H   0  0  0  0  0  0  0  0  0  0  0  0\\n    2.8068    0.8026   -0.6378 H   0  0  0  0  0  0  0  0  0  0  0  0\\n    2.6860   -0.9058    0.0761 H   0  0  0  0  0  0  0  0  0  0  0  0\\n   -2.3967    1.5046    0.0424 H   0  0  0  0  0  0  0  0  0  0  0  0\\n  1 14  1  0\\n  1  4  1  0\\n  2  7  1  0\\n  2  6  1  0\\n  2  4  1  0\\n  2  3  1  0\\n  3  9  1  0\\n  3  5  1  0\\n  3  8  1  0\\n  4 10  1  0\\n  4 11  1  0\\n  5 13  1  0\\n  5 12  1  0\\nM  RAD  1   5   2\\nM  END\\n\",\"sdf\");\n",
       "\tviewer_155223305082.setStyle({\"stick\": {}});\n",
       "\tviewer_155223305082.setBackgroundColor(\"0xeeeeee\");\n",
       "\tviewer_155223305082.zoomTo();\n",
       "viewer_155223305082.render();\n",
       "});\n",
       "</script>"
      ]
     },
     "metadata": {},
     "output_type": "display_data"
    },
    {
     "name": "stdout",
     "output_type": "stream",
     "text": [
      "/home/underkoffler.c/Code/Hindered_Rotors/[CH2]CCCO/From_Workflow\n",
      "\n",
      "\n",
      "[CH2]CCCO SXIFAEWFOJETOA-UHFFFAOYSA-N_72by10.0_tor03_a1.log\n",
      "<Torsion \"(13, 0, 3, 10)\">\n",
      "Steps:      72\n",
      "Step Size:  10.0\n",
      "Attempt:    1\n",
      "\n"
     ]
    },
    {
     "data": {
      "image/png": "[encoded data removed]",
      "text/plain": [
       "<Figure size 432x288 with 1 Axes>"
      ]
     },
     "metadata": {
      "needs_background": "light"
     },
     "output_type": "display_data"
    },
    {
     "name": "stdout",
     "output_type": "stream",
     "text": [
      "Continuous:   True\n",
      "\n",
      "Good Slope:   True\n",
      "\n",
      "Lowest Conf:  True\n",
      "=========================================================\n",
      "\n",
      "\n",
      "[CH2]CCCO SXIFAEWFOJETOA-UHFFFAOYSA-N_72by10.0_tor03_a2.log\n",
      "[CH2]CCCO SXIFAEWFOJETOA-UHFFFAOYSA-N_72by10.0_tor03_a3.log\n",
      "[CH2]CCCO SXIFAEWFOJETOA-UHFFFAOYSA-N_72by10.0_tor03_a4.log\n",
      "\n",
      "[CH2]CCCO SXIFAEWFOJETOA-UHFFFAOYSA-N_72by10.0_tor13_a1.log\n",
      "[CH2]CCCO SXIFAEWFOJETOA-UHFFFAOYSA-N_72by10.0_tor13_a2.log\n",
      "[CH2]CCCO SXIFAEWFOJETOA-UHFFFAOYSA-N_72by10.0_tor13_a3.log\n",
      "[CH2]CCCO SXIFAEWFOJETOA-UHFFFAOYSA-N_72by10.0_tor13_a4.log\n",
      "\n",
      "\n",
      "[CH2]CCCO SXIFAEWFOJETOA-UHFFFAOYSA-N_72by10.0_tor12_a1.log\n",
      "<Torsion \"(3, 1, 2, 7)\">\n",
      "Steps:      72\n",
      "Step Size:  10.0\n",
      "Attempt:    1\n",
      "\n"
     ]
    },
    {
     "data": {
      "image/png": "[encoded data removed]",
      "text/plain": [
       "<Figure size 432x288 with 1 Axes>"
      ]
     },
     "metadata": {
      "needs_background": "light"
     },
     "output_type": "display_data"
    },
    {
     "name": "stdout",
     "output_type": "stream",
     "text": [
      "Continuous:   True\n",
      "\n",
      "Good Slope:   True\n",
      "\n",
      "Lowest Conf:  True\n",
      "=========================================================\n",
      "\n",
      "\n",
      "[CH2]CCCO SXIFAEWFOJETOA-UHFFFAOYSA-N_72by10.0_tor12_a2.log\n",
      "[CH2]CCCO SXIFAEWFOJETOA-UHFFFAOYSA-N_72by10.0_tor12_a3.log\n",
      "[CH2]CCCO SXIFAEWFOJETOA-UHFFFAOYSA-N_72by10.0_tor12_a4.log\n",
      "\n",
      "\n",
      "[CH2]CCCO SXIFAEWFOJETOA-UHFFFAOYSA-N_72by10.0_tor24_a1.log\n",
      "<Torsion \"(7, 2, 4, 11)\">\n",
      "Steps:      72\n",
      "Step Size:  10.0\n",
      "Attempt:    1\n",
      "\n"
     ]
    },
    {
     "data": {
      "image/png": "[encoded data removed]",
      "text/plain": [
       "<Figure size 432x288 with 1 Axes>"
      ]
     },
     "metadata": {
      "needs_background": "light"
     },
     "output_type": "display_data"
    },
    {
     "name": "stdout",
     "output_type": "stream",
     "text": [
      "Continuous:   True\n",
      "\n",
      "Good Slope:   True\n",
      "\n",
      "Lowest Conf:  True\n",
      "=========================================================\n",
      "\n",
      "\n",
      "[CH2]CCCO SXIFAEWFOJETOA-UHFFFAOYSA-N_72by10.0_tor24_a2.log\n",
      "[CH2]CCCO SXIFAEWFOJETOA-UHFFFAOYSA-N_72by10.0_tor24_a3.log\n",
      "[CH2]CCCO SXIFAEWFOJETOA-UHFFFAOYSA-N_72by10.0_tor24_a4.log\n",
      "===================================================================\n",
      "\n",
      "\n"
     ]
    }
   ],
   "source": [
    "steps = 72\n",
    "step_size = 10.0\n",
    "\n",
    "Conf_list = []\n",
    "\n",
    "Rxn_list = None\n",
    "\n",
    "SMILES_list = [Master_SMILES_list[5]]\n",
    "print SMILES_list\n",
    "\n",
    "scan_progress(steps, step_size, Conf_list, SMILES_list=SMILES_list, Rxn_list=Rxn_list)"
   ]
  },
  {
   "cell_type": "code",
   "execution_count": 35,
   "metadata": {
    "scrolled": true
   },
   "outputs": [
    {
     "name": "stdout",
     "output_type": "stream",
     "text": [
      "['CCOC']\n"
     ]
    },
    {
     "data": {
      "application/3dmoljs_load.v0": "<div id=\"3dmolviewer_155223306814\"  style=\"position: relative; width: 600px; height: 600px\">\n        <p id=\"3dmolwarning_155223306814\" style=\"background-color:#ffcccc;color:black\">You appear to be running in JupyterLab.  You need to install the 3dmol extension: <br>\n        <tt>jupyter labextension install jupyterlab_3dmol</tt></p>\n        </div>\n<script>\n\nvar loadScriptAsync = function(uri){\n  return new Promise((resolve, reject) => {\n    var tag = document.createElement('script');\n    tag.src = uri;\n    tag.async = true;\n    tag.onload = () => {\n      resolve();\n    };\n  var firstScriptTag = document.getElementsByTagName('script')[0];\n  firstScriptTag.parentNode.insertBefore(tag, firstScriptTag);\n});\n};\n\nif(typeof $3Dmolpromise === 'undefined') {\n$3Dmolpromise = null;\n  $3Dmolpromise = loadScriptAsync('https://3dmol.csb.pitt.edu/build/3Dmol.js');\n}\n\nvar viewer_155223306814 = null;\nvar warn = document.getElementById(\"3dmolwarning_155223306814\");\nif(warn) {\n    warn.parentNode.removeChild(warn);\n}\n$3Dmolpromise.then(function() {\nviewer_155223306814 = $3Dmol.createViewer($(\"#3dmolviewer_155223306814\"),{backgroundColor:\"white\"});\n\tviewer_155223306814.addModel(\"\\n     RDKit          3D\\n\\n 12 11  0  0  0  0  0  0  0  0999 V2000\\n    0.5803   -0.8618   -0.0268 O   0  0  0  0  0  0  0  0  0  0  0  0\\n   -0.4247   -0.1698    0.6470 C   0  0  0  0  0  0  0  0  0  0  0  0\\n   -1.5112    0.1351   -0.3411 C   0  0  0  0  0  0  0  0  0  0  0  0\\n    1.6777   -0.0441   -0.2208 C   0  0  0  0  0  0  0  0  0  0  0  0\\n   -0.8703   -0.8478    1.4193 H   0  0  0  0  0  0  0  0  0  0  0  0\\n   -0.0194    0.7145    1.1612 H   0  0  0  0  0  0  0  0  0  0  0  0\\n   -1.4137    1.1184   -0.8367 H   0  0  0  0  0  0  0  0  0  0  0  0\\n   -2.5295    0.0128    0.0885 H   0  0  0  0  0  0  0  0  0  0  0  0\\n   -1.4653   -0.6210   -1.1663 H   0  0  0  0  0  0  0  0  0  0  0  0\\n    1.9820    0.3719    0.7732 H   0  0  0  0  0  0  0  0  0  0  0  0\\n    1.4838    0.8289   -0.8664 H   0  0  0  0  0  0  0  0  0  0  0  0\\n    2.5102   -0.6372   -0.6311 H   0  0  0  0  0  0  0  0  0  0  0  0\\n  1  2  1  0\\n  1  4  1  0\\n  2  3  1  0\\n  2  5  1  0\\n  2  6  1  0\\n  3  7  1  0\\n  3  8  1  0\\n  3  9  1  0\\n  4 10  1  0\\n  4 12  1  0\\n  4 11  1  0\\nM  END\\n\",\"sdf\");\n\tviewer_155223306814.setStyle({\"stick\": {}});\n\tviewer_155223306814.setBackgroundColor(\"0xeeeeee\");\n\tviewer_155223306814.zoomTo();\nviewer_155223306814.render();\n});\n</script>",
      "text/html": [
       "<div id=\"3dmolviewer_155223306814\"  style=\"position: relative; width: 600px; height: 600px\">\n",
       "        <p id=\"3dmolwarning_155223306814\" style=\"background-color:#ffcccc;color:black\">You appear to be running in JupyterLab.  You need to install the 3dmol extension: <br>\n",
       "        <tt>jupyter labextension install jupyterlab_3dmol</tt></p>\n",
       "        </div>\n",
       "<script>\n",
       "\n",
       "var loadScriptAsync = function(uri){\n",
       "  return new Promise((resolve, reject) => {\n",
       "    var tag = document.createElement('script');\n",
       "    tag.src = uri;\n",
       "    tag.async = true;\n",
       "    tag.onload = () => {\n",
       "      resolve();\n",
       "    };\n",
       "  var firstScriptTag = document.getElementsByTagName('script')[0];\n",
       "  firstScriptTag.parentNode.insertBefore(tag, firstScriptTag);\n",
       "});\n",
       "};\n",
       "\n",
       "if(typeof $3Dmolpromise === 'undefined') {\n",
       "$3Dmolpromise = null;\n",
       "  $3Dmolpromise = loadScriptAsync('https://3dmol.csb.pitt.edu/build/3Dmol.js');\n",
       "}\n",
       "\n",
       "var viewer_155223306814 = null;\n",
       "var warn = document.getElementById(\"3dmolwarning_155223306814\");\n",
       "if(warn) {\n",
       "    warn.parentNode.removeChild(warn);\n",
       "}\n",
       "$3Dmolpromise.then(function() {\n",
       "viewer_155223306814 = $3Dmol.createViewer($(\"#3dmolviewer_155223306814\"),{backgroundColor:\"white\"});\n",
       "\tviewer_155223306814.addModel(\"\\n     RDKit          3D\\n\\n 12 11  0  0  0  0  0  0  0  0999 V2000\\n    0.5803   -0.8618   -0.0268 O   0  0  0  0  0  0  0  0  0  0  0  0\\n   -0.4247   -0.1698    0.6470 C   0  0  0  0  0  0  0  0  0  0  0  0\\n   -1.5112    0.1351   -0.3411 C   0  0  0  0  0  0  0  0  0  0  0  0\\n    1.6777   -0.0441   -0.2208 C   0  0  0  0  0  0  0  0  0  0  0  0\\n   -0.8703   -0.8478    1.4193 H   0  0  0  0  0  0  0  0  0  0  0  0\\n   -0.0194    0.7145    1.1612 H   0  0  0  0  0  0  0  0  0  0  0  0\\n   -1.4137    1.1184   -0.8367 H   0  0  0  0  0  0  0  0  0  0  0  0\\n   -2.5295    0.0128    0.0885 H   0  0  0  0  0  0  0  0  0  0  0  0\\n   -1.4653   -0.6210   -1.1663 H   0  0  0  0  0  0  0  0  0  0  0  0\\n    1.9820    0.3719    0.7732 H   0  0  0  0  0  0  0  0  0  0  0  0\\n    1.4838    0.8289   -0.8664 H   0  0  0  0  0  0  0  0  0  0  0  0\\n    2.5102   -0.6372   -0.6311 H   0  0  0  0  0  0  0  0  0  0  0  0\\n  1  2  1  0\\n  1  4  1  0\\n  2  3  1  0\\n  2  5  1  0\\n  2  6  1  0\\n  3  7  1  0\\n  3  8  1  0\\n  3  9  1  0\\n  4 10  1  0\\n  4 12  1  0\\n  4 11  1  0\\nM  END\\n\",\"sdf\");\n",
       "\tviewer_155223306814.setStyle({\"stick\": {}});\n",
       "\tviewer_155223306814.setBackgroundColor(\"0xeeeeee\");\n",
       "\tviewer_155223306814.zoomTo();\n",
       "viewer_155223306814.render();\n",
       "});\n",
       "</script>"
      ]
     },
     "metadata": {},
     "output_type": "display_data"
    },
    {
     "name": "stdout",
     "output_type": "stream",
     "text": [
      "/home/underkoffler.c/Code/Hindered_Rotors/CCOC/From_Workflow\n",
      "\n",
      "\n",
      "CCOC XOBKSJJDNFUZPF-UHFFFAOYSA-N_72by10.0_tor01_a1.log\n",
      "<Torsion \"(3, 0, 1, 5)\">\n",
      "Steps:      72\n",
      "Step Size:  10.0\n",
      "Attempt:    1\n",
      "\n"
     ]
    },
    {
     "data": {
      "image/png": "[encoded data removed]",
      "text/plain": [
       "<Figure size 432x288 with 1 Axes>"
      ]
     },
     "metadata": {
      "needs_background": "light"
     },
     "output_type": "display_data"
    },
    {
     "name": "stdout",
     "output_type": "stream",
     "text": [
      "Continuous:   True\n",
      "\n",
      "Good Slope:   True\n",
      "\n",
      "Lowest Conf:  True\n",
      "=========================================================\n",
      "\n",
      "\n",
      "CCOC XOBKSJJDNFUZPF-UHFFFAOYSA-N_72by10.0_tor01_a2.log\n",
      "CCOC XOBKSJJDNFUZPF-UHFFFAOYSA-N_72by10.0_tor01_a3.log\n",
      "CCOC XOBKSJJDNFUZPF-UHFFFAOYSA-N_72by10.0_tor01_a4.log\n",
      "\n",
      "\n",
      "CCOC XOBKSJJDNFUZPF-UHFFFAOYSA-N_72by10.0_tor03_a1.log\n",
      "<Torsion \"(1, 0, 3, 10)\">\n",
      "Steps:      72\n",
      "Step Size:  10.0\n",
      "Attempt:    1\n",
      "\n"
     ]
    },
    {
     "data": {
      "image/png": "[encoded data removed]",
      "text/plain": [
       "<Figure size 432x288 with 1 Axes>"
      ]
     },
     "metadata": {
      "needs_background": "light"
     },
     "output_type": "display_data"
    },
    {
     "name": "stdout",
     "output_type": "stream",
     "text": [
      "Continuous:   True\n",
      "\n",
      "Good Slope:   True\n",
      "\n",
      "Lowest Conf:  True\n",
      "=========================================================\n",
      "\n",
      "\n",
      "CCOC XOBKSJJDNFUZPF-UHFFFAOYSA-N_72by10.0_tor03_a2.log\n",
      "CCOC XOBKSJJDNFUZPF-UHFFFAOYSA-N_72by10.0_tor03_a3.log\n",
      "CCOC XOBKSJJDNFUZPF-UHFFFAOYSA-N_72by10.0_tor03_a4.log\n",
      "\n",
      "\n",
      "CCOC XOBKSJJDNFUZPF-UHFFFAOYSA-N_72by10.0_tor12_a1.log\n",
      "<Torsion \"(5, 1, 2, 8)\">\n",
      "Steps:      72\n",
      "Step Size:  10.0\n",
      "Attempt:    1\n",
      "\n"
     ]
    },
    {
     "data": {
      "image/png": "[encoded data removed]",
      "text/plain": [
       "<Figure size 432x288 with 1 Axes>"
      ]
     },
     "metadata": {
      "needs_background": "light"
     },
     "output_type": "display_data"
    },
    {
     "name": "stdout",
     "output_type": "stream",
     "text": [
      "Continuous:   True\n",
      "\n",
      "Good Slope:   True\n",
      "\n",
      "Lowest Conf:  True\n",
      "=========================================================\n",
      "\n",
      "\n",
      "CCOC XOBKSJJDNFUZPF-UHFFFAOYSA-N_72by10.0_tor12_a2.log\n",
      "CCOC XOBKSJJDNFUZPF-UHFFFAOYSA-N_72by10.0_tor12_a3.log\n",
      "CCOC XOBKSJJDNFUZPF-UHFFFAOYSA-N_72by10.0_tor12_a4.log\n",
      "===================================================================\n",
      "\n",
      "\n"
     ]
    }
   ],
   "source": [
    "steps = 72\n",
    "step_size = 10.0\n",
    "\n",
    "Conf_list = []\n",
    "\n",
    "Rxn_list = None\n",
    "\n",
    "SMILES_list = [Master_SMILES_list[6]]\n",
    "print SMILES_list\n",
    "\n",
    "scan_progress(steps, step_size, Conf_list, SMILES_list=SMILES_list, Rxn_list=Rxn_list)"
   ]
  },
  {
   "cell_type": "code",
   "execution_count": 13,
   "metadata": {
    "scrolled": true
   },
   "outputs": [
    {
     "name": "stdout",
     "output_type": "stream",
     "text": [
      "['C[CH]OC']\n"
     ]
    },
    {
     "data": {
      "application/3dmoljs_load.v0": "<div id=\"3dmolviewer_155222971613\"  style=\"position: relative; width: 600px; height: 600px\">\n        <p id=\"3dmolwarning_155222971613\" style=\"background-color:#ffcccc;color:black\">You appear to be running in JupyterLab.  You need to install the 3dmol extension: <br>\n        <tt>jupyter labextension install jupyterlab_3dmol</tt></p>\n        </div>\n<script>\n\nvar loadScriptAsync = function(uri){\n  return new Promise((resolve, reject) => {\n    var tag = document.createElement('script');\n    tag.src = uri;\n    tag.async = true;\n    tag.onload = () => {\n      resolve();\n    };\n  var firstScriptTag = document.getElementsByTagName('script')[0];\n  firstScriptTag.parentNode.insertBefore(tag, firstScriptTag);\n});\n};\n\nif(typeof $3Dmolpromise === 'undefined') {\n$3Dmolpromise = null;\n  $3Dmolpromise = loadScriptAsync('https://3dmol.csb.pitt.edu/build/3Dmol.js');\n}\n\nvar viewer_155222971613 = null;\nvar warn = document.getElementById(\"3dmolwarning_155222971613\");\nif(warn) {\n    warn.parentNode.removeChild(warn);\n}\n$3Dmolpromise.then(function() {\nviewer_155222971613 = $3Dmol.createViewer($(\"#3dmolviewer_155222971613\"),{backgroundColor:\"white\"});\n\tviewer_155222971613.addModel(\"\\n     RDKit          3D\\n\\n 11 10  0  0  0  0  0  0  0  0999 V2000\\n   -0.6707   -0.1023   -0.4757 O   0  0  0  0  0  0  0  0  0  0  0  0\\n    1.5973    0.4817   -0.2206 C   0  0  0  0  0  0  0  0  0  0  0  0\\n   -1.7331   -0.1385    0.4022 C   0  0  0  0  0  0  0  0  0  0  0  0\\n    0.5259   -0.5501    0.0818 C   0  0  0  0  0  3  0  0  0  0  0  0\\n    1.1215    1.4378   -0.5389 H   0  0  0  0  0  0  0  0  0  0  0  0\\n    2.1750    0.6128    0.7187 H   0  0  0  0  0  0  0  0  0  0  0  0\\n    2.3044    0.1437   -0.9977 H   0  0  0  0  0  0  0  0  0  0  0  0\\n   -2.5186    0.5324   -0.0300 H   0  0  0  0  0  0  0  0  0  0  0  0\\n   -1.4964    0.2352    1.4153 H   0  0  0  0  0  0  0  0  0  0  0  0\\n   -2.0938   -1.1811    0.5386 H   0  0  0  0  0  0  0  0  0  0  0  0\\n    0.7885   -1.4715   -0.4973 H   0  0  0  0  0  0  0  0  0  0  0  0\\n  1  3  1  0\\n  1  4  1  0\\n  2  7  1  0\\n  2  5  1  0\\n  2  6  1  0\\n  2  4  1  0\\n  3 10  1  0\\n  3  8  1  0\\n  3  9  1  0\\n  4 11  1  0\\nM  RAD  1   4   2\\nM  END\\n\",\"sdf\");\n\tviewer_155222971613.setStyle({\"stick\": {}});\n\tviewer_155222971613.setBackgroundColor(\"0xeeeeee\");\n\tviewer_155222971613.zoomTo();\nviewer_155222971613.render();\n});\n</script>",
      "text/html": [
       "<div id=\"3dmolviewer_155222971613\"  style=\"position: relative; width: 600px; height: 600px\">\n",
       "        <p id=\"3dmolwarning_155222971613\" style=\"background-color:#ffcccc;color:black\">You appear to be running in JupyterLab.  You need to install the 3dmol extension: <br>\n",
       "        <tt>jupyter labextension install jupyterlab_3dmol</tt></p>\n",
       "        </div>\n",
       "<script>\n",
       "\n",
       "var loadScriptAsync = function(uri){\n",
       "  return new Promise((resolve, reject) => {\n",
       "    var tag = document.createElement('script');\n",
       "    tag.src = uri;\n",
       "    tag.async = true;\n",
       "    tag.onload = () => {\n",
       "      resolve();\n",
       "    };\n",
       "  var firstScriptTag = document.getElementsByTagName('script')[0];\n",
       "  firstScriptTag.parentNode.insertBefore(tag, firstScriptTag);\n",
       "});\n",
       "};\n",
       "\n",
       "if(typeof $3Dmolpromise === 'undefined') {\n",
       "$3Dmolpromise = null;\n",
       "  $3Dmolpromise = loadScriptAsync('https://3dmol.csb.pitt.edu/build/3Dmol.js');\n",
       "}\n",
       "\n",
       "var viewer_155222971613 = null;\n",
       "var warn = document.getElementById(\"3dmolwarning_155222971613\");\n",
       "if(warn) {\n",
       "    warn.parentNode.removeChild(warn);\n",
       "}\n",
       "$3Dmolpromise.then(function() {\n",
       "viewer_155222971613 = $3Dmol.createViewer($(\"#3dmolviewer_155222971613\"),{backgroundColor:\"white\"});\n",
       "\tviewer_155222971613.addModel(\"\\n     RDKit          3D\\n\\n 11 10  0  0  0  0  0  0  0  0999 V2000\\n   -0.6707   -0.1023   -0.4757 O   0  0  0  0  0  0  0  0  0  0  0  0\\n    1.5973    0.4817   -0.2206 C   0  0  0  0  0  0  0  0  0  0  0  0\\n   -1.7331   -0.1385    0.4022 C   0  0  0  0  0  0  0  0  0  0  0  0\\n    0.5259   -0.5501    0.0818 C   0  0  0  0  0  3  0  0  0  0  0  0\\n    1.1215    1.4378   -0.5389 H   0  0  0  0  0  0  0  0  0  0  0  0\\n    2.1750    0.6128    0.7187 H   0  0  0  0  0  0  0  0  0  0  0  0\\n    2.3044    0.1437   -0.9977 H   0  0  0  0  0  0  0  0  0  0  0  0\\n   -2.5186    0.5324   -0.0300 H   0  0  0  0  0  0  0  0  0  0  0  0\\n   -1.4964    0.2352    1.4153 H   0  0  0  0  0  0  0  0  0  0  0  0\\n   -2.0938   -1.1811    0.5386 H   0  0  0  0  0  0  0  0  0  0  0  0\\n    0.7885   -1.4715   -0.4973 H   0  0  0  0  0  0  0  0  0  0  0  0\\n  1  3  1  0\\n  1  4  1  0\\n  2  7  1  0\\n  2  5  1  0\\n  2  6  1  0\\n  2  4  1  0\\n  3 10  1  0\\n  3  8  1  0\\n  3  9  1  0\\n  4 11  1  0\\nM  RAD  1   4   2\\nM  END\\n\",\"sdf\");\n",
       "\tviewer_155222971613.setStyle({\"stick\": {}});\n",
       "\tviewer_155222971613.setBackgroundColor(\"0xeeeeee\");\n",
       "\tviewer_155222971613.zoomTo();\n",
       "viewer_155222971613.render();\n",
       "});\n",
       "</script>"
      ]
     },
     "metadata": {},
     "output_type": "display_data"
    },
    {
     "name": "stdout",
     "output_type": "stream",
     "text": [
      "/home/underkoffler.c/Code/Hindered_Rotors/C[CH]OC/From_Workflow\n",
      "\n",
      "\n",
      "C[CH]OC JQCSUVJDBHJKNG-UHFFFAOYSA-N-u3_72by10.0_tor02_a1.log\n",
      "<Torsion \"(3, 0, 2, 8)\">\n",
      "Steps:      72\n",
      "Step Size:  10.0\n",
      "Attempt:    1\n",
      "\n"
     ]
    },
    {
     "data": {
      "image/png": "[encoded data removed]",
      "text/plain": [
       "<Figure size 432x288 with 1 Axes>"
      ]
     },
     "metadata": {
      "needs_background": "light"
     },
     "output_type": "display_data"
    },
    {
     "name": "stdout",
     "output_type": "stream",
     "text": [
      "Continuous:   True\n",
      "\n",
      "Good Slope:   True\n",
      "\n",
      "Lowest Conf:  True\n",
      "=========================================================\n",
      "\n",
      "\n",
      "C[CH]OC JQCSUVJDBHJKNG-UHFFFAOYSA-N-u3_72by10.0_tor02_a2.log\n",
      "C[CH]OC JQCSUVJDBHJKNG-UHFFFAOYSA-N-u3_72by10.0_tor02_a3.log\n",
      "C[CH]OC JQCSUVJDBHJKNG-UHFFFAOYSA-N-u3_72by10.0_tor02_a4.log\n",
      "\n",
      "\n",
      "C[CH]OC JQCSUVJDBHJKNG-UHFFFAOYSA-N-u3_72by10.0_tor03_a1.log\n",
      "<Torsion \"(2, 0, 3, 10)\">\n",
      "Steps:      72\n",
      "Step Size:  10.0\n",
      "Attempt:    1\n",
      "\n"
     ]
    },
    {
     "data": {
      "image/png": "[encoded data removed]",
      "text/plain": [
       "<Figure size 432x288 with 1 Axes>"
      ]
     },
     "metadata": {
      "needs_background": "light"
     },
     "output_type": "display_data"
    },
    {
     "name": "stdout",
     "output_type": "stream",
     "text": [
      "Continuous:   True\n",
      "\n",
      "Good Slope:   False\n",
      "\n",
      "Lowest Conf:  True\n",
      "=========================================================\n",
      "\n",
      "\n",
      "C[CH]OC JQCSUVJDBHJKNG-UHFFFAOYSA-N-u3_72by10.0_tor03_a2.log\n",
      "C[CH]OC JQCSUVJDBHJKNG-UHFFFAOYSA-N-u3_72by10.0_tor03_a3.log\n",
      "C[CH]OC JQCSUVJDBHJKNG-UHFFFAOYSA-N-u3_72by10.0_tor03_a4.log\n",
      "\n",
      "\n",
      "C[CH]OC JQCSUVJDBHJKNG-UHFFFAOYSA-N-u3_72by10.0_tor13_a1.log\n",
      "<Torsion \"(5, 1, 3, 10)\">\n",
      "Steps:      72\n",
      "Step Size:  10.0\n",
      "Attempt:    1\n",
      "\n"
     ]
    },
    {
     "data": {
      "image/png": "[encoded data removed]",
      "text/plain": [
       "<Figure size 432x288 with 1 Axes>"
      ]
     },
     "metadata": {
      "needs_background": "light"
     },
     "output_type": "display_data"
    },
    {
     "name": "stdout",
     "output_type": "stream",
     "text": [
      "Continuous:   True\n",
      "\n",
      "Good Slope:   False\n",
      "\n",
      "Lowest Conf:  True\n",
      "=========================================================\n",
      "\n",
      "\n",
      "C[CH]OC JQCSUVJDBHJKNG-UHFFFAOYSA-N-u3_72by10.0_tor13_a2.log\n",
      "C[CH]OC JQCSUVJDBHJKNG-UHFFFAOYSA-N-u3_72by10.0_tor13_a3.log\n",
      "C[CH]OC JQCSUVJDBHJKNG-UHFFFAOYSA-N-u3_72by10.0_tor13_a4.log\n",
      "===================================================================\n",
      "\n",
      "\n"
     ]
    }
   ],
   "source": [
    "steps = 72\n",
    "step_size = 10.0\n",
    "\n",
    "Conf_list = []\n",
    "\n",
    "Rxn_list = None\n",
    "\n",
    "SMILES_list = [Master_SMILES_list[7]]\n",
    "print SMILES_list\n",
    "\n",
    "scan_progress(steps, step_size, Conf_list, SMILES_list=SMILES_list, Rxn_list=Rxn_list)"
   ]
  },
  {
   "cell_type": "code",
   "execution_count": 36,
   "metadata": {
    "scrolled": true
   },
   "outputs": [
    {
     "name": "stdout",
     "output_type": "stream",
     "text": [
      "['CCO[CH2]']\n"
     ]
    },
    {
     "data": {
      "application/3dmoljs_load.v0": "<div id=\"3dmolviewer_155223307663\"  style=\"position: relative; width: 600px; height: 600px\">\n        <p id=\"3dmolwarning_155223307663\" style=\"background-color:#ffcccc;color:black\">You appear to be running in JupyterLab.  You need to install the 3dmol extension: <br>\n        <tt>jupyter labextension install jupyterlab_3dmol</tt></p>\n        </div>\n<script>\n\nvar loadScriptAsync = function(uri){\n  return new Promise((resolve, reject) => {\n    var tag = document.createElement('script');\n    tag.src = uri;\n    tag.async = true;\n    tag.onload = () => {\n      resolve();\n    };\n  var firstScriptTag = document.getElementsByTagName('script')[0];\n  firstScriptTag.parentNode.insertBefore(tag, firstScriptTag);\n});\n};\n\nif(typeof $3Dmolpromise === 'undefined') {\n$3Dmolpromise = null;\n  $3Dmolpromise = loadScriptAsync('https://3dmol.csb.pitt.edu/build/3Dmol.js');\n}\n\nvar viewer_155223307663 = null;\nvar warn = document.getElementById(\"3dmolwarning_155223307663\");\nif(warn) {\n    warn.parentNode.removeChild(warn);\n}\n$3Dmolpromise.then(function() {\nviewer_155223307663 = $3Dmol.createViewer($(\"#3dmolviewer_155223307663\"),{backgroundColor:\"white\"});\n\tviewer_155223307663.addModel(\"\\n     RDKit          3D\\n\\n 11 10  0  0  0  0  0  0  0  0999 V2000\\n    1.1493   -0.6280   -0.1931 O   0  0  0  0  0  0  0  0  0  0  0  0\\n   -0.2037   -0.8831   -0.2512 C   0  0  0  0  0  0  0  0  0  0  0  0\\n   -1.0704    0.3347   -0.1612 C   0  0  0  0  0  0  0  0  0  0  0  0\\n    1.4784    0.6426    0.2290 C   0  0  0  0  0  3  0  0  0  0  0  0\\n   -0.5069   -1.4613   -1.1603 H   0  0  0  0  0  0  0  0  0  0  0  0\\n   -0.4782   -1.5352    0.6115 H   0  0  0  0  0  0  0  0  0  0  0  0\\n   -2.1258   -0.0183   -0.2881 H   0  0  0  0  0  0  0  0  0  0  0  0\\n   -1.0170    0.8265    0.8307 H   0  0  0  0  0  0  0  0  0  0  0  0\\n   -0.8560    1.0686   -0.9622 H   0  0  0  0  0  0  0  0  0  0  0  0\\n    2.5673    0.7500    0.1357 H   0  0  0  0  0  0  0  0  0  0  0  0\\n    1.0630    0.9036    1.2091 H   0  0  0  0  0  0  0  0  0  0  0  0\\n  1  4  1  0\\n  1  2  1  0\\n  2  6  1  0\\n  2  3  1  0\\n  2  5  1  0\\n  3  7  1  0\\n  3  8  1  0\\n  3  9  1  0\\n  4 10  1  0\\n  4 11  1  0\\nM  RAD  1   4   2\\nM  END\\n\",\"sdf\");\n\tviewer_155223307663.setStyle({\"stick\": {}});\n\tviewer_155223307663.setBackgroundColor(\"0xeeeeee\");\n\tviewer_155223307663.zoomTo();\nviewer_155223307663.render();\n});\n</script>",
      "text/html": [
       "<div id=\"3dmolviewer_155223307663\"  style=\"position: relative; width: 600px; height: 600px\">\n",
       "        <p id=\"3dmolwarning_155223307663\" style=\"background-color:#ffcccc;color:black\">You appear to be running in JupyterLab.  You need to install the 3dmol extension: <br>\n",
       "        <tt>jupyter labextension install jupyterlab_3dmol</tt></p>\n",
       "        </div>\n",
       "<script>\n",
       "\n",
       "var loadScriptAsync = function(uri){\n",
       "  return new Promise((resolve, reject) => {\n",
       "    var tag = document.createElement('script');\n",
       "    tag.src = uri;\n",
       "    tag.async = true;\n",
       "    tag.onload = () => {\n",
       "      resolve();\n",
       "    };\n",
       "  var firstScriptTag = document.getElementsByTagName('script')[0];\n",
       "  firstScriptTag.parentNode.insertBefore(tag, firstScriptTag);\n",
       "});\n",
       "};\n",
       "\n",
       "if(typeof $3Dmolpromise === 'undefined') {\n",
       "$3Dmolpromise = null;\n",
       "  $3Dmolpromise = loadScriptAsync('https://3dmol.csb.pitt.edu/build/3Dmol.js');\n",
       "}\n",
       "\n",
       "var viewer_155223307663 = null;\n",
       "var warn = document.getElementById(\"3dmolwarning_155223307663\");\n",
       "if(warn) {\n",
       "    warn.parentNode.removeChild(warn);\n",
       "}\n",
       "$3Dmolpromise.then(function() {\n",
       "viewer_155223307663 = $3Dmol.createViewer($(\"#3dmolviewer_155223307663\"),{backgroundColor:\"white\"});\n",
       "\tviewer_155223307663.addModel(\"\\n     RDKit          3D\\n\\n 11 10  0  0  0  0  0  0  0  0999 V2000\\n    1.1493   -0.6280   -0.1931 O   0  0  0  0  0  0  0  0  0  0  0  0\\n   -0.2037   -0.8831   -0.2512 C   0  0  0  0  0  0  0  0  0  0  0  0\\n   -1.0704    0.3347   -0.1612 C   0  0  0  0  0  0  0  0  0  0  0  0\\n    1.4784    0.6426    0.2290 C   0  0  0  0  0  3  0  0  0  0  0  0\\n   -0.5069   -1.4613   -1.1603 H   0  0  0  0  0  0  0  0  0  0  0  0\\n   -0.4782   -1.5352    0.6115 H   0  0  0  0  0  0  0  0  0  0  0  0\\n   -2.1258   -0.0183   -0.2881 H   0  0  0  0  0  0  0  0  0  0  0  0\\n   -1.0170    0.8265    0.8307 H   0  0  0  0  0  0  0  0  0  0  0  0\\n   -0.8560    1.0686   -0.9622 H   0  0  0  0  0  0  0  0  0  0  0  0\\n    2.5673    0.7500    0.1357 H   0  0  0  0  0  0  0  0  0  0  0  0\\n    1.0630    0.9036    1.2091 H   0  0  0  0  0  0  0  0  0  0  0  0\\n  1  4  1  0\\n  1  2  1  0\\n  2  6  1  0\\n  2  3  1  0\\n  2  5  1  0\\n  3  7  1  0\\n  3  8  1  0\\n  3  9  1  0\\n  4 10  1  0\\n  4 11  1  0\\nM  RAD  1   4   2\\nM  END\\n\",\"sdf\");\n",
       "\tviewer_155223307663.setStyle({\"stick\": {}});\n",
       "\tviewer_155223307663.setBackgroundColor(\"0xeeeeee\");\n",
       "\tviewer_155223307663.zoomTo();\n",
       "viewer_155223307663.render();\n",
       "});\n",
       "</script>"
      ]
     },
     "metadata": {},
     "output_type": "display_data"
    },
    {
     "name": "stdout",
     "output_type": "stream",
     "text": [
      "/home/underkoffler.c/Code/Hindered_Rotors/CCO[CH2]/From_Workflow\n",
      "\n",
      "CCO[CH2] TVFRQKHUZDMLDB-UHFFFAOYSA-N_72by10.0_tor03_a1.log\n",
      "CCO[CH2] TVFRQKHUZDMLDB-UHFFFAOYSA-N_72by10.0_tor03_a2.log\n",
      "CCO[CH2] TVFRQKHUZDMLDB-UHFFFAOYSA-N_72by10.0_tor03_a3.log\n",
      "CCO[CH2] TVFRQKHUZDMLDB-UHFFFAOYSA-N_72by10.0_tor03_a4.log\n",
      "\n",
      "\n",
      "CCO[CH2] TVFRQKHUZDMLDB-UHFFFAOYSA-N_72by10.0_tor01_a1.log\n",
      "<Torsion \"(3, 0, 1, 4)\">\n",
      "Steps:      72\n",
      "Step Size:  10.0\n",
      "Attempt:    1\n",
      "\n"
     ]
    },
    {
     "data": {
      "image/png": "[encoded data removed]",
      "text/plain": [
       "<Figure size 432x288 with 1 Axes>"
      ]
     },
     "metadata": {
      "needs_background": "light"
     },
     "output_type": "display_data"
    },
    {
     "name": "stdout",
     "output_type": "stream",
     "text": [
      "Continuous:   True\n",
      "\n",
      "Good Slope:   True\n",
      "\n",
      "Lowest Conf:  False\n",
      "=========================================================\n",
      "\n",
      "\n",
      "CCO[CH2] TVFRQKHUZDMLDB-UHFFFAOYSA-N_72by10.0_tor01_a2.log\n",
      "CCO[CH2] TVFRQKHUZDMLDB-UHFFFAOYSA-N_72by10.0_tor01_a3.log\n",
      "CCO[CH2] TVFRQKHUZDMLDB-UHFFFAOYSA-N_72by10.0_tor01_a4.log\n",
      "\n",
      "\n",
      "CCO[CH2] TVFRQKHUZDMLDB-UHFFFAOYSA-N_72by10.0_tor12_a1.log\n",
      "<Torsion \"(4, 1, 2, 8)\">\n",
      "Steps:      72\n",
      "Step Size:  10.0\n",
      "Attempt:    1\n",
      "\n"
     ]
    },
    {
     "data": {
      "image/png": "[encoded data removed]",
      "text/plain": [
       "<Figure size 432x288 with 1 Axes>"
      ]
     },
     "metadata": {
      "needs_background": "light"
     },
     "output_type": "display_data"
    },
    {
     "name": "stdout",
     "output_type": "stream",
     "text": [
      "Continuous:   True\n",
      "\n",
      "Good Slope:   True\n",
      "\n",
      "Lowest Conf:  True\n",
      "=========================================================\n",
      "\n",
      "\n",
      "CCO[CH2] TVFRQKHUZDMLDB-UHFFFAOYSA-N_72by10.0_tor12_a2.log\n",
      "CCO[CH2] TVFRQKHUZDMLDB-UHFFFAOYSA-N_72by10.0_tor12_a3.log\n",
      "CCO[CH2] TVFRQKHUZDMLDB-UHFFFAOYSA-N_72by10.0_tor12_a4.log\n",
      "===================================================================\n",
      "\n",
      "\n"
     ]
    }
   ],
   "source": [
    "steps = 72\n",
    "step_size = 10.0\n",
    "\n",
    "Conf_list = []\n",
    "\n",
    "Rxn_list = None\n",
    "\n",
    "SMILES_list = [Master_SMILES_list[8]]\n",
    "print SMILES_list\n",
    "\n",
    "scan_progress(steps, step_size, Conf_list, SMILES_list=SMILES_list, Rxn_list=Rxn_list)"
   ]
  },
  {
   "cell_type": "code",
   "execution_count": 49,
   "metadata": {
    "scrolled": false
   },
   "outputs": [
    {
     "name": "stdout",
     "output_type": "stream",
     "text": [
      "['[CH2]COC']\n"
     ]
    },
    {
     "data": {
      "application/3dmoljs_load.v0": "<div id=\"3dmolviewer_155223492183\"  style=\"position: relative; width: 600px; height: 600px\">\n        <p id=\"3dmolwarning_155223492183\" style=\"background-color:#ffcccc;color:black\">You appear to be running in JupyterLab.  You need to install the 3dmol extension: <br>\n        <tt>jupyter labextension install jupyterlab_3dmol</tt></p>\n        </div>\n<script>\n\nvar loadScriptAsync = function(uri){\n  return new Promise((resolve, reject) => {\n    var tag = document.createElement('script');\n    tag.src = uri;\n    tag.async = true;\n    tag.onload = () => {\n      resolve();\n    };\n  var firstScriptTag = document.getElementsByTagName('script')[0];\n  firstScriptTag.parentNode.insertBefore(tag, firstScriptTag);\n});\n};\n\nif(typeof $3Dmolpromise === 'undefined') {\n$3Dmolpromise = null;\n  $3Dmolpromise = loadScriptAsync('https://3dmol.csb.pitt.edu/build/3Dmol.js');\n}\n\nvar viewer_155223492183 = null;\nvar warn = document.getElementById(\"3dmolwarning_155223492183\");\nif(warn) {\n    warn.parentNode.removeChild(warn);\n}\n$3Dmolpromise.then(function() {\nviewer_155223492183 = $3Dmol.createViewer($(\"#3dmolviewer_155223492183\"),{backgroundColor:\"white\"});\n\tviewer_155223492183.addModel(\"\\n     RDKit          3D\\n\\n 11 10  0  0  0  0  0  0  0  0999 V2000\\n    0.7802   -0.3578   -0.6601 O   0  0  0  0  0  0  0  0  0  0  0  0\\n   -0.4260   -0.7829   -0.1276 C   0  0  0  0  0  0  0  0  0  0  0  0\\n    1.4318    0.5925    0.0991 C   0  0  0  0  0  0  0  0  0  0  0  0\\n   -1.4752    0.2896   -0.0771 C   0  0  0  0  0  3  0  0  0  0  0  0\\n   -0.3063   -1.3040    0.8510 H   0  0  0  0  0  0  0  0  0  0  0  0\\n   -0.8201   -1.5519   -0.8404 H   0  0  0  0  0  0  0  0  0  0  0  0\\n    1.2989    1.6311   -0.2977 H   0  0  0  0  0  0  0  0  0  0  0  0\\n    1.1862    0.5404    1.1853 H   0  0  0  0  0  0  0  0  0  0  0  0\\n    2.5263    0.3688    0.0259 H   0  0  0  0  0  0  0  0  0  0  0  0\\n   -2.1139    0.2871   -0.9959 H   0  0  0  0  0  0  0  0  0  0  0  0\\n   -2.0820    0.2872    0.8375 H   0  0  0  0  0  0  0  0  0  0  0  0\\n  1  2  1  0\\n  1  3  1  0\\n  2  6  1  0\\n  2  4  1  0\\n  2  5  1  0\\n  3  9  1  0\\n  3  8  1  0\\n  3  7  1  0\\n  4 11  1  0\\n  4 10  1  0\\nM  RAD  1   4   2\\nM  END\\n\",\"sdf\");\n\tviewer_155223492183.setStyle({\"stick\": {}});\n\tviewer_155223492183.setBackgroundColor(\"0xeeeeee\");\n\tviewer_155223492183.zoomTo();\nviewer_155223492183.render();\n});\n</script>",
      "text/html": [
       "<div id=\"3dmolviewer_155223492183\"  style=\"position: relative; width: 600px; height: 600px\">\n",
       "        <p id=\"3dmolwarning_155223492183\" style=\"background-color:#ffcccc;color:black\">You appear to be running in JupyterLab.  You need to install the 3dmol extension: <br>\n",
       "        <tt>jupyter labextension install jupyterlab_3dmol</tt></p>\n",
       "        </div>\n",
       "<script>\n",
       "\n",
       "var loadScriptAsync = function(uri){\n",
       "  return new Promise((resolve, reject) => {\n",
       "    var tag = document.createElement('script');\n",
       "    tag.src = uri;\n",
       "    tag.async = true;\n",
       "    tag.onload = () => {\n",
       "      resolve();\n",
       "    };\n",
       "  var firstScriptTag = document.getElementsByTagName('script')[0];\n",
       "  firstScriptTag.parentNode.insertBefore(tag, firstScriptTag);\n",
       "});\n",
       "};\n",
       "\n",
       "if(typeof $3Dmolpromise === 'undefined') {\n",
       "$3Dmolpromise = null;\n",
       "  $3Dmolpromise = loadScriptAsync('https://3dmol.csb.pitt.edu/build/3Dmol.js');\n",
       "}\n",
       "\n",
       "var viewer_155223492183 = null;\n",
       "var warn = document.getElementById(\"3dmolwarning_155223492183\");\n",
       "if(warn) {\n",
       "    warn.parentNode.removeChild(warn);\n",
       "}\n",
       "$3Dmolpromise.then(function() {\n",
       "viewer_155223492183 = $3Dmol.createViewer($(\"#3dmolviewer_155223492183\"),{backgroundColor:\"white\"});\n",
       "\tviewer_155223492183.addModel(\"\\n     RDKit          3D\\n\\n 11 10  0  0  0  0  0  0  0  0999 V2000\\n    0.7802   -0.3578   -0.6601 O   0  0  0  0  0  0  0  0  0  0  0  0\\n   -0.4260   -0.7829   -0.1276 C   0  0  0  0  0  0  0  0  0  0  0  0\\n    1.4318    0.5925    0.0991 C   0  0  0  0  0  0  0  0  0  0  0  0\\n   -1.4752    0.2896   -0.0771 C   0  0  0  0  0  3  0  0  0  0  0  0\\n   -0.3063   -1.3040    0.8510 H   0  0  0  0  0  0  0  0  0  0  0  0\\n   -0.8201   -1.5519   -0.8404 H   0  0  0  0  0  0  0  0  0  0  0  0\\n    1.2989    1.6311   -0.2977 H   0  0  0  0  0  0  0  0  0  0  0  0\\n    1.1862    0.5404    1.1853 H   0  0  0  0  0  0  0  0  0  0  0  0\\n    2.5263    0.3688    0.0259 H   0  0  0  0  0  0  0  0  0  0  0  0\\n   -2.1139    0.2871   -0.9959 H   0  0  0  0  0  0  0  0  0  0  0  0\\n   -2.0820    0.2872    0.8375 H   0  0  0  0  0  0  0  0  0  0  0  0\\n  1  2  1  0\\n  1  3  1  0\\n  2  6  1  0\\n  2  4  1  0\\n  2  5  1  0\\n  3  9  1  0\\n  3  8  1  0\\n  3  7  1  0\\n  4 11  1  0\\n  4 10  1  0\\nM  RAD  1   4   2\\nM  END\\n\",\"sdf\");\n",
       "\tviewer_155223492183.setStyle({\"stick\": {}});\n",
       "\tviewer_155223492183.setBackgroundColor(\"0xeeeeee\");\n",
       "\tviewer_155223492183.zoomTo();\n",
       "viewer_155223492183.render();\n",
       "});\n",
       "</script>"
      ]
     },
     "metadata": {},
     "output_type": "display_data"
    },
    {
     "name": "stdout",
     "output_type": "stream",
     "text": [
      "/home/underkoffler.c/Code/Hindered_Rotors/[CH2]COC/From_Workflow\n",
      "\n",
      "[CH2]COC ZMAYDFGNKOVZRH-UHFFFAOYSA-N_72by10.0_tor01_a1.log\n",
      "[CH2]COC ZMAYDFGNKOVZRH-UHFFFAOYSA-N_72by10.0_tor01_a2.log\n",
      "[CH2]COC ZMAYDFGNKOVZRH-UHFFFAOYSA-N_72by10.0_tor01_a3.log\n",
      "[CH2]COC ZMAYDFGNKOVZRH-UHFFFAOYSA-N_72by10.0_tor01_a4.log\n",
      "\n",
      "\n",
      "[CH2]COC ZMAYDFGNKOVZRH-UHFFFAOYSA-N_72by10.0_tor02_a1.log\n",
      "<Torsion \"(1, 0, 2, 6)\">\n",
      "Steps:      72\n",
      "Step Size:  10.0\n",
      "Attempt:    1\n",
      "\n"
     ]
    },
    {
     "data": {
      "image/png": "[encoded data removed]",
      "text/plain": [
       "<Figure size 432x288 with 1 Axes>"
      ]
     },
     "metadata": {
      "needs_background": "light"
     },
     "output_type": "display_data"
    },
    {
     "name": "stdout",
     "output_type": "stream",
     "text": [
      "Continuous:   True\n",
      "\n",
      "Good Slope:   True\n",
      "\n",
      "Lowest Conf:  True\n",
      "=========================================================\n",
      "\n",
      "\n",
      "[CH2]COC ZMAYDFGNKOVZRH-UHFFFAOYSA-N_72by10.0_tor02_a2.log\n",
      "[CH2]COC ZMAYDFGNKOVZRH-UHFFFAOYSA-N_72by10.0_tor02_a3.log\n",
      "[CH2]COC ZMAYDFGNKOVZRH-UHFFFAOYSA-N_72by10.0_tor02_a4.log\n",
      "\n",
      "[CH2]COC ZMAYDFGNKOVZRH-UHFFFAOYSA-N_72by10.0_tor13_a1.log\n",
      "[CH2]COC ZMAYDFGNKOVZRH-UHFFFAOYSA-N_72by10.0_tor13_a2.log\n",
      "[CH2]COC ZMAYDFGNKOVZRH-UHFFFAOYSA-N_72by10.0_tor13_a3.log\n",
      "[CH2]COC ZMAYDFGNKOVZRH-UHFFFAOYSA-N_72by10.0_tor13_a4.log\n",
      "===================================================================\n",
      "\n",
      "\n"
     ]
    }
   ],
   "source": [
    "steps = 72\n",
    "step_size = 10.0\n",
    "\n",
    "Conf_list = []\n",
    "\n",
    "Rxn_list = None\n",
    "\n",
    "SMILES_list = [Master_SMILES_list[9]]\n",
    "print SMILES_list\n",
    "\n",
    "scan_progress(steps, step_size, Conf_list, SMILES_list=SMILES_list, Rxn_list=Rxn_list)"
   ]
  },
  {
   "cell_type": "code",
   "execution_count": 50,
   "metadata": {
    "scrolled": true
   },
   "outputs": [
    {
     "name": "stdout",
     "output_type": "stream",
     "text": [
      "['COC(C)C']\n"
     ]
    },
    {
     "data": {
      "application/3dmoljs_load.v0": "<div id=\"3dmolviewer_155223496371\"  style=\"position: relative; width: 600px; height: 600px\">\n        <p id=\"3dmolwarning_155223496371\" style=\"background-color:#ffcccc;color:black\">You appear to be running in JupyterLab.  You need to install the 3dmol extension: <br>\n        <tt>jupyter labextension install jupyterlab_3dmol</tt></p>\n        </div>\n<script>\n\nvar loadScriptAsync = function(uri){\n  return new Promise((resolve, reject) => {\n    var tag = document.createElement('script');\n    tag.src = uri;\n    tag.async = true;\n    tag.onload = () => {\n      resolve();\n    };\n  var firstScriptTag = document.getElementsByTagName('script')[0];\n  firstScriptTag.parentNode.insertBefore(tag, firstScriptTag);\n});\n};\n\nif(typeof $3Dmolpromise === 'undefined') {\n$3Dmolpromise = null;\n  $3Dmolpromise = loadScriptAsync('https://3dmol.csb.pitt.edu/build/3Dmol.js');\n}\n\nvar viewer_155223496371 = null;\nvar warn = document.getElementById(\"3dmolwarning_155223496371\");\nif(warn) {\n    warn.parentNode.removeChild(warn);\n}\n$3Dmolpromise.then(function() {\nviewer_155223496371 = $3Dmol.createViewer($(\"#3dmolviewer_155223496371\"),{backgroundColor:\"white\"});\n\tviewer_155223496371.addModel(\"\\n     RDKit          3D\\n\\n 15 14  0  0  0  0  0  0  0  0999 V2000\\n    0.5892   -0.9423   -0.1383 O   0  0  0  0  0  0  0  0  0  0  0  0\\n   -0.3697    0.0444   -0.2470 C   0  0  0  0  0  0  0  0  0  0  0  0\\n   -1.7365   -0.5929   -0.2413 C   0  0  0  0  0  0  0  0  0  0  0  0\\n   -0.1794    1.0499    0.8578 C   0  0  0  0  0  0  0  0  0  0  0  0\\n    1.8787   -0.5113   -0.3593 C   0  0  0  0  0  0  0  0  0  0  0  0\\n   -0.2535    0.6085   -1.2064 H   0  0  0  0  0  0  0  0  0  0  0  0\\n   -2.3150   -0.3274   -1.1625 H   0  0  0  0  0  0  0  0  0  0  0  0\\n   -2.3034   -0.1994    0.6219 H   0  0  0  0  0  0  0  0  0  0  0  0\\n   -1.6864   -1.7115   -0.2172 H   0  0  0  0  0  0  0  0  0  0  0  0\\n    0.6468    1.7259    0.5590 H   0  0  0  0  0  0  0  0  0  0  0  0\\n   -1.1274    1.6075    0.9585 H   0  0  0  0  0  0  0  0  0  0  0  0\\n    0.0783    0.5911    1.8266 H   0  0  0  0  0  0  0  0  0  0  0  0\\n    2.3779   -1.2224   -1.0632 H   0  0  0  0  0  0  0  0  0  0  0  0\\n    1.9665    0.4942   -0.7911 H   0  0  0  0  0  0  0  0  0  0  0  0\\n    2.4339   -0.6144    0.6024 H   0  0  0  0  0  0  0  0  0  0  0  0\\n  1  2  1  0\\n  1  5  1  0\\n  2  6  1  0\\n  2  3  1  0\\n  2  4  1  0\\n  3  7  1  0\\n  3  8  1  0\\n  3  9  1  0\\n  4 10  1  0\\n  4 11  1  0\\n  4 12  1  0\\n  5 15  1  0\\n  5 14  1  0\\n  5 13  1  0\\nM  END\\n\",\"sdf\");\n\tviewer_155223496371.setStyle({\"stick\": {}});\n\tviewer_155223496371.setBackgroundColor(\"0xeeeeee\");\n\tviewer_155223496371.zoomTo();\nviewer_155223496371.render();\n});\n</script>",
      "text/html": [
       "<div id=\"3dmolviewer_155223496371\"  style=\"position: relative; width: 600px; height: 600px\">\n",
       "        <p id=\"3dmolwarning_155223496371\" style=\"background-color:#ffcccc;color:black\">You appear to be running in JupyterLab.  You need to install the 3dmol extension: <br>\n",
       "        <tt>jupyter labextension install jupyterlab_3dmol</tt></p>\n",
       "        </div>\n",
       "<script>\n",
       "\n",
       "var loadScriptAsync = function(uri){\n",
       "  return new Promise((resolve, reject) => {\n",
       "    var tag = document.createElement('script');\n",
       "    tag.src = uri;\n",
       "    tag.async = true;\n",
       "    tag.onload = () => {\n",
       "      resolve();\n",
       "    };\n",
       "  var firstScriptTag = document.getElementsByTagName('script')[0];\n",
       "  firstScriptTag.parentNode.insertBefore(tag, firstScriptTag);\n",
       "});\n",
       "};\n",
       "\n",
       "if(typeof $3Dmolpromise === 'undefined') {\n",
       "$3Dmolpromise = null;\n",
       "  $3Dmolpromise = loadScriptAsync('https://3dmol.csb.pitt.edu/build/3Dmol.js');\n",
       "}\n",
       "\n",
       "var viewer_155223496371 = null;\n",
       "var warn = document.getElementById(\"3dmolwarning_155223496371\");\n",
       "if(warn) {\n",
       "    warn.parentNode.removeChild(warn);\n",
       "}\n",
       "$3Dmolpromise.then(function() {\n",
       "viewer_155223496371 = $3Dmol.createViewer($(\"#3dmolviewer_155223496371\"),{backgroundColor:\"white\"});\n",
       "\tviewer_155223496371.addModel(\"\\n     RDKit          3D\\n\\n 15 14  0  0  0  0  0  0  0  0999 V2000\\n    0.5892   -0.9423   -0.1383 O   0  0  0  0  0  0  0  0  0  0  0  0\\n   -0.3697    0.0444   -0.2470 C   0  0  0  0  0  0  0  0  0  0  0  0\\n   -1.7365   -0.5929   -0.2413 C   0  0  0  0  0  0  0  0  0  0  0  0\\n   -0.1794    1.0499    0.8578 C   0  0  0  0  0  0  0  0  0  0  0  0\\n    1.8787   -0.5113   -0.3593 C   0  0  0  0  0  0  0  0  0  0  0  0\\n   -0.2535    0.6085   -1.2064 H   0  0  0  0  0  0  0  0  0  0  0  0\\n   -2.3150   -0.3274   -1.1625 H   0  0  0  0  0  0  0  0  0  0  0  0\\n   -2.3034   -0.1994    0.6219 H   0  0  0  0  0  0  0  0  0  0  0  0\\n   -1.6864   -1.7115   -0.2172 H   0  0  0  0  0  0  0  0  0  0  0  0\\n    0.6468    1.7259    0.5590 H   0  0  0  0  0  0  0  0  0  0  0  0\\n   -1.1274    1.6075    0.9585 H   0  0  0  0  0  0  0  0  0  0  0  0\\n    0.0783    0.5911    1.8266 H   0  0  0  0  0  0  0  0  0  0  0  0\\n    2.3779   -1.2224   -1.0632 H   0  0  0  0  0  0  0  0  0  0  0  0\\n    1.9665    0.4942   -0.7911 H   0  0  0  0  0  0  0  0  0  0  0  0\\n    2.4339   -0.6144    0.6024 H   0  0  0  0  0  0  0  0  0  0  0  0\\n  1  2  1  0\\n  1  5  1  0\\n  2  6  1  0\\n  2  3  1  0\\n  2  4  1  0\\n  3  7  1  0\\n  3  8  1  0\\n  3  9  1  0\\n  4 10  1  0\\n  4 11  1  0\\n  4 12  1  0\\n  5 15  1  0\\n  5 14  1  0\\n  5 13  1  0\\nM  END\\n\",\"sdf\");\n",
       "\tviewer_155223496371.setStyle({\"stick\": {}});\n",
       "\tviewer_155223496371.setBackgroundColor(\"0xeeeeee\");\n",
       "\tviewer_155223496371.zoomTo();\n",
       "viewer_155223496371.render();\n",
       "});\n",
       "</script>"
      ]
     },
     "metadata": {},
     "output_type": "display_data"
    },
    {
     "name": "stdout",
     "output_type": "stream",
     "text": [
      "/home/underkoffler.c/Code/Hindered_Rotors/COC(C)C/From_Workflow\n",
      "\n",
      "\n",
      "COC(C)C RMGHERXMTMUMMV-UHFFFAOYSA-N_72by10.0_tor01_a1.log\n",
      "<Torsion \"(4, 0, 1, 3)\">\n",
      "Steps:      72\n",
      "Step Size:  10.0\n",
      "Attempt:    1\n",
      "\n"
     ]
    },
    {
     "data": {
      "image/png": "[encoded data removed]",
      "text/plain": [
       "<Figure size 432x288 with 1 Axes>"
      ]
     },
     "metadata": {
      "needs_background": "light"
     },
     "output_type": "display_data"
    },
    {
     "name": "stdout",
     "output_type": "stream",
     "text": [
      "Continuous:   True\n",
      "\n",
      "Good Slope:   True\n",
      "\n",
      "Lowest Conf:  True\n",
      "=========================================================\n",
      "\n",
      "\n",
      "COC(C)C RMGHERXMTMUMMV-UHFFFAOYSA-N_72by10.0_tor01_a2.log\n",
      "COC(C)C RMGHERXMTMUMMV-UHFFFAOYSA-N_72by10.0_tor01_a3.log\n",
      "COC(C)C RMGHERXMTMUMMV-UHFFFAOYSA-N_72by10.0_tor01_a4.log\n",
      "\n",
      "\n",
      "COC(C)C RMGHERXMTMUMMV-UHFFFAOYSA-N_72by10.0_tor04_a1.log\n",
      "<Torsion \"(1, 0, 4, 12)\">\n",
      "Steps:      72\n",
      "Step Size:  10.0\n",
      "Attempt:    1\n",
      "\n"
     ]
    },
    {
     "data": {
      "image/png": "[encoded data removed]",
      "text/plain": [
       "<Figure size 432x288 with 1 Axes>"
      ]
     },
     "metadata": {
      "needs_background": "light"
     },
     "output_type": "display_data"
    },
    {
     "name": "stdout",
     "output_type": "stream",
     "text": [
      "Continuous:   True\n",
      "\n",
      "Good Slope:   True\n",
      "\n",
      "Lowest Conf:  True\n",
      "=========================================================\n",
      "\n",
      "\n",
      "COC(C)C RMGHERXMTMUMMV-UHFFFAOYSA-N_72by10.0_tor04_a2.log\n",
      "COC(C)C RMGHERXMTMUMMV-UHFFFAOYSA-N_72by10.0_tor04_a3.log\n",
      "COC(C)C RMGHERXMTMUMMV-UHFFFAOYSA-N_72by10.0_tor04_a4.log\n",
      "\n",
      "\n",
      "COC(C)C RMGHERXMTMUMMV-UHFFFAOYSA-N_72by10.0_tor12_a1.log\n",
      "<Torsion \"(3, 1, 2, 8)\">\n",
      "Steps:      72\n",
      "Step Size:  10.0\n",
      "Attempt:    1\n",
      "\n"
     ]
    },
    {
     "data": {
      "image/png": "[encoded data removed]",
      "text/plain": [
       "<Figure size 432x288 with 1 Axes>"
      ]
     },
     "metadata": {
      "needs_background": "light"
     },
     "output_type": "display_data"
    },
    {
     "name": "stdout",
     "output_type": "stream",
     "text": [
      "Continuous:   True\n",
      "\n",
      "Good Slope:   True\n",
      "\n",
      "Lowest Conf:  True\n",
      "=========================================================\n",
      "\n",
      "\n",
      "COC(C)C RMGHERXMTMUMMV-UHFFFAOYSA-N_72by10.0_tor12_a2.log\n",
      "COC(C)C RMGHERXMTMUMMV-UHFFFAOYSA-N_72by10.0_tor12_a3.log\n",
      "COC(C)C RMGHERXMTMUMMV-UHFFFAOYSA-N_72by10.0_tor12_a4.log\n",
      "\n",
      "\n",
      "COC(C)C RMGHERXMTMUMMV-UHFFFAOYSA-N_72by10.0_tor13_a1.log\n",
      "<Torsion \"(2, 1, 3, 11)\">\n",
      "Steps:      72\n",
      "Step Size:  10.0\n",
      "Attempt:    1\n",
      "\n"
     ]
    },
    {
     "data": {
      "image/png": "[encoded data removed]",
      "text/plain": [
       "<Figure size 432x288 with 1 Axes>"
      ]
     },
     "metadata": {
      "needs_background": "light"
     },
     "output_type": "display_data"
    },
    {
     "name": "stdout",
     "output_type": "stream",
     "text": [
      "Continuous:   True\n",
      "\n",
      "Good Slope:   True\n",
      "\n",
      "Lowest Conf:  True\n",
      "=========================================================\n",
      "\n",
      "\n",
      "COC(C)C RMGHERXMTMUMMV-UHFFFAOYSA-N_72by10.0_tor13_a2.log\n",
      "COC(C)C RMGHERXMTMUMMV-UHFFFAOYSA-N_72by10.0_tor13_a3.log\n",
      "COC(C)C RMGHERXMTMUMMV-UHFFFAOYSA-N_72by10.0_tor13_a4.log\n",
      "===================================================================\n",
      "\n",
      "\n"
     ]
    }
   ],
   "source": [
    "steps = 72\n",
    "step_size = 10.0\n",
    "\n",
    "Conf_list = []\n",
    "\n",
    "Rxn_list = None\n",
    "\n",
    "SMILES_list = [Master_SMILES_list[10]]\n",
    "print SMILES_list\n",
    "\n",
    "scan_progress(steps, step_size, Conf_list, SMILES_list=SMILES_list, Rxn_list=Rxn_list)"
   ]
  },
  {
   "cell_type": "code",
   "execution_count": 51,
   "metadata": {
    "scrolled": true
   },
   "outputs": [
    {
     "name": "stdout",
     "output_type": "stream",
     "text": [
      "['CO[C](C)C']\n"
     ]
    },
    {
     "data": {
      "application/3dmoljs_load.v0": "<div id=\"3dmolviewer_15522349839\"  style=\"position: relative; width: 600px; height: 600px\">\n        <p id=\"3dmolwarning_15522349839\" style=\"background-color:#ffcccc;color:black\">You appear to be running in JupyterLab.  You need to install the 3dmol extension: <br>\n        <tt>jupyter labextension install jupyterlab_3dmol</tt></p>\n        </div>\n<script>\n\nvar loadScriptAsync = function(uri){\n  return new Promise((resolve, reject) => {\n    var tag = document.createElement('script');\n    tag.src = uri;\n    tag.async = true;\n    tag.onload = () => {\n      resolve();\n    };\n  var firstScriptTag = document.getElementsByTagName('script')[0];\n  firstScriptTag.parentNode.insertBefore(tag, firstScriptTag);\n});\n};\n\nif(typeof $3Dmolpromise === 'undefined') {\n$3Dmolpromise = null;\n  $3Dmolpromise = loadScriptAsync('https://3dmol.csb.pitt.edu/build/3Dmol.js');\n}\n\nvar viewer_15522349839 = null;\nvar warn = document.getElementById(\"3dmolwarning_15522349839\");\nif(warn) {\n    warn.parentNode.removeChild(warn);\n}\n$3Dmolpromise.then(function() {\nviewer_15522349839 = $3Dmol.createViewer($(\"#3dmolviewer_15522349839\"),{backgroundColor:\"white\"});\n\tviewer_15522349839.addModel(\"\\n     RDKit          3D\\n\\n 14 13  0  0  0  0  0  0  0  0999 V2000\\n    0.8718    0.5819   -0.5847 O   0  0  0  0  0  0  0  0  0  0  0  0\\n   -0.6639   -1.2849   -0.3976 C   0  0  0  0  0  0  0  0  0  0  0  0\\n   -1.3792    1.0744    0.1511 C   0  0  0  0  0  0  0  0  0  0  0  0\\n    1.9545    0.2086    0.2054 C   0  0  0  0  0  0  0  0  0  0  0  0\\n   -0.2868    0.0981   -0.0551 C   0  0  0  0  0  3  0  0  0  0  0  0\\n    0.0183   -1.9757    0.1599 H   0  0  0  0  0  0  0  0  0  0  0  0\\n   -0.6217   -1.5681   -1.4535 H   0  0  0  0  0  0  0  0  0  0  0  0\\n   -1.6749   -1.4918    0.0143 H   0  0  0  0  0  0  0  0  0  0  0  0\\n   -1.0482    1.8182    0.9191 H   0  0  0  0  0  0  0  0  0  0  0  0\\n   -2.2604    0.5656    0.5617 H   0  0  0  0  0  0  0  0  0  0  0  0\\n   -1.7068    1.6288   -0.7445 H   0  0  0  0  0  0  0  0  0  0  0  0\\n    2.2372   -0.8491   -0.0105 H   0  0  0  0  0  0  0  0  0  0  0  0\\n    2.8028    0.8891   -0.0542 H   0  0  0  0  0  0  0  0  0  0  0  0\\n    1.7571    0.3048    1.2887 H   0  0  0  0  0  0  0  0  0  0  0  0\\n  1  4  1  0\\n  1  5  1  0\\n  2  5  1  0\\n  2  8  1  0\\n  2  7  1  0\\n  2  6  1  0\\n  3  9  1  0\\n  3 11  1  0\\n  3  5  1  0\\n  3 10  1  0\\n  4 12  1  0\\n  4 14  1  0\\n  4 13  1  0\\nM  RAD  1   5   2\\nM  END\\n\",\"sdf\");\n\tviewer_15522349839.setStyle({\"stick\": {}});\n\tviewer_15522349839.setBackgroundColor(\"0xeeeeee\");\n\tviewer_15522349839.zoomTo();\nviewer_15522349839.render();\n});\n</script>",
      "text/html": [
       "<div id=\"3dmolviewer_15522349839\"  style=\"position: relative; width: 600px; height: 600px\">\n",
       "        <p id=\"3dmolwarning_15522349839\" style=\"background-color:#ffcccc;color:black\">You appear to be running in JupyterLab.  You need to install the 3dmol extension: <br>\n",
       "        <tt>jupyter labextension install jupyterlab_3dmol</tt></p>\n",
       "        </div>\n",
       "<script>\n",
       "\n",
       "var loadScriptAsync = function(uri){\n",
       "  return new Promise((resolve, reject) => {\n",
       "    var tag = document.createElement('script');\n",
       "    tag.src = uri;\n",
       "    tag.async = true;\n",
       "    tag.onload = () => {\n",
       "      resolve();\n",
       "    };\n",
       "  var firstScriptTag = document.getElementsByTagName('script')[0];\n",
       "  firstScriptTag.parentNode.insertBefore(tag, firstScriptTag);\n",
       "});\n",
       "};\n",
       "\n",
       "if(typeof $3Dmolpromise === 'undefined') {\n",
       "$3Dmolpromise = null;\n",
       "  $3Dmolpromise = loadScriptAsync('https://3dmol.csb.pitt.edu/build/3Dmol.js');\n",
       "}\n",
       "\n",
       "var viewer_15522349839 = null;\n",
       "var warn = document.getElementById(\"3dmolwarning_15522349839\");\n",
       "if(warn) {\n",
       "    warn.parentNode.removeChild(warn);\n",
       "}\n",
       "$3Dmolpromise.then(function() {\n",
       "viewer_15522349839 = $3Dmol.createViewer($(\"#3dmolviewer_15522349839\"),{backgroundColor:\"white\"});\n",
       "\tviewer_15522349839.addModel(\"\\n     RDKit          3D\\n\\n 14 13  0  0  0  0  0  0  0  0999 V2000\\n    0.8718    0.5819   -0.5847 O   0  0  0  0  0  0  0  0  0  0  0  0\\n   -0.6639   -1.2849   -0.3976 C   0  0  0  0  0  0  0  0  0  0  0  0\\n   -1.3792    1.0744    0.1511 C   0  0  0  0  0  0  0  0  0  0  0  0\\n    1.9545    0.2086    0.2054 C   0  0  0  0  0  0  0  0  0  0  0  0\\n   -0.2868    0.0981   -0.0551 C   0  0  0  0  0  3  0  0  0  0  0  0\\n    0.0183   -1.9757    0.1599 H   0  0  0  0  0  0  0  0  0  0  0  0\\n   -0.6217   -1.5681   -1.4535 H   0  0  0  0  0  0  0  0  0  0  0  0\\n   -1.6749   -1.4918    0.0143 H   0  0  0  0  0  0  0  0  0  0  0  0\\n   -1.0482    1.8182    0.9191 H   0  0  0  0  0  0  0  0  0  0  0  0\\n   -2.2604    0.5656    0.5617 H   0  0  0  0  0  0  0  0  0  0  0  0\\n   -1.7068    1.6288   -0.7445 H   0  0  0  0  0  0  0  0  0  0  0  0\\n    2.2372   -0.8491   -0.0105 H   0  0  0  0  0  0  0  0  0  0  0  0\\n    2.8028    0.8891   -0.0542 H   0  0  0  0  0  0  0  0  0  0  0  0\\n    1.7571    0.3048    1.2887 H   0  0  0  0  0  0  0  0  0  0  0  0\\n  1  4  1  0\\n  1  5  1  0\\n  2  5  1  0\\n  2  8  1  0\\n  2  7  1  0\\n  2  6  1  0\\n  3  9  1  0\\n  3 11  1  0\\n  3  5  1  0\\n  3 10  1  0\\n  4 12  1  0\\n  4 14  1  0\\n  4 13  1  0\\nM  RAD  1   5   2\\nM  END\\n\",\"sdf\");\n",
       "\tviewer_15522349839.setStyle({\"stick\": {}});\n",
       "\tviewer_15522349839.setBackgroundColor(\"0xeeeeee\");\n",
       "\tviewer_15522349839.zoomTo();\n",
       "viewer_15522349839.render();\n",
       "});\n",
       "</script>"
      ]
     },
     "metadata": {},
     "output_type": "display_data"
    },
    {
     "name": "stdout",
     "output_type": "stream",
     "text": [
      "/home/underkoffler.c/Code/Hindered_Rotors/CO[C](C)C/From_Workflow\n",
      "\n",
      "CO[C](C)C VSQGJBCHGBRHMO-UHFFFAOYSA-N_72by10.0_tor03_a1.log\n",
      "CO[C](C)C VSQGJBCHGBRHMO-UHFFFAOYSA-N_72by10.0_tor03_a2.log\n",
      "CO[C](C)C VSQGJBCHGBRHMO-UHFFFAOYSA-N_72by10.0_tor03_a3.log\n",
      "CO[C](C)C VSQGJBCHGBRHMO-UHFFFAOYSA-N_72by10.0_tor03_a4.log\n",
      "\n",
      "\n",
      "CO[C](C)C VSQGJBCHGBRHMO-UHFFFAOYSA-N_72by10.0_tor04_a1.log\n",
      "<Torsion \"(3, 0, 4, 2)\">\n",
      "Steps:      72\n",
      "Step Size:  10.0\n",
      "Attempt:    1\n",
      "\n"
     ]
    },
    {
     "data": {
      "image/png": "[encoded data removed]",
      "text/plain": [
       "<Figure size 432x288 with 1 Axes>"
      ]
     },
     "metadata": {
      "needs_background": "light"
     },
     "output_type": "display_data"
    },
    {
     "name": "stdout",
     "output_type": "stream",
     "text": [
      "Continuous:   True\n",
      "\n",
      "Good Slope:   True\n",
      "\n",
      "Lowest Conf:  True\n",
      "=========================================================\n",
      "\n",
      "\n",
      "CO[C](C)C VSQGJBCHGBRHMO-UHFFFAOYSA-N_72by10.0_tor04_a2.log\n",
      "CO[C](C)C VSQGJBCHGBRHMO-UHFFFAOYSA-N_72by10.0_tor04_a3.log\n",
      "CO[C](C)C VSQGJBCHGBRHMO-UHFFFAOYSA-N_72by10.0_tor04_a4.log\n",
      "\n",
      "CO[C](C)C VSQGJBCHGBRHMO-UHFFFAOYSA-N_72by10.0_tor14_a1.log\n",
      "CO[C](C)C VSQGJBCHGBRHMO-UHFFFAOYSA-N_72by10.0_tor14_a2.log\n",
      "CO[C](C)C VSQGJBCHGBRHMO-UHFFFAOYSA-N_72by10.0_tor14_a3.log\n",
      "CO[C](C)C VSQGJBCHGBRHMO-UHFFFAOYSA-N_72by10.0_tor14_a4.log\n",
      "\n",
      "CO[C](C)C VSQGJBCHGBRHMO-UHFFFAOYSA-N_72by10.0_tor24_a1.log\n",
      "CO[C](C)C VSQGJBCHGBRHMO-UHFFFAOYSA-N_72by10.0_tor24_a2.log\n",
      "CO[C](C)C VSQGJBCHGBRHMO-UHFFFAOYSA-N_72by10.0_tor24_a3.log\n",
      "CO[C](C)C VSQGJBCHGBRHMO-UHFFFAOYSA-N_72by10.0_tor24_a4.log\n",
      "===================================================================\n",
      "\n",
      "\n"
     ]
    }
   ],
   "source": [
    "steps = 72\n",
    "step_size = 10.0\n",
    "\n",
    "Conf_list = []\n",
    "\n",
    "Rxn_list = None\n",
    "\n",
    "SMILES_list = [Master_SMILES_list[11]]\n",
    "print SMILES_list\n",
    "\n",
    "scan_progress(steps, step_size, Conf_list, SMILES_list=SMILES_list, Rxn_list=Rxn_list)"
   ]
  },
  {
   "cell_type": "code",
   "execution_count": 40,
   "metadata": {
    "scrolled": true
   },
   "outputs": [
    {
     "name": "stdout",
     "output_type": "stream",
     "text": [
      "['[CH2]OC(C)C']\n"
     ]
    },
    {
     "data": {
      "application/3dmoljs_load.v0": "<div id=\"3dmolviewer_155223310859\"  style=\"position: relative; width: 600px; height: 600px\">\n        <p id=\"3dmolwarning_155223310859\" style=\"background-color:#ffcccc;color:black\">You appear to be running in JupyterLab.  You need to install the 3dmol extension: <br>\n        <tt>jupyter labextension install jupyterlab_3dmol</tt></p>\n        </div>\n<script>\n\nvar loadScriptAsync = function(uri){\n  return new Promise((resolve, reject) => {\n    var tag = document.createElement('script');\n    tag.src = uri;\n    tag.async = true;\n    tag.onload = () => {\n      resolve();\n    };\n  var firstScriptTag = document.getElementsByTagName('script')[0];\n  firstScriptTag.parentNode.insertBefore(tag, firstScriptTag);\n});\n};\n\nif(typeof $3Dmolpromise === 'undefined') {\n$3Dmolpromise = null;\n  $3Dmolpromise = loadScriptAsync('https://3dmol.csb.pitt.edu/build/3Dmol.js');\n}\n\nvar viewer_155223310859 = null;\nvar warn = document.getElementById(\"3dmolwarning_155223310859\");\nif(warn) {\n    warn.parentNode.removeChild(warn);\n}\n$3Dmolpromise.then(function() {\nviewer_155223310859 = $3Dmol.createViewer($(\"#3dmolviewer_155223310859\"),{backgroundColor:\"white\"});\n\tviewer_155223310859.addModel(\"\\n     RDKit          3D\\n\\n 14 13  0  0  0  0  0  0  0  0999 V2000\\n    0.6302   -0.9180   -0.6500 O   0  0  0  0  0  0  0  0  0  0  0  0\\n   -0.1736   -0.2218    0.2237 C   0  0  0  0  0  0  0  0  0  0  0  0\\n   -1.6158   -0.4598   -0.2012 C   0  0  0  0  0  0  0  0  0  0  0  0\\n    0.0753    1.2756    0.1955 C   0  0  0  0  0  0  0  0  0  0  0  0\\n    1.9362   -1.0751   -0.2710 C   0  0  0  0  0  3  0  0  0  0  0  0\\n   -0.0748   -0.5667    1.2825 H   0  0  0  0  0  0  0  0  0  0  0  0\\n   -1.6811   -1.1689   -1.0646 H   0  0  0  0  0  0  0  0  0  0  0  0\\n   -2.1977   -0.9429    0.6104 H   0  0  0  0  0  0  0  0  0  0  0  0\\n   -2.0889    0.4816   -0.5472 H   0  0  0  0  0  0  0  0  0  0  0  0\\n    0.1229    1.7048    1.2278 H   0  0  0  0  0  0  0  0  0  0  0  0\\n    1.0599    1.5173   -0.2643 H   0  0  0  0  0  0  0  0  0  0  0  0\\n   -0.7399    1.8080   -0.3169 H   0  0  0  0  0  0  0  0  0  0  0  0\\n    2.5827   -0.5643   -1.0024 H   0  0  0  0  0  0  0  0  0  0  0  0\\n    2.1644   -0.8698    0.7777 H   0  0  0  0  0  0  0  0  0  0  0  0\\n  1  5  1  0\\n  1  2  1  0\\n  2  6  1  0\\n  2  3  1  0\\n  2  4  1  0\\n  3  7  1  0\\n  3  9  1  0\\n  3  8  1  0\\n  4 10  1  0\\n  4 12  1  0\\n  4 11  1  0\\n  5 13  1  0\\n  5 14  1  0\\nM  RAD  1   5   2\\nM  END\\n\",\"sdf\");\n\tviewer_155223310859.setStyle({\"stick\": {}});\n\tviewer_155223310859.setBackgroundColor(\"0xeeeeee\");\n\tviewer_155223310859.zoomTo();\nviewer_155223310859.render();\n});\n</script>",
      "text/html": [
       "<div id=\"3dmolviewer_155223310859\"  style=\"position: relative; width: 600px; height: 600px\">\n",
       "        <p id=\"3dmolwarning_155223310859\" style=\"background-color:#ffcccc;color:black\">You appear to be running in JupyterLab.  You need to install the 3dmol extension: <br>\n",
       "        <tt>jupyter labextension install jupyterlab_3dmol</tt></p>\n",
       "        </div>\n",
       "<script>\n",
       "\n",
       "var loadScriptAsync = function(uri){\n",
       "  return new Promise((resolve, reject) => {\n",
       "    var tag = document.createElement('script');\n",
       "    tag.src = uri;\n",
       "    tag.async = true;\n",
       "    tag.onload = () => {\n",
       "      resolve();\n",
       "    };\n",
       "  var firstScriptTag = document.getElementsByTagName('script')[0];\n",
       "  firstScriptTag.parentNode.insertBefore(tag, firstScriptTag);\n",
       "});\n",
       "};\n",
       "\n",
       "if(typeof $3Dmolpromise === 'undefined') {\n",
       "$3Dmolpromise = null;\n",
       "  $3Dmolpromise = loadScriptAsync('https://3dmol.csb.pitt.edu/build/3Dmol.js');\n",
       "}\n",
       "\n",
       "var viewer_155223310859 = null;\n",
       "var warn = document.getElementById(\"3dmolwarning_155223310859\");\n",
       "if(warn) {\n",
       "    warn.parentNode.removeChild(warn);\n",
       "}\n",
       "$3Dmolpromise.then(function() {\n",
       "viewer_155223310859 = $3Dmol.createViewer($(\"#3dmolviewer_155223310859\"),{backgroundColor:\"white\"});\n",
       "\tviewer_155223310859.addModel(\"\\n     RDKit          3D\\n\\n 14 13  0  0  0  0  0  0  0  0999 V2000\\n    0.6302   -0.9180   -0.6500 O   0  0  0  0  0  0  0  0  0  0  0  0\\n   -0.1736   -0.2218    0.2237 C   0  0  0  0  0  0  0  0  0  0  0  0\\n   -1.6158   -0.4598   -0.2012 C   0  0  0  0  0  0  0  0  0  0  0  0\\n    0.0753    1.2756    0.1955 C   0  0  0  0  0  0  0  0  0  0  0  0\\n    1.9362   -1.0751   -0.2710 C   0  0  0  0  0  3  0  0  0  0  0  0\\n   -0.0748   -0.5667    1.2825 H   0  0  0  0  0  0  0  0  0  0  0  0\\n   -1.6811   -1.1689   -1.0646 H   0  0  0  0  0  0  0  0  0  0  0  0\\n   -2.1977   -0.9429    0.6104 H   0  0  0  0  0  0  0  0  0  0  0  0\\n   -2.0889    0.4816   -0.5472 H   0  0  0  0  0  0  0  0  0  0  0  0\\n    0.1229    1.7048    1.2278 H   0  0  0  0  0  0  0  0  0  0  0  0\\n    1.0599    1.5173   -0.2643 H   0  0  0  0  0  0  0  0  0  0  0  0\\n   -0.7399    1.8080   -0.3169 H   0  0  0  0  0  0  0  0  0  0  0  0\\n    2.5827   -0.5643   -1.0024 H   0  0  0  0  0  0  0  0  0  0  0  0\\n    2.1644   -0.8698    0.7777 H   0  0  0  0  0  0  0  0  0  0  0  0\\n  1  5  1  0\\n  1  2  1  0\\n  2  6  1  0\\n  2  3  1  0\\n  2  4  1  0\\n  3  7  1  0\\n  3  9  1  0\\n  3  8  1  0\\n  4 10  1  0\\n  4 12  1  0\\n  4 11  1  0\\n  5 13  1  0\\n  5 14  1  0\\nM  RAD  1   5   2\\nM  END\\n\",\"sdf\");\n",
       "\tviewer_155223310859.setStyle({\"stick\": {}});\n",
       "\tviewer_155223310859.setBackgroundColor(\"0xeeeeee\");\n",
       "\tviewer_155223310859.zoomTo();\n",
       "viewer_155223310859.render();\n",
       "});\n",
       "</script>"
      ]
     },
     "metadata": {},
     "output_type": "display_data"
    },
    {
     "name": "stdout",
     "output_type": "stream",
     "text": [
      "/home/underkoffler.c/Code/Hindered_Rotors/[CH2]OC(C)C/From_Workflow\n",
      "\n",
      "[CH2]OC(C)C BWWHSGPVJDTLAO-UHFFFAOYSA-N_72by10.0_tor04_a1.log\n",
      "[CH2]OC(C)C BWWHSGPVJDTLAO-UHFFFAOYSA-N_72by10.0_tor04_a2.log\n",
      "[CH2]OC(C)C BWWHSGPVJDTLAO-UHFFFAOYSA-N_72by10.0_tor04_a3.log\n",
      "[CH2]OC(C)C BWWHSGPVJDTLAO-UHFFFAOYSA-N_72by10.0_tor04_a4.log\n",
      "\n",
      "\n",
      "[CH2]OC(C)C BWWHSGPVJDTLAO-UHFFFAOYSA-N_72by10.0_tor01_a1.log\n",
      "<Torsion \"(4, 0, 1, 3)\">\n",
      "Steps:      72\n",
      "Step Size:  10.0\n",
      "Attempt:    1\n",
      "\n"
     ]
    },
    {
     "data": {
      "image/png": "[encoded data removed]",
      "text/plain": [
       "<Figure size 432x288 with 1 Axes>"
      ]
     },
     "metadata": {
      "needs_background": "light"
     },
     "output_type": "display_data"
    },
    {
     "name": "stdout",
     "output_type": "stream",
     "text": [
      "Continuous:   True\n",
      "\n",
      "Good Slope:   True\n",
      "\n",
      "Lowest Conf:  False\n",
      "=========================================================\n",
      "\n",
      "\n",
      "[CH2]OC(C)C BWWHSGPVJDTLAO-UHFFFAOYSA-N_72by10.0_tor01_a2.log\n",
      "[CH2]OC(C)C BWWHSGPVJDTLAO-UHFFFAOYSA-N_72by10.0_tor01_a3.log\n",
      "[CH2]OC(C)C BWWHSGPVJDTLAO-UHFFFAOYSA-N_72by10.0_tor01_a4.log\n",
      "\n",
      "\n",
      "[CH2]OC(C)C BWWHSGPVJDTLAO-UHFFFAOYSA-N_72by10.0_tor12_a1.log\n",
      "<Torsion \"(3, 1, 2, 7)\">\n",
      "Steps:      72\n",
      "Step Size:  10.0\n",
      "Attempt:    1\n",
      "\n"
     ]
    },
    {
     "data": {
      "image/png": "[encoded data removed]",
      "text/plain": [
       "<Figure size 432x288 with 1 Axes>"
      ]
     },
     "metadata": {
      "needs_background": "light"
     },
     "output_type": "display_data"
    },
    {
     "name": "stdout",
     "output_type": "stream",
     "text": [
      "Continuous:   True\n",
      "\n",
      "Good Slope:   True\n",
      "\n",
      "Lowest Conf:  True\n",
      "=========================================================\n",
      "\n",
      "\n",
      "[CH2]OC(C)C BWWHSGPVJDTLAO-UHFFFAOYSA-N_72by10.0_tor12_a2.log\n",
      "[CH2]OC(C)C BWWHSGPVJDTLAO-UHFFFAOYSA-N_72by10.0_tor12_a3.log\n",
      "[CH2]OC(C)C BWWHSGPVJDTLAO-UHFFFAOYSA-N_72by10.0_tor12_a4.log\n",
      "\n",
      "\n",
      "[CH2]OC(C)C BWWHSGPVJDTLAO-UHFFFAOYSA-N_72by10.0_tor13_a1.log\n",
      "<Torsion \"(2, 1, 3, 10)\">\n",
      "Steps:      72\n",
      "Step Size:  10.0\n",
      "Attempt:    1\n",
      "\n"
     ]
    },
    {
     "data": {
      "image/png": "[encoded data removed]",
      "text/plain": [
       "<Figure size 432x288 with 1 Axes>"
      ]
     },
     "metadata": {
      "needs_background": "light"
     },
     "output_type": "display_data"
    },
    {
     "name": "stdout",
     "output_type": "stream",
     "text": [
      "Continuous:   True\n",
      "\n",
      "Good Slope:   True\n",
      "\n",
      "Lowest Conf:  True\n",
      "=========================================================\n",
      "\n",
      "\n",
      "[CH2]OC(C)C BWWHSGPVJDTLAO-UHFFFAOYSA-N_72by10.0_tor13_a2.log\n",
      "[CH2]OC(C)C BWWHSGPVJDTLAO-UHFFFAOYSA-N_72by10.0_tor13_a3.log\n",
      "[CH2]OC(C)C BWWHSGPVJDTLAO-UHFFFAOYSA-N_72by10.0_tor13_a4.log\n",
      "===================================================================\n",
      "\n",
      "\n"
     ]
    }
   ],
   "source": [
    "steps = 72\n",
    "step_size = 10.0\n",
    "\n",
    "Conf_list = []\n",
    "\n",
    "Rxn_list = None\n",
    "\n",
    "SMILES_list = [Master_SMILES_list[12]]\n",
    "print SMILES_list\n",
    "\n",
    "scan_progress(steps, step_size, Conf_list, SMILES_list=SMILES_list, Rxn_list=Rxn_list)"
   ]
  },
  {
   "cell_type": "code",
   "execution_count": 41,
   "metadata": {
    "scrolled": true
   },
   "outputs": [
    {
     "name": "stdout",
     "output_type": "stream",
     "text": [
      "['[CH2]C(C)OC']\n"
     ]
    },
    {
     "data": {
      "application/3dmoljs_load.v0": "<div id=\"3dmolviewer_155223312361\"  style=\"position: relative; width: 600px; height: 600px\">\n        <p id=\"3dmolwarning_155223312361\" style=\"background-color:#ffcccc;color:black\">You appear to be running in JupyterLab.  You need to install the 3dmol extension: <br>\n        <tt>jupyter labextension install jupyterlab_3dmol</tt></p>\n        </div>\n<script>\n\nvar loadScriptAsync = function(uri){\n  return new Promise((resolve, reject) => {\n    var tag = document.createElement('script');\n    tag.src = uri;\n    tag.async = true;\n    tag.onload = () => {\n      resolve();\n    };\n  var firstScriptTag = document.getElementsByTagName('script')[0];\n  firstScriptTag.parentNode.insertBefore(tag, firstScriptTag);\n});\n};\n\nif(typeof $3Dmolpromise === 'undefined') {\n$3Dmolpromise = null;\n  $3Dmolpromise = loadScriptAsync('https://3dmol.csb.pitt.edu/build/3Dmol.js');\n}\n\nvar viewer_155223312361 = null;\nvar warn = document.getElementById(\"3dmolwarning_155223312361\");\nif(warn) {\n    warn.parentNode.removeChild(warn);\n}\n$3Dmolpromise.then(function() {\nviewer_155223312361 = $3Dmol.createViewer($(\"#3dmolviewer_155223312361\"),{backgroundColor:\"white\"});\n\tviewer_155223312361.addModel(\"\\n     RDKit          3D\\n\\n 14 13  0  0  0  0  0  0  0  0999 V2000\\n   -0.9719   -0.7965    0.3448 O   0  0  0  0  0  0  0  0  0  0  0  0\\n    0.3512   -0.4752    0.4932 C   0  0  0  0  0  0  0  0  0  0  0  0\\n    0.6511    0.9870    0.5822 C   0  0  0  0  0  0  0  0  0  0  0  0\\n   -1.7314    0.0929   -0.3713 C   0  0  0  0  0  0  0  0  0  0  0  0\\n    1.2475   -1.0823   -0.5785 C   0  0  0  0  0  3  0  0  0  0  0  0\\n    0.6898   -0.9456    1.4519 H   0  0  0  0  0  0  0  0  0  0  0  0\\n    1.5044    1.2755   -0.0828 H   0  0  0  0  0  0  0  0  0  0  0  0\\n    0.9712    1.2948    1.6065 H   0  0  0  0  0  0  0  0  0  0  0  0\\n   -0.1789    1.6488    0.2988 H   0  0  0  0  0  0  0  0  0  0  0  0\\n   -2.0789    0.9424    0.2698 H   0  0  0  0  0  0  0  0  0  0  0  0\\n   -1.2838    0.4376   -1.3156 H   0  0  0  0  0  0  0  0  0  0  0  0\\n   -2.6769   -0.4355   -0.6568 H   0  0  0  0  0  0  0  0  0  0  0  0\\n    1.2209   -2.1733   -0.4574 H   0  0  0  0  0  0  0  0  0  0  0  0\\n    2.2855   -0.7708   -0.3008 H   0  0  0  0  0  0  0  0  0  0  0  0\\n  1  2  1  0\\n  1  4  1  0\\n  2  5  1  0\\n  2  6  1  0\\n  2  3  1  0\\n  3  9  1  0\\n  3  8  1  0\\n  3  7  1  0\\n  4 10  1  0\\n  4 12  1  0\\n  4 11  1  0\\n  5 14  1  0\\n  5 13  1  0\\nM  RAD  1   5   2\\nM  END\\n\",\"sdf\");\n\tviewer_155223312361.setStyle({\"stick\": {}});\n\tviewer_155223312361.setBackgroundColor(\"0xeeeeee\");\n\tviewer_155223312361.zoomTo();\nviewer_155223312361.render();\n});\n</script>",
      "text/html": [
       "<div id=\"3dmolviewer_155223312361\"  style=\"position: relative; width: 600px; height: 600px\">\n",
       "        <p id=\"3dmolwarning_155223312361\" style=\"background-color:#ffcccc;color:black\">You appear to be running in JupyterLab.  You need to install the 3dmol extension: <br>\n",
       "        <tt>jupyter labextension install jupyterlab_3dmol</tt></p>\n",
       "        </div>\n",
       "<script>\n",
       "\n",
       "var loadScriptAsync = function(uri){\n",
       "  return new Promise((resolve, reject) => {\n",
       "    var tag = document.createElement('script');\n",
       "    tag.src = uri;\n",
       "    tag.async = true;\n",
       "    tag.onload = () => {\n",
       "      resolve();\n",
       "    };\n",
       "  var firstScriptTag = document.getElementsByTagName('script')[0];\n",
       "  firstScriptTag.parentNode.insertBefore(tag, firstScriptTag);\n",
       "});\n",
       "};\n",
       "\n",
       "if(typeof $3Dmolpromise === 'undefined') {\n",
       "$3Dmolpromise = null;\n",
       "  $3Dmolpromise = loadScriptAsync('https://3dmol.csb.pitt.edu/build/3Dmol.js');\n",
       "}\n",
       "\n",
       "var viewer_155223312361 = null;\n",
       "var warn = document.getElementById(\"3dmolwarning_155223312361\");\n",
       "if(warn) {\n",
       "    warn.parentNode.removeChild(warn);\n",
       "}\n",
       "$3Dmolpromise.then(function() {\n",
       "viewer_155223312361 = $3Dmol.createViewer($(\"#3dmolviewer_155223312361\"),{backgroundColor:\"white\"});\n",
       "\tviewer_155223312361.addModel(\"\\n     RDKit          3D\\n\\n 14 13  0  0  0  0  0  0  0  0999 V2000\\n   -0.9719   -0.7965    0.3448 O   0  0  0  0  0  0  0  0  0  0  0  0\\n    0.3512   -0.4752    0.4932 C   0  0  0  0  0  0  0  0  0  0  0  0\\n    0.6511    0.9870    0.5822 C   0  0  0  0  0  0  0  0  0  0  0  0\\n   -1.7314    0.0929   -0.3713 C   0  0  0  0  0  0  0  0  0  0  0  0\\n    1.2475   -1.0823   -0.5785 C   0  0  0  0  0  3  0  0  0  0  0  0\\n    0.6898   -0.9456    1.4519 H   0  0  0  0  0  0  0  0  0  0  0  0\\n    1.5044    1.2755   -0.0828 H   0  0  0  0  0  0  0  0  0  0  0  0\\n    0.9712    1.2948    1.6065 H   0  0  0  0  0  0  0  0  0  0  0  0\\n   -0.1789    1.6488    0.2988 H   0  0  0  0  0  0  0  0  0  0  0  0\\n   -2.0789    0.9424    0.2698 H   0  0  0  0  0  0  0  0  0  0  0  0\\n   -1.2838    0.4376   -1.3156 H   0  0  0  0  0  0  0  0  0  0  0  0\\n   -2.6769   -0.4355   -0.6568 H   0  0  0  0  0  0  0  0  0  0  0  0\\n    1.2209   -2.1733   -0.4574 H   0  0  0  0  0  0  0  0  0  0  0  0\\n    2.2855   -0.7708   -0.3008 H   0  0  0  0  0  0  0  0  0  0  0  0\\n  1  2  1  0\\n  1  4  1  0\\n  2  5  1  0\\n  2  6  1  0\\n  2  3  1  0\\n  3  9  1  0\\n  3  8  1  0\\n  3  7  1  0\\n  4 10  1  0\\n  4 12  1  0\\n  4 11  1  0\\n  5 14  1  0\\n  5 13  1  0\\nM  RAD  1   5   2\\nM  END\\n\",\"sdf\");\n",
       "\tviewer_155223312361.setStyle({\"stick\": {}});\n",
       "\tviewer_155223312361.setBackgroundColor(\"0xeeeeee\");\n",
       "\tviewer_155223312361.zoomTo();\n",
       "viewer_155223312361.render();\n",
       "});\n",
       "</script>"
      ]
     },
     "metadata": {},
     "output_type": "display_data"
    },
    {
     "name": "stdout",
     "output_type": "stream",
     "text": [
      "/home/underkoffler.c/Code/Hindered_Rotors/[CH2]C(C)OC/From_Workflow\n",
      "\n",
      "[CH2]C(C)OC FBRHVBFWGRGMCF-UHFFFAOYSA-N_72by10.0_tor01_a1.log\n",
      "[CH2]C(C)OC FBRHVBFWGRGMCF-UHFFFAOYSA-N_72by10.0_tor01_a2.log\n",
      "[CH2]C(C)OC FBRHVBFWGRGMCF-UHFFFAOYSA-N_72by10.0_tor01_a3.log\n",
      "[CH2]C(C)OC FBRHVBFWGRGMCF-UHFFFAOYSA-N_72by10.0_tor01_a4.log\n",
      "\n",
      "\n",
      "[CH2]C(C)OC FBRHVBFWGRGMCF-UHFFFAOYSA-N_72by10.0_tor03_a1.log\n",
      "<Torsion \"(1, 0, 3, 10)\">\n",
      "Steps:      72\n",
      "Step Size:  10.0\n",
      "Attempt:    1\n",
      "\n"
     ]
    },
    {
     "data": {
      "image/png": "[encoded data removed]",
      "text/plain": [
       "<Figure size 432x288 with 1 Axes>"
      ]
     },
     "metadata": {
      "needs_background": "light"
     },
     "output_type": "display_data"
    },
    {
     "name": "stdout",
     "output_type": "stream",
     "text": [
      "Continuous:   True\n",
      "\n",
      "Good Slope:   True\n",
      "\n",
      "Lowest Conf:  True\n",
      "=========================================================\n",
      "\n",
      "\n",
      "[CH2]C(C)OC FBRHVBFWGRGMCF-UHFFFAOYSA-N_72by10.0_tor03_a2.log\n",
      "[CH2]C(C)OC FBRHVBFWGRGMCF-UHFFFAOYSA-N_72by10.0_tor03_a3.log\n",
      "[CH2]C(C)OC FBRHVBFWGRGMCF-UHFFFAOYSA-N_72by10.0_tor03_a4.log\n",
      "\n",
      "[CH2]C(C)OC FBRHVBFWGRGMCF-UHFFFAOYSA-N_72by10.0_tor14_a1.log\n",
      "[CH2]C(C)OC FBRHVBFWGRGMCF-UHFFFAOYSA-N_72by10.0_tor14_a2.log\n",
      "[CH2]C(C)OC FBRHVBFWGRGMCF-UHFFFAOYSA-N_72by10.0_tor14_a3.log\n",
      "[CH2]C(C)OC FBRHVBFWGRGMCF-UHFFFAOYSA-N_72by10.0_tor14_a4.log\n",
      "\n",
      "\n",
      "[CH2]C(C)OC FBRHVBFWGRGMCF-UHFFFAOYSA-N_72by10.0_tor12_a1.log\n",
      "<Torsion \"(5, 1, 2, 6)\">\n",
      "Steps:      72\n",
      "Step Size:  10.0\n",
      "Attempt:    1\n",
      "\n",
      "CANNOT Load Scan\n",
      "\n",
      "=========================================================\n",
      "\n",
      "\n",
      "[CH2]C(C)OC FBRHVBFWGRGMCF-UHFFFAOYSA-N_72by10.0_tor12_a2.log\n",
      "[CH2]C(C)OC FBRHVBFWGRGMCF-UHFFFAOYSA-N_72by10.0_tor12_a3.log\n",
      "[CH2]C(C)OC FBRHVBFWGRGMCF-UHFFFAOYSA-N_72by10.0_tor12_a4.log\n",
      "===================================================================\n",
      "\n",
      "\n"
     ]
    }
   ],
   "source": [
    "steps = 72\n",
    "step_size = 10.0\n",
    "\n",
    "Conf_list = []\n",
    "\n",
    "Rxn_list = None\n",
    "\n",
    "SMILES_list = [Master_SMILES_list[13]]\n",
    "print SMILES_list\n",
    "\n",
    "scan_progress(steps, step_size, Conf_list, SMILES_list=SMILES_list, Rxn_list=Rxn_list)"
   ]
  },
  {
   "cell_type": "code",
   "execution_count": 42,
   "metadata": {
    "scrolled": true
   },
   "outputs": [
    {
     "name": "stdout",
     "output_type": "stream",
     "text": [
      "['CCC(=O)OC']\n"
     ]
    },
    {
     "data": {
      "application/3dmoljs_load.v0": "<div id=\"3dmolviewer_155223313926\"  style=\"position: relative; width: 600px; height: 600px\">\n        <p id=\"3dmolwarning_155223313926\" style=\"background-color:#ffcccc;color:black\">You appear to be running in JupyterLab.  You need to install the 3dmol extension: <br>\n        <tt>jupyter labextension install jupyterlab_3dmol</tt></p>\n        </div>\n<script>\n\nvar loadScriptAsync = function(uri){\n  return new Promise((resolve, reject) => {\n    var tag = document.createElement('script');\n    tag.src = uri;\n    tag.async = true;\n    tag.onload = () => {\n      resolve();\n    };\n  var firstScriptTag = document.getElementsByTagName('script')[0];\n  firstScriptTag.parentNode.insertBefore(tag, firstScriptTag);\n});\n};\n\nif(typeof $3Dmolpromise === 'undefined') {\n$3Dmolpromise = null;\n  $3Dmolpromise = loadScriptAsync('https://3dmol.csb.pitt.edu/build/3Dmol.js');\n}\n\nvar viewer_155223313926 = null;\nvar warn = document.getElementById(\"3dmolwarning_155223313926\");\nif(warn) {\n    warn.parentNode.removeChild(warn);\n}\n$3Dmolpromise.then(function() {\nviewer_155223313926 = $3Dmol.createViewer($(\"#3dmolviewer_155223313926\"),{backgroundColor:\"white\"});\n\tviewer_155223313926.addModel(\"\\n     RDKit          3D\\n\\n 14 13  0  0  0  0  0  0  0  0999 V2000\\n    0.9702    0.6262   -0.0936 O   0  0  0  0  0  0  0  0  0  0  0  0\\n    0.5172   -1.5791   -0.0829 O   0  0  0  0  0  0  0  0  0  0  0  0\\n   -1.2494   -0.1439   -0.7326 C   0  0  0  0  0  0  0  0  0  0  0  0\\n   -1.8646   -0.0337    0.6329 C   0  0  0  0  0  0  0  0  0  0  0  0\\n    2.3624    0.4751    0.0692 C   0  0  0  0  0  0  0  0  0  0  0  0\\n    0.2040   -0.4513   -0.5530 C   0  0  0  0  0  0  0  0  0  0  0  0\\n   -1.6813   -0.9690   -1.3425 H   0  0  0  0  0  0  0  0  0  0  0  0\\n   -1.3167    0.8144   -1.2781 H   0  0  0  0  0  0  0  0  0  0  0  0\\n   -2.3658   -0.9867    0.9115 H   0  0  0  0  0  0  0  0  0  0  0  0\\n   -1.0758    0.1339    1.4069 H   0  0  0  0  0  0  0  0  0  0  0  0\\n   -2.5484    0.8360    0.6860 H   0  0  0  0  0  0  0  0  0  0  0  0\\n    2.7572   -0.0737   -0.7962 H   0  0  0  0  0  0  0  0  0  0  0  0\\n    2.7841    1.4990    0.1850 H   0  0  0  0  0  0  0  0  0  0  0  0\\n    2.5069   -0.1471    0.9875 H   0  0  0  0  0  0  0  0  0  0  0  0\\n  1  5  1  0\\n  1  6  1  0\\n  2  6  2  0\\n  3  8  1  0\\n  3  7  1  0\\n  3  4  1  0\\n  3  6  1  0\\n  4 11  1  0\\n  4  9  1  0\\n  4 10  1  0\\n  5 14  1  0\\n  5 13  1  0\\n  5 12  1  0\\nM  END\\n\",\"sdf\");\n\tviewer_155223313926.setStyle({\"stick\": {}});\n\tviewer_155223313926.setBackgroundColor(\"0xeeeeee\");\n\tviewer_155223313926.zoomTo();\nviewer_155223313926.render();\n});\n</script>",
      "text/html": [
       "<div id=\"3dmolviewer_155223313926\"  style=\"position: relative; width: 600px; height: 600px\">\n",
       "        <p id=\"3dmolwarning_155223313926\" style=\"background-color:#ffcccc;color:black\">You appear to be running in JupyterLab.  You need to install the 3dmol extension: <br>\n",
       "        <tt>jupyter labextension install jupyterlab_3dmol</tt></p>\n",
       "        </div>\n",
       "<script>\n",
       "\n",
       "var loadScriptAsync = function(uri){\n",
       "  return new Promise((resolve, reject) => {\n",
       "    var tag = document.createElement('script');\n",
       "    tag.src = uri;\n",
       "    tag.async = true;\n",
       "    tag.onload = () => {\n",
       "      resolve();\n",
       "    };\n",
       "  var firstScriptTag = document.getElementsByTagName('script')[0];\n",
       "  firstScriptTag.parentNode.insertBefore(tag, firstScriptTag);\n",
       "});\n",
       "};\n",
       "\n",
       "if(typeof $3Dmolpromise === 'undefined') {\n",
       "$3Dmolpromise = null;\n",
       "  $3Dmolpromise = loadScriptAsync('https://3dmol.csb.pitt.edu/build/3Dmol.js');\n",
       "}\n",
       "\n",
       "var viewer_155223313926 = null;\n",
       "var warn = document.getElementById(\"3dmolwarning_155223313926\");\n",
       "if(warn) {\n",
       "    warn.parentNode.removeChild(warn);\n",
       "}\n",
       "$3Dmolpromise.then(function() {\n",
       "viewer_155223313926 = $3Dmol.createViewer($(\"#3dmolviewer_155223313926\"),{backgroundColor:\"white\"});\n",
       "\tviewer_155223313926.addModel(\"\\n     RDKit          3D\\n\\n 14 13  0  0  0  0  0  0  0  0999 V2000\\n    0.9702    0.6262   -0.0936 O   0  0  0  0  0  0  0  0  0  0  0  0\\n    0.5172   -1.5791   -0.0829 O   0  0  0  0  0  0  0  0  0  0  0  0\\n   -1.2494   -0.1439   -0.7326 C   0  0  0  0  0  0  0  0  0  0  0  0\\n   -1.8646   -0.0337    0.6329 C   0  0  0  0  0  0  0  0  0  0  0  0\\n    2.3624    0.4751    0.0692 C   0  0  0  0  0  0  0  0  0  0  0  0\\n    0.2040   -0.4513   -0.5530 C   0  0  0  0  0  0  0  0  0  0  0  0\\n   -1.6813   -0.9690   -1.3425 H   0  0  0  0  0  0  0  0  0  0  0  0\\n   -1.3167    0.8144   -1.2781 H   0  0  0  0  0  0  0  0  0  0  0  0\\n   -2.3658   -0.9867    0.9115 H   0  0  0  0  0  0  0  0  0  0  0  0\\n   -1.0758    0.1339    1.4069 H   0  0  0  0  0  0  0  0  0  0  0  0\\n   -2.5484    0.8360    0.6860 H   0  0  0  0  0  0  0  0  0  0  0  0\\n    2.7572   -0.0737   -0.7962 H   0  0  0  0  0  0  0  0  0  0  0  0\\n    2.7841    1.4990    0.1850 H   0  0  0  0  0  0  0  0  0  0  0  0\\n    2.5069   -0.1471    0.9875 H   0  0  0  0  0  0  0  0  0  0  0  0\\n  1  5  1  0\\n  1  6  1  0\\n  2  6  2  0\\n  3  8  1  0\\n  3  7  1  0\\n  3  4  1  0\\n  3  6  1  0\\n  4 11  1  0\\n  4  9  1  0\\n  4 10  1  0\\n  5 14  1  0\\n  5 13  1  0\\n  5 12  1  0\\nM  END\\n\",\"sdf\");\n",
       "\tviewer_155223313926.setStyle({\"stick\": {}});\n",
       "\tviewer_155223313926.setBackgroundColor(\"0xeeeeee\");\n",
       "\tviewer_155223313926.zoomTo();\n",
       "viewer_155223313926.render();\n",
       "});\n",
       "</script>"
      ]
     },
     "metadata": {},
     "output_type": "display_data"
    },
    {
     "name": "stdout",
     "output_type": "stream",
     "text": [
      "/home/underkoffler.c/Code/Hindered_Rotors/CCC(=O)OC/From_Workflow\n",
      "\n",
      "\n",
      "CCC(=O)OC RJUFJBKOKNCXHH-UHFFFAOYSA-N_72by10.0_tor04_a1.log\n",
      "<Torsion \"(5, 0, 4, 11)\">\n",
      "Steps:      72\n",
      "Step Size:  10.0\n",
      "Attempt:    1\n",
      "\n"
     ]
    },
    {
     "data": {
      "image/png": "[encoded data removed]",
      "text/plain": [
       "<Figure size 432x288 with 1 Axes>"
      ]
     },
     "metadata": {
      "needs_background": "light"
     },
     "output_type": "display_data"
    },
    {
     "name": "stdout",
     "output_type": "stream",
     "text": [
      "Continuous:   True\n",
      "\n",
      "Good Slope:   True\n",
      "\n",
      "Lowest Conf:  True\n",
      "=========================================================\n",
      "\n",
      "\n",
      "CCC(=O)OC RJUFJBKOKNCXHH-UHFFFAOYSA-N_72by10.0_tor04_a2.log\n",
      "CCC(=O)OC RJUFJBKOKNCXHH-UHFFFAOYSA-N_72by10.0_tor04_a3.log\n",
      "CCC(=O)OC RJUFJBKOKNCXHH-UHFFFAOYSA-N_72by10.0_tor04_a4.log\n",
      "\n",
      "\n",
      "CCC(=O)OC RJUFJBKOKNCXHH-UHFFFAOYSA-N_72by10.0_tor05_a1.log\n",
      "<Torsion \"(4, 0, 5, 2)\">\n",
      "Steps:      72\n",
      "Step Size:  10.0\n",
      "Attempt:    1\n",
      "\n"
     ]
    },
    {
     "data": {
      "image/png": "[encoded data removed]",
      "text/plain": [
       "<Figure size 432x288 with 1 Axes>"
      ]
     },
     "metadata": {
      "needs_background": "light"
     },
     "output_type": "display_data"
    },
    {
     "name": "stdout",
     "output_type": "stream",
     "text": [
      "Continuous:   True\n",
      "\n",
      "Good Slope:   True\n",
      "\n",
      "Lowest Conf:  True\n",
      "=========================================================\n",
      "\n",
      "\n",
      "CCC(=O)OC RJUFJBKOKNCXHH-UHFFFAOYSA-N_72by10.0_tor05_a2.log\n",
      "CCC(=O)OC RJUFJBKOKNCXHH-UHFFFAOYSA-N_72by10.0_tor05_a3.log\n",
      "CCC(=O)OC RJUFJBKOKNCXHH-UHFFFAOYSA-N_72by10.0_tor05_a4.log\n",
      "\n",
      "\n",
      "CCC(=O)OC RJUFJBKOKNCXHH-UHFFFAOYSA-N_72by10.0_tor23_a1.log\n",
      "<Torsion \"(5, 2, 3, 9)\">\n",
      "Steps:      72\n",
      "Step Size:  10.0\n",
      "Attempt:    1\n",
      "\n",
      "CANNOT Load Scan\n",
      "\n",
      "=========================================================\n",
      "\n",
      "\n",
      "CCC(=O)OC RJUFJBKOKNCXHH-UHFFFAOYSA-N_72by10.0_tor23_a2.log\n",
      "CCC(=O)OC RJUFJBKOKNCXHH-UHFFFAOYSA-N_72by10.0_tor23_a3.log\n",
      "CCC(=O)OC RJUFJBKOKNCXHH-UHFFFAOYSA-N_72by10.0_tor23_a4.log\n",
      "\n",
      "\n",
      "CCC(=O)OC RJUFJBKOKNCXHH-UHFFFAOYSA-N_72by10.0_tor25_a1.log\n",
      "<Torsion \"(3, 2, 5, 1)\">\n",
      "Steps:      72\n",
      "Step Size:  10.0\n",
      "Attempt:    1\n",
      "\n"
     ]
    },
    {
     "data": {
      "image/png": "[encoded data removed]",
      "text/plain": [
       "<Figure size 432x288 with 1 Axes>"
      ]
     },
     "metadata": {
      "needs_background": "light"
     },
     "output_type": "display_data"
    },
    {
     "name": "stdout",
     "output_type": "stream",
     "text": [
      "Continuous:   True\n",
      "\n",
      "Good Slope:   True\n",
      "\n",
      "Lowest Conf:  True\n",
      "=========================================================\n",
      "\n",
      "\n",
      "CCC(=O)OC RJUFJBKOKNCXHH-UHFFFAOYSA-N_72by10.0_tor25_a2.log\n",
      "CCC(=O)OC RJUFJBKOKNCXHH-UHFFFAOYSA-N_72by10.0_tor25_a3.log\n",
      "CCC(=O)OC RJUFJBKOKNCXHH-UHFFFAOYSA-N_72by10.0_tor25_a4.log\n",
      "===================================================================\n",
      "\n",
      "\n"
     ]
    }
   ],
   "source": [
    "steps = 72\n",
    "step_size = 10.0\n",
    "\n",
    "Conf_list = []\n",
    "\n",
    "Rxn_list = None\n",
    "\n",
    "SMILES_list = [Master_SMILES_list[14]]\n",
    "print SMILES_list\n",
    "\n",
    "scan_progress(steps, step_size, Conf_list, SMILES_list=SMILES_list, Rxn_list=Rxn_list)"
   ]
  },
  {
   "cell_type": "code",
   "execution_count": 43,
   "metadata": {
    "scrolled": true
   },
   "outputs": [
    {
     "name": "stdout",
     "output_type": "stream",
     "text": [
      "['C[CH]C(=O)OC']\n"
     ]
    },
    {
     "data": {
      "application/3dmoljs_load.v0": "<div id=\"3dmolviewer_155223315228\"  style=\"position: relative; width: 600px; height: 600px\">\n        <p id=\"3dmolwarning_155223315228\" style=\"background-color:#ffcccc;color:black\">You appear to be running in JupyterLab.  You need to install the 3dmol extension: <br>\n        <tt>jupyter labextension install jupyterlab_3dmol</tt></p>\n        </div>\n<script>\n\nvar loadScriptAsync = function(uri){\n  return new Promise((resolve, reject) => {\n    var tag = document.createElement('script');\n    tag.src = uri;\n    tag.async = true;\n    tag.onload = () => {\n      resolve();\n    };\n  var firstScriptTag = document.getElementsByTagName('script')[0];\n  firstScriptTag.parentNode.insertBefore(tag, firstScriptTag);\n});\n};\n\nif(typeof $3Dmolpromise === 'undefined') {\n$3Dmolpromise = null;\n  $3Dmolpromise = loadScriptAsync('https://3dmol.csb.pitt.edu/build/3Dmol.js');\n}\n\nvar viewer_155223315228 = null;\nvar warn = document.getElementById(\"3dmolwarning_155223315228\");\nif(warn) {\n    warn.parentNode.removeChild(warn);\n}\n$3Dmolpromise.then(function() {\nviewer_155223315228 = $3Dmol.createViewer($(\"#3dmolviewer_155223315228\"),{backgroundColor:\"white\"});\n\tviewer_155223315228.addModel(\"\\n     RDKit          3D\\n\\n 13 12  0  0  0  0  0  0  0  0999 V2000\\n    0.8682   -0.4465    0.7390 O   0  0  0  0  0  0  0  0  0  0  0  0\\n    0.7067   -1.4283   -1.2781 O   0  0  0  0  0  0  0  0  0  0  0  0\\n   -1.8551    0.5581    0.0960 C   0  0  0  0  0  0  0  0  0  0  0  0\\n    2.0795    0.2577    0.4613 C   0  0  0  0  0  0  0  0  0  0  0  0\\n   -1.4028   -0.8529   -0.2542 C   0  0  0  0  0  3  0  0  0  0  0  0\\n    0.0921   -0.9373   -0.2941 C   0  0  0  0  0  0  0  0  0  0  0  0\\n   -0.9274    1.1748    0.1655 H   0  0  0  0  0  0  0  0  0  0  0  0\\n   -2.2729    0.5355    1.1136 H   0  0  0  0  0  0  0  0  0  0  0  0\\n   -2.5147    0.9824   -0.6704 H   0  0  0  0  0  0  0  0  0  0  0  0\\n    2.3447    0.1030   -0.5970 H   0  0  0  0  0  0  0  0  0  0  0  0\\n    1.8301    1.3385    0.6034 H   0  0  0  0  0  0  0  0  0  0  0  0\\n    2.8647   -0.1010    1.1399 H   0  0  0  0  0  0  0  0  0  0  0  0\\n   -1.8132   -1.1841   -1.2249 H   0  0  0  0  0  0  0  0  0  0  0  0\\n  1  4  1  0\\n  1  6  1  0\\n  2  6  2  0\\n  3  5  1  0\\n  3  9  1  0\\n  3  8  1  0\\n  3  7  1  0\\n  4 12  1  0\\n  4 11  1  0\\n  4 10  1  0\\n  5 13  1  0\\n  5  6  1  0\\nM  RAD  1   5   2\\nM  END\\n\",\"sdf\");\n\tviewer_155223315228.setStyle({\"stick\": {}});\n\tviewer_155223315228.setBackgroundColor(\"0xeeeeee\");\n\tviewer_155223315228.zoomTo();\nviewer_155223315228.render();\n});\n</script>",
      "text/html": [
       "<div id=\"3dmolviewer_155223315228\"  style=\"position: relative; width: 600px; height: 600px\">\n",
       "        <p id=\"3dmolwarning_155223315228\" style=\"background-color:#ffcccc;color:black\">You appear to be running in JupyterLab.  You need to install the 3dmol extension: <br>\n",
       "        <tt>jupyter labextension install jupyterlab_3dmol</tt></p>\n",
       "        </div>\n",
       "<script>\n",
       "\n",
       "var loadScriptAsync = function(uri){\n",
       "  return new Promise((resolve, reject) => {\n",
       "    var tag = document.createElement('script');\n",
       "    tag.src = uri;\n",
       "    tag.async = true;\n",
       "    tag.onload = () => {\n",
       "      resolve();\n",
       "    };\n",
       "  var firstScriptTag = document.getElementsByTagName('script')[0];\n",
       "  firstScriptTag.parentNode.insertBefore(tag, firstScriptTag);\n",
       "});\n",
       "};\n",
       "\n",
       "if(typeof $3Dmolpromise === 'undefined') {\n",
       "$3Dmolpromise = null;\n",
       "  $3Dmolpromise = loadScriptAsync('https://3dmol.csb.pitt.edu/build/3Dmol.js');\n",
       "}\n",
       "\n",
       "var viewer_155223315228 = null;\n",
       "var warn = document.getElementById(\"3dmolwarning_155223315228\");\n",
       "if(warn) {\n",
       "    warn.parentNode.removeChild(warn);\n",
       "}\n",
       "$3Dmolpromise.then(function() {\n",
       "viewer_155223315228 = $3Dmol.createViewer($(\"#3dmolviewer_155223315228\"),{backgroundColor:\"white\"});\n",
       "\tviewer_155223315228.addModel(\"\\n     RDKit          3D\\n\\n 13 12  0  0  0  0  0  0  0  0999 V2000\\n    0.8682   -0.4465    0.7390 O   0  0  0  0  0  0  0  0  0  0  0  0\\n    0.7067   -1.4283   -1.2781 O   0  0  0  0  0  0  0  0  0  0  0  0\\n   -1.8551    0.5581    0.0960 C   0  0  0  0  0  0  0  0  0  0  0  0\\n    2.0795    0.2577    0.4613 C   0  0  0  0  0  0  0  0  0  0  0  0\\n   -1.4028   -0.8529   -0.2542 C   0  0  0  0  0  3  0  0  0  0  0  0\\n    0.0921   -0.9373   -0.2941 C   0  0  0  0  0  0  0  0  0  0  0  0\\n   -0.9274    1.1748    0.1655 H   0  0  0  0  0  0  0  0  0  0  0  0\\n   -2.2729    0.5355    1.1136 H   0  0  0  0  0  0  0  0  0  0  0  0\\n   -2.5147    0.9824   -0.6704 H   0  0  0  0  0  0  0  0  0  0  0  0\\n    2.3447    0.1030   -0.5970 H   0  0  0  0  0  0  0  0  0  0  0  0\\n    1.8301    1.3385    0.6034 H   0  0  0  0  0  0  0  0  0  0  0  0\\n    2.8647   -0.1010    1.1399 H   0  0  0  0  0  0  0  0  0  0  0  0\\n   -1.8132   -1.1841   -1.2249 H   0  0  0  0  0  0  0  0  0  0  0  0\\n  1  4  1  0\\n  1  6  1  0\\n  2  6  2  0\\n  3  5  1  0\\n  3  9  1  0\\n  3  8  1  0\\n  3  7  1  0\\n  4 12  1  0\\n  4 11  1  0\\n  4 10  1  0\\n  5 13  1  0\\n  5  6  1  0\\nM  RAD  1   5   2\\nM  END\\n\",\"sdf\");\n",
       "\tviewer_155223315228.setStyle({\"stick\": {}});\n",
       "\tviewer_155223315228.setBackgroundColor(\"0xeeeeee\");\n",
       "\tviewer_155223315228.zoomTo();\n",
       "viewer_155223315228.render();\n",
       "});\n",
       "</script>"
      ]
     },
     "metadata": {},
     "output_type": "display_data"
    },
    {
     "name": "stdout",
     "output_type": "stream",
     "text": [
      "/home/underkoffler.c/Code/Hindered_Rotors/C[CH]C(=O)OC/From_Workflow\n",
      "\n",
      "C[CH]C(=O)OC DUEVIJNWLJUFDM-UHFFFAOYSA-N_72by10.0_tor03_a1.log\n",
      "C[CH]C(=O)OC DUEVIJNWLJUFDM-UHFFFAOYSA-N_72by10.0_tor03_a2.log\n",
      "C[CH]C(=O)OC DUEVIJNWLJUFDM-UHFFFAOYSA-N_72by10.0_tor03_a3.log\n",
      "C[CH]C(=O)OC DUEVIJNWLJUFDM-UHFFFAOYSA-N_72by10.0_tor03_a4.log\n",
      "\n",
      "C[CH]C(=O)OC DUEVIJNWLJUFDM-UHFFFAOYSA-N_72by10.0_tor05_a1.log\n",
      "C[CH]C(=O)OC DUEVIJNWLJUFDM-UHFFFAOYSA-N_72by10.0_tor05_a2.log\n",
      "C[CH]C(=O)OC DUEVIJNWLJUFDM-UHFFFAOYSA-N_72by10.0_tor05_a3.log\n",
      "C[CH]C(=O)OC DUEVIJNWLJUFDM-UHFFFAOYSA-N_72by10.0_tor05_a4.log\n",
      "\n",
      "C[CH]C(=O)OC DUEVIJNWLJUFDM-UHFFFAOYSA-N_72by10.0_tor24_a1.log\n",
      "C[CH]C(=O)OC DUEVIJNWLJUFDM-UHFFFAOYSA-N_72by10.0_tor24_a2.log\n",
      "C[CH]C(=O)OC DUEVIJNWLJUFDM-UHFFFAOYSA-N_72by10.0_tor24_a3.log\n",
      "C[CH]C(=O)OC DUEVIJNWLJUFDM-UHFFFAOYSA-N_72by10.0_tor24_a4.log\n",
      "\n",
      "\n",
      "C[CH]C(=O)OC DUEVIJNWLJUFDM-UHFFFAOYSA-N_72by10.0_tor45_a1.log\n",
      "<Torsion \"(12, 4, 5, 1)\">\n",
      "Steps:      72\n",
      "Step Size:  10.0\n",
      "Attempt:    1\n",
      "\n"
     ]
    },
    {
     "data": {
      "image/png": "[encoded data removed]",
      "text/plain": [
       "<Figure size 432x288 with 1 Axes>"
      ]
     },
     "metadata": {
      "needs_background": "light"
     },
     "output_type": "display_data"
    },
    {
     "name": "stdout",
     "output_type": "stream",
     "text": [
      "Continuous:   True\n",
      "\n",
      "Good Slope:   True\n",
      "\n",
      "Lowest Conf:  True\n",
      "=========================================================\n",
      "\n",
      "\n",
      "C[CH]C(=O)OC DUEVIJNWLJUFDM-UHFFFAOYSA-N_72by10.0_tor45_a2.log\n",
      "C[CH]C(=O)OC DUEVIJNWLJUFDM-UHFFFAOYSA-N_72by10.0_tor45_a3.log\n",
      "C[CH]C(=O)OC DUEVIJNWLJUFDM-UHFFFAOYSA-N_72by10.0_tor45_a4.log\n",
      "===================================================================\n",
      "\n",
      "\n"
     ]
    }
   ],
   "source": [
    "steps = 72\n",
    "step_size = 10.0\n",
    "\n",
    "Conf_list = []\n",
    "\n",
    "Rxn_list = None\n",
    "\n",
    "SMILES_list = [Master_SMILES_list[15]]\n",
    "print SMILES_list\n",
    "\n",
    "scan_progress(steps, step_size, Conf_list, SMILES_list=SMILES_list, Rxn_list=Rxn_list)"
   ]
  },
  {
   "cell_type": "code",
   "execution_count": 44,
   "metadata": {
    "scrolled": true
   },
   "outputs": [
    {
     "name": "stdout",
     "output_type": "stream",
     "text": [
      "['[CH2]CC(=O)OC']\n"
     ]
    },
    {
     "data": {
      "application/3dmoljs_load.v0": "<div id=\"3dmolviewer_155223315697\"  style=\"position: relative; width: 600px; height: 600px\">\n        <p id=\"3dmolwarning_155223315697\" style=\"background-color:#ffcccc;color:black\">You appear to be running in JupyterLab.  You need to install the 3dmol extension: <br>\n        <tt>jupyter labextension install jupyterlab_3dmol</tt></p>\n        </div>\n<script>\n\nvar loadScriptAsync = function(uri){\n  return new Promise((resolve, reject) => {\n    var tag = document.createElement('script');\n    tag.src = uri;\n    tag.async = true;\n    tag.onload = () => {\n      resolve();\n    };\n  var firstScriptTag = document.getElementsByTagName('script')[0];\n  firstScriptTag.parentNode.insertBefore(tag, firstScriptTag);\n});\n};\n\nif(typeof $3Dmolpromise === 'undefined') {\n$3Dmolpromise = null;\n  $3Dmolpromise = loadScriptAsync('https://3dmol.csb.pitt.edu/build/3Dmol.js');\n}\n\nvar viewer_155223315697 = null;\nvar warn = document.getElementById(\"3dmolwarning_155223315697\");\nif(warn) {\n    warn.parentNode.removeChild(warn);\n}\n$3Dmolpromise.then(function() {\nviewer_155223315697 = $3Dmol.createViewer($(\"#3dmolviewer_155223315697\"),{backgroundColor:\"white\"});\n\tviewer_155223315697.addModel(\"\\n     RDKit          3D\\n\\n 13 12  0  0  0  0  0  0  0  0999 V2000\\n    1.1423   -0.4895   -0.5571 O   0  0  0  0  0  0  0  0  0  0  0  0\\n    0.2371    1.3183    0.4382 O   0  0  0  0  0  0  0  0  0  0  0  0\\n   -1.2756   -0.4406   -0.2331 C   0  0  0  0  0  0  0  0  0  0  0  0\\n    2.4536   -0.0818   -0.2565 C   0  0  0  0  0  0  0  0  0  0  0  0\\n    0.0257    0.2522   -0.1756 C   0  0  0  0  0  0  0  0  0  0  0  0\\n   -2.4437    0.4412    0.0964 C   0  0  0  0  0  3  0  0  0  0  0  0\\n   -1.3408   -0.9113   -1.2370 H   0  0  0  0  0  0  0  0  0  0  0  0\\n   -1.2598   -1.2529    0.5371 H   0  0  0  0  0  0  0  0  0  0  0  0\\n    3.1809   -0.6775   -0.8202 H   0  0  0  0  0  0  0  0  0  0  0  0\\n    2.6087   -0.2390    0.8221 H   0  0  0  0  0  0  0  0  0  0  0  0\\n    2.5861    0.9794   -0.5596 H   0  0  0  0  0  0  0  0  0  0  0  0\\n   -3.3505   -0.2032    0.0598 H   0  0  0  0  0  0  0  0  0  0  0  0\\n   -2.5641    1.3049   -0.5726 H   0  0  0  0  0  0  0  0  0  0  0  0\\n  1  4  1  0\\n  1  5  1  0\\n  2  5  2  0\\n  3  8  1  0\\n  3  5  1  0\\n  3  6  1  0\\n  3  7  1  0\\n  4  9  1  0\\n  4 11  1  0\\n  4 10  1  0\\n  6 12  1  0\\n  6 13  1  0\\nM  RAD  1   6   2\\nM  END\\n\",\"sdf\");\n\tviewer_155223315697.setStyle({\"stick\": {}});\n\tviewer_155223315697.setBackgroundColor(\"0xeeeeee\");\n\tviewer_155223315697.zoomTo();\nviewer_155223315697.render();\n});\n</script>",
      "text/html": [
       "<div id=\"3dmolviewer_155223315697\"  style=\"position: relative; width: 600px; height: 600px\">\n",
       "        <p id=\"3dmolwarning_155223315697\" style=\"background-color:#ffcccc;color:black\">You appear to be running in JupyterLab.  You need to install the 3dmol extension: <br>\n",
       "        <tt>jupyter labextension install jupyterlab_3dmol</tt></p>\n",
       "        </div>\n",
       "<script>\n",
       "\n",
       "var loadScriptAsync = function(uri){\n",
       "  return new Promise((resolve, reject) => {\n",
       "    var tag = document.createElement('script');\n",
       "    tag.src = uri;\n",
       "    tag.async = true;\n",
       "    tag.onload = () => {\n",
       "      resolve();\n",
       "    };\n",
       "  var firstScriptTag = document.getElementsByTagName('script')[0];\n",
       "  firstScriptTag.parentNode.insertBefore(tag, firstScriptTag);\n",
       "});\n",
       "};\n",
       "\n",
       "if(typeof $3Dmolpromise === 'undefined') {\n",
       "$3Dmolpromise = null;\n",
       "  $3Dmolpromise = loadScriptAsync('https://3dmol.csb.pitt.edu/build/3Dmol.js');\n",
       "}\n",
       "\n",
       "var viewer_155223315697 = null;\n",
       "var warn = document.getElementById(\"3dmolwarning_155223315697\");\n",
       "if(warn) {\n",
       "    warn.parentNode.removeChild(warn);\n",
       "}\n",
       "$3Dmolpromise.then(function() {\n",
       "viewer_155223315697 = $3Dmol.createViewer($(\"#3dmolviewer_155223315697\"),{backgroundColor:\"white\"});\n",
       "\tviewer_155223315697.addModel(\"\\n     RDKit          3D\\n\\n 13 12  0  0  0  0  0  0  0  0999 V2000\\n    1.1423   -0.4895   -0.5571 O   0  0  0  0  0  0  0  0  0  0  0  0\\n    0.2371    1.3183    0.4382 O   0  0  0  0  0  0  0  0  0  0  0  0\\n   -1.2756   -0.4406   -0.2331 C   0  0  0  0  0  0  0  0  0  0  0  0\\n    2.4536   -0.0818   -0.2565 C   0  0  0  0  0  0  0  0  0  0  0  0\\n    0.0257    0.2522   -0.1756 C   0  0  0  0  0  0  0  0  0  0  0  0\\n   -2.4437    0.4412    0.0964 C   0  0  0  0  0  3  0  0  0  0  0  0\\n   -1.3408   -0.9113   -1.2370 H   0  0  0  0  0  0  0  0  0  0  0  0\\n   -1.2598   -1.2529    0.5371 H   0  0  0  0  0  0  0  0  0  0  0  0\\n    3.1809   -0.6775   -0.8202 H   0  0  0  0  0  0  0  0  0  0  0  0\\n    2.6087   -0.2390    0.8221 H   0  0  0  0  0  0  0  0  0  0  0  0\\n    2.5861    0.9794   -0.5596 H   0  0  0  0  0  0  0  0  0  0  0  0\\n   -3.3505   -0.2032    0.0598 H   0  0  0  0  0  0  0  0  0  0  0  0\\n   -2.5641    1.3049   -0.5726 H   0  0  0  0  0  0  0  0  0  0  0  0\\n  1  4  1  0\\n  1  5  1  0\\n  2  5  2  0\\n  3  8  1  0\\n  3  5  1  0\\n  3  6  1  0\\n  3  7  1  0\\n  4  9  1  0\\n  4 11  1  0\\n  4 10  1  0\\n  6 12  1  0\\n  6 13  1  0\\nM  RAD  1   6   2\\nM  END\\n\",\"sdf\");\n",
       "\tviewer_155223315697.setStyle({\"stick\": {}});\n",
       "\tviewer_155223315697.setBackgroundColor(\"0xeeeeee\");\n",
       "\tviewer_155223315697.zoomTo();\n",
       "viewer_155223315697.render();\n",
       "});\n",
       "</script>"
      ]
     },
     "metadata": {},
     "output_type": "display_data"
    },
    {
     "name": "stdout",
     "output_type": "stream",
     "text": [
      "/home/underkoffler.c/Code/Hindered_Rotors/[CH2]CC(=O)OC/From_Workflow\n",
      "\n",
      "\n",
      "[CH2]CC(=O)OC NPQBOSHSVUVOHJ-UHFFFAOYSA-N_72by10.0_tor03_a1.log\n",
      "<Torsion \"(4, 0, 3, 9)\">\n",
      "Steps:      72\n",
      "Step Size:  10.0\n",
      "Attempt:    1\n",
      "\n"
     ]
    },
    {
     "data": {
      "image/png": "[encoded data removed]",
      "text/plain": [
       "<Figure size 432x288 with 1 Axes>"
      ]
     },
     "metadata": {
      "needs_background": "light"
     },
     "output_type": "display_data"
    },
    {
     "name": "stdout",
     "output_type": "stream",
     "text": [
      "Continuous:   False\n",
      "\n",
      "Good Slope:   True\n",
      "\n",
      "Lowest Conf:  False\n",
      "=========================================================\n",
      "\n",
      "\n",
      "[CH2]CC(=O)OC NPQBOSHSVUVOHJ-UHFFFAOYSA-N_72by10.0_tor03_a2.log\n",
      "[CH2]CC(=O)OC NPQBOSHSVUVOHJ-UHFFFAOYSA-N_72by10.0_tor03_a3.log\n",
      "[CH2]CC(=O)OC NPQBOSHSVUVOHJ-UHFFFAOYSA-N_72by10.0_tor03_a4.log\n",
      "\n",
      "[CH2]CC(=O)OC NPQBOSHSVUVOHJ-UHFFFAOYSA-N_72by10.0_tor04_a1.log\n",
      "[CH2]CC(=O)OC NPQBOSHSVUVOHJ-UHFFFAOYSA-N_72by10.0_tor04_a2.log\n",
      "[CH2]CC(=O)OC NPQBOSHSVUVOHJ-UHFFFAOYSA-N_72by10.0_tor04_a3.log\n",
      "[CH2]CC(=O)OC NPQBOSHSVUVOHJ-UHFFFAOYSA-N_72by10.0_tor04_a4.log\n",
      "\n",
      "\n",
      "[CH2]CC(=O)OC NPQBOSHSVUVOHJ-UHFFFAOYSA-N_72by10.0_tor24_a1.log\n",
      "<Torsion \"(6, 2, 4, 1)\">\n",
      "Steps:      72\n",
      "Step Size:  10.0\n",
      "Attempt:    1\n",
      "\n"
     ]
    },
    {
     "data": {
      "image/png": "[encoded data removed]",
      "text/plain": [
       "<Figure size 432x288 with 1 Axes>"
      ]
     },
     "metadata": {
      "needs_background": "light"
     },
     "output_type": "display_data"
    },
    {
     "name": "stdout",
     "output_type": "stream",
     "text": [
      "Continuous:   False\n",
      "\n",
      "Good Slope:   False\n",
      "\n",
      "Lowest Conf:  False\n",
      "=========================================================\n",
      "\n",
      "\n",
      "[CH2]CC(=O)OC NPQBOSHSVUVOHJ-UHFFFAOYSA-N_72by10.0_tor24_a2.log\n",
      "[CH2]CC(=O)OC NPQBOSHSVUVOHJ-UHFFFAOYSA-N_72by10.0_tor24_a3.log\n",
      "[CH2]CC(=O)OC NPQBOSHSVUVOHJ-UHFFFAOYSA-N_72by10.0_tor24_a4.log\n",
      "\n",
      "[CH2]CC(=O)OC NPQBOSHSVUVOHJ-UHFFFAOYSA-N_72by10.0_tor25_a1.log\n",
      "[CH2]CC(=O)OC NPQBOSHSVUVOHJ-UHFFFAOYSA-N_72by10.0_tor25_a2.log\n",
      "[CH2]CC(=O)OC NPQBOSHSVUVOHJ-UHFFFAOYSA-N_72by10.0_tor25_a3.log\n",
      "[CH2]CC(=O)OC NPQBOSHSVUVOHJ-UHFFFAOYSA-N_72by10.0_tor25_a4.log\n",
      "===================================================================\n",
      "\n",
      "\n"
     ]
    }
   ],
   "source": [
    "steps = 72\n",
    "step_size = 10.0\n",
    "\n",
    "Conf_list = []\n",
    "\n",
    "Rxn_list = None\n",
    "\n",
    "SMILES_list = [Master_SMILES_list[16]]\n",
    "print SMILES_list\n",
    "\n",
    "scan_progress(steps, step_size, Conf_list, SMILES_list=SMILES_list, Rxn_list=Rxn_list)"
   ]
  },
  {
   "cell_type": "code",
   "execution_count": 45,
   "metadata": {
    "scrolled": true
   },
   "outputs": [
    {
     "name": "stdout",
     "output_type": "stream",
     "text": [
      "['[CH2]OC(=O)CC']\n"
     ]
    },
    {
     "data": {
      "application/3dmoljs_load.v0": "<div id=\"3dmolviewer_155223316683\"  style=\"position: relative; width: 600px; height: 600px\">\n        <p id=\"3dmolwarning_155223316683\" style=\"background-color:#ffcccc;color:black\">You appear to be running in JupyterLab.  You need to install the 3dmol extension: <br>\n        <tt>jupyter labextension install jupyterlab_3dmol</tt></p>\n        </div>\n<script>\n\nvar loadScriptAsync = function(uri){\n  return new Promise((resolve, reject) => {\n    var tag = document.createElement('script');\n    tag.src = uri;\n    tag.async = true;\n    tag.onload = () => {\n      resolve();\n    };\n  var firstScriptTag = document.getElementsByTagName('script')[0];\n  firstScriptTag.parentNode.insertBefore(tag, firstScriptTag);\n});\n};\n\nif(typeof $3Dmolpromise === 'undefined') {\n$3Dmolpromise = null;\n  $3Dmolpromise = loadScriptAsync('https://3dmol.csb.pitt.edu/build/3Dmol.js');\n}\n\nvar viewer_155223316683 = null;\nvar warn = document.getElementById(\"3dmolwarning_155223316683\");\nif(warn) {\n    warn.parentNode.removeChild(warn);\n}\n$3Dmolpromise.then(function() {\nviewer_155223316683 = $3Dmol.createViewer($(\"#3dmolviewer_155223316683\"),{backgroundColor:\"white\"});\n\tviewer_155223316683.addModel(\"\\n     RDKit          3D\\n\\n 13 12  0  0  0  0  0  0  0  0999 V2000\\n    1.1494    0.3409    0.8689 O   0  0  0  0  0  0  0  0  0  0  0  0\\n    1.2226   -1.1843   -0.8173 O   0  0  0  0  0  0  0  0  0  0  0  0\\n   -0.9345   -0.4505   -0.3269 C   0  0  0  0  0  0  0  0  0  0  0  0\\n   -1.7580    0.1374    0.7799 C   0  0  0  0  0  0  0  0  0  0  0  0\\n    0.5141   -0.4581   -0.0540 C   0  0  0  0  0  0  0  0  0  0  0  0\\n    2.5258    0.6375    0.6438 C   0  0  0  0  0  3  0  0  0  0  0  0\\n   -1.2277   -1.5118   -0.5278 H   0  0  0  0  0  0  0  0  0  0  0  0\\n   -1.0756    0.0946   -1.2938 H   0  0  0  0  0  0  0  0  0  0  0  0\\n   -1.0982    0.5498    1.5828 H   0  0  0  0  0  0  0  0  0  0  0  0\\n   -2.3611    0.9975    0.3923 H   0  0  0  0  0  0  0  0  0  0  0  0\\n   -2.4754   -0.5746    1.2250 H   0  0  0  0  0  0  0  0  0  0  0  0\\n    2.5361    1.5722    0.0373 H   0  0  0  0  0  0  0  0  0  0  0  0\\n    2.9824   -0.1506    0.0092 H   0  0  0  0  0  0  0  0  0  0  0  0\\n  1  6  1  0\\n  1  5  1  0\\n  2  5  2  0\\n  3  4  1  0\\n  3  7  1  0\\n  3  8  1  0\\n  3  5  1  0\\n  4  9  1  0\\n  4 11  1  0\\n  4 10  1  0\\n  6 13  1  0\\n  6 12  1  0\\nM  RAD  1   6   2\\nM  END\\n\",\"sdf\");\n\tviewer_155223316683.setStyle({\"stick\": {}});\n\tviewer_155223316683.setBackgroundColor(\"0xeeeeee\");\n\tviewer_155223316683.zoomTo();\nviewer_155223316683.render();\n});\n</script>",
      "text/html": [
       "<div id=\"3dmolviewer_155223316683\"  style=\"position: relative; width: 600px; height: 600px\">\n",
       "        <p id=\"3dmolwarning_155223316683\" style=\"background-color:#ffcccc;color:black\">You appear to be running in JupyterLab.  You need to install the 3dmol extension: <br>\n",
       "        <tt>jupyter labextension install jupyterlab_3dmol</tt></p>\n",
       "        </div>\n",
       "<script>\n",
       "\n",
       "var loadScriptAsync = function(uri){\n",
       "  return new Promise((resolve, reject) => {\n",
       "    var tag = document.createElement('script');\n",
       "    tag.src = uri;\n",
       "    tag.async = true;\n",
       "    tag.onload = () => {\n",
       "      resolve();\n",
       "    };\n",
       "  var firstScriptTag = document.getElementsByTagName('script')[0];\n",
       "  firstScriptTag.parentNode.insertBefore(tag, firstScriptTag);\n",
       "});\n",
       "};\n",
       "\n",
       "if(typeof $3Dmolpromise === 'undefined') {\n",
       "$3Dmolpromise = null;\n",
       "  $3Dmolpromise = loadScriptAsync('https://3dmol.csb.pitt.edu/build/3Dmol.js');\n",
       "}\n",
       "\n",
       "var viewer_155223316683 = null;\n",
       "var warn = document.getElementById(\"3dmolwarning_155223316683\");\n",
       "if(warn) {\n",
       "    warn.parentNode.removeChild(warn);\n",
       "}\n",
       "$3Dmolpromise.then(function() {\n",
       "viewer_155223316683 = $3Dmol.createViewer($(\"#3dmolviewer_155223316683\"),{backgroundColor:\"white\"});\n",
       "\tviewer_155223316683.addModel(\"\\n     RDKit          3D\\n\\n 13 12  0  0  0  0  0  0  0  0999 V2000\\n    1.1494    0.3409    0.8689 O   0  0  0  0  0  0  0  0  0  0  0  0\\n    1.2226   -1.1843   -0.8173 O   0  0  0  0  0  0  0  0  0  0  0  0\\n   -0.9345   -0.4505   -0.3269 C   0  0  0  0  0  0  0  0  0  0  0  0\\n   -1.7580    0.1374    0.7799 C   0  0  0  0  0  0  0  0  0  0  0  0\\n    0.5141   -0.4581   -0.0540 C   0  0  0  0  0  0  0  0  0  0  0  0\\n    2.5258    0.6375    0.6438 C   0  0  0  0  0  3  0  0  0  0  0  0\\n   -1.2277   -1.5118   -0.5278 H   0  0  0  0  0  0  0  0  0  0  0  0\\n   -1.0756    0.0946   -1.2938 H   0  0  0  0  0  0  0  0  0  0  0  0\\n   -1.0982    0.5498    1.5828 H   0  0  0  0  0  0  0  0  0  0  0  0\\n   -2.3611    0.9975    0.3923 H   0  0  0  0  0  0  0  0  0  0  0  0\\n   -2.4754   -0.5746    1.2250 H   0  0  0  0  0  0  0  0  0  0  0  0\\n    2.5361    1.5722    0.0373 H   0  0  0  0  0  0  0  0  0  0  0  0\\n    2.9824   -0.1506    0.0092 H   0  0  0  0  0  0  0  0  0  0  0  0\\n  1  6  1  0\\n  1  5  1  0\\n  2  5  2  0\\n  3  4  1  0\\n  3  7  1  0\\n  3  8  1  0\\n  3  5  1  0\\n  4  9  1  0\\n  4 11  1  0\\n  4 10  1  0\\n  6 13  1  0\\n  6 12  1  0\\nM  RAD  1   6   2\\nM  END\\n\",\"sdf\");\n",
       "\tviewer_155223316683.setStyle({\"stick\": {}});\n",
       "\tviewer_155223316683.setBackgroundColor(\"0xeeeeee\");\n",
       "\tviewer_155223316683.zoomTo();\n",
       "viewer_155223316683.render();\n",
       "});\n",
       "</script>"
      ]
     },
     "metadata": {},
     "output_type": "display_data"
    },
    {
     "name": "stdout",
     "output_type": "stream",
     "text": [
      "/home/underkoffler.c/Code/Hindered_Rotors/[CH2]OC(=O)CC/From_Workflow\n",
      "\n",
      "[CH2]OC(=O)CC OJWHOIQFDAGZNF-UHFFFAOYSA-N_72by10.0_tor05_a1.log\n",
      "[CH2]OC(=O)CC OJWHOIQFDAGZNF-UHFFFAOYSA-N_72by10.0_tor05_a2.log\n",
      "[CH2]OC(=O)CC OJWHOIQFDAGZNF-UHFFFAOYSA-N_72by10.0_tor05_a3.log\n",
      "[CH2]OC(=O)CC OJWHOIQFDAGZNF-UHFFFAOYSA-N_72by10.0_tor05_a4.log\n",
      "\n",
      "\n",
      "[CH2]OC(=O)CC OJWHOIQFDAGZNF-UHFFFAOYSA-N_72by10.0_tor04_a1.log\n",
      "<Torsion \"(5, 0, 4, 2)\">\n",
      "Steps:      72\n",
      "Step Size:  10.0\n",
      "Attempt:    1\n",
      "\n"
     ]
    },
    {
     "data": {
      "image/png": "[encoded data removed]",
      "text/plain": [
       "<Figure size 432x288 with 1 Axes>"
      ]
     },
     "metadata": {
      "needs_background": "light"
     },
     "output_type": "display_data"
    },
    {
     "name": "stdout",
     "output_type": "stream",
     "text": [
      "Continuous:   False\n",
      "\n",
      "Good Slope:   True\n",
      "\n",
      "Lowest Conf:  False\n",
      "=========================================================\n",
      "\n",
      "\n",
      "[CH2]OC(=O)CC OJWHOIQFDAGZNF-UHFFFAOYSA-N_72by10.0_tor04_a2.log\n",
      "[CH2]OC(=O)CC OJWHOIQFDAGZNF-UHFFFAOYSA-N_72by10.0_tor04_a3.log\n",
      "[CH2]OC(=O)CC OJWHOIQFDAGZNF-UHFFFAOYSA-N_72by10.0_tor04_a4.log\n",
      "\n",
      "[CH2]OC(=O)CC OJWHOIQFDAGZNF-UHFFFAOYSA-N_72by10.0_tor23_a1.log\n",
      "[CH2]OC(=O)CC OJWHOIQFDAGZNF-UHFFFAOYSA-N_72by10.0_tor23_a2.log\n",
      "[CH2]OC(=O)CC OJWHOIQFDAGZNF-UHFFFAOYSA-N_72by10.0_tor23_a3.log\n",
      "[CH2]OC(=O)CC OJWHOIQFDAGZNF-UHFFFAOYSA-N_72by10.0_tor23_a4.log\n",
      "\n",
      "[CH2]OC(=O)CC OJWHOIQFDAGZNF-UHFFFAOYSA-N_72by10.0_tor24_a1.log\n",
      "[CH2]OC(=O)CC OJWHOIQFDAGZNF-UHFFFAOYSA-N_72by10.0_tor24_a2.log\n",
      "[CH2]OC(=O)CC OJWHOIQFDAGZNF-UHFFFAOYSA-N_72by10.0_tor24_a3.log\n",
      "[CH2]OC(=O)CC OJWHOIQFDAGZNF-UHFFFAOYSA-N_72by10.0_tor24_a4.log\n",
      "===================================================================\n",
      "\n",
      "\n"
     ]
    }
   ],
   "source": [
    "steps = 72\n",
    "step_size = 10.0\n",
    "\n",
    "Conf_list = []\n",
    "\n",
    "Rxn_list = None\n",
    "\n",
    "SMILES_list = [Master_SMILES_list[17]]\n",
    "print SMILES_list\n",
    "\n",
    "scan_progress(steps, step_size, Conf_list, SMILES_list=SMILES_list, Rxn_list=Rxn_list)"
   ]
  },
  {
   "cell_type": "code",
   "execution_count": 46,
   "metadata": {
    "scrolled": true
   },
   "outputs": [
    {
     "ename": "IndexError",
     "evalue": "list index out of range",
     "output_type": "error",
     "traceback": [
      "\u001b[0;31m---------------------------------------------------------------------------\u001b[0m",
      "\u001b[0;31mIndexError\u001b[0m                                Traceback (most recent call last)",
      "\u001b[0;32m<ipython-input-46-7843500fab39>\u001b[0m in \u001b[0;36m<module>\u001b[0;34m()\u001b[0m\n\u001b[1;32m      6\u001b[0m \u001b[0mRxn_list\u001b[0m \u001b[0;34m=\u001b[0m \u001b[0mNone\u001b[0m\u001b[0;34m\u001b[0m\u001b[0m\n\u001b[1;32m      7\u001b[0m \u001b[0;34m\u001b[0m\u001b[0m\n\u001b[0;32m----> 8\u001b[0;31m \u001b[0mSMILES_list\u001b[0m \u001b[0;34m=\u001b[0m \u001b[0;34m[\u001b[0m\u001b[0mMaster_SMILES_list\u001b[0m\u001b[0;34m[\u001b[0m\u001b[0;36m18\u001b[0m\u001b[0;34m]\u001b[0m\u001b[0;34m]\u001b[0m\u001b[0;34m\u001b[0m\u001b[0m\n\u001b[0m\u001b[1;32m      9\u001b[0m \u001b[0;32mprint\u001b[0m \u001b[0mSMILES_list\u001b[0m\u001b[0;34m\u001b[0m\u001b[0m\n\u001b[1;32m     10\u001b[0m \u001b[0;34m\u001b[0m\u001b[0m\n",
      "\u001b[0;31mIndexError\u001b[0m: list index out of range"
     ]
    }
   ],
   "source": [
    "steps = 72\n",
    "step_size = 10.0\n",
    "\n",
    "Conf_list = []\n",
    "\n",
    "Rxn_list = None\n",
    "\n",
    "SMILES_list = [Master_SMILES_list[18]]\n",
    "print SMILES_list\n",
    "\n",
    "scan_progress(steps, step_size, Conf_list, SMILES_list=SMILES_list, Rxn_list=Rxn_list)"
   ]
  },
  {
   "cell_type": "code",
   "execution_count": null,
   "metadata": {},
   "outputs": [],
   "source": []
  },
  {
   "cell_type": "code",
   "execution_count": null,
   "metadata": {},
   "outputs": [],
   "source": []
  },
  {
   "cell_type": "code",
   "execution_count": null,
   "metadata": {},
   "outputs": [],
   "source": []
  }
 ],
 "metadata": {
  "kernelspec": {
   "display_name": "Python 2",
   "language": "python",
   "name": "python2"
  },
  "language_info": {
   "codemirror_mode": {
    "name": "ipython",
    "version": 2
   },
   "file_extension": ".py",
   "mimetype": "text/x-python",
   "name": "python",
   "nbconvert_exporter": "python",
   "pygments_lexer": "ipython2",
   "version": "2.7.15"
  }
 },
 "nbformat": 4,
 "nbformat_minor": 2
}
